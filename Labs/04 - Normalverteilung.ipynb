{
 "cells": [
  {
   "cell_type": "markdown",
   "metadata": {},
   "source": [
    "# Die Normalverteilung"
   ]
  },
  {
   "cell_type": "markdown",
   "metadata": {},
   "source": [
    "In dieser Übung werden wir die wichtigste Wahrscheinlichkeitsverteilung untersuchen: die Normalverteilung. Wenn wir sicher sind, dass unsere Daten annähernd normal sind, können wir viele leistungsstarke statistischen Methoden einsetzen, die es uns erlauben Schlüsse über die Daten hinaus zu ziehen. Hier werden wir grafische Werkzeuge verwenden, um die Normalität eines Datensatzes zu beurteilen und lernen, wie man Zufallszahlen aus einer Normalverteilung erzeugt."
   ]
  },
  {
   "cell_type": "markdown",
   "metadata": {},
   "source": [
    "## Die Daten"
   ]
  },
  {
   "cell_type": "markdown",
   "metadata": {},
   "source": [
    "In dieser Übung werden Sie mit Fast-Food-Daten arbeiten. Der Datensatz enthält Daten zu 515 Produkten von einigen der beliebtesten Fast-Food-Restaurants weltweit. Werfen wir einen kurzen Blick auf die ersten paar Zeilen der Daten."
   ]
  },
  {
   "cell_type": "code",
   "execution_count": 1,
   "metadata": {},
   "outputs": [
    {
     "data": {
      "text/html": [
       "<div>\n",
       "<style scoped>\n",
       "    .dataframe tbody tr th:only-of-type {\n",
       "        vertical-align: middle;\n",
       "    }\n",
       "\n",
       "    .dataframe tbody tr th {\n",
       "        vertical-align: top;\n",
       "    }\n",
       "\n",
       "    .dataframe thead th {\n",
       "        text-align: right;\n",
       "    }\n",
       "</style>\n",
       "<table border=\"1\" class=\"dataframe\">\n",
       "  <thead>\n",
       "    <tr style=\"text-align: right;\">\n",
       "      <th></th>\n",
       "      <th>restaurant</th>\n",
       "      <th>item</th>\n",
       "      <th>calories</th>\n",
       "      <th>cal_fat</th>\n",
       "      <th>total_fat</th>\n",
       "      <th>sat_fat</th>\n",
       "      <th>trans_fat</th>\n",
       "      <th>cholesterol</th>\n",
       "      <th>sodium</th>\n",
       "      <th>total_carb</th>\n",
       "      <th>fiber</th>\n",
       "      <th>sugar</th>\n",
       "      <th>protein</th>\n",
       "      <th>vit_a</th>\n",
       "      <th>vit_c</th>\n",
       "      <th>calcium</th>\n",
       "      <th>salad</th>\n",
       "    </tr>\n",
       "  </thead>\n",
       "  <tbody>\n",
       "    <tr>\n",
       "      <th>0</th>\n",
       "      <td>Mcdonalds</td>\n",
       "      <td>Artisan Grilled Chicken Sandwich</td>\n",
       "      <td>380</td>\n",
       "      <td>60</td>\n",
       "      <td>7</td>\n",
       "      <td>2.0</td>\n",
       "      <td>0.0</td>\n",
       "      <td>95</td>\n",
       "      <td>1110</td>\n",
       "      <td>44</td>\n",
       "      <td>3.0</td>\n",
       "      <td>11</td>\n",
       "      <td>37.0</td>\n",
       "      <td>4.0</td>\n",
       "      <td>20.0</td>\n",
       "      <td>20.0</td>\n",
       "      <td>Other</td>\n",
       "    </tr>\n",
       "    <tr>\n",
       "      <th>1</th>\n",
       "      <td>Mcdonalds</td>\n",
       "      <td>Single Bacon Smokehouse Burger</td>\n",
       "      <td>840</td>\n",
       "      <td>410</td>\n",
       "      <td>45</td>\n",
       "      <td>17.0</td>\n",
       "      <td>1.5</td>\n",
       "      <td>130</td>\n",
       "      <td>1580</td>\n",
       "      <td>62</td>\n",
       "      <td>2.0</td>\n",
       "      <td>18</td>\n",
       "      <td>46.0</td>\n",
       "      <td>6.0</td>\n",
       "      <td>20.0</td>\n",
       "      <td>20.0</td>\n",
       "      <td>Other</td>\n",
       "    </tr>\n",
       "    <tr>\n",
       "      <th>2</th>\n",
       "      <td>Mcdonalds</td>\n",
       "      <td>Double Bacon Smokehouse Burger</td>\n",
       "      <td>1130</td>\n",
       "      <td>600</td>\n",
       "      <td>67</td>\n",
       "      <td>27.0</td>\n",
       "      <td>3.0</td>\n",
       "      <td>220</td>\n",
       "      <td>1920</td>\n",
       "      <td>63</td>\n",
       "      <td>3.0</td>\n",
       "      <td>18</td>\n",
       "      <td>70.0</td>\n",
       "      <td>10.0</td>\n",
       "      <td>20.0</td>\n",
       "      <td>50.0</td>\n",
       "      <td>Other</td>\n",
       "    </tr>\n",
       "    <tr>\n",
       "      <th>3</th>\n",
       "      <td>Mcdonalds</td>\n",
       "      <td>Grilled Bacon Smokehouse Chicken Sandwich</td>\n",
       "      <td>750</td>\n",
       "      <td>280</td>\n",
       "      <td>31</td>\n",
       "      <td>10.0</td>\n",
       "      <td>0.5</td>\n",
       "      <td>155</td>\n",
       "      <td>1940</td>\n",
       "      <td>62</td>\n",
       "      <td>2.0</td>\n",
       "      <td>18</td>\n",
       "      <td>55.0</td>\n",
       "      <td>6.0</td>\n",
       "      <td>25.0</td>\n",
       "      <td>20.0</td>\n",
       "      <td>Other</td>\n",
       "    </tr>\n",
       "    <tr>\n",
       "      <th>4</th>\n",
       "      <td>Mcdonalds</td>\n",
       "      <td>Crispy Bacon Smokehouse Chicken Sandwich</td>\n",
       "      <td>920</td>\n",
       "      <td>410</td>\n",
       "      <td>45</td>\n",
       "      <td>12.0</td>\n",
       "      <td>0.5</td>\n",
       "      <td>120</td>\n",
       "      <td>1980</td>\n",
       "      <td>81</td>\n",
       "      <td>4.0</td>\n",
       "      <td>18</td>\n",
       "      <td>46.0</td>\n",
       "      <td>6.0</td>\n",
       "      <td>20.0</td>\n",
       "      <td>20.0</td>\n",
       "      <td>Other</td>\n",
       "    </tr>\n",
       "    <tr>\n",
       "      <th>...</th>\n",
       "      <td>...</td>\n",
       "      <td>...</td>\n",
       "      <td>...</td>\n",
       "      <td>...</td>\n",
       "      <td>...</td>\n",
       "      <td>...</td>\n",
       "      <td>...</td>\n",
       "      <td>...</td>\n",
       "      <td>...</td>\n",
       "      <td>...</td>\n",
       "      <td>...</td>\n",
       "      <td>...</td>\n",
       "      <td>...</td>\n",
       "      <td>...</td>\n",
       "      <td>...</td>\n",
       "      <td>...</td>\n",
       "      <td>...</td>\n",
       "    </tr>\n",
       "    <tr>\n",
       "      <th>510</th>\n",
       "      <td>Taco Bell</td>\n",
       "      <td>Spicy Triple Double Crunchwrap</td>\n",
       "      <td>780</td>\n",
       "      <td>340</td>\n",
       "      <td>38</td>\n",
       "      <td>10.0</td>\n",
       "      <td>0.5</td>\n",
       "      <td>50</td>\n",
       "      <td>1850</td>\n",
       "      <td>87</td>\n",
       "      <td>9.0</td>\n",
       "      <td>8</td>\n",
       "      <td>23.0</td>\n",
       "      <td>20.0</td>\n",
       "      <td>10.0</td>\n",
       "      <td>25.0</td>\n",
       "      <td>Other</td>\n",
       "    </tr>\n",
       "    <tr>\n",
       "      <th>511</th>\n",
       "      <td>Taco Bell</td>\n",
       "      <td>Express Taco Salad w/ Chips</td>\n",
       "      <td>580</td>\n",
       "      <td>260</td>\n",
       "      <td>29</td>\n",
       "      <td>9.0</td>\n",
       "      <td>1.0</td>\n",
       "      <td>60</td>\n",
       "      <td>1270</td>\n",
       "      <td>59</td>\n",
       "      <td>8.0</td>\n",
       "      <td>7</td>\n",
       "      <td>23.0</td>\n",
       "      <td>NaN</td>\n",
       "      <td>NaN</td>\n",
       "      <td>NaN</td>\n",
       "      <td>Other</td>\n",
       "    </tr>\n",
       "    <tr>\n",
       "      <th>512</th>\n",
       "      <td>Taco Bell</td>\n",
       "      <td>Fiesta Taco Salad-Beef</td>\n",
       "      <td>780</td>\n",
       "      <td>380</td>\n",
       "      <td>42</td>\n",
       "      <td>10.0</td>\n",
       "      <td>1.0</td>\n",
       "      <td>60</td>\n",
       "      <td>1340</td>\n",
       "      <td>74</td>\n",
       "      <td>11.0</td>\n",
       "      <td>7</td>\n",
       "      <td>26.0</td>\n",
       "      <td>NaN</td>\n",
       "      <td>NaN</td>\n",
       "      <td>NaN</td>\n",
       "      <td>Other</td>\n",
       "    </tr>\n",
       "    <tr>\n",
       "      <th>513</th>\n",
       "      <td>Taco Bell</td>\n",
       "      <td>Fiesta Taco Salad-Chicken</td>\n",
       "      <td>720</td>\n",
       "      <td>320</td>\n",
       "      <td>35</td>\n",
       "      <td>7.0</td>\n",
       "      <td>0.0</td>\n",
       "      <td>70</td>\n",
       "      <td>1260</td>\n",
       "      <td>70</td>\n",
       "      <td>8.0</td>\n",
       "      <td>8</td>\n",
       "      <td>32.0</td>\n",
       "      <td>NaN</td>\n",
       "      <td>NaN</td>\n",
       "      <td>NaN</td>\n",
       "      <td>Other</td>\n",
       "    </tr>\n",
       "    <tr>\n",
       "      <th>514</th>\n",
       "      <td>Taco Bell</td>\n",
       "      <td>Fiesta Taco Salad-Steak</td>\n",
       "      <td>720</td>\n",
       "      <td>320</td>\n",
       "      <td>36</td>\n",
       "      <td>8.0</td>\n",
       "      <td>1.0</td>\n",
       "      <td>55</td>\n",
       "      <td>1340</td>\n",
       "      <td>70</td>\n",
       "      <td>8.0</td>\n",
       "      <td>8</td>\n",
       "      <td>28.0</td>\n",
       "      <td>NaN</td>\n",
       "      <td>NaN</td>\n",
       "      <td>NaN</td>\n",
       "      <td>Other</td>\n",
       "    </tr>\n",
       "  </tbody>\n",
       "</table>\n",
       "<p>515 rows × 17 columns</p>\n",
       "</div>"
      ],
      "text/plain": [
       "    restaurant                                       item  calories  cal_fat  \\\n",
       "0    Mcdonalds           Artisan Grilled Chicken Sandwich       380       60   \n",
       "1    Mcdonalds             Single Bacon Smokehouse Burger       840      410   \n",
       "2    Mcdonalds             Double Bacon Smokehouse Burger      1130      600   \n",
       "3    Mcdonalds  Grilled Bacon Smokehouse Chicken Sandwich       750      280   \n",
       "4    Mcdonalds   Crispy Bacon Smokehouse Chicken Sandwich       920      410   \n",
       "..         ...                                        ...       ...      ...   \n",
       "510  Taco Bell             Spicy Triple Double Crunchwrap       780      340   \n",
       "511  Taco Bell                Express Taco Salad w/ Chips       580      260   \n",
       "512  Taco Bell                     Fiesta Taco Salad-Beef       780      380   \n",
       "513  Taco Bell                  Fiesta Taco Salad-Chicken       720      320   \n",
       "514  Taco Bell                    Fiesta Taco Salad-Steak       720      320   \n",
       "\n",
       "     total_fat  sat_fat  trans_fat  cholesterol  sodium  total_carb  fiber  \\\n",
       "0            7      2.0        0.0           95    1110          44    3.0   \n",
       "1           45     17.0        1.5          130    1580          62    2.0   \n",
       "2           67     27.0        3.0          220    1920          63    3.0   \n",
       "3           31     10.0        0.5          155    1940          62    2.0   \n",
       "4           45     12.0        0.5          120    1980          81    4.0   \n",
       "..         ...      ...        ...          ...     ...         ...    ...   \n",
       "510         38     10.0        0.5           50    1850          87    9.0   \n",
       "511         29      9.0        1.0           60    1270          59    8.0   \n",
       "512         42     10.0        1.0           60    1340          74   11.0   \n",
       "513         35      7.0        0.0           70    1260          70    8.0   \n",
       "514         36      8.0        1.0           55    1340          70    8.0   \n",
       "\n",
       "     sugar  protein  vit_a  vit_c  calcium  salad  \n",
       "0       11     37.0    4.0   20.0     20.0  Other  \n",
       "1       18     46.0    6.0   20.0     20.0  Other  \n",
       "2       18     70.0   10.0   20.0     50.0  Other  \n",
       "3       18     55.0    6.0   25.0     20.0  Other  \n",
       "4       18     46.0    6.0   20.0     20.0  Other  \n",
       "..     ...      ...    ...    ...      ...    ...  \n",
       "510      8     23.0   20.0   10.0     25.0  Other  \n",
       "511      7     23.0    NaN    NaN      NaN  Other  \n",
       "512      7     26.0    NaN    NaN      NaN  Other  \n",
       "513      8     32.0    NaN    NaN      NaN  Other  \n",
       "514      8     28.0    NaN    NaN      NaN  Other  \n",
       "\n",
       "[515 rows x 17 columns]"
      ]
     },
     "execution_count": 1,
     "metadata": {},
     "output_type": "execute_result"
    }
   ],
   "source": [
    "import numpy as np\n",
    "import pandas as pd\n",
    "import plotly.express as px\n",
    "\n",
    "fastfood = pd.read_csv(\"Daten/fastfood.csv\")\n",
    "fastfood"
   ]
  },
  {
   "cell_type": "markdown",
   "metadata": {},
   "source": [
    "Sie werden sehen, dass es für jede Beobachtung 17 Messungen gibt, von denen viele Nährwertangaben sind.\n",
    "\n",
    "Für den Anfang werden Sie sich nur auf drei Spalten konzentrieren: `restaurant`, `calories` (Kalorien), `cal_fat` (Kalorien aus Fett).\n",
    "\n",
    "Konzentrieren wir uns zunächst nur auf die Produkte von McDonalds und Dairy Queen."
   ]
  },
  {
   "cell_type": "code",
   "execution_count": 2,
   "metadata": {},
   "outputs": [],
   "source": [
    "mcdonals = fastfood[fastfood[\"restaurant\"] == \"Mcdonalds\"]\n",
    "dairy_queen = fastfood[fastfood[\"restaurant\"] == \"Dairy Queen\"]"
   ]
  },
  {
   "cell_type": "markdown",
   "metadata": {},
   "source": [
    "### ✏️ Aufgabe 1\n",
    "Erstellen Sie ein Diagramm (oder mehrere Diagramme), um die Verteilungen der Kalorienmenge aus Fett (`cal_fat`) der Optionen dieser beiden Restaurants zu visualisieren. Vergleichen sie die Mittelpunkte, Form und Streuung für beide Restaurants."
   ]
  },
  {
   "cell_type": "code",
   "execution_count": 4,
   "metadata": {},
   "outputs": [],
   "source": [
    "fastfood_2 = fastfood[(fastfood[\"restaurant\"] == \"Dairy Queen\")|(fastfood[\"restaurant\"] == \"Mcdonalds\")]"
   ]
  },
  {
   "cell_type": "code",
   "execution_count": 16,
   "metadata": {},
   "outputs": [
    {
     "data": {
      "application/vnd.plotly.v1+json": {
       "config": {
        "plotlyServerURL": "https://plot.ly"
       },
       "data": [
        {
         "alignmentgroup": "True",
         "bingroup": "x",
         "histnorm": "probability density",
         "hovertemplate": "restaurant=Mcdonalds<br>cal_fat=%{x}<br>probability density=%{y}<extra></extra>",
         "legendgroup": "Mcdonalds",
         "marker": {
          "color": "#636efa",
          "opacity": 0.5,
          "pattern": {
           "shape": ""
          }
         },
         "name": "Mcdonalds",
         "offsetgroup": "Mcdonalds",
         "orientation": "v",
         "showlegend": true,
         "type": "histogram",
         "x": [
          60,
          410,
          600,
          280,
          410,
          250,
          100,
          210,
          190,
          400,
          170,
          300,
          180,
          300,
          70,
          50,
          330,
          190,
          310,
          130,
          160,
          200,
          300,
          160,
          280,
          200,
          200,
          240,
          320,
          180,
          300,
          340,
          200,
          320,
          190,
          250,
          390,
          630,
          790,
          1270,
          100,
          140,
          240,
          480,
          960,
          240,
          360,
          600,
          70,
          80,
          250,
          110,
          120,
          250,
          90,
          100,
          230
         ],
         "xaxis": "x",
         "yaxis": "y"
        },
        {
         "alignmentgroup": "True",
         "bingroup": "x",
         "histnorm": "probability density",
         "hovertemplate": "restaurant=Dairy Queen<br>cal_fat=%{x}<br>probability density=%{y}<extra></extra>",
         "legendgroup": "Dairy Queen",
         "marker": {
          "color": "#EF553B",
          "opacity": 0.5,
          "pattern": {
           "shape": ""
          }
         },
         "name": "Dairy Queen",
         "offsetgroup": "Dairy Queen",
         "orientation": "v",
         "showlegend": true,
         "type": "histogram",
         "x": [
          660,
          460,
          330,
          270,
          310,
          160,
          310,
          480,
          590,
          240,
          220,
          220,
          180,
          160,
          180,
          80,
          80,
          410,
          670,
          440,
          140,
          200,
          160,
          310,
          240,
          130,
          430,
          310,
          430,
          180,
          180,
          220,
          280,
          120,
          270,
          190,
          170,
          20,
          140,
          130,
          0,
          240
         ],
         "xaxis": "x",
         "yaxis": "y"
        }
       ],
       "layout": {
        "barmode": "overlay",
        "legend": {
         "title": {
          "text": "restaurant"
         },
         "tracegroupgap": 0
        },
        "margin": {
         "t": 60
        },
        "template": {
         "data": {
          "bar": [
           {
            "error_x": {
             "color": "#2a3f5f"
            },
            "error_y": {
             "color": "#2a3f5f"
            },
            "marker": {
             "line": {
              "color": "#E5ECF6",
              "width": 0.5
             },
             "pattern": {
              "fillmode": "overlay",
              "size": 10,
              "solidity": 0.2
             }
            },
            "type": "bar"
           }
          ],
          "barpolar": [
           {
            "marker": {
             "line": {
              "color": "#E5ECF6",
              "width": 0.5
             },
             "pattern": {
              "fillmode": "overlay",
              "size": 10,
              "solidity": 0.2
             }
            },
            "type": "barpolar"
           }
          ],
          "carpet": [
           {
            "aaxis": {
             "endlinecolor": "#2a3f5f",
             "gridcolor": "white",
             "linecolor": "white",
             "minorgridcolor": "white",
             "startlinecolor": "#2a3f5f"
            },
            "baxis": {
             "endlinecolor": "#2a3f5f",
             "gridcolor": "white",
             "linecolor": "white",
             "minorgridcolor": "white",
             "startlinecolor": "#2a3f5f"
            },
            "type": "carpet"
           }
          ],
          "choropleth": [
           {
            "colorbar": {
             "outlinewidth": 0,
             "ticks": ""
            },
            "type": "choropleth"
           }
          ],
          "contour": [
           {
            "colorbar": {
             "outlinewidth": 0,
             "ticks": ""
            },
            "colorscale": [
             [
              0,
              "#0d0887"
             ],
             [
              0.1111111111111111,
              "#46039f"
             ],
             [
              0.2222222222222222,
              "#7201a8"
             ],
             [
              0.3333333333333333,
              "#9c179e"
             ],
             [
              0.4444444444444444,
              "#bd3786"
             ],
             [
              0.5555555555555556,
              "#d8576b"
             ],
             [
              0.6666666666666666,
              "#ed7953"
             ],
             [
              0.7777777777777778,
              "#fb9f3a"
             ],
             [
              0.8888888888888888,
              "#fdca26"
             ],
             [
              1,
              "#f0f921"
             ]
            ],
            "type": "contour"
           }
          ],
          "contourcarpet": [
           {
            "colorbar": {
             "outlinewidth": 0,
             "ticks": ""
            },
            "type": "contourcarpet"
           }
          ],
          "heatmap": [
           {
            "colorbar": {
             "outlinewidth": 0,
             "ticks": ""
            },
            "colorscale": [
             [
              0,
              "#0d0887"
             ],
             [
              0.1111111111111111,
              "#46039f"
             ],
             [
              0.2222222222222222,
              "#7201a8"
             ],
             [
              0.3333333333333333,
              "#9c179e"
             ],
             [
              0.4444444444444444,
              "#bd3786"
             ],
             [
              0.5555555555555556,
              "#d8576b"
             ],
             [
              0.6666666666666666,
              "#ed7953"
             ],
             [
              0.7777777777777778,
              "#fb9f3a"
             ],
             [
              0.8888888888888888,
              "#fdca26"
             ],
             [
              1,
              "#f0f921"
             ]
            ],
            "type": "heatmap"
           }
          ],
          "heatmapgl": [
           {
            "colorbar": {
             "outlinewidth": 0,
             "ticks": ""
            },
            "colorscale": [
             [
              0,
              "#0d0887"
             ],
             [
              0.1111111111111111,
              "#46039f"
             ],
             [
              0.2222222222222222,
              "#7201a8"
             ],
             [
              0.3333333333333333,
              "#9c179e"
             ],
             [
              0.4444444444444444,
              "#bd3786"
             ],
             [
              0.5555555555555556,
              "#d8576b"
             ],
             [
              0.6666666666666666,
              "#ed7953"
             ],
             [
              0.7777777777777778,
              "#fb9f3a"
             ],
             [
              0.8888888888888888,
              "#fdca26"
             ],
             [
              1,
              "#f0f921"
             ]
            ],
            "type": "heatmapgl"
           }
          ],
          "histogram": [
           {
            "marker": {
             "pattern": {
              "fillmode": "overlay",
              "size": 10,
              "solidity": 0.2
             }
            },
            "type": "histogram"
           }
          ],
          "histogram2d": [
           {
            "colorbar": {
             "outlinewidth": 0,
             "ticks": ""
            },
            "colorscale": [
             [
              0,
              "#0d0887"
             ],
             [
              0.1111111111111111,
              "#46039f"
             ],
             [
              0.2222222222222222,
              "#7201a8"
             ],
             [
              0.3333333333333333,
              "#9c179e"
             ],
             [
              0.4444444444444444,
              "#bd3786"
             ],
             [
              0.5555555555555556,
              "#d8576b"
             ],
             [
              0.6666666666666666,
              "#ed7953"
             ],
             [
              0.7777777777777778,
              "#fb9f3a"
             ],
             [
              0.8888888888888888,
              "#fdca26"
             ],
             [
              1,
              "#f0f921"
             ]
            ],
            "type": "histogram2d"
           }
          ],
          "histogram2dcontour": [
           {
            "colorbar": {
             "outlinewidth": 0,
             "ticks": ""
            },
            "colorscale": [
             [
              0,
              "#0d0887"
             ],
             [
              0.1111111111111111,
              "#46039f"
             ],
             [
              0.2222222222222222,
              "#7201a8"
             ],
             [
              0.3333333333333333,
              "#9c179e"
             ],
             [
              0.4444444444444444,
              "#bd3786"
             ],
             [
              0.5555555555555556,
              "#d8576b"
             ],
             [
              0.6666666666666666,
              "#ed7953"
             ],
             [
              0.7777777777777778,
              "#fb9f3a"
             ],
             [
              0.8888888888888888,
              "#fdca26"
             ],
             [
              1,
              "#f0f921"
             ]
            ],
            "type": "histogram2dcontour"
           }
          ],
          "mesh3d": [
           {
            "colorbar": {
             "outlinewidth": 0,
             "ticks": ""
            },
            "type": "mesh3d"
           }
          ],
          "parcoords": [
           {
            "line": {
             "colorbar": {
              "outlinewidth": 0,
              "ticks": ""
             }
            },
            "type": "parcoords"
           }
          ],
          "pie": [
           {
            "automargin": true,
            "type": "pie"
           }
          ],
          "scatter": [
           {
            "fillpattern": {
             "fillmode": "overlay",
             "size": 10,
             "solidity": 0.2
            },
            "type": "scatter"
           }
          ],
          "scatter3d": [
           {
            "line": {
             "colorbar": {
              "outlinewidth": 0,
              "ticks": ""
             }
            },
            "marker": {
             "colorbar": {
              "outlinewidth": 0,
              "ticks": ""
             }
            },
            "type": "scatter3d"
           }
          ],
          "scattercarpet": [
           {
            "marker": {
             "colorbar": {
              "outlinewidth": 0,
              "ticks": ""
             }
            },
            "type": "scattercarpet"
           }
          ],
          "scattergeo": [
           {
            "marker": {
             "colorbar": {
              "outlinewidth": 0,
              "ticks": ""
             }
            },
            "type": "scattergeo"
           }
          ],
          "scattergl": [
           {
            "marker": {
             "colorbar": {
              "outlinewidth": 0,
              "ticks": ""
             }
            },
            "type": "scattergl"
           }
          ],
          "scattermapbox": [
           {
            "marker": {
             "colorbar": {
              "outlinewidth": 0,
              "ticks": ""
             }
            },
            "type": "scattermapbox"
           }
          ],
          "scatterpolar": [
           {
            "marker": {
             "colorbar": {
              "outlinewidth": 0,
              "ticks": ""
             }
            },
            "type": "scatterpolar"
           }
          ],
          "scatterpolargl": [
           {
            "marker": {
             "colorbar": {
              "outlinewidth": 0,
              "ticks": ""
             }
            },
            "type": "scatterpolargl"
           }
          ],
          "scatterternary": [
           {
            "marker": {
             "colorbar": {
              "outlinewidth": 0,
              "ticks": ""
             }
            },
            "type": "scatterternary"
           }
          ],
          "surface": [
           {
            "colorbar": {
             "outlinewidth": 0,
             "ticks": ""
            },
            "colorscale": [
             [
              0,
              "#0d0887"
             ],
             [
              0.1111111111111111,
              "#46039f"
             ],
             [
              0.2222222222222222,
              "#7201a8"
             ],
             [
              0.3333333333333333,
              "#9c179e"
             ],
             [
              0.4444444444444444,
              "#bd3786"
             ],
             [
              0.5555555555555556,
              "#d8576b"
             ],
             [
              0.6666666666666666,
              "#ed7953"
             ],
             [
              0.7777777777777778,
              "#fb9f3a"
             ],
             [
              0.8888888888888888,
              "#fdca26"
             ],
             [
              1,
              "#f0f921"
             ]
            ],
            "type": "surface"
           }
          ],
          "table": [
           {
            "cells": {
             "fill": {
              "color": "#EBF0F8"
             },
             "line": {
              "color": "white"
             }
            },
            "header": {
             "fill": {
              "color": "#C8D4E3"
             },
             "line": {
              "color": "white"
             }
            },
            "type": "table"
           }
          ]
         },
         "layout": {
          "annotationdefaults": {
           "arrowcolor": "#2a3f5f",
           "arrowhead": 0,
           "arrowwidth": 1
          },
          "autotypenumbers": "strict",
          "coloraxis": {
           "colorbar": {
            "outlinewidth": 0,
            "ticks": ""
           }
          },
          "colorscale": {
           "diverging": [
            [
             0,
             "#8e0152"
            ],
            [
             0.1,
             "#c51b7d"
            ],
            [
             0.2,
             "#de77ae"
            ],
            [
             0.3,
             "#f1b6da"
            ],
            [
             0.4,
             "#fde0ef"
            ],
            [
             0.5,
             "#f7f7f7"
            ],
            [
             0.6,
             "#e6f5d0"
            ],
            [
             0.7,
             "#b8e186"
            ],
            [
             0.8,
             "#7fbc41"
            ],
            [
             0.9,
             "#4d9221"
            ],
            [
             1,
             "#276419"
            ]
           ],
           "sequential": [
            [
             0,
             "#0d0887"
            ],
            [
             0.1111111111111111,
             "#46039f"
            ],
            [
             0.2222222222222222,
             "#7201a8"
            ],
            [
             0.3333333333333333,
             "#9c179e"
            ],
            [
             0.4444444444444444,
             "#bd3786"
            ],
            [
             0.5555555555555556,
             "#d8576b"
            ],
            [
             0.6666666666666666,
             "#ed7953"
            ],
            [
             0.7777777777777778,
             "#fb9f3a"
            ],
            [
             0.8888888888888888,
             "#fdca26"
            ],
            [
             1,
             "#f0f921"
            ]
           ],
           "sequentialminus": [
            [
             0,
             "#0d0887"
            ],
            [
             0.1111111111111111,
             "#46039f"
            ],
            [
             0.2222222222222222,
             "#7201a8"
            ],
            [
             0.3333333333333333,
             "#9c179e"
            ],
            [
             0.4444444444444444,
             "#bd3786"
            ],
            [
             0.5555555555555556,
             "#d8576b"
            ],
            [
             0.6666666666666666,
             "#ed7953"
            ],
            [
             0.7777777777777778,
             "#fb9f3a"
            ],
            [
             0.8888888888888888,
             "#fdca26"
            ],
            [
             1,
             "#f0f921"
            ]
           ]
          },
          "colorway": [
           "#636efa",
           "#EF553B",
           "#00cc96",
           "#ab63fa",
           "#FFA15A",
           "#19d3f3",
           "#FF6692",
           "#B6E880",
           "#FF97FF",
           "#FECB52"
          ],
          "font": {
           "color": "#2a3f5f"
          },
          "geo": {
           "bgcolor": "white",
           "lakecolor": "white",
           "landcolor": "#E5ECF6",
           "showlakes": true,
           "showland": true,
           "subunitcolor": "white"
          },
          "hoverlabel": {
           "align": "left"
          },
          "hovermode": "closest",
          "mapbox": {
           "style": "light"
          },
          "paper_bgcolor": "white",
          "plot_bgcolor": "#E5ECF6",
          "polar": {
           "angularaxis": {
            "gridcolor": "white",
            "linecolor": "white",
            "ticks": ""
           },
           "bgcolor": "#E5ECF6",
           "radialaxis": {
            "gridcolor": "white",
            "linecolor": "white",
            "ticks": ""
           }
          },
          "scene": {
           "xaxis": {
            "backgroundcolor": "#E5ECF6",
            "gridcolor": "white",
            "gridwidth": 2,
            "linecolor": "white",
            "showbackground": true,
            "ticks": "",
            "zerolinecolor": "white"
           },
           "yaxis": {
            "backgroundcolor": "#E5ECF6",
            "gridcolor": "white",
            "gridwidth": 2,
            "linecolor": "white",
            "showbackground": true,
            "ticks": "",
            "zerolinecolor": "white"
           },
           "zaxis": {
            "backgroundcolor": "#E5ECF6",
            "gridcolor": "white",
            "gridwidth": 2,
            "linecolor": "white",
            "showbackground": true,
            "ticks": "",
            "zerolinecolor": "white"
           }
          },
          "shapedefaults": {
           "line": {
            "color": "#2a3f5f"
           }
          },
          "ternary": {
           "aaxis": {
            "gridcolor": "white",
            "linecolor": "white",
            "ticks": ""
           },
           "baxis": {
            "gridcolor": "white",
            "linecolor": "white",
            "ticks": ""
           },
           "bgcolor": "#E5ECF6",
           "caxis": {
            "gridcolor": "white",
            "linecolor": "white",
            "ticks": ""
           }
          },
          "title": {
           "x": 0.05
          },
          "xaxis": {
           "automargin": true,
           "gridcolor": "white",
           "linecolor": "white",
           "ticks": "",
           "title": {
            "standoff": 15
           },
           "zerolinecolor": "white",
           "zerolinewidth": 2
          },
          "yaxis": {
           "automargin": true,
           "gridcolor": "white",
           "linecolor": "white",
           "ticks": "",
           "title": {
            "standoff": 15
           },
           "zerolinecolor": "white",
           "zerolinewidth": 2
          }
         }
        },
        "xaxis": {
         "anchor": "y",
         "domain": [
          0,
          1
         ],
         "title": {
          "text": "cal_fat"
         }
        },
        "yaxis": {
         "anchor": "x",
         "domain": [
          0,
          1
         ],
         "title": {
          "text": "probability density"
         }
        }
       }
      }
     },
     "metadata": {},
     "output_type": "display_data"
    }
   ],
   "source": [
    "px.histogram(fastfood_2,x=\"cal_fat\", histnorm=\"probability density\",color=\"restaurant\",barmode=\"overlay\")"
   ]
  },
  {
   "cell_type": "markdown",
   "metadata": {},
   "source": [
    "## Die Normalverteilung"
   ]
  },
  {
   "cell_type": "markdown",
   "metadata": {},
   "source": [
    "Haben Sie in Ihrer Beschreibung der Verteilungen Begriffe wie glockenförmig oder normal verwendet? Diese Begriffe liegen nahe, wenn es sich um eine unimodale (eingipflige) symmetrische Verteilung handelt.\n",
    "\n",
    "Um zu sehen, wie genau diese Beschreibung ist, können wir eine Normalverteilungskurve über ein Histogramm legen, um zu sehen, wie genau die Daten einer Normalverteilung folgen. Diese Normalkurve sollte den gleichen Mittelwert und die gleiche Standardabweichung wie die Daten haben. Wir werden uns auf die Kalorien aus Fett von Dairy Queen-Produkten konzentrieren, also speichern wir sie als separates Objekt und berechnen dann einige Statistiken, auf die wir später zurückgreifen werden."
   ]
  },
  {
   "cell_type": "code",
   "execution_count": 17,
   "metadata": {},
   "outputs": [],
   "source": [
    "dqmean = dairy_queen['cal_fat'].mean()\n",
    "dqsd = dairy_queen['cal_fat'].std()"
   ]
  },
  {
   "cell_type": "markdown",
   "metadata": {},
   "source": [
    "Als Nächstes erstellen wir ein Dichtehistogramm, das als Hintergrund dient, und legen darüber die Kurve der Wahrscheinlichkeitsdichte einer Normalverteilung. Der Unterschied zwischen einem Häufigkeitshistogramm und einem Dichtehistogramm besteht darin, dass sich bei einem Häufigkeitshistogramm die *Höhe* der Balken zur Gesamtzahl der Beobachtungen addiert, während sich bei einem Dichtehistogramm die *Fläche* der Balken zu 1 addiert. Die Fläche jedes Balkens kann einfach als die Höhe mal die Breite des Balkens berechnet werden. Die Verwendung eines Dichtehistogramms ermöglicht es, eine Normalverteilungskurve über das Histogramm zu legen, da die Kurve eine Wahrscheinlichkeitsdichtefunktion ist, die ebenfalls eine Fläche unter der Kurve von 1 hat. Häufigkeits- und Dichtehistogramme haben genau dieselbe Form; sie unterscheiden sich nur in ihrer y-Achse. Sie können dies überprüfen, indem Sie das Häufigkeitshistogramm, das Sie zuvor erstellt haben, mit dem Dichtehistogramm vergleichen, das mit den folgenden Befehlen erstellt wurde."
   ]
  },
  {
   "cell_type": "code",
   "execution_count": 18,
   "metadata": {},
   "outputs": [
    {
     "data": {
      "application/vnd.plotly.v1+json": {
       "config": {
        "plotlyServerURL": "https://plot.ly"
       },
       "data": [
        {
         "alignmentgroup": "True",
         "bingroup": "x",
         "histnorm": "probability density",
         "hovertemplate": "variable=cal_fat<br>value=%{x}<br>probability density=%{y}<extra></extra>",
         "legendgroup": "cal_fat",
         "marker": {
          "color": "#636efa",
          "pattern": {
           "shape": ""
          }
         },
         "name": "cal_fat",
         "offsetgroup": "cal_fat",
         "orientation": "v",
         "showlegend": true,
         "type": "histogram",
         "x": [
          660,
          460,
          330,
          270,
          310,
          160,
          310,
          480,
          590,
          240,
          220,
          220,
          180,
          160,
          180,
          80,
          80,
          410,
          670,
          440,
          140,
          200,
          160,
          310,
          240,
          130,
          430,
          310,
          430,
          180,
          180,
          220,
          280,
          120,
          270,
          190,
          170,
          20,
          140,
          130,
          0,
          240
         ],
         "xaxis": "x",
         "yaxis": "y"
        }
       ],
       "layout": {
        "barmode": "relative",
        "legend": {
         "title": {
          "text": "variable"
         },
         "tracegroupgap": 0
        },
        "margin": {
         "t": 60
        },
        "template": {
         "data": {
          "bar": [
           {
            "error_x": {
             "color": "#2a3f5f"
            },
            "error_y": {
             "color": "#2a3f5f"
            },
            "marker": {
             "line": {
              "color": "#E5ECF6",
              "width": 0.5
             },
             "pattern": {
              "fillmode": "overlay",
              "size": 10,
              "solidity": 0.2
             }
            },
            "type": "bar"
           }
          ],
          "barpolar": [
           {
            "marker": {
             "line": {
              "color": "#E5ECF6",
              "width": 0.5
             },
             "pattern": {
              "fillmode": "overlay",
              "size": 10,
              "solidity": 0.2
             }
            },
            "type": "barpolar"
           }
          ],
          "carpet": [
           {
            "aaxis": {
             "endlinecolor": "#2a3f5f",
             "gridcolor": "white",
             "linecolor": "white",
             "minorgridcolor": "white",
             "startlinecolor": "#2a3f5f"
            },
            "baxis": {
             "endlinecolor": "#2a3f5f",
             "gridcolor": "white",
             "linecolor": "white",
             "minorgridcolor": "white",
             "startlinecolor": "#2a3f5f"
            },
            "type": "carpet"
           }
          ],
          "choropleth": [
           {
            "colorbar": {
             "outlinewidth": 0,
             "ticks": ""
            },
            "type": "choropleth"
           }
          ],
          "contour": [
           {
            "colorbar": {
             "outlinewidth": 0,
             "ticks": ""
            },
            "colorscale": [
             [
              0,
              "#0d0887"
             ],
             [
              0.1111111111111111,
              "#46039f"
             ],
             [
              0.2222222222222222,
              "#7201a8"
             ],
             [
              0.3333333333333333,
              "#9c179e"
             ],
             [
              0.4444444444444444,
              "#bd3786"
             ],
             [
              0.5555555555555556,
              "#d8576b"
             ],
             [
              0.6666666666666666,
              "#ed7953"
             ],
             [
              0.7777777777777778,
              "#fb9f3a"
             ],
             [
              0.8888888888888888,
              "#fdca26"
             ],
             [
              1,
              "#f0f921"
             ]
            ],
            "type": "contour"
           }
          ],
          "contourcarpet": [
           {
            "colorbar": {
             "outlinewidth": 0,
             "ticks": ""
            },
            "type": "contourcarpet"
           }
          ],
          "heatmap": [
           {
            "colorbar": {
             "outlinewidth": 0,
             "ticks": ""
            },
            "colorscale": [
             [
              0,
              "#0d0887"
             ],
             [
              0.1111111111111111,
              "#46039f"
             ],
             [
              0.2222222222222222,
              "#7201a8"
             ],
             [
              0.3333333333333333,
              "#9c179e"
             ],
             [
              0.4444444444444444,
              "#bd3786"
             ],
             [
              0.5555555555555556,
              "#d8576b"
             ],
             [
              0.6666666666666666,
              "#ed7953"
             ],
             [
              0.7777777777777778,
              "#fb9f3a"
             ],
             [
              0.8888888888888888,
              "#fdca26"
             ],
             [
              1,
              "#f0f921"
             ]
            ],
            "type": "heatmap"
           }
          ],
          "heatmapgl": [
           {
            "colorbar": {
             "outlinewidth": 0,
             "ticks": ""
            },
            "colorscale": [
             [
              0,
              "#0d0887"
             ],
             [
              0.1111111111111111,
              "#46039f"
             ],
             [
              0.2222222222222222,
              "#7201a8"
             ],
             [
              0.3333333333333333,
              "#9c179e"
             ],
             [
              0.4444444444444444,
              "#bd3786"
             ],
             [
              0.5555555555555556,
              "#d8576b"
             ],
             [
              0.6666666666666666,
              "#ed7953"
             ],
             [
              0.7777777777777778,
              "#fb9f3a"
             ],
             [
              0.8888888888888888,
              "#fdca26"
             ],
             [
              1,
              "#f0f921"
             ]
            ],
            "type": "heatmapgl"
           }
          ],
          "histogram": [
           {
            "marker": {
             "pattern": {
              "fillmode": "overlay",
              "size": 10,
              "solidity": 0.2
             }
            },
            "type": "histogram"
           }
          ],
          "histogram2d": [
           {
            "colorbar": {
             "outlinewidth": 0,
             "ticks": ""
            },
            "colorscale": [
             [
              0,
              "#0d0887"
             ],
             [
              0.1111111111111111,
              "#46039f"
             ],
             [
              0.2222222222222222,
              "#7201a8"
             ],
             [
              0.3333333333333333,
              "#9c179e"
             ],
             [
              0.4444444444444444,
              "#bd3786"
             ],
             [
              0.5555555555555556,
              "#d8576b"
             ],
             [
              0.6666666666666666,
              "#ed7953"
             ],
             [
              0.7777777777777778,
              "#fb9f3a"
             ],
             [
              0.8888888888888888,
              "#fdca26"
             ],
             [
              1,
              "#f0f921"
             ]
            ],
            "type": "histogram2d"
           }
          ],
          "histogram2dcontour": [
           {
            "colorbar": {
             "outlinewidth": 0,
             "ticks": ""
            },
            "colorscale": [
             [
              0,
              "#0d0887"
             ],
             [
              0.1111111111111111,
              "#46039f"
             ],
             [
              0.2222222222222222,
              "#7201a8"
             ],
             [
              0.3333333333333333,
              "#9c179e"
             ],
             [
              0.4444444444444444,
              "#bd3786"
             ],
             [
              0.5555555555555556,
              "#d8576b"
             ],
             [
              0.6666666666666666,
              "#ed7953"
             ],
             [
              0.7777777777777778,
              "#fb9f3a"
             ],
             [
              0.8888888888888888,
              "#fdca26"
             ],
             [
              1,
              "#f0f921"
             ]
            ],
            "type": "histogram2dcontour"
           }
          ],
          "mesh3d": [
           {
            "colorbar": {
             "outlinewidth": 0,
             "ticks": ""
            },
            "type": "mesh3d"
           }
          ],
          "parcoords": [
           {
            "line": {
             "colorbar": {
              "outlinewidth": 0,
              "ticks": ""
             }
            },
            "type": "parcoords"
           }
          ],
          "pie": [
           {
            "automargin": true,
            "type": "pie"
           }
          ],
          "scatter": [
           {
            "fillpattern": {
             "fillmode": "overlay",
             "size": 10,
             "solidity": 0.2
            },
            "type": "scatter"
           }
          ],
          "scatter3d": [
           {
            "line": {
             "colorbar": {
              "outlinewidth": 0,
              "ticks": ""
             }
            },
            "marker": {
             "colorbar": {
              "outlinewidth": 0,
              "ticks": ""
             }
            },
            "type": "scatter3d"
           }
          ],
          "scattercarpet": [
           {
            "marker": {
             "colorbar": {
              "outlinewidth": 0,
              "ticks": ""
             }
            },
            "type": "scattercarpet"
           }
          ],
          "scattergeo": [
           {
            "marker": {
             "colorbar": {
              "outlinewidth": 0,
              "ticks": ""
             }
            },
            "type": "scattergeo"
           }
          ],
          "scattergl": [
           {
            "marker": {
             "colorbar": {
              "outlinewidth": 0,
              "ticks": ""
             }
            },
            "type": "scattergl"
           }
          ],
          "scattermapbox": [
           {
            "marker": {
             "colorbar": {
              "outlinewidth": 0,
              "ticks": ""
             }
            },
            "type": "scattermapbox"
           }
          ],
          "scatterpolar": [
           {
            "marker": {
             "colorbar": {
              "outlinewidth": 0,
              "ticks": ""
             }
            },
            "type": "scatterpolar"
           }
          ],
          "scatterpolargl": [
           {
            "marker": {
             "colorbar": {
              "outlinewidth": 0,
              "ticks": ""
             }
            },
            "type": "scatterpolargl"
           }
          ],
          "scatterternary": [
           {
            "marker": {
             "colorbar": {
              "outlinewidth": 0,
              "ticks": ""
             }
            },
            "type": "scatterternary"
           }
          ],
          "surface": [
           {
            "colorbar": {
             "outlinewidth": 0,
             "ticks": ""
            },
            "colorscale": [
             [
              0,
              "#0d0887"
             ],
             [
              0.1111111111111111,
              "#46039f"
             ],
             [
              0.2222222222222222,
              "#7201a8"
             ],
             [
              0.3333333333333333,
              "#9c179e"
             ],
             [
              0.4444444444444444,
              "#bd3786"
             ],
             [
              0.5555555555555556,
              "#d8576b"
             ],
             [
              0.6666666666666666,
              "#ed7953"
             ],
             [
              0.7777777777777778,
              "#fb9f3a"
             ],
             [
              0.8888888888888888,
              "#fdca26"
             ],
             [
              1,
              "#f0f921"
             ]
            ],
            "type": "surface"
           }
          ],
          "table": [
           {
            "cells": {
             "fill": {
              "color": "#EBF0F8"
             },
             "line": {
              "color": "white"
             }
            },
            "header": {
             "fill": {
              "color": "#C8D4E3"
             },
             "line": {
              "color": "white"
             }
            },
            "type": "table"
           }
          ]
         },
         "layout": {
          "annotationdefaults": {
           "arrowcolor": "#2a3f5f",
           "arrowhead": 0,
           "arrowwidth": 1
          },
          "autotypenumbers": "strict",
          "coloraxis": {
           "colorbar": {
            "outlinewidth": 0,
            "ticks": ""
           }
          },
          "colorscale": {
           "diverging": [
            [
             0,
             "#8e0152"
            ],
            [
             0.1,
             "#c51b7d"
            ],
            [
             0.2,
             "#de77ae"
            ],
            [
             0.3,
             "#f1b6da"
            ],
            [
             0.4,
             "#fde0ef"
            ],
            [
             0.5,
             "#f7f7f7"
            ],
            [
             0.6,
             "#e6f5d0"
            ],
            [
             0.7,
             "#b8e186"
            ],
            [
             0.8,
             "#7fbc41"
            ],
            [
             0.9,
             "#4d9221"
            ],
            [
             1,
             "#276419"
            ]
           ],
           "sequential": [
            [
             0,
             "#0d0887"
            ],
            [
             0.1111111111111111,
             "#46039f"
            ],
            [
             0.2222222222222222,
             "#7201a8"
            ],
            [
             0.3333333333333333,
             "#9c179e"
            ],
            [
             0.4444444444444444,
             "#bd3786"
            ],
            [
             0.5555555555555556,
             "#d8576b"
            ],
            [
             0.6666666666666666,
             "#ed7953"
            ],
            [
             0.7777777777777778,
             "#fb9f3a"
            ],
            [
             0.8888888888888888,
             "#fdca26"
            ],
            [
             1,
             "#f0f921"
            ]
           ],
           "sequentialminus": [
            [
             0,
             "#0d0887"
            ],
            [
             0.1111111111111111,
             "#46039f"
            ],
            [
             0.2222222222222222,
             "#7201a8"
            ],
            [
             0.3333333333333333,
             "#9c179e"
            ],
            [
             0.4444444444444444,
             "#bd3786"
            ],
            [
             0.5555555555555556,
             "#d8576b"
            ],
            [
             0.6666666666666666,
             "#ed7953"
            ],
            [
             0.7777777777777778,
             "#fb9f3a"
            ],
            [
             0.8888888888888888,
             "#fdca26"
            ],
            [
             1,
             "#f0f921"
            ]
           ]
          },
          "colorway": [
           "#636efa",
           "#EF553B",
           "#00cc96",
           "#ab63fa",
           "#FFA15A",
           "#19d3f3",
           "#FF6692",
           "#B6E880",
           "#FF97FF",
           "#FECB52"
          ],
          "font": {
           "color": "#2a3f5f"
          },
          "geo": {
           "bgcolor": "white",
           "lakecolor": "white",
           "landcolor": "#E5ECF6",
           "showlakes": true,
           "showland": true,
           "subunitcolor": "white"
          },
          "hoverlabel": {
           "align": "left"
          },
          "hovermode": "closest",
          "mapbox": {
           "style": "light"
          },
          "paper_bgcolor": "white",
          "plot_bgcolor": "#E5ECF6",
          "polar": {
           "angularaxis": {
            "gridcolor": "white",
            "linecolor": "white",
            "ticks": ""
           },
           "bgcolor": "#E5ECF6",
           "radialaxis": {
            "gridcolor": "white",
            "linecolor": "white",
            "ticks": ""
           }
          },
          "scene": {
           "xaxis": {
            "backgroundcolor": "#E5ECF6",
            "gridcolor": "white",
            "gridwidth": 2,
            "linecolor": "white",
            "showbackground": true,
            "ticks": "",
            "zerolinecolor": "white"
           },
           "yaxis": {
            "backgroundcolor": "#E5ECF6",
            "gridcolor": "white",
            "gridwidth": 2,
            "linecolor": "white",
            "showbackground": true,
            "ticks": "",
            "zerolinecolor": "white"
           },
           "zaxis": {
            "backgroundcolor": "#E5ECF6",
            "gridcolor": "white",
            "gridwidth": 2,
            "linecolor": "white",
            "showbackground": true,
            "ticks": "",
            "zerolinecolor": "white"
           }
          },
          "shapedefaults": {
           "line": {
            "color": "#2a3f5f"
           }
          },
          "ternary": {
           "aaxis": {
            "gridcolor": "white",
            "linecolor": "white",
            "ticks": ""
           },
           "baxis": {
            "gridcolor": "white",
            "linecolor": "white",
            "ticks": ""
           },
           "bgcolor": "#E5ECF6",
           "caxis": {
            "gridcolor": "white",
            "linecolor": "white",
            "ticks": ""
           }
          },
          "title": {
           "x": 0.05
          },
          "xaxis": {
           "automargin": true,
           "gridcolor": "white",
           "linecolor": "white",
           "ticks": "",
           "title": {
            "standoff": 15
           },
           "zerolinecolor": "white",
           "zerolinewidth": 2
          },
          "yaxis": {
           "automargin": true,
           "gridcolor": "white",
           "linecolor": "white",
           "ticks": "",
           "title": {
            "standoff": 15
           },
           "zerolinecolor": "white",
           "zerolinewidth": 2
          }
         }
        },
        "xaxis": {
         "anchor": "y",
         "domain": [
          0,
          1
         ],
         "title": {
          "text": "value"
         }
        },
        "yaxis": {
         "anchor": "x",
         "domain": [
          0,
          1
         ],
         "title": {
          "text": "probability density"
         }
        }
       }
      }
     },
     "metadata": {},
     "output_type": "display_data"
    }
   ],
   "source": [
    "px.histogram(dairy_queen['cal_fat'], histnorm=\"probability density\")"
   ]
  },
  {
   "cell_type": "markdown",
   "metadata": {},
   "source": [
    "Als nächstes möchten wir die Dichtekurve der Normalverteilung mit den Parametern $\\mu=$`dqmean` und $\\sigma=$`dqstd` erzeugen und zum Plot hinzufügen. Zunächst erstellen wir die x- und y-Koordinaten für die Normalkurve. Wir haben den x-Bereich mit 0 bis 700 gewählt, um den gesamten Wertebereich der Variable `cal_fat` abzudecken. Die Funktionswerte erzeugen wir uns mit der Funktion `norm.pdf` aus dem Modul `scipy.stats` (pdf steht hier für probability density function)."
   ]
  },
  {
   "cell_type": "code",
   "execution_count": 19,
   "metadata": {},
   "outputs": [],
   "source": [
    "from scipy.stats import norm\n",
    "\n",
    "# Erzeuge einen Vektor mit 101 äquidistanten Samples zwischen 0 und 700 \n",
    "x = np.linspace(0, 700, 101)       \n",
    "y = norm.pdf(x, loc = dqmean, scale = dqsd)"
   ]
  },
  {
   "cell_type": "markdown",
   "metadata": {},
   "source": [
    "Nun möchten wir die Dichtefunktion als Linie zum Histogrammplot hinzufügen. Dazu speichern wir zunächst den Histogrammplot in einer Variable und fügen dann die Dichtekurve hinzu. Dies geschieht in plotly mittels `add_scatter` (eigentlich ein Streuplot, der aber hier als Linie dargestellt wird)"
   ]
  },
  {
   "cell_type": "code",
   "execution_count": 20,
   "metadata": {},
   "outputs": [
    {
     "data": {
      "application/vnd.plotly.v1+json": {
       "config": {
        "plotlyServerURL": "https://plot.ly"
       },
       "data": [
        {
         "alignmentgroup": "True",
         "bingroup": "x",
         "histnorm": "probability density",
         "hovertemplate": "variable=cal_fat<br>value=%{x}<br>probability density=%{y}<extra></extra>",
         "legendgroup": "cal_fat",
         "marker": {
          "color": "#636efa",
          "pattern": {
           "shape": ""
          }
         },
         "name": "cal_fat",
         "offsetgroup": "cal_fat",
         "orientation": "v",
         "showlegend": true,
         "type": "histogram",
         "x": [
          660,
          460,
          330,
          270,
          310,
          160,
          310,
          480,
          590,
          240,
          220,
          220,
          180,
          160,
          180,
          80,
          80,
          410,
          670,
          440,
          140,
          200,
          160,
          310,
          240,
          130,
          430,
          310,
          430,
          180,
          180,
          220,
          280,
          120,
          270,
          190,
          170,
          20,
          140,
          130,
          0,
          240
         ],
         "xaxis": "x",
         "yaxis": "y"
        },
        {
         "name": "Dichtekurve der Normalverteilung",
         "type": "scatter",
         "x": [
          0,
          7,
          14,
          21,
          28,
          35,
          42,
          49,
          56,
          63,
          70,
          77,
          84,
          91,
          98,
          105,
          112,
          119,
          126,
          133,
          140,
          147,
          154,
          161,
          168,
          175,
          182,
          189,
          196,
          203,
          210,
          217,
          224,
          231,
          238,
          245,
          252,
          259,
          266,
          273,
          280,
          287,
          294,
          301,
          308,
          315,
          322,
          329,
          336,
          343,
          350,
          357,
          364,
          371,
          378,
          385,
          392,
          399,
          406,
          413,
          420,
          427,
          434,
          441,
          448,
          455,
          462,
          469,
          476,
          483,
          490,
          497,
          504,
          511,
          518,
          525,
          532,
          539,
          546,
          553,
          560,
          567,
          574,
          581,
          588,
          595,
          602,
          609,
          616,
          623,
          630,
          637,
          644,
          651,
          658,
          665,
          672,
          679,
          686,
          693,
          700
         ],
         "y": [
          0.0006379493484844829,
          0.0006865766822482884,
          0.0007374335145720356,
          0.0007904741336261917,
          0.0008456359262369571,
          0.0009028386812638789,
          0.0009619840255579099,
          0.0010229550087323858,
          0.001085615851943662,
          0.001149811874521729,
          0.0012153696106179225,
          0.0012820971260573903,
          0.0013497845433159351,
          0.001418204780008723,
          0.0014871145035136436,
          0.001556255301392803,
          0.0016253550641658209,
          0.0016941295737777707,
          0.0017622842878467896,
          0.0018295163065292334,
          0.0018955165056638466,
          0.0019599718168120815,
          0.002022567631960612,
          0.002082990308054051,
          0.0021409297442376916,
          0.0021960820027644686,
          0.002248151943004259,
          0.002296855836927472,
          0.0023419239338509246,
          0.0023831029421558033,
          0.0024201583961289954,
          0.0024528768770439835,
          0.002481068059079106,
          0.0025045665526520957,
          0.002523233520202751,
          0.002536958042342935,
          0.0025456582155680444,
          0.00254928196633164,
          0.002547807570162843,
          0.0025412438685862553,
          0.00252963018081409,
          0.002513035911444498,
          0.0024915598596422233,
          0.002465329239421663,
          0.0024344984246242114,
          0.0023992474359112955,
          0.00235978019051691,
          0.0023163225385604723,
          0.0022691201123620965,
          0.002218436017386469,
          0.002164548395136474,
          0.002107747889502002,
          0.0020483350487317596,
          0.001986617695335765,
          0.0019229082958532458,
          0.0018575213615544225,
          0.0017907709098138466,
          0.0017229680141347126,
          0.001654418468662166,
          0.001585420590549548,
          0.0015162631807900111,
          0.0014472236611557028,
          0.0013785664017585053,
          0.0013105412505215802,
          0.0012433822725904568,
          0.0011773067044749295,
          0.0011125141245542979,
          0.0010491858385499936,
          0.0009874844757178519,
          0.0009275537888778593,
          0.0008695186490163577,
          0.0008134852230919841,
          0.0007595413218725535,
          0.0007077569031392109,
          0.0006581847144231406,
          0.0006108610585889913,
          0.0005658066650418487,
          0.0005230276490993047,
          0.0004825165421201706,
          0.00044425337529557844,
          0.0004082068005619631,
          0.0003743352328612805,
          0.00034258799892238236,
          0.0003129064788380705,
          0.00028522522793386054,
          0.00025947306773598384,
          0.00023557413621753612,
          0.00021344888890431342,
          0.0001930150438289018,
          0.0001741884647085698,
          0.00015688397806746734,
          0.00014101612130750166,
          0.00012649981993887143,
          0.00011325099329744046,
          0.0001011870890917973,
          0.00009022754803070774,
          0.00008029420057728413,
          0.0000713115985576528,
          0.000063207284919679,
          0.00005591200539396556,
          0.00004935986615923855
         ]
        }
       ],
       "layout": {
        "barmode": "relative",
        "legend": {
         "title": {
          "text": "variable"
         },
         "tracegroupgap": 0
        },
        "margin": {
         "t": 60
        },
        "template": {
         "data": {
          "bar": [
           {
            "error_x": {
             "color": "#2a3f5f"
            },
            "error_y": {
             "color": "#2a3f5f"
            },
            "marker": {
             "line": {
              "color": "#E5ECF6",
              "width": 0.5
             },
             "pattern": {
              "fillmode": "overlay",
              "size": 10,
              "solidity": 0.2
             }
            },
            "type": "bar"
           }
          ],
          "barpolar": [
           {
            "marker": {
             "line": {
              "color": "#E5ECF6",
              "width": 0.5
             },
             "pattern": {
              "fillmode": "overlay",
              "size": 10,
              "solidity": 0.2
             }
            },
            "type": "barpolar"
           }
          ],
          "carpet": [
           {
            "aaxis": {
             "endlinecolor": "#2a3f5f",
             "gridcolor": "white",
             "linecolor": "white",
             "minorgridcolor": "white",
             "startlinecolor": "#2a3f5f"
            },
            "baxis": {
             "endlinecolor": "#2a3f5f",
             "gridcolor": "white",
             "linecolor": "white",
             "minorgridcolor": "white",
             "startlinecolor": "#2a3f5f"
            },
            "type": "carpet"
           }
          ],
          "choropleth": [
           {
            "colorbar": {
             "outlinewidth": 0,
             "ticks": ""
            },
            "type": "choropleth"
           }
          ],
          "contour": [
           {
            "colorbar": {
             "outlinewidth": 0,
             "ticks": ""
            },
            "colorscale": [
             [
              0,
              "#0d0887"
             ],
             [
              0.1111111111111111,
              "#46039f"
             ],
             [
              0.2222222222222222,
              "#7201a8"
             ],
             [
              0.3333333333333333,
              "#9c179e"
             ],
             [
              0.4444444444444444,
              "#bd3786"
             ],
             [
              0.5555555555555556,
              "#d8576b"
             ],
             [
              0.6666666666666666,
              "#ed7953"
             ],
             [
              0.7777777777777778,
              "#fb9f3a"
             ],
             [
              0.8888888888888888,
              "#fdca26"
             ],
             [
              1,
              "#f0f921"
             ]
            ],
            "type": "contour"
           }
          ],
          "contourcarpet": [
           {
            "colorbar": {
             "outlinewidth": 0,
             "ticks": ""
            },
            "type": "contourcarpet"
           }
          ],
          "heatmap": [
           {
            "colorbar": {
             "outlinewidth": 0,
             "ticks": ""
            },
            "colorscale": [
             [
              0,
              "#0d0887"
             ],
             [
              0.1111111111111111,
              "#46039f"
             ],
             [
              0.2222222222222222,
              "#7201a8"
             ],
             [
              0.3333333333333333,
              "#9c179e"
             ],
             [
              0.4444444444444444,
              "#bd3786"
             ],
             [
              0.5555555555555556,
              "#d8576b"
             ],
             [
              0.6666666666666666,
              "#ed7953"
             ],
             [
              0.7777777777777778,
              "#fb9f3a"
             ],
             [
              0.8888888888888888,
              "#fdca26"
             ],
             [
              1,
              "#f0f921"
             ]
            ],
            "type": "heatmap"
           }
          ],
          "heatmapgl": [
           {
            "colorbar": {
             "outlinewidth": 0,
             "ticks": ""
            },
            "colorscale": [
             [
              0,
              "#0d0887"
             ],
             [
              0.1111111111111111,
              "#46039f"
             ],
             [
              0.2222222222222222,
              "#7201a8"
             ],
             [
              0.3333333333333333,
              "#9c179e"
             ],
             [
              0.4444444444444444,
              "#bd3786"
             ],
             [
              0.5555555555555556,
              "#d8576b"
             ],
             [
              0.6666666666666666,
              "#ed7953"
             ],
             [
              0.7777777777777778,
              "#fb9f3a"
             ],
             [
              0.8888888888888888,
              "#fdca26"
             ],
             [
              1,
              "#f0f921"
             ]
            ],
            "type": "heatmapgl"
           }
          ],
          "histogram": [
           {
            "marker": {
             "pattern": {
              "fillmode": "overlay",
              "size": 10,
              "solidity": 0.2
             }
            },
            "type": "histogram"
           }
          ],
          "histogram2d": [
           {
            "colorbar": {
             "outlinewidth": 0,
             "ticks": ""
            },
            "colorscale": [
             [
              0,
              "#0d0887"
             ],
             [
              0.1111111111111111,
              "#46039f"
             ],
             [
              0.2222222222222222,
              "#7201a8"
             ],
             [
              0.3333333333333333,
              "#9c179e"
             ],
             [
              0.4444444444444444,
              "#bd3786"
             ],
             [
              0.5555555555555556,
              "#d8576b"
             ],
             [
              0.6666666666666666,
              "#ed7953"
             ],
             [
              0.7777777777777778,
              "#fb9f3a"
             ],
             [
              0.8888888888888888,
              "#fdca26"
             ],
             [
              1,
              "#f0f921"
             ]
            ],
            "type": "histogram2d"
           }
          ],
          "histogram2dcontour": [
           {
            "colorbar": {
             "outlinewidth": 0,
             "ticks": ""
            },
            "colorscale": [
             [
              0,
              "#0d0887"
             ],
             [
              0.1111111111111111,
              "#46039f"
             ],
             [
              0.2222222222222222,
              "#7201a8"
             ],
             [
              0.3333333333333333,
              "#9c179e"
             ],
             [
              0.4444444444444444,
              "#bd3786"
             ],
             [
              0.5555555555555556,
              "#d8576b"
             ],
             [
              0.6666666666666666,
              "#ed7953"
             ],
             [
              0.7777777777777778,
              "#fb9f3a"
             ],
             [
              0.8888888888888888,
              "#fdca26"
             ],
             [
              1,
              "#f0f921"
             ]
            ],
            "type": "histogram2dcontour"
           }
          ],
          "mesh3d": [
           {
            "colorbar": {
             "outlinewidth": 0,
             "ticks": ""
            },
            "type": "mesh3d"
           }
          ],
          "parcoords": [
           {
            "line": {
             "colorbar": {
              "outlinewidth": 0,
              "ticks": ""
             }
            },
            "type": "parcoords"
           }
          ],
          "pie": [
           {
            "automargin": true,
            "type": "pie"
           }
          ],
          "scatter": [
           {
            "fillpattern": {
             "fillmode": "overlay",
             "size": 10,
             "solidity": 0.2
            },
            "type": "scatter"
           }
          ],
          "scatter3d": [
           {
            "line": {
             "colorbar": {
              "outlinewidth": 0,
              "ticks": ""
             }
            },
            "marker": {
             "colorbar": {
              "outlinewidth": 0,
              "ticks": ""
             }
            },
            "type": "scatter3d"
           }
          ],
          "scattercarpet": [
           {
            "marker": {
             "colorbar": {
              "outlinewidth": 0,
              "ticks": ""
             }
            },
            "type": "scattercarpet"
           }
          ],
          "scattergeo": [
           {
            "marker": {
             "colorbar": {
              "outlinewidth": 0,
              "ticks": ""
             }
            },
            "type": "scattergeo"
           }
          ],
          "scattergl": [
           {
            "marker": {
             "colorbar": {
              "outlinewidth": 0,
              "ticks": ""
             }
            },
            "type": "scattergl"
           }
          ],
          "scattermapbox": [
           {
            "marker": {
             "colorbar": {
              "outlinewidth": 0,
              "ticks": ""
             }
            },
            "type": "scattermapbox"
           }
          ],
          "scatterpolar": [
           {
            "marker": {
             "colorbar": {
              "outlinewidth": 0,
              "ticks": ""
             }
            },
            "type": "scatterpolar"
           }
          ],
          "scatterpolargl": [
           {
            "marker": {
             "colorbar": {
              "outlinewidth": 0,
              "ticks": ""
             }
            },
            "type": "scatterpolargl"
           }
          ],
          "scatterternary": [
           {
            "marker": {
             "colorbar": {
              "outlinewidth": 0,
              "ticks": ""
             }
            },
            "type": "scatterternary"
           }
          ],
          "surface": [
           {
            "colorbar": {
             "outlinewidth": 0,
             "ticks": ""
            },
            "colorscale": [
             [
              0,
              "#0d0887"
             ],
             [
              0.1111111111111111,
              "#46039f"
             ],
             [
              0.2222222222222222,
              "#7201a8"
             ],
             [
              0.3333333333333333,
              "#9c179e"
             ],
             [
              0.4444444444444444,
              "#bd3786"
             ],
             [
              0.5555555555555556,
              "#d8576b"
             ],
             [
              0.6666666666666666,
              "#ed7953"
             ],
             [
              0.7777777777777778,
              "#fb9f3a"
             ],
             [
              0.8888888888888888,
              "#fdca26"
             ],
             [
              1,
              "#f0f921"
             ]
            ],
            "type": "surface"
           }
          ],
          "table": [
           {
            "cells": {
             "fill": {
              "color": "#EBF0F8"
             },
             "line": {
              "color": "white"
             }
            },
            "header": {
             "fill": {
              "color": "#C8D4E3"
             },
             "line": {
              "color": "white"
             }
            },
            "type": "table"
           }
          ]
         },
         "layout": {
          "annotationdefaults": {
           "arrowcolor": "#2a3f5f",
           "arrowhead": 0,
           "arrowwidth": 1
          },
          "autotypenumbers": "strict",
          "coloraxis": {
           "colorbar": {
            "outlinewidth": 0,
            "ticks": ""
           }
          },
          "colorscale": {
           "diverging": [
            [
             0,
             "#8e0152"
            ],
            [
             0.1,
             "#c51b7d"
            ],
            [
             0.2,
             "#de77ae"
            ],
            [
             0.3,
             "#f1b6da"
            ],
            [
             0.4,
             "#fde0ef"
            ],
            [
             0.5,
             "#f7f7f7"
            ],
            [
             0.6,
             "#e6f5d0"
            ],
            [
             0.7,
             "#b8e186"
            ],
            [
             0.8,
             "#7fbc41"
            ],
            [
             0.9,
             "#4d9221"
            ],
            [
             1,
             "#276419"
            ]
           ],
           "sequential": [
            [
             0,
             "#0d0887"
            ],
            [
             0.1111111111111111,
             "#46039f"
            ],
            [
             0.2222222222222222,
             "#7201a8"
            ],
            [
             0.3333333333333333,
             "#9c179e"
            ],
            [
             0.4444444444444444,
             "#bd3786"
            ],
            [
             0.5555555555555556,
             "#d8576b"
            ],
            [
             0.6666666666666666,
             "#ed7953"
            ],
            [
             0.7777777777777778,
             "#fb9f3a"
            ],
            [
             0.8888888888888888,
             "#fdca26"
            ],
            [
             1,
             "#f0f921"
            ]
           ],
           "sequentialminus": [
            [
             0,
             "#0d0887"
            ],
            [
             0.1111111111111111,
             "#46039f"
            ],
            [
             0.2222222222222222,
             "#7201a8"
            ],
            [
             0.3333333333333333,
             "#9c179e"
            ],
            [
             0.4444444444444444,
             "#bd3786"
            ],
            [
             0.5555555555555556,
             "#d8576b"
            ],
            [
             0.6666666666666666,
             "#ed7953"
            ],
            [
             0.7777777777777778,
             "#fb9f3a"
            ],
            [
             0.8888888888888888,
             "#fdca26"
            ],
            [
             1,
             "#f0f921"
            ]
           ]
          },
          "colorway": [
           "#636efa",
           "#EF553B",
           "#00cc96",
           "#ab63fa",
           "#FFA15A",
           "#19d3f3",
           "#FF6692",
           "#B6E880",
           "#FF97FF",
           "#FECB52"
          ],
          "font": {
           "color": "#2a3f5f"
          },
          "geo": {
           "bgcolor": "white",
           "lakecolor": "white",
           "landcolor": "#E5ECF6",
           "showlakes": true,
           "showland": true,
           "subunitcolor": "white"
          },
          "hoverlabel": {
           "align": "left"
          },
          "hovermode": "closest",
          "mapbox": {
           "style": "light"
          },
          "paper_bgcolor": "white",
          "plot_bgcolor": "#E5ECF6",
          "polar": {
           "angularaxis": {
            "gridcolor": "white",
            "linecolor": "white",
            "ticks": ""
           },
           "bgcolor": "#E5ECF6",
           "radialaxis": {
            "gridcolor": "white",
            "linecolor": "white",
            "ticks": ""
           }
          },
          "scene": {
           "xaxis": {
            "backgroundcolor": "#E5ECF6",
            "gridcolor": "white",
            "gridwidth": 2,
            "linecolor": "white",
            "showbackground": true,
            "ticks": "",
            "zerolinecolor": "white"
           },
           "yaxis": {
            "backgroundcolor": "#E5ECF6",
            "gridcolor": "white",
            "gridwidth": 2,
            "linecolor": "white",
            "showbackground": true,
            "ticks": "",
            "zerolinecolor": "white"
           },
           "zaxis": {
            "backgroundcolor": "#E5ECF6",
            "gridcolor": "white",
            "gridwidth": 2,
            "linecolor": "white",
            "showbackground": true,
            "ticks": "",
            "zerolinecolor": "white"
           }
          },
          "shapedefaults": {
           "line": {
            "color": "#2a3f5f"
           }
          },
          "ternary": {
           "aaxis": {
            "gridcolor": "white",
            "linecolor": "white",
            "ticks": ""
           },
           "baxis": {
            "gridcolor": "white",
            "linecolor": "white",
            "ticks": ""
           },
           "bgcolor": "#E5ECF6",
           "caxis": {
            "gridcolor": "white",
            "linecolor": "white",
            "ticks": ""
           }
          },
          "title": {
           "x": 0.05
          },
          "xaxis": {
           "automargin": true,
           "gridcolor": "white",
           "linecolor": "white",
           "ticks": "",
           "title": {
            "standoff": 15
           },
           "zerolinecolor": "white",
           "zerolinewidth": 2
          },
          "yaxis": {
           "automargin": true,
           "gridcolor": "white",
           "linecolor": "white",
           "ticks": "",
           "title": {
            "standoff": 15
           },
           "zerolinecolor": "white",
           "zerolinewidth": 2
          }
         }
        },
        "xaxis": {
         "anchor": "y",
         "domain": [
          0,
          1
         ],
         "title": {
          "text": "value"
         }
        },
        "yaxis": {
         "anchor": "x",
         "domain": [
          0,
          1
         ],
         "title": {
          "text": "probability density"
         }
        }
       }
      }
     },
     "metadata": {},
     "output_type": "display_data"
    }
   ],
   "source": [
    "hist = px.histogram(dairy_queen['cal_fat'], histnorm=\"probability density\")\n",
    "hist.add_scatter(x=x, y=y, name=f\"Dichtekurve der Normalverteilung\")\n",
    "hist.show()"
   ]
  },
  {
   "cell_type": "markdown",
   "metadata": {},
   "source": [
    "### ✏️ Aufgabe 2\n",
    "Sieht es so aus, als ob die Daten einer annähernden Normalverteilung folgen?"
   ]
  },
  {
   "cell_type": "markdown",
   "metadata": {},
   "source": [
    "## Evaluating the normal distribution"
   ]
  },
  {
   "cell_type": "markdown",
   "metadata": {},
   "source": [
    "Ein Blick auf die Form des Histogramms ist eine Möglichkeit, um festzustellen, ob die Daten annähernd normalverteilt sind, aber es kann sehr schwierig bzw. unklar sein, zu entscheiden, wie nahe das Histogramm an der Kurve liegt. Ein alternativer Ansatz besteht darin, ein normales Wahrscheinlichkeitsdiagramm zu erstellen, das auch als normales Q-Q-Diagramm für \"Quantil-Quantil\" bezeichnet wird."
   ]
  },
  {
   "cell_type": "code",
   "execution_count": 21,
   "metadata": {},
   "outputs": [
    {
     "data": {
      "application/vnd.plotly.v1+json": {
       "config": {
        "plotlyServerURL": "https://plot.ly"
       },
       "data": [
        {
         "hovertemplate": "x=%{x}<br>y=%{y}<extra></extra>",
         "legendgroup": "",
         "marker": {
          "color": "#636efa",
          "symbol": "circle"
         },
         "mode": "markers",
         "name": "",
         "orientation": "v",
         "showlegend": false,
         "type": "scatter",
         "x": [
          -2.1353046284158346,
          -1.7540101162150163,
          -1.527496670219539,
          -1.359948140410081,
          -1.2237273032174234,
          -1.1070694628903044,
          -1.0038048672080377,
          -0.9102674907071854,
          -0.8240868004562736,
          -0.7436321948616521,
          -0.667727110604202,
          -0.595489101363644,
          -0.5262343894479194,
          -0.45941783418576615,
          -0.3945934820453098,
          -0.33138763259250686,
          -0.26947979801752303,
          -0.20858878396464725,
          -0.148462158735626,
          -0.08886798295158897,
          -0.029588032793860894,
          0.029588032793860894,
          0.08886798295158911,
          0.148462158735626,
          0.2085887839646474,
          0.26947979801752303,
          0.33138763259250686,
          0.3945934820453096,
          0.45941783418576615,
          0.5262343894479193,
          0.5954891013636436,
          0.6677271106042019,
          0.7436321948616517,
          0.8240868004562732,
          0.9102674907071853,
          1.003804867208037,
          1.107069462890304,
          1.223727303217423,
          1.35994814041008,
          1.5274966702195378,
          1.754010116215015,
          2.1353046284158346
         ],
         "xaxis": "x",
         "y": [
          0,
          20,
          80,
          80,
          120,
          130,
          130,
          140,
          140,
          160,
          160,
          160,
          170,
          180,
          180,
          180,
          180,
          190,
          200,
          220,
          220,
          220,
          240,
          240,
          240,
          270,
          270,
          280,
          310,
          310,
          310,
          310,
          330,
          410,
          430,
          430,
          440,
          460,
          480,
          590,
          660,
          670
         ],
         "yaxis": "y"
        },
        {
         "hovertemplate": "<b>OLS trendline</b><br>y = 154.939 * x + 260.476<br>R<sup>2</sup>=0.923481<br><br>x=%{x}<br>y=%{y} <b>(trend)</b><extra></extra>",
         "legendgroup": "",
         "marker": {
          "color": "#636efa",
          "symbol": "circle"
         },
         "mode": "lines",
         "name": "",
         "showlegend": false,
         "type": "scatter",
         "x": [
          -2.1353046284158346,
          -1.7540101162150163,
          -1.527496670219539,
          -1.359948140410081,
          -1.2237273032174234,
          -1.1070694628903044,
          -1.0038048672080377,
          -0.9102674907071854,
          -0.8240868004562736,
          -0.7436321948616521,
          -0.667727110604202,
          -0.595489101363644,
          -0.5262343894479194,
          -0.45941783418576615,
          -0.3945934820453098,
          -0.33138763259250686,
          -0.26947979801752303,
          -0.20858878396464725,
          -0.148462158735626,
          -0.08886798295158897,
          -0.029588032793860894,
          0.029588032793860894,
          0.08886798295158911,
          0.148462158735626,
          0.2085887839646474,
          0.26947979801752303,
          0.33138763259250686,
          0.3945934820453096,
          0.45941783418576615,
          0.5262343894479193,
          0.5954891013636436,
          0.6677271106042019,
          0.7436321948616517,
          0.8240868004562732,
          0.9102674907071853,
          1.003804867208037,
          1.107069462890304,
          1.223727303217423,
          1.35994814041008,
          1.5274966702195378,
          1.754010116215015,
          2.1353046284158346
         ],
         "xaxis": "x",
         "y": [
          -70.36518919813165,
          -11.28790308165162,
          23.80780176095257,
          49.767557585436435,
          70.87344061377289,
          88.94825782254011,
          104.9479427632215,
          119.44050475219501,
          132.79323114283181,
          145.2587652693726,
          157.01940235404993,
          168.2118675058739,
          178.94210436961566,
          189.29457634660773,
          199.33837890912721,
          209.13141272649247,
          218.7233337717967,
          228.15770994039403,
          237.47365267812333,
          246.70709837695657,
          255.89185835743672,
          265.060522594944,
          274.2452825754242,
          283.4787282742574,
          292.79467101198674,
          302.2290471805841,
          311.8209682258883,
          321.6140020432535,
          331.657804605773,
          342.0102765827651,
          352.7405134465068,
          363.9329785983308,
          375.6936156830081,
          388.15914980954886,
          401.5118762001857,
          416.00443818915915,
          432.00412312984054,
          450.07894033860777,
          471.1848233669441,
          497.14457919142797,
          532.2402840340321,
          591.3175701505124
         ],
         "yaxis": "y"
        }
       ],
       "layout": {
        "legend": {
         "tracegroupgap": 0
        },
        "margin": {
         "t": 60
        },
        "template": {
         "data": {
          "bar": [
           {
            "error_x": {
             "color": "#2a3f5f"
            },
            "error_y": {
             "color": "#2a3f5f"
            },
            "marker": {
             "line": {
              "color": "#E5ECF6",
              "width": 0.5
             },
             "pattern": {
              "fillmode": "overlay",
              "size": 10,
              "solidity": 0.2
             }
            },
            "type": "bar"
           }
          ],
          "barpolar": [
           {
            "marker": {
             "line": {
              "color": "#E5ECF6",
              "width": 0.5
             },
             "pattern": {
              "fillmode": "overlay",
              "size": 10,
              "solidity": 0.2
             }
            },
            "type": "barpolar"
           }
          ],
          "carpet": [
           {
            "aaxis": {
             "endlinecolor": "#2a3f5f",
             "gridcolor": "white",
             "linecolor": "white",
             "minorgridcolor": "white",
             "startlinecolor": "#2a3f5f"
            },
            "baxis": {
             "endlinecolor": "#2a3f5f",
             "gridcolor": "white",
             "linecolor": "white",
             "minorgridcolor": "white",
             "startlinecolor": "#2a3f5f"
            },
            "type": "carpet"
           }
          ],
          "choropleth": [
           {
            "colorbar": {
             "outlinewidth": 0,
             "ticks": ""
            },
            "type": "choropleth"
           }
          ],
          "contour": [
           {
            "colorbar": {
             "outlinewidth": 0,
             "ticks": ""
            },
            "colorscale": [
             [
              0,
              "#0d0887"
             ],
             [
              0.1111111111111111,
              "#46039f"
             ],
             [
              0.2222222222222222,
              "#7201a8"
             ],
             [
              0.3333333333333333,
              "#9c179e"
             ],
             [
              0.4444444444444444,
              "#bd3786"
             ],
             [
              0.5555555555555556,
              "#d8576b"
             ],
             [
              0.6666666666666666,
              "#ed7953"
             ],
             [
              0.7777777777777778,
              "#fb9f3a"
             ],
             [
              0.8888888888888888,
              "#fdca26"
             ],
             [
              1,
              "#f0f921"
             ]
            ],
            "type": "contour"
           }
          ],
          "contourcarpet": [
           {
            "colorbar": {
             "outlinewidth": 0,
             "ticks": ""
            },
            "type": "contourcarpet"
           }
          ],
          "heatmap": [
           {
            "colorbar": {
             "outlinewidth": 0,
             "ticks": ""
            },
            "colorscale": [
             [
              0,
              "#0d0887"
             ],
             [
              0.1111111111111111,
              "#46039f"
             ],
             [
              0.2222222222222222,
              "#7201a8"
             ],
             [
              0.3333333333333333,
              "#9c179e"
             ],
             [
              0.4444444444444444,
              "#bd3786"
             ],
             [
              0.5555555555555556,
              "#d8576b"
             ],
             [
              0.6666666666666666,
              "#ed7953"
             ],
             [
              0.7777777777777778,
              "#fb9f3a"
             ],
             [
              0.8888888888888888,
              "#fdca26"
             ],
             [
              1,
              "#f0f921"
             ]
            ],
            "type": "heatmap"
           }
          ],
          "heatmapgl": [
           {
            "colorbar": {
             "outlinewidth": 0,
             "ticks": ""
            },
            "colorscale": [
             [
              0,
              "#0d0887"
             ],
             [
              0.1111111111111111,
              "#46039f"
             ],
             [
              0.2222222222222222,
              "#7201a8"
             ],
             [
              0.3333333333333333,
              "#9c179e"
             ],
             [
              0.4444444444444444,
              "#bd3786"
             ],
             [
              0.5555555555555556,
              "#d8576b"
             ],
             [
              0.6666666666666666,
              "#ed7953"
             ],
             [
              0.7777777777777778,
              "#fb9f3a"
             ],
             [
              0.8888888888888888,
              "#fdca26"
             ],
             [
              1,
              "#f0f921"
             ]
            ],
            "type": "heatmapgl"
           }
          ],
          "histogram": [
           {
            "marker": {
             "pattern": {
              "fillmode": "overlay",
              "size": 10,
              "solidity": 0.2
             }
            },
            "type": "histogram"
           }
          ],
          "histogram2d": [
           {
            "colorbar": {
             "outlinewidth": 0,
             "ticks": ""
            },
            "colorscale": [
             [
              0,
              "#0d0887"
             ],
             [
              0.1111111111111111,
              "#46039f"
             ],
             [
              0.2222222222222222,
              "#7201a8"
             ],
             [
              0.3333333333333333,
              "#9c179e"
             ],
             [
              0.4444444444444444,
              "#bd3786"
             ],
             [
              0.5555555555555556,
              "#d8576b"
             ],
             [
              0.6666666666666666,
              "#ed7953"
             ],
             [
              0.7777777777777778,
              "#fb9f3a"
             ],
             [
              0.8888888888888888,
              "#fdca26"
             ],
             [
              1,
              "#f0f921"
             ]
            ],
            "type": "histogram2d"
           }
          ],
          "histogram2dcontour": [
           {
            "colorbar": {
             "outlinewidth": 0,
             "ticks": ""
            },
            "colorscale": [
             [
              0,
              "#0d0887"
             ],
             [
              0.1111111111111111,
              "#46039f"
             ],
             [
              0.2222222222222222,
              "#7201a8"
             ],
             [
              0.3333333333333333,
              "#9c179e"
             ],
             [
              0.4444444444444444,
              "#bd3786"
             ],
             [
              0.5555555555555556,
              "#d8576b"
             ],
             [
              0.6666666666666666,
              "#ed7953"
             ],
             [
              0.7777777777777778,
              "#fb9f3a"
             ],
             [
              0.8888888888888888,
              "#fdca26"
             ],
             [
              1,
              "#f0f921"
             ]
            ],
            "type": "histogram2dcontour"
           }
          ],
          "mesh3d": [
           {
            "colorbar": {
             "outlinewidth": 0,
             "ticks": ""
            },
            "type": "mesh3d"
           }
          ],
          "parcoords": [
           {
            "line": {
             "colorbar": {
              "outlinewidth": 0,
              "ticks": ""
             }
            },
            "type": "parcoords"
           }
          ],
          "pie": [
           {
            "automargin": true,
            "type": "pie"
           }
          ],
          "scatter": [
           {
            "fillpattern": {
             "fillmode": "overlay",
             "size": 10,
             "solidity": 0.2
            },
            "type": "scatter"
           }
          ],
          "scatter3d": [
           {
            "line": {
             "colorbar": {
              "outlinewidth": 0,
              "ticks": ""
             }
            },
            "marker": {
             "colorbar": {
              "outlinewidth": 0,
              "ticks": ""
             }
            },
            "type": "scatter3d"
           }
          ],
          "scattercarpet": [
           {
            "marker": {
             "colorbar": {
              "outlinewidth": 0,
              "ticks": ""
             }
            },
            "type": "scattercarpet"
           }
          ],
          "scattergeo": [
           {
            "marker": {
             "colorbar": {
              "outlinewidth": 0,
              "ticks": ""
             }
            },
            "type": "scattergeo"
           }
          ],
          "scattergl": [
           {
            "marker": {
             "colorbar": {
              "outlinewidth": 0,
              "ticks": ""
             }
            },
            "type": "scattergl"
           }
          ],
          "scattermapbox": [
           {
            "marker": {
             "colorbar": {
              "outlinewidth": 0,
              "ticks": ""
             }
            },
            "type": "scattermapbox"
           }
          ],
          "scatterpolar": [
           {
            "marker": {
             "colorbar": {
              "outlinewidth": 0,
              "ticks": ""
             }
            },
            "type": "scatterpolar"
           }
          ],
          "scatterpolargl": [
           {
            "marker": {
             "colorbar": {
              "outlinewidth": 0,
              "ticks": ""
             }
            },
            "type": "scatterpolargl"
           }
          ],
          "scatterternary": [
           {
            "marker": {
             "colorbar": {
              "outlinewidth": 0,
              "ticks": ""
             }
            },
            "type": "scatterternary"
           }
          ],
          "surface": [
           {
            "colorbar": {
             "outlinewidth": 0,
             "ticks": ""
            },
            "colorscale": [
             [
              0,
              "#0d0887"
             ],
             [
              0.1111111111111111,
              "#46039f"
             ],
             [
              0.2222222222222222,
              "#7201a8"
             ],
             [
              0.3333333333333333,
              "#9c179e"
             ],
             [
              0.4444444444444444,
              "#bd3786"
             ],
             [
              0.5555555555555556,
              "#d8576b"
             ],
             [
              0.6666666666666666,
              "#ed7953"
             ],
             [
              0.7777777777777778,
              "#fb9f3a"
             ],
             [
              0.8888888888888888,
              "#fdca26"
             ],
             [
              1,
              "#f0f921"
             ]
            ],
            "type": "surface"
           }
          ],
          "table": [
           {
            "cells": {
             "fill": {
              "color": "#EBF0F8"
             },
             "line": {
              "color": "white"
             }
            },
            "header": {
             "fill": {
              "color": "#C8D4E3"
             },
             "line": {
              "color": "white"
             }
            },
            "type": "table"
           }
          ]
         },
         "layout": {
          "annotationdefaults": {
           "arrowcolor": "#2a3f5f",
           "arrowhead": 0,
           "arrowwidth": 1
          },
          "autotypenumbers": "strict",
          "coloraxis": {
           "colorbar": {
            "outlinewidth": 0,
            "ticks": ""
           }
          },
          "colorscale": {
           "diverging": [
            [
             0,
             "#8e0152"
            ],
            [
             0.1,
             "#c51b7d"
            ],
            [
             0.2,
             "#de77ae"
            ],
            [
             0.3,
             "#f1b6da"
            ],
            [
             0.4,
             "#fde0ef"
            ],
            [
             0.5,
             "#f7f7f7"
            ],
            [
             0.6,
             "#e6f5d0"
            ],
            [
             0.7,
             "#b8e186"
            ],
            [
             0.8,
             "#7fbc41"
            ],
            [
             0.9,
             "#4d9221"
            ],
            [
             1,
             "#276419"
            ]
           ],
           "sequential": [
            [
             0,
             "#0d0887"
            ],
            [
             0.1111111111111111,
             "#46039f"
            ],
            [
             0.2222222222222222,
             "#7201a8"
            ],
            [
             0.3333333333333333,
             "#9c179e"
            ],
            [
             0.4444444444444444,
             "#bd3786"
            ],
            [
             0.5555555555555556,
             "#d8576b"
            ],
            [
             0.6666666666666666,
             "#ed7953"
            ],
            [
             0.7777777777777778,
             "#fb9f3a"
            ],
            [
             0.8888888888888888,
             "#fdca26"
            ],
            [
             1,
             "#f0f921"
            ]
           ],
           "sequentialminus": [
            [
             0,
             "#0d0887"
            ],
            [
             0.1111111111111111,
             "#46039f"
            ],
            [
             0.2222222222222222,
             "#7201a8"
            ],
            [
             0.3333333333333333,
             "#9c179e"
            ],
            [
             0.4444444444444444,
             "#bd3786"
            ],
            [
             0.5555555555555556,
             "#d8576b"
            ],
            [
             0.6666666666666666,
             "#ed7953"
            ],
            [
             0.7777777777777778,
             "#fb9f3a"
            ],
            [
             0.8888888888888888,
             "#fdca26"
            ],
            [
             1,
             "#f0f921"
            ]
           ]
          },
          "colorway": [
           "#636efa",
           "#EF553B",
           "#00cc96",
           "#ab63fa",
           "#FFA15A",
           "#19d3f3",
           "#FF6692",
           "#B6E880",
           "#FF97FF",
           "#FECB52"
          ],
          "font": {
           "color": "#2a3f5f"
          },
          "geo": {
           "bgcolor": "white",
           "lakecolor": "white",
           "landcolor": "#E5ECF6",
           "showlakes": true,
           "showland": true,
           "subunitcolor": "white"
          },
          "hoverlabel": {
           "align": "left"
          },
          "hovermode": "closest",
          "mapbox": {
           "style": "light"
          },
          "paper_bgcolor": "white",
          "plot_bgcolor": "#E5ECF6",
          "polar": {
           "angularaxis": {
            "gridcolor": "white",
            "linecolor": "white",
            "ticks": ""
           },
           "bgcolor": "#E5ECF6",
           "radialaxis": {
            "gridcolor": "white",
            "linecolor": "white",
            "ticks": ""
           }
          },
          "scene": {
           "xaxis": {
            "backgroundcolor": "#E5ECF6",
            "gridcolor": "white",
            "gridwidth": 2,
            "linecolor": "white",
            "showbackground": true,
            "ticks": "",
            "zerolinecolor": "white"
           },
           "yaxis": {
            "backgroundcolor": "#E5ECF6",
            "gridcolor": "white",
            "gridwidth": 2,
            "linecolor": "white",
            "showbackground": true,
            "ticks": "",
            "zerolinecolor": "white"
           },
           "zaxis": {
            "backgroundcolor": "#E5ECF6",
            "gridcolor": "white",
            "gridwidth": 2,
            "linecolor": "white",
            "showbackground": true,
            "ticks": "",
            "zerolinecolor": "white"
           }
          },
          "shapedefaults": {
           "line": {
            "color": "#2a3f5f"
           }
          },
          "ternary": {
           "aaxis": {
            "gridcolor": "white",
            "linecolor": "white",
            "ticks": ""
           },
           "baxis": {
            "gridcolor": "white",
            "linecolor": "white",
            "ticks": ""
           },
           "bgcolor": "#E5ECF6",
           "caxis": {
            "gridcolor": "white",
            "linecolor": "white",
            "ticks": ""
           }
          },
          "title": {
           "x": 0.05
          },
          "xaxis": {
           "automargin": true,
           "gridcolor": "white",
           "linecolor": "white",
           "ticks": "",
           "title": {
            "standoff": 15
           },
           "zerolinecolor": "white",
           "zerolinewidth": 2
          },
          "yaxis": {
           "automargin": true,
           "gridcolor": "white",
           "linecolor": "white",
           "ticks": "",
           "title": {
            "standoff": 15
           },
           "zerolinecolor": "white",
           "zerolinewidth": 2
          }
         }
        },
        "xaxis": {
         "anchor": "y",
         "domain": [
          0,
          1
         ],
         "title": {
          "text": "x"
         }
        },
        "yaxis": {
         "anchor": "x",
         "domain": [
          0,
          1
         ],
         "title": {
          "text": "y"
         }
        }
       }
      }
     },
     "metadata": {},
     "output_type": "display_data"
    }
   ],
   "source": [
    "from scipy.stats import probplot\n",
    "\n",
    "(Q_x, Q_y) = probplot(dairy_queen['cal_fat'], fit=False)\n",
    "px.scatter(x=Q_x, y=Q_y, trendline=\"ols\")"
   ]
  },
  {
   "cell_type": "markdown",
   "metadata": {},
   "source": [
    "Die Werte auf der x-Achse entsprechen den Quantilen einer theoretischen Normalkurve mit Mittelwert 0 und Standardabweichung 1 (d. h. der Standardnormalverteilung). Die Werte auf der y-Achse entsprechen den Quantilen der ursprünglichen, nicht standardisierten Stichprobendaten. Aber auch wenn wir die Stichprobendatenwerte standardisieren würden, sähe die Q-Q-Kurve identisch aus. Ein nahezu normaler Datensatz führt zu einem Wahrscheinlichkeitsdiagramm, bei dem die Punkte eng an einer diagonalen Linie liegen. Jede Abweichung von der Normalität führt zu einer Abweichung der Punkte von dieser Linie.\n",
    "\n",
    "Das Diagramm für die Kalorien aus Fett von Dairy Queen zeigt Punkte, die tendenziell der Linie folgen, aber mit einigen abweichenden Punkten am oberen Ende. Hier stellt sich das gleiche Problem wie beim obigen Histogramm: Wie nah ist nah genug?\n",
    "\n",
    "Diese Frage lässt sich sinnvollerweise folgendermaßen umformulieren: Wie sehen Wahrscheinlichkeitsdiagramme für Daten aus, von denen ich *weiß*, dass sie aus einer Normalverteilung stammen? Wir können diese Frage beantworten, indem wir Daten aus einer Normalverteilung mit `np.random.norm` simulieren."
   ]
  },
  {
   "cell_type": "code",
   "execution_count": 22,
   "metadata": {},
   "outputs": [],
   "source": [
    "sim_norm = np.random.normal(size = len(dairy_queen['cal_fat']), loc = dqmean, scale = dqsd)"
   ]
  },
  {
   "cell_type": "markdown",
   "metadata": {},
   "source": [
    "Das erste Argument gibt an, wie viele Zahlen Sie generieren möchten. Wir geben an, dass dies die gleiche Anzahl von Produkten im dairy_queen-Datensatz ist, indem wir die Funktion `len()` verwenden. Die letzten beiden Argumente (`loc` and `scale`) bestimmen den Mittelwert und die Standardabweichung der Normalverteilung, aus der die simulierte Stichprobe erzeugt wird. Wir können uns die Form unseres simulierten Datensatzes, `sim_norm`, sowie die Darstellung der Normalwahrscheinlichkeit ansehen."
   ]
  },
  {
   "cell_type": "markdown",
   "metadata": {},
   "source": [
    "<div class = 'exercise'>\n",
    "<h4>Exercise 3</h4>\n",
    "Make a normal probability plot of <code>sim_norm</code>. Do all of the points fall on the line? How does this plot compare to the probability plot for the real data?\n",
    "</div>"
   ]
  },
  {
   "cell_type": "markdown",
   "metadata": {},
   "source": [
    "### ✏️ Aufgabe 3\n",
    "Erstellen Sie ein Normalwahrscheinlichkeitsdiagramm von `sim_norm`. Fallen alle Punkte auf die Linie? Wie verhält sich diese Darstellung im Vergleich zur Wahrscheinlichkeitsdarstellung für die realen Daten?"
   ]
  },
  {
   "cell_type": "markdown",
   "metadata": {},
   "source": [
    "Noch besser als der Vergleich des ursprünglichen Diagramms mit einem einzelnen Diagramm, das aus einer Normalverteilung generiert wurde, ist der Vergleich mit vielen weiteren Diagrammen, bei denen zufällig Daten aus einer Normalverteilung generiert wurden. Der folgende Code generiert 9 Plots: in der linken oberen Ecke sieht man den Q-Q-Plot, die den Originaldaten entspricht. Die restlichen Plots zeigen Q-Q-Plots von 8 verschiedenen simulierten *normalverteilten* Daten. Je nachdem, welches Gerät sie benutzen, kann es sinnvoll sein, die Parameter `width` und `height` zu modifizieren oder die Zoom Funktionalität von plotly zu benutzen."
   ]
  },
  {
   "cell_type": "code",
   "execution_count": 23,
   "metadata": {},
   "outputs": [
    {
     "data": {
      "application/vnd.plotly.v1+json": {
       "config": {
        "plotlyServerURL": "https://plot.ly"
       },
       "data": [
        {
         "hovertemplate": "sample=data<br>Q_x=%{x}<br>Q_y=%{y}<extra></extra>",
         "legendgroup": "",
         "marker": {
          "color": "#636efa",
          "symbol": "circle"
         },
         "mode": "markers",
         "name": "",
         "orientation": "v",
         "showlegend": false,
         "type": "scatter",
         "x": [
          -2.1353046284158346,
          -1.7540101162150163,
          -1.527496670219539,
          -1.359948140410081,
          -1.2237273032174234,
          -1.1070694628903044,
          -1.0038048672080377,
          -0.9102674907071854,
          -0.8240868004562736,
          -0.7436321948616521,
          -0.667727110604202,
          -0.595489101363644,
          -0.5262343894479194,
          -0.45941783418576615,
          -0.3945934820453098,
          -0.33138763259250686,
          -0.26947979801752303,
          -0.20858878396464725,
          -0.148462158735626,
          -0.08886798295158897,
          -0.029588032793860894,
          0.029588032793860894,
          0.08886798295158911,
          0.148462158735626,
          0.2085887839646474,
          0.26947979801752303,
          0.33138763259250686,
          0.3945934820453096,
          0.45941783418576615,
          0.5262343894479193,
          0.5954891013636436,
          0.6677271106042019,
          0.7436321948616517,
          0.8240868004562732,
          0.9102674907071853,
          1.003804867208037,
          1.107069462890304,
          1.223727303217423,
          1.35994814041008,
          1.5274966702195378,
          1.754010116215015,
          2.1353046284158346
         ],
         "xaxis": "x7",
         "y": [
          0,
          20,
          80,
          80,
          120,
          130,
          130,
          140,
          140,
          160,
          160,
          160,
          170,
          180,
          180,
          180,
          180,
          190,
          200,
          220,
          220,
          220,
          240,
          240,
          240,
          270,
          270,
          280,
          310,
          310,
          310,
          310,
          330,
          410,
          430,
          430,
          440,
          460,
          480,
          590,
          660,
          670
         ],
         "yaxis": "y7"
        },
        {
         "hovertemplate": "<b>OLS trendline</b><br>Q_y = 154.939 * Q_x + 260.476<br>R<sup>2</sup>=0.923481<br><br>sample=data<br>Q_x=%{x}<br>Q_y=%{y} <b>(trend)</b><extra></extra>",
         "legendgroup": "",
         "marker": {
          "color": "#636efa",
          "symbol": "circle"
         },
         "mode": "lines",
         "name": "",
         "showlegend": false,
         "type": "scatter",
         "x": [
          -2.1353046284158346,
          -1.7540101162150163,
          -1.527496670219539,
          -1.359948140410081,
          -1.2237273032174234,
          -1.1070694628903044,
          -1.0038048672080377,
          -0.9102674907071854,
          -0.8240868004562736,
          -0.7436321948616521,
          -0.667727110604202,
          -0.595489101363644,
          -0.5262343894479194,
          -0.45941783418576615,
          -0.3945934820453098,
          -0.33138763259250686,
          -0.26947979801752303,
          -0.20858878396464725,
          -0.148462158735626,
          -0.08886798295158897,
          -0.029588032793860894,
          0.029588032793860894,
          0.08886798295158911,
          0.148462158735626,
          0.2085887839646474,
          0.26947979801752303,
          0.33138763259250686,
          0.3945934820453096,
          0.45941783418576615,
          0.5262343894479193,
          0.5954891013636436,
          0.6677271106042019,
          0.7436321948616517,
          0.8240868004562732,
          0.9102674907071853,
          1.003804867208037,
          1.107069462890304,
          1.223727303217423,
          1.35994814041008,
          1.5274966702195378,
          1.754010116215015,
          2.1353046284158346
         ],
         "xaxis": "x7",
         "y": [
          -70.36518919813165,
          -11.28790308165162,
          23.80780176095257,
          49.767557585436435,
          70.87344061377289,
          88.94825782254011,
          104.9479427632215,
          119.44050475219501,
          132.79323114283181,
          145.2587652693726,
          157.01940235404993,
          168.2118675058739,
          178.94210436961566,
          189.29457634660773,
          199.33837890912721,
          209.13141272649247,
          218.7233337717967,
          228.15770994039403,
          237.47365267812333,
          246.70709837695657,
          255.89185835743672,
          265.060522594944,
          274.2452825754242,
          283.4787282742574,
          292.79467101198674,
          302.2290471805841,
          311.8209682258883,
          321.6140020432535,
          331.657804605773,
          342.0102765827651,
          352.7405134465068,
          363.9329785983308,
          375.6936156830081,
          388.15914980954886,
          401.5118762001857,
          416.00443818915915,
          432.00412312984054,
          450.07894033860777,
          471.1848233669441,
          497.14457919142797,
          532.2402840340321,
          591.3175701505124
         ],
         "yaxis": "y7"
        },
        {
         "hovertemplate": "sample=1<br>Q_x=%{x}<br>Q_y=%{y}<extra></extra>",
         "legendgroup": "",
         "marker": {
          "color": "#636efa",
          "symbol": "circle"
         },
         "mode": "markers",
         "name": "",
         "orientation": "v",
         "showlegend": false,
         "type": "scatter",
         "x": [
          -2.1353046284158346,
          -1.7540101162150163,
          -1.527496670219539,
          -1.359948140410081,
          -1.2237273032174234,
          -1.1070694628903044,
          -1.0038048672080377,
          -0.9102674907071854,
          -0.8240868004562736,
          -0.7436321948616521,
          -0.667727110604202,
          -0.595489101363644,
          -0.5262343894479194,
          -0.45941783418576615,
          -0.3945934820453098,
          -0.33138763259250686,
          -0.26947979801752303,
          -0.20858878396464725,
          -0.148462158735626,
          -0.08886798295158897,
          -0.029588032793860894,
          0.029588032793860894,
          0.08886798295158911,
          0.148462158735626,
          0.2085887839646474,
          0.26947979801752303,
          0.33138763259250686,
          0.3945934820453096,
          0.45941783418576615,
          0.5262343894479193,
          0.5954891013636436,
          0.6677271106042019,
          0.7436321948616517,
          0.8240868004562732,
          0.9102674907071853,
          1.003804867208037,
          1.107069462890304,
          1.223727303217423,
          1.35994814041008,
          1.5274966702195378,
          1.754010116215015,
          2.1353046284158346
         ],
         "xaxis": "x8",
         "y": [
          -73.51261872326546,
          -45.51415620030622,
          19.14957212302849,
          36.343121860817206,
          40.052880617631274,
          85.7420556428608,
          110.52012944134037,
          121.77328108556435,
          123.87129490599,
          133.38098999696933,
          148.86409002848316,
          151.40275859918108,
          158.5251629842731,
          158.73541952834756,
          181.9201451157113,
          207.37517559992085,
          210.6823111198458,
          213.23269887314166,
          271.32855693910415,
          273.32943245991925,
          280.78121805863174,
          291.08160398005475,
          295.4351928223468,
          306.91559438699056,
          312.66682158073627,
          315.1784488199558,
          326.53817000203503,
          332.10711510340144,
          338.36143048026133,
          344.1353195404302,
          348.172943119253,
          350.5866590479169,
          363.7498553937218,
          382.7455759266651,
          398.27655862936683,
          399.421144763496,
          407.7135630866127,
          437.3198192587248,
          450.072555333787,
          497.0397809793766,
          589.5666616951653,
          633.229850788922
         ],
         "yaxis": "y8"
        },
        {
         "hovertemplate": "<b>OLS trendline</b><br>Q_y = 162.39 * Q_x + 260.198<br>R<sup>2</sup>=0.985741<br><br>sample=1<br>Q_x=%{x}<br>Q_y=%{y} <b>(trend)</b><extra></extra>",
         "legendgroup": "",
         "marker": {
          "color": "#636efa",
          "symbol": "circle"
         },
         "mode": "lines",
         "name": "",
         "showlegend": false,
         "type": "scatter",
         "x": [
          -2.1353046284158346,
          -1.7540101162150163,
          -1.527496670219539,
          -1.359948140410081,
          -1.2237273032174234,
          -1.1070694628903044,
          -1.0038048672080377,
          -0.9102674907071854,
          -0.8240868004562736,
          -0.7436321948616521,
          -0.667727110604202,
          -0.595489101363644,
          -0.5262343894479194,
          -0.45941783418576615,
          -0.3945934820453098,
          -0.33138763259250686,
          -0.26947979801752303,
          -0.20858878396464725,
          -0.148462158735626,
          -0.08886798295158897,
          -0.029588032793860894,
          0.029588032793860894,
          0.08886798295158911,
          0.148462158735626,
          0.2085887839646474,
          0.26947979801752303,
          0.33138763259250686,
          0.3945934820453096,
          0.45941783418576615,
          0.5262343894479193,
          0.5954891013636436,
          0.6677271106042019,
          0.7436321948616517,
          0.8240868004562732,
          0.9102674907071853,
          1.003804867208037,
          1.107069462890304,
          1.223727303217423,
          1.35994814041008,
          1.5274966702195378,
          1.754010116215015,
          2.1353046284158346
         ],
         "xaxis": "x8",
         "y": [
          -86.55491091743659,
          -24.6364293440152,
          12.147128203270796,
          39.355362845254945,
          61.47628808214196,
          80.4203748852731,
          97.18953038146259,
          112.37908107775968,
          126.37397822559848,
          139.4390154988959,
          151.76525521788926,
          163.49599799266696,
          174.74228260052917,
          185.59263452906723,
          196.11947224920686,
          206.38348103886034,
          216.4367049687203,
          226.32480723869008,
          236.08878027576958,
          245.76628875568105,
          255.3927700819621,
          265.0023815750096,
          274.6288629012907,
          284.30637138120215,
          294.07034441828165,
          303.9584466882514,
          314.0116706181114,
          324.2756794077648,
          334.8025171279045,
          345.65286905644257,
          356.8991536643047,
          368.6298964390825,
          380.95613615807576,
          394.0211734313732,
          408.01607057921206,
          423.2056212755091,
          439.97477677169854,
          458.91886357482974,
          481.0397888117166,
          508.24802345370074,
          545.0315810009868,
          606.9500625744083
         ],
         "yaxis": "y8"
        },
        {
         "hovertemplate": "sample=2<br>Q_x=%{x}<br>Q_y=%{y}<extra></extra>",
         "legendgroup": "",
         "marker": {
          "color": "#636efa",
          "symbol": "circle"
         },
         "mode": "markers",
         "name": "",
         "orientation": "v",
         "showlegend": false,
         "type": "scatter",
         "x": [
          -2.1353046284158346,
          -1.7540101162150163,
          -1.527496670219539,
          -1.359948140410081,
          -1.2237273032174234,
          -1.1070694628903044,
          -1.0038048672080377,
          -0.9102674907071854,
          -0.8240868004562736,
          -0.7436321948616521,
          -0.667727110604202,
          -0.595489101363644,
          -0.5262343894479194,
          -0.45941783418576615,
          -0.3945934820453098,
          -0.33138763259250686,
          -0.26947979801752303,
          -0.20858878396464725,
          -0.148462158735626,
          -0.08886798295158897,
          -0.029588032793860894,
          0.029588032793860894,
          0.08886798295158911,
          0.148462158735626,
          0.2085887839646474,
          0.26947979801752303,
          0.33138763259250686,
          0.3945934820453096,
          0.45941783418576615,
          0.5262343894479193,
          0.5954891013636436,
          0.6677271106042019,
          0.7436321948616517,
          0.8240868004562732,
          0.9102674907071853,
          1.003804867208037,
          1.107069462890304,
          1.223727303217423,
          1.35994814041008,
          1.5274966702195378,
          1.754010116215015,
          2.1353046284158346
         ],
         "xaxis": "x9",
         "y": [
          -58.64367841366192,
          2.7450255930941125,
          9.841129030305353,
          62.29932805017876,
          123.17601999998897,
          153.69739950630097,
          156.32689000536803,
          156.64531903012767,
          167.67941474344804,
          179.18137965959608,
          193.51044719986953,
          208.0288351555077,
          212.76538651103343,
          220.62355611477173,
          224.89619400033268,
          242.79014817192498,
          242.8210399061478,
          243.08789030245293,
          256.7682882613462,
          266.10898153862865,
          274.5484480293889,
          287.59551005824466,
          293.3559685271973,
          293.69913952949753,
          296.3190153590412,
          299.47909825165345,
          303.15169950970187,
          308.6565269874498,
          312.2274610199289,
          328.757540944481,
          338.3482258677153,
          345.9008818367879,
          351.4538514773737,
          356.75159690486606,
          380.2766682758552,
          390.493180693752,
          413.35941017479536,
          465.1618021783312,
          499.64163984915746,
          530.2680868759119,
          549.7486792938014,
          641.8044685074676
         ],
         "yaxis": "y9"
        },
        {
         "hovertemplate": "<b>OLS trendline</b><br>Q_y = 146.121 * Q_x + 274.413<br>R<sup>2</sup>=0.974114<br><br>sample=2<br>Q_x=%{x}<br>Q_y=%{y} <b>(trend)</b><extra></extra>",
         "legendgroup": "",
         "marker": {
          "color": "#636efa",
          "symbol": "circle"
         },
         "mode": "lines",
         "name": "",
         "showlegend": false,
         "type": "scatter",
         "x": [
          -2.1353046284158346,
          -1.7540101162150163,
          -1.527496670219539,
          -1.359948140410081,
          -1.2237273032174234,
          -1.1070694628903044,
          -1.0038048672080377,
          -0.9102674907071854,
          -0.8240868004562736,
          -0.7436321948616521,
          -0.667727110604202,
          -0.595489101363644,
          -0.5262343894479194,
          -0.45941783418576615,
          -0.3945934820453098,
          -0.33138763259250686,
          -0.26947979801752303,
          -0.20858878396464725,
          -0.148462158735626,
          -0.08886798295158897,
          -0.029588032793860894,
          0.029588032793860894,
          0.08886798295158911,
          0.148462158735626,
          0.2085887839646474,
          0.26947979801752303,
          0.33138763259250686,
          0.3945934820453096,
          0.45941783418576615,
          0.5262343894479193,
          0.5954891013636436,
          0.6677271106042019,
          0.7436321948616517,
          0.8240868004562732,
          0.9102674907071853,
          1.003804867208037,
          1.107069462890304,
          1.223727303217423,
          1.35994814041008,
          1.5274966702195378,
          1.754010116215015,
          2.1353046284158346
         ],
         "xaxis": "x9",
         "y": [
          -37.60039076987641,
          18.114849692682526,
          51.213283338625246,
          75.69568822192883,
          95.60045070170659,
          112.64664312695987,
          127.73579756167211,
          141.40359832256308,
          153.99643070518596,
          165.7525602942314,
          176.84390802259122,
          187.39941807214188,
          197.51900491140285,
          207.282325190584,
          216.75454220857486,
          225.99026154945147,
          235.0363133007679,
          243.93378594044293,
          252.7195651102012,
          261.427542087921,
          270.0896040163309,
          278.73648619886706,
          287.39854812727697,
          296.10652510499676,
          304.892304274755,
          313.78977691443004,
          322.8358286657465,
          332.07154800662306,
          341.54376502461395,
          351.3070853037951,
          361.42667214305607,
          371.98218219260673,
          383.0735299209665,
          394.82965951001194,
          407.42249189263487,
          421.09029265352575,
          436.179447088238,
          453.2256395134913,
          473.13040199326895,
          497.61280687657256,
          530.7112405225153,
          586.4264809850744
         ],
         "yaxis": "y9"
        },
        {
         "hovertemplate": "sample=3<br>Q_x=%{x}<br>Q_y=%{y}<extra></extra>",
         "legendgroup": "",
         "marker": {
          "color": "#636efa",
          "symbol": "circle"
         },
         "mode": "markers",
         "name": "",
         "orientation": "v",
         "showlegend": false,
         "type": "scatter",
         "x": [
          -2.1353046284158346,
          -1.7540101162150163,
          -1.527496670219539,
          -1.359948140410081,
          -1.2237273032174234,
          -1.1070694628903044,
          -1.0038048672080377,
          -0.9102674907071854,
          -0.8240868004562736,
          -0.7436321948616521,
          -0.667727110604202,
          -0.595489101363644,
          -0.5262343894479194,
          -0.45941783418576615,
          -0.3945934820453098,
          -0.33138763259250686,
          -0.26947979801752303,
          -0.20858878396464725,
          -0.148462158735626,
          -0.08886798295158897,
          -0.029588032793860894,
          0.029588032793860894,
          0.08886798295158911,
          0.148462158735626,
          0.2085887839646474,
          0.26947979801752303,
          0.33138763259250686,
          0.3945934820453096,
          0.45941783418576615,
          0.5262343894479193,
          0.5954891013636436,
          0.6677271106042019,
          0.7436321948616517,
          0.8240868004562732,
          0.9102674907071853,
          1.003804867208037,
          1.107069462890304,
          1.223727303217423,
          1.35994814041008,
          1.5274966702195378,
          1.754010116215015,
          2.1353046284158346
         ],
         "xaxis": "x4",
         "y": [
          -28.416792246072646,
          43.14688816113912,
          51.23778815505588,
          78.34324986063729,
          116.54064908521335,
          125.64621389111616,
          128.95400333768671,
          130.87441942738369,
          136.17178232653936,
          151.18933114847283,
          167.5607023442172,
          171.3972537805466,
          209.87583542321542,
          215.19624896185405,
          224.93849429092194,
          229.49070730012676,
          233.99856757434924,
          242.10168837634615,
          246.254459361937,
          248.22556642725553,
          251.01026530308152,
          257.5252649826073,
          270.30162289746966,
          279.47471612854196,
          289.4815122458923,
          291.20634364035027,
          299.09350099362695,
          309.4834574273628,
          335.036404041464,
          338.3256238967605,
          345.0358767654709,
          361.3016986511568,
          369.1628456009391,
          381.37267758269985,
          381.6243474410235,
          413.6868312238242,
          416.69795803666125,
          486.6473206426936,
          487.25176992565235,
          510.26707120439164,
          564.840828554373,
          586.9547312449132
         ],
         "yaxis": "y4"
        },
        {
         "hovertemplate": "<b>OLS trendline</b><br>Q_y = 144.577 * Q_x + 270.203<br>R<sup>2</sup>=0.987883<br><br>sample=3<br>Q_x=%{x}<br>Q_y=%{y} <b>(trend)</b><extra></extra>",
         "legendgroup": "",
         "marker": {
          "color": "#636efa",
          "symbol": "circle"
         },
         "mode": "lines",
         "name": "",
         "showlegend": false,
         "type": "scatter",
         "x": [
          -2.1353046284158346,
          -1.7540101162150163,
          -1.527496670219539,
          -1.359948140410081,
          -1.2237273032174234,
          -1.1070694628903044,
          -1.0038048672080377,
          -0.9102674907071854,
          -0.8240868004562736,
          -0.7436321948616521,
          -0.667727110604202,
          -0.595489101363644,
          -0.5262343894479194,
          -0.45941783418576615,
          -0.3945934820453098,
          -0.33138763259250686,
          -0.26947979801752303,
          -0.20858878396464725,
          -0.148462158735626,
          -0.08886798295158897,
          -0.029588032793860894,
          0.029588032793860894,
          0.08886798295158911,
          0.148462158735626,
          0.2085887839646474,
          0.26947979801752303,
          0.33138763259250686,
          0.3945934820453096,
          0.45941783418576615,
          0.5262343894479193,
          0.5954891013636436,
          0.6677271106042019,
          0.7436321948616517,
          0.8240868004562732,
          0.9102674907071853,
          1.003804867208037,
          1.107069462890304,
          1.223727303217423,
          1.35994814041008,
          1.5274966702195378,
          1.754010116215015,
          2.1353046284158346
         ],
         "xaxis": "x4",
         "y": [
          -38.513865054921496,
          16.61264811560963,
          49.361339912662146,
          73.5850461022221,
          93.2794805493846,
          110.1455506486354,
          125.07526222793524,
          138.59863917833684,
          151.05840663929678,
          162.69031251001618,
          173.66446108319258,
          184.10843402376096,
          194.1210900321244,
          203.78124404905049,
          213.153370811158,
          222.29149890065813,
          231.24196356472729,
          240.04541911088253,
          248.7383614206358,
          257.3543236522543,
          265.92485600598854,
          274.4803690139588,
          283.05090136769303,
          291.66686359931157,
          300.35980590906485,
          309.1632614552201,
          318.1137261192892,
          327.2518542087893,
          336.62398097089687,
          346.28413498782294,
          356.29679099618636,
          366.7407639367548,
          377.7149125099311,
          389.3468183806505,
          401.8065858416105,
          415.329962792012,
          430.2596743713119,
          447.1257444705627,
          466.8201789177251,
          491.04388510728506,
          523.7925769043375,
          578.9190900748688
         ],
         "yaxis": "y4"
        },
        {
         "hovertemplate": "sample=4<br>Q_x=%{x}<br>Q_y=%{y}<extra></extra>",
         "legendgroup": "",
         "marker": {
          "color": "#636efa",
          "symbol": "circle"
         },
         "mode": "markers",
         "name": "",
         "orientation": "v",
         "showlegend": false,
         "type": "scatter",
         "x": [
          -2.1353046284158346,
          -1.7540101162150163,
          -1.527496670219539,
          -1.359948140410081,
          -1.2237273032174234,
          -1.1070694628903044,
          -1.0038048672080377,
          -0.9102674907071854,
          -0.8240868004562736,
          -0.7436321948616521,
          -0.667727110604202,
          -0.595489101363644,
          -0.5262343894479194,
          -0.45941783418576615,
          -0.3945934820453098,
          -0.33138763259250686,
          -0.26947979801752303,
          -0.20858878396464725,
          -0.148462158735626,
          -0.08886798295158897,
          -0.029588032793860894,
          0.029588032793860894,
          0.08886798295158911,
          0.148462158735626,
          0.2085887839646474,
          0.26947979801752303,
          0.33138763259250686,
          0.3945934820453096,
          0.45941783418576615,
          0.5262343894479193,
          0.5954891013636436,
          0.6677271106042019,
          0.7436321948616517,
          0.8240868004562732,
          0.9102674907071853,
          1.003804867208037,
          1.107069462890304,
          1.223727303217423,
          1.35994814041008,
          1.5274966702195378,
          1.754010116215015,
          2.1353046284158346
         ],
         "xaxis": "x5",
         "y": [
          -146.95112112825,
          -8.341214340054592,
          6.939852462361927,
          8.45933114027244,
          12.939901235447564,
          37.6932810553985,
          48.05309061201635,
          68.23504548782489,
          100.24455957597237,
          108.13510078929326,
          148.03619173656836,
          151.39076463757988,
          152.24666270905723,
          153.23949351852633,
          154.56309602034963,
          159.16001703493694,
          165.42337626026472,
          171.81549189774864,
          175.70358722724984,
          181.93518145084494,
          185.55560922585175,
          227.2249072379887,
          228.95127002851046,
          236.0437273530146,
          242.83833094745506,
          276.97090501994074,
          283.4844206007654,
          290.17069827504207,
          302.70487078191303,
          306.64508277228146,
          320.243060553216,
          341.6259604893086,
          352.9055764071476,
          359.91340780072653,
          383.4630534402053,
          392.6717765617846,
          423.2077022065596,
          443.69009261765757,
          507.31208122820846,
          522.1529110818631,
          582.8017691459182,
          615.8387059505225
         ],
         "yaxis": "y5"
        },
        {
         "hovertemplate": "<b>OLS trendline</b><br>Q_y = 172.117 * Q_x + 230.365<br>R<sup>2</sup>=0.982639<br><br>sample=4<br>Q_x=%{x}<br>Q_y=%{y} <b>(trend)</b><extra></extra>",
         "legendgroup": "",
         "marker": {
          "color": "#636efa",
          "symbol": "circle"
         },
         "mode": "lines",
         "name": "",
         "showlegend": false,
         "type": "scatter",
         "x": [
          -2.1353046284158346,
          -1.7540101162150163,
          -1.527496670219539,
          -1.359948140410081,
          -1.2237273032174234,
          -1.1070694628903044,
          -1.0038048672080377,
          -0.9102674907071854,
          -0.8240868004562736,
          -0.7436321948616521,
          -0.667727110604202,
          -0.595489101363644,
          -0.5262343894479194,
          -0.45941783418576615,
          -0.3945934820453098,
          -0.33138763259250686,
          -0.26947979801752303,
          -0.20858878396464725,
          -0.148462158735626,
          -0.08886798295158897,
          -0.029588032793860894,
          0.029588032793860894,
          0.08886798295158911,
          0.148462158735626,
          0.2085887839646474,
          0.26947979801752303,
          0.33138763259250686,
          0.3945934820453096,
          0.45941783418576615,
          0.5262343894479193,
          0.5954891013636436,
          0.6677271106042019,
          0.7436321948616517,
          0.8240868004562732,
          0.9102674907071853,
          1.003804867208037,
          1.107069462890304,
          1.223727303217423,
          1.35994814041008,
          1.5274966702195378,
          1.754010116215015,
          2.1353046284158346
         ],
         "xaxis": "x5",
         "y": [
          -137.15643885920508,
          -71.52927963931631,
          -32.54252921380373,
          -3.7046265138760646,
          19.741256617011288,
          39.820020974794716,
          57.59358404944052,
          73.69293010401756,
          88.52606748155668,
          102.37364997325206,
          115.43818379360548,
          127.87155270519645,
          139.79144627876838,
          151.291692336347,
          162.44904693526993,
          173.3278301669645,
          183.98320334073628,
          194.46356470561193,
          204.81236197647675,
          215.0695157975032,
          225.27258613568662,
          235.45777620285085,
          245.66084654103432,
          255.91800036206072,
          266.26679763292555,
          276.7471589978012,
          287.402532171573,
          298.2813154032675,
          309.43867000219046,
          320.9389160597691,
          332.85880963334097,
          345.29217854493197,
          358.3567123652854,
          372.2042948569807,
          387.0374322345199,
          403.1367782890968,
          420.9103413637427,
          440.98910572152613,
          464.4349888524133,
          493.272891552341,
          532.2596419778536,
          597.8868011977426
         ],
         "yaxis": "y5"
        },
        {
         "hovertemplate": "sample=5<br>Q_x=%{x}<br>Q_y=%{y}<extra></extra>",
         "legendgroup": "",
         "marker": {
          "color": "#636efa",
          "symbol": "circle"
         },
         "mode": "markers",
         "name": "",
         "orientation": "v",
         "showlegend": false,
         "type": "scatter",
         "x": [
          -2.1353046284158346,
          -1.7540101162150163,
          -1.527496670219539,
          -1.359948140410081,
          -1.2237273032174234,
          -1.1070694628903044,
          -1.0038048672080377,
          -0.9102674907071854,
          -0.8240868004562736,
          -0.7436321948616521,
          -0.667727110604202,
          -0.595489101363644,
          -0.5262343894479194,
          -0.45941783418576615,
          -0.3945934820453098,
          -0.33138763259250686,
          -0.26947979801752303,
          -0.20858878396464725,
          -0.148462158735626,
          -0.08886798295158897,
          -0.029588032793860894,
          0.029588032793860894,
          0.08886798295158911,
          0.148462158735626,
          0.2085887839646474,
          0.26947979801752303,
          0.33138763259250686,
          0.3945934820453096,
          0.45941783418576615,
          0.5262343894479193,
          0.5954891013636436,
          0.6677271106042019,
          0.7436321948616517,
          0.8240868004562732,
          0.9102674907071853,
          1.003804867208037,
          1.107069462890304,
          1.223727303217423,
          1.35994814041008,
          1.5274966702195378,
          1.754010116215015,
          2.1353046284158346
         ],
         "xaxis": "x6",
         "y": [
          -177.74940848298684,
          -61.002888716729956,
          -32.16896790847426,
          49.962819985894356,
          56.31555896546283,
          91.07095447178045,
          96.06047187888768,
          127.39327204682223,
          127.98078011402893,
          128.50351577931258,
          129.07192303553234,
          133.8780822851997,
          144.30771245431197,
          144.63585602277303,
          160.44305074554,
          164.06273259979002,
          164.80921589480715,
          169.18731724148762,
          178.03343565752465,
          179.30156414406702,
          194.93652311953252,
          196.65222695652778,
          202.11805186335152,
          204.42126201949446,
          205.82293342780554,
          217.9545723226193,
          218.2503746090075,
          221.52050782312716,
          227.81731651987178,
          233.7945778181247,
          240.0495897819528,
          242.22492026958935,
          262.21827197082683,
          305.90545131961943,
          312.1285374433787,
          357.8469302116261,
          443.21178489327906,
          470.176129559679,
          491.84215392210433,
          580.9519184860508,
          592.450449434302,
          605.4602524397815
         ],
         "yaxis": "y6"
        },
        {
         "hovertemplate": "<b>OLS trendline</b><br>Q_y = 161.136 * Q_x + 214.33<br>R<sup>2</sup>=0.912510<br><br>sample=5<br>Q_x=%{x}<br>Q_y=%{y} <b>(trend)</b><extra></extra>",
         "legendgroup": "",
         "marker": {
          "color": "#636efa",
          "symbol": "circle"
         },
         "mode": "lines",
         "name": "",
         "showlegend": false,
         "type": "scatter",
         "x": [
          -2.1353046284158346,
          -1.7540101162150163,
          -1.527496670219539,
          -1.359948140410081,
          -1.2237273032174234,
          -1.1070694628903044,
          -1.0038048672080377,
          -0.9102674907071854,
          -0.8240868004562736,
          -0.7436321948616521,
          -0.667727110604202,
          -0.595489101363644,
          -0.5262343894479194,
          -0.45941783418576615,
          -0.3945934820453098,
          -0.33138763259250686,
          -0.26947979801752303,
          -0.20858878396464725,
          -0.148462158735626,
          -0.08886798295158897,
          -0.029588032793860894,
          0.029588032793860894,
          0.08886798295158911,
          0.148462158735626,
          0.2085887839646474,
          0.26947979801752303,
          0.33138763259250686,
          0.3945934820453096,
          0.45941783418576615,
          0.5262343894479193,
          0.5954891013636436,
          0.6677271106042019,
          0.7436321948616517,
          0.8240868004562732,
          0.9102674907071853,
          1.003804867208037,
          1.107069462890304,
          1.223727303217423,
          1.35994814041008,
          1.5274966702195378,
          1.754010116215015,
          2.1353046284158346
         ],
         "xaxis": "x6",
         "y": [
          -129.74418497531937,
          -68.30399431743083,
          -31.804572313665602,
          -4.806508385275492,
          17.143543191354894,
          35.9412959050388,
          52.58091762502488,
          67.65313624333086,
          81.53992944547309,
          94.50404549977219,
          106.73507086062138,
          118.37519920883283,
          129.5346115997939,
          140.30114970367282,
          150.74667259304,
          160.93139678080576,
          170.90696432188997,
          180.71868568962498,
          190.40723666394595,
          200.0099909788115,
          209.5621123006172,
          219.09749410065334,
          228.64961542245908,
          238.25236973732459,
          247.9409207116456,
          257.75264207938056,
          267.7282096204648,
          277.9129338082305,
          288.3584566975977,
          299.12499480147665,
          310.28440719243764,
          321.9245355406491,
          334.1555609014983,
          347.1196769557974,
          361.00647015793965,
          376.07868877624554,
          392.71831049623165,
          411.51606320991556,
          433.46611478654586,
          460.46417871493594,
          496.9636007187012,
          558.4037913765899
         ],
         "yaxis": "y6"
        },
        {
         "hovertemplate": "sample=6<br>Q_x=%{x}<br>Q_y=%{y}<extra></extra>",
         "legendgroup": "",
         "marker": {
          "color": "#636efa",
          "symbol": "circle"
         },
         "mode": "markers",
         "name": "",
         "orientation": "v",
         "showlegend": false,
         "type": "scatter",
         "x": [
          -2.1353046284158346,
          -1.7540101162150163,
          -1.527496670219539,
          -1.359948140410081,
          -1.2237273032174234,
          -1.1070694628903044,
          -1.0038048672080377,
          -0.9102674907071854,
          -0.8240868004562736,
          -0.7436321948616521,
          -0.667727110604202,
          -0.595489101363644,
          -0.5262343894479194,
          -0.45941783418576615,
          -0.3945934820453098,
          -0.33138763259250686,
          -0.26947979801752303,
          -0.20858878396464725,
          -0.148462158735626,
          -0.08886798295158897,
          -0.029588032793860894,
          0.029588032793860894,
          0.08886798295158911,
          0.148462158735626,
          0.2085887839646474,
          0.26947979801752303,
          0.33138763259250686,
          0.3945934820453096,
          0.45941783418576615,
          0.5262343894479193,
          0.5954891013636436,
          0.6677271106042019,
          0.7436321948616517,
          0.8240868004562732,
          0.9102674907071853,
          1.003804867208037,
          1.107069462890304,
          1.223727303217423,
          1.35994814041008,
          1.5274966702195378,
          1.754010116215015,
          2.1353046284158346
         ],
         "xaxis": "x",
         "y": [
          7.2286621100724915,
          77.41333320815409,
          85.35257779950953,
          99.22204620720476,
          104.88090184251689,
          136.15758508288238,
          155.50253939935942,
          163.87167336306513,
          174.93563894606103,
          177.39262383009589,
          181.73575521960547,
          182.68362599770626,
          184.49137114103377,
          191.14928967425544,
          210.33505734637396,
          210.52132971346268,
          213.0286566736338,
          225.74211008831236,
          229.12759587848987,
          250.41425891972952,
          250.9091204426996,
          251.23858881010656,
          257.31648159269366,
          266.2580560164996,
          266.57313931900603,
          269.13343599313276,
          304.6456420856641,
          314.3358912231689,
          347.5825592171623,
          357.0965972863883,
          383.85146128277165,
          383.99979579927356,
          392.98097075841065,
          412.4473162300896,
          457.0979106173361,
          461.6952356973386,
          480.67081911821765,
          531.8531513515256,
          548.1205082061431,
          634.8684739451677,
          676.0650641545235,
          694.90633113373
         ],
         "yaxis": "y"
        },
        {
         "hovertemplate": "<b>OLS trendline</b><br>Q_y = 163.69 * Q_x + 290.591<br>R<sup>2</sup>=0.939313<br><br>sample=6<br>Q_x=%{x}<br>Q_y=%{y} <b>(trend)</b><extra></extra>",
         "legendgroup": "",
         "marker": {
          "color": "#636efa",
          "symbol": "circle"
         },
         "mode": "lines",
         "name": "",
         "showlegend": false,
         "type": "scatter",
         "x": [
          -2.1353046284158346,
          -1.7540101162150163,
          -1.527496670219539,
          -1.359948140410081,
          -1.2237273032174234,
          -1.1070694628903044,
          -1.0038048672080377,
          -0.9102674907071854,
          -0.8240868004562736,
          -0.7436321948616521,
          -0.667727110604202,
          -0.595489101363644,
          -0.5262343894479194,
          -0.45941783418576615,
          -0.3945934820453098,
          -0.33138763259250686,
          -0.26947979801752303,
          -0.20858878396464725,
          -0.148462158735626,
          -0.08886798295158897,
          -0.029588032793860894,
          0.029588032793860894,
          0.08886798295158911,
          0.148462158735626,
          0.2085887839646474,
          0.26947979801752303,
          0.33138763259250686,
          0.3945934820453096,
          0.45941783418576615,
          0.5262343894479193,
          0.5954891013636436,
          0.6677271106042019,
          0.7436321948616517,
          0.8240868004562732,
          0.9102674907071853,
          1.003804867208037,
          1.107069462890304,
          1.223727303217423,
          1.35994814041008,
          1.5274966702195378,
          1.754010116215015,
          2.1353046284158346
         ],
         "xaxis": "x",
         "y": [
          -58.93651816835393,
          3.477539427411159,
          40.555500982575126,
          67.9815017641065,
          90.27947591855232,
          109.37518522511479,
          126.27855575965287,
          141.5896788350519,
          155.69658673130368,
          168.86619244748186,
          181.29108750645074,
          193.1157194512425,
          204.45201577855397,
          215.38921050609378,
          226.00030171941734,
          236.34646040228557,
          246.48014716973924,
          256.44739069554987,
          266.2895114971906,
          276.0444757065838,
          285.7480043570824,
          295.43452815351617,
          305.13805680401475,
          314.893021013408,
          324.7351418150487,
          334.70238534085934,
          344.836072108313,
          355.18223079118115,
          365.7933220045048,
          376.7305167320446,
          388.066813059356,
          399.8914450041478,
          412.3163400631166,
          425.4859457792948,
          439.5928536755466,
          454.90397675094556,
          471.8073472854837,
          490.90305659204614,
          513.2010307464918,
          540.6270315280233,
          577.7049930831872,
          640.1190506789525
         ],
         "yaxis": "y"
        },
        {
         "hovertemplate": "sample=7<br>Q_x=%{x}<br>Q_y=%{y}<extra></extra>",
         "legendgroup": "",
         "marker": {
          "color": "#636efa",
          "symbol": "circle"
         },
         "mode": "markers",
         "name": "",
         "orientation": "v",
         "showlegend": false,
         "type": "scatter",
         "x": [
          -2.1353046284158346,
          -1.7540101162150163,
          -1.527496670219539,
          -1.359948140410081,
          -1.2237273032174234,
          -1.1070694628903044,
          -1.0038048672080377,
          -0.9102674907071854,
          -0.8240868004562736,
          -0.7436321948616521,
          -0.667727110604202,
          -0.595489101363644,
          -0.5262343894479194,
          -0.45941783418576615,
          -0.3945934820453098,
          -0.33138763259250686,
          -0.26947979801752303,
          -0.20858878396464725,
          -0.148462158735626,
          -0.08886798295158897,
          -0.029588032793860894,
          0.029588032793860894,
          0.08886798295158911,
          0.148462158735626,
          0.2085887839646474,
          0.26947979801752303,
          0.33138763259250686,
          0.3945934820453096,
          0.45941783418576615,
          0.5262343894479193,
          0.5954891013636436,
          0.6677271106042019,
          0.7436321948616517,
          0.8240868004562732,
          0.9102674907071853,
          1.003804867208037,
          1.107069462890304,
          1.223727303217423,
          1.35994814041008,
          1.5274966702195378,
          1.754010116215015,
          2.1353046284158346
         ],
         "xaxis": "x2",
         "y": [
          -87.83211456371117,
          0.5024401375519574,
          23.558511012952096,
          40.63100687131478,
          81.73367385026603,
          88.47661336728629,
          130.34912263032837,
          137.0461385939206,
          159.66504581891678,
          169.24705947424508,
          170.13203707462998,
          171.55476971135334,
          195.3487771082904,
          198.95647731215934,
          199.25640018176705,
          204.02932408923766,
          210.11687518601244,
          228.6567582875495,
          260.3509661570359,
          261.051933442268,
          264.1546199953023,
          268.56999393711806,
          273.45326157044195,
          274.6498056300229,
          275.38943313674673,
          291.19108169552976,
          302.0482401174023,
          306.1556507961691,
          317.0240795864144,
          322.38435414931814,
          324.0762859662053,
          331.7319489859883,
          332.47870845826554,
          341.48853239994276,
          355.77772623184876,
          366.6650506009138,
          373.8857115768179,
          379.86548612858485,
          398.14238670561235,
          548.9188312937138,
          696.8959058654582,
          772.9283652637841
         ],
         "yaxis": "y2"
        },
        {
         "hovertemplate": "<b>OLS trendline</b><br>Q_y = 159.647 * Q_x + 260.969<br>R<sup>2</sup>=0.914721<br><br>sample=7<br>Q_x=%{x}<br>Q_y=%{y} <b>(trend)</b><extra></extra>",
         "legendgroup": "",
         "marker": {
          "color": "#636efa",
          "symbol": "circle"
         },
         "mode": "lines",
         "name": "",
         "showlegend": false,
         "type": "scatter",
         "x": [
          -2.1353046284158346,
          -1.7540101162150163,
          -1.527496670219539,
          -1.359948140410081,
          -1.2237273032174234,
          -1.1070694628903044,
          -1.0038048672080377,
          -0.9102674907071854,
          -0.8240868004562736,
          -0.7436321948616521,
          -0.667727110604202,
          -0.595489101363644,
          -0.5262343894479194,
          -0.45941783418576615,
          -0.3945934820453098,
          -0.33138763259250686,
          -0.26947979801752303,
          -0.20858878396464725,
          -0.148462158735626,
          -0.08886798295158897,
          -0.029588032793860894,
          0.029588032793860894,
          0.08886798295158911,
          0.148462158735626,
          0.2085887839646474,
          0.26947979801752303,
          0.33138763259250686,
          0.3945934820453096,
          0.45941783418576615,
          0.5262343894479193,
          0.5954891013636436,
          0.6677271106042019,
          0.7436321948616517,
          0.8240868004562732,
          0.9102674907071853,
          1.003804867208037,
          1.107069462890304,
          1.223727303217423,
          1.35994814041008,
          1.5274966702195378,
          1.754010116215015,
          2.1353046284158346
         ],
         "xaxis": "x2",
         "y": [
          -79.92582370578401,
          -19.053286833501147,
          17.108912338580126,
          43.85753769868339,
          65.60478993927177,
          84.22886780959104,
          100.71475393469606,
          115.64771839599922,
          129.40620973828862,
          142.2505486650031,
          154.36857001701733,
          165.90115372952624,
          176.95746288104363,
          187.62452756130375,
          197.9735429277077,
          208.0641691450956,
          217.947571140832,
          227.66864075898638,
          237.26767797075686,
          246.7817112093903,
          256.2455792596676,
          265.6928624467596,
          275.1567304970369,
          284.6707637356703,
          294.2698009474408,
          303.9908705655952,
          313.87427256133157,
          323.96489877871943,
          334.3139141451234,
          344.98097882538354,
          356.03728797690087,
          367.5698716894098,
          379.687893041424,
          392.5322319681385,
          406.2907233104279,
          421.22368777173097,
          437.70957389683605,
          456.33365176715535,
          478.0809040077436,
          504.8295293678469,
          540.9917285399281,
          601.8642654122111
         ],
         "yaxis": "y2"
        },
        {
         "hovertemplate": "sample=8<br>Q_x=%{x}<br>Q_y=%{y}<extra></extra>",
         "legendgroup": "",
         "marker": {
          "color": "#636efa",
          "symbol": "circle"
         },
         "mode": "markers",
         "name": "",
         "orientation": "v",
         "showlegend": false,
         "type": "scatter",
         "x": [
          -2.1353046284158346,
          -1.7540101162150163,
          -1.527496670219539,
          -1.359948140410081,
          -1.2237273032174234,
          -1.1070694628903044,
          -1.0038048672080377,
          -0.9102674907071854,
          -0.8240868004562736,
          -0.7436321948616521,
          -0.667727110604202,
          -0.595489101363644,
          -0.5262343894479194,
          -0.45941783418576615,
          -0.3945934820453098,
          -0.33138763259250686,
          -0.26947979801752303,
          -0.20858878396464725,
          -0.148462158735626,
          -0.08886798295158897,
          -0.029588032793860894,
          0.029588032793860894,
          0.08886798295158911,
          0.148462158735626,
          0.2085887839646474,
          0.26947979801752303,
          0.33138763259250686,
          0.3945934820453096,
          0.45941783418576615,
          0.5262343894479193,
          0.5954891013636436,
          0.6677271106042019,
          0.7436321948616517,
          0.8240868004562732,
          0.9102674907071853,
          1.003804867208037,
          1.107069462890304,
          1.223727303217423,
          1.35994814041008,
          1.5274966702195378,
          1.754010116215015,
          2.1353046284158346
         ],
         "xaxis": "x3",
         "y": [
          42.6072027037047,
          80.20773870157521,
          87.38376240078648,
          91.39646135073326,
          97.53679845879986,
          110.66900687147412,
          118.10709047702892,
          120.9605084449328,
          127.70272238562794,
          128.3155960954472,
          136.98084947471955,
          139.78940277758,
          147.0634221263379,
          151.6139453574665,
          158.7318701992101,
          171.94667219586842,
          174.11051142712557,
          181.2506450790453,
          196.81833662492932,
          199.40269892663582,
          216.67242824504962,
          247.037998929897,
          275.5519625177791,
          279.3843766928572,
          292.484341961622,
          298.5567563700726,
          300.3751792634022,
          301.29844127166183,
          308.2046986194033,
          339.66022557780946,
          343.3673296289277,
          365.97323386121036,
          388.3496232778456,
          408.35731101744784,
          467.6356074329649,
          489.0714300669148,
          510.7769174463116,
          512.8438672400284,
          524.7106254002692,
          556.8886041297383,
          613.3124228175748,
          649.4333045282237
         ],
         "yaxis": "y3"
        },
        {
         "hovertemplate": "<b>OLS trendline</b><br>Q_y = 161.149 * Q_x + 270.299<br>R<sup>2</sup>=0.928109<br><br>sample=8<br>Q_x=%{x}<br>Q_y=%{y} <b>(trend)</b><extra></extra>",
         "legendgroup": "",
         "marker": {
          "color": "#636efa",
          "symbol": "circle"
         },
         "mode": "lines",
         "name": "",
         "showlegend": false,
         "type": "scatter",
         "x": [
          -2.1353046284158346,
          -1.7540101162150163,
          -1.527496670219539,
          -1.359948140410081,
          -1.2237273032174234,
          -1.1070694628903044,
          -1.0038048672080377,
          -0.9102674907071854,
          -0.8240868004562736,
          -0.7436321948616521,
          -0.667727110604202,
          -0.595489101363644,
          -0.5262343894479194,
          -0.45941783418576615,
          -0.3945934820453098,
          -0.33138763259250686,
          -0.26947979801752303,
          -0.20858878396464725,
          -0.148462158735626,
          -0.08886798295158897,
          -0.029588032793860894,
          0.029588032793860894,
          0.08886798295158911,
          0.148462158735626,
          0.2085887839646474,
          0.26947979801752303,
          0.33138763259250686,
          0.3945934820453096,
          0.45941783418576615,
          0.5262343894479193,
          0.5954891013636436,
          0.6677271106042019,
          0.7436321948616517,
          0.8240868004562732,
          0.9102674907071853,
          1.003804867208037,
          1.107069462890304,
          1.223727303217423,
          1.35994814041008,
          1.5274966702195378,
          1.754010116215015,
          2.1353046284158346
         ],
         "xaxis": "x3",
         "y": [
          -73.8041453164355,
          -12.358816491268783,
          24.143657914089005,
          51.14397965722816,
          73.0958668895679,
          91.89519163609972,
          108.53620490710358,
          123.60968399644139,
          137.49763853395166,
          150.46283876126824,
          162.69488698766546,
          174.3359887854374,
          185.496334424277,
          196.26377292044305,
          206.7101693559913,
          216.8957452796647,
          226.87214706514456,
          236.68468897502197,
          246.3740501908975,
          255.97760757224887,
          265.5305277261657,
          275.0667069584075,
          284.6196271123244,
          294.2231844936757,
          303.91254570955124,
          313.7250876194287,
          323.7014894049085,
          333.8870653285819,
          344.33346176413016,
          355.10090026029616,
          366.26124589913576,
          377.9023476969077,
          390.1343959233049,
          403.0995961506215,
          416.9875506881318,
          432.0610297774695,
          448.70204304847346,
          467.50136779500525,
          489.4532550273449,
          516.453576770484,
          552.9560511758418,
          614.4013800010086
         ],
         "yaxis": "y3"
        }
       ],
       "layout": {
        "annotations": [
         {
          "font": {},
          "showarrow": false,
          "text": "sample=6",
          "x": 0.15999999999999998,
          "xanchor": "center",
          "xref": "paper",
          "y": 0.2866666666666666,
          "yanchor": "bottom",
          "yref": "paper"
         },
         {
          "font": {},
          "showarrow": false,
          "text": "sample=7",
          "x": 0.49999999999999994,
          "xanchor": "center",
          "xref": "paper",
          "y": 0.2866666666666666,
          "yanchor": "bottom",
          "yref": "paper"
         },
         {
          "font": {},
          "showarrow": false,
          "text": "sample=8",
          "x": 0.8399999999999999,
          "xanchor": "center",
          "xref": "paper",
          "y": 0.2866666666666666,
          "yanchor": "bottom",
          "yref": "paper"
         },
         {
          "font": {},
          "showarrow": false,
          "text": "sample=3",
          "x": 0.15999999999999998,
          "xanchor": "center",
          "xref": "paper",
          "y": 0.6433333333333333,
          "yanchor": "bottom",
          "yref": "paper"
         },
         {
          "font": {},
          "showarrow": false,
          "text": "sample=4",
          "x": 0.49999999999999994,
          "xanchor": "center",
          "xref": "paper",
          "y": 0.6433333333333333,
          "yanchor": "bottom",
          "yref": "paper"
         },
         {
          "font": {},
          "showarrow": false,
          "text": "sample=5",
          "x": 0.8399999999999999,
          "xanchor": "center",
          "xref": "paper",
          "y": 0.6433333333333333,
          "yanchor": "bottom",
          "yref": "paper"
         },
         {
          "font": {},
          "showarrow": false,
          "text": "sample=data",
          "x": 0.15999999999999998,
          "xanchor": "center",
          "xref": "paper",
          "y": 0.9999999999999999,
          "yanchor": "bottom",
          "yref": "paper"
         },
         {
          "font": {},
          "showarrow": false,
          "text": "sample=1",
          "x": 0.49999999999999994,
          "xanchor": "center",
          "xref": "paper",
          "y": 0.9999999999999999,
          "yanchor": "bottom",
          "yref": "paper"
         },
         {
          "font": {},
          "showarrow": false,
          "text": "sample=2",
          "x": 0.8399999999999999,
          "xanchor": "center",
          "xref": "paper",
          "y": 0.9999999999999999,
          "yanchor": "bottom",
          "yref": "paper"
         }
        ],
        "height": 800,
        "legend": {
         "tracegroupgap": 0
        },
        "margin": {
         "t": 60
        },
        "template": {
         "data": {
          "bar": [
           {
            "error_x": {
             "color": "#2a3f5f"
            },
            "error_y": {
             "color": "#2a3f5f"
            },
            "marker": {
             "line": {
              "color": "#E5ECF6",
              "width": 0.5
             },
             "pattern": {
              "fillmode": "overlay",
              "size": 10,
              "solidity": 0.2
             }
            },
            "type": "bar"
           }
          ],
          "barpolar": [
           {
            "marker": {
             "line": {
              "color": "#E5ECF6",
              "width": 0.5
             },
             "pattern": {
              "fillmode": "overlay",
              "size": 10,
              "solidity": 0.2
             }
            },
            "type": "barpolar"
           }
          ],
          "carpet": [
           {
            "aaxis": {
             "endlinecolor": "#2a3f5f",
             "gridcolor": "white",
             "linecolor": "white",
             "minorgridcolor": "white",
             "startlinecolor": "#2a3f5f"
            },
            "baxis": {
             "endlinecolor": "#2a3f5f",
             "gridcolor": "white",
             "linecolor": "white",
             "minorgridcolor": "white",
             "startlinecolor": "#2a3f5f"
            },
            "type": "carpet"
           }
          ],
          "choropleth": [
           {
            "colorbar": {
             "outlinewidth": 0,
             "ticks": ""
            },
            "type": "choropleth"
           }
          ],
          "contour": [
           {
            "colorbar": {
             "outlinewidth": 0,
             "ticks": ""
            },
            "colorscale": [
             [
              0,
              "#0d0887"
             ],
             [
              0.1111111111111111,
              "#46039f"
             ],
             [
              0.2222222222222222,
              "#7201a8"
             ],
             [
              0.3333333333333333,
              "#9c179e"
             ],
             [
              0.4444444444444444,
              "#bd3786"
             ],
             [
              0.5555555555555556,
              "#d8576b"
             ],
             [
              0.6666666666666666,
              "#ed7953"
             ],
             [
              0.7777777777777778,
              "#fb9f3a"
             ],
             [
              0.8888888888888888,
              "#fdca26"
             ],
             [
              1,
              "#f0f921"
             ]
            ],
            "type": "contour"
           }
          ],
          "contourcarpet": [
           {
            "colorbar": {
             "outlinewidth": 0,
             "ticks": ""
            },
            "type": "contourcarpet"
           }
          ],
          "heatmap": [
           {
            "colorbar": {
             "outlinewidth": 0,
             "ticks": ""
            },
            "colorscale": [
             [
              0,
              "#0d0887"
             ],
             [
              0.1111111111111111,
              "#46039f"
             ],
             [
              0.2222222222222222,
              "#7201a8"
             ],
             [
              0.3333333333333333,
              "#9c179e"
             ],
             [
              0.4444444444444444,
              "#bd3786"
             ],
             [
              0.5555555555555556,
              "#d8576b"
             ],
             [
              0.6666666666666666,
              "#ed7953"
             ],
             [
              0.7777777777777778,
              "#fb9f3a"
             ],
             [
              0.8888888888888888,
              "#fdca26"
             ],
             [
              1,
              "#f0f921"
             ]
            ],
            "type": "heatmap"
           }
          ],
          "heatmapgl": [
           {
            "colorbar": {
             "outlinewidth": 0,
             "ticks": ""
            },
            "colorscale": [
             [
              0,
              "#0d0887"
             ],
             [
              0.1111111111111111,
              "#46039f"
             ],
             [
              0.2222222222222222,
              "#7201a8"
             ],
             [
              0.3333333333333333,
              "#9c179e"
             ],
             [
              0.4444444444444444,
              "#bd3786"
             ],
             [
              0.5555555555555556,
              "#d8576b"
             ],
             [
              0.6666666666666666,
              "#ed7953"
             ],
             [
              0.7777777777777778,
              "#fb9f3a"
             ],
             [
              0.8888888888888888,
              "#fdca26"
             ],
             [
              1,
              "#f0f921"
             ]
            ],
            "type": "heatmapgl"
           }
          ],
          "histogram": [
           {
            "marker": {
             "pattern": {
              "fillmode": "overlay",
              "size": 10,
              "solidity": 0.2
             }
            },
            "type": "histogram"
           }
          ],
          "histogram2d": [
           {
            "colorbar": {
             "outlinewidth": 0,
             "ticks": ""
            },
            "colorscale": [
             [
              0,
              "#0d0887"
             ],
             [
              0.1111111111111111,
              "#46039f"
             ],
             [
              0.2222222222222222,
              "#7201a8"
             ],
             [
              0.3333333333333333,
              "#9c179e"
             ],
             [
              0.4444444444444444,
              "#bd3786"
             ],
             [
              0.5555555555555556,
              "#d8576b"
             ],
             [
              0.6666666666666666,
              "#ed7953"
             ],
             [
              0.7777777777777778,
              "#fb9f3a"
             ],
             [
              0.8888888888888888,
              "#fdca26"
             ],
             [
              1,
              "#f0f921"
             ]
            ],
            "type": "histogram2d"
           }
          ],
          "histogram2dcontour": [
           {
            "colorbar": {
             "outlinewidth": 0,
             "ticks": ""
            },
            "colorscale": [
             [
              0,
              "#0d0887"
             ],
             [
              0.1111111111111111,
              "#46039f"
             ],
             [
              0.2222222222222222,
              "#7201a8"
             ],
             [
              0.3333333333333333,
              "#9c179e"
             ],
             [
              0.4444444444444444,
              "#bd3786"
             ],
             [
              0.5555555555555556,
              "#d8576b"
             ],
             [
              0.6666666666666666,
              "#ed7953"
             ],
             [
              0.7777777777777778,
              "#fb9f3a"
             ],
             [
              0.8888888888888888,
              "#fdca26"
             ],
             [
              1,
              "#f0f921"
             ]
            ],
            "type": "histogram2dcontour"
           }
          ],
          "mesh3d": [
           {
            "colorbar": {
             "outlinewidth": 0,
             "ticks": ""
            },
            "type": "mesh3d"
           }
          ],
          "parcoords": [
           {
            "line": {
             "colorbar": {
              "outlinewidth": 0,
              "ticks": ""
             }
            },
            "type": "parcoords"
           }
          ],
          "pie": [
           {
            "automargin": true,
            "type": "pie"
           }
          ],
          "scatter": [
           {
            "fillpattern": {
             "fillmode": "overlay",
             "size": 10,
             "solidity": 0.2
            },
            "type": "scatter"
           }
          ],
          "scatter3d": [
           {
            "line": {
             "colorbar": {
              "outlinewidth": 0,
              "ticks": ""
             }
            },
            "marker": {
             "colorbar": {
              "outlinewidth": 0,
              "ticks": ""
             }
            },
            "type": "scatter3d"
           }
          ],
          "scattercarpet": [
           {
            "marker": {
             "colorbar": {
              "outlinewidth": 0,
              "ticks": ""
             }
            },
            "type": "scattercarpet"
           }
          ],
          "scattergeo": [
           {
            "marker": {
             "colorbar": {
              "outlinewidth": 0,
              "ticks": ""
             }
            },
            "type": "scattergeo"
           }
          ],
          "scattergl": [
           {
            "marker": {
             "colorbar": {
              "outlinewidth": 0,
              "ticks": ""
             }
            },
            "type": "scattergl"
           }
          ],
          "scattermapbox": [
           {
            "marker": {
             "colorbar": {
              "outlinewidth": 0,
              "ticks": ""
             }
            },
            "type": "scattermapbox"
           }
          ],
          "scatterpolar": [
           {
            "marker": {
             "colorbar": {
              "outlinewidth": 0,
              "ticks": ""
             }
            },
            "type": "scatterpolar"
           }
          ],
          "scatterpolargl": [
           {
            "marker": {
             "colorbar": {
              "outlinewidth": 0,
              "ticks": ""
             }
            },
            "type": "scatterpolargl"
           }
          ],
          "scatterternary": [
           {
            "marker": {
             "colorbar": {
              "outlinewidth": 0,
              "ticks": ""
             }
            },
            "type": "scatterternary"
           }
          ],
          "surface": [
           {
            "colorbar": {
             "outlinewidth": 0,
             "ticks": ""
            },
            "colorscale": [
             [
              0,
              "#0d0887"
             ],
             [
              0.1111111111111111,
              "#46039f"
             ],
             [
              0.2222222222222222,
              "#7201a8"
             ],
             [
              0.3333333333333333,
              "#9c179e"
             ],
             [
              0.4444444444444444,
              "#bd3786"
             ],
             [
              0.5555555555555556,
              "#d8576b"
             ],
             [
              0.6666666666666666,
              "#ed7953"
             ],
             [
              0.7777777777777778,
              "#fb9f3a"
             ],
             [
              0.8888888888888888,
              "#fdca26"
             ],
             [
              1,
              "#f0f921"
             ]
            ],
            "type": "surface"
           }
          ],
          "table": [
           {
            "cells": {
             "fill": {
              "color": "#EBF0F8"
             },
             "line": {
              "color": "white"
             }
            },
            "header": {
             "fill": {
              "color": "#C8D4E3"
             },
             "line": {
              "color": "white"
             }
            },
            "type": "table"
           }
          ]
         },
         "layout": {
          "annotationdefaults": {
           "arrowcolor": "#2a3f5f",
           "arrowhead": 0,
           "arrowwidth": 1
          },
          "autotypenumbers": "strict",
          "coloraxis": {
           "colorbar": {
            "outlinewidth": 0,
            "ticks": ""
           }
          },
          "colorscale": {
           "diverging": [
            [
             0,
             "#8e0152"
            ],
            [
             0.1,
             "#c51b7d"
            ],
            [
             0.2,
             "#de77ae"
            ],
            [
             0.3,
             "#f1b6da"
            ],
            [
             0.4,
             "#fde0ef"
            ],
            [
             0.5,
             "#f7f7f7"
            ],
            [
             0.6,
             "#e6f5d0"
            ],
            [
             0.7,
             "#b8e186"
            ],
            [
             0.8,
             "#7fbc41"
            ],
            [
             0.9,
             "#4d9221"
            ],
            [
             1,
             "#276419"
            ]
           ],
           "sequential": [
            [
             0,
             "#0d0887"
            ],
            [
             0.1111111111111111,
             "#46039f"
            ],
            [
             0.2222222222222222,
             "#7201a8"
            ],
            [
             0.3333333333333333,
             "#9c179e"
            ],
            [
             0.4444444444444444,
             "#bd3786"
            ],
            [
             0.5555555555555556,
             "#d8576b"
            ],
            [
             0.6666666666666666,
             "#ed7953"
            ],
            [
             0.7777777777777778,
             "#fb9f3a"
            ],
            [
             0.8888888888888888,
             "#fdca26"
            ],
            [
             1,
             "#f0f921"
            ]
           ],
           "sequentialminus": [
            [
             0,
             "#0d0887"
            ],
            [
             0.1111111111111111,
             "#46039f"
            ],
            [
             0.2222222222222222,
             "#7201a8"
            ],
            [
             0.3333333333333333,
             "#9c179e"
            ],
            [
             0.4444444444444444,
             "#bd3786"
            ],
            [
             0.5555555555555556,
             "#d8576b"
            ],
            [
             0.6666666666666666,
             "#ed7953"
            ],
            [
             0.7777777777777778,
             "#fb9f3a"
            ],
            [
             0.8888888888888888,
             "#fdca26"
            ],
            [
             1,
             "#f0f921"
            ]
           ]
          },
          "colorway": [
           "#636efa",
           "#EF553B",
           "#00cc96",
           "#ab63fa",
           "#FFA15A",
           "#19d3f3",
           "#FF6692",
           "#B6E880",
           "#FF97FF",
           "#FECB52"
          ],
          "font": {
           "color": "#2a3f5f"
          },
          "geo": {
           "bgcolor": "white",
           "lakecolor": "white",
           "landcolor": "#E5ECF6",
           "showlakes": true,
           "showland": true,
           "subunitcolor": "white"
          },
          "hoverlabel": {
           "align": "left"
          },
          "hovermode": "closest",
          "mapbox": {
           "style": "light"
          },
          "paper_bgcolor": "white",
          "plot_bgcolor": "#E5ECF6",
          "polar": {
           "angularaxis": {
            "gridcolor": "white",
            "linecolor": "white",
            "ticks": ""
           },
           "bgcolor": "#E5ECF6",
           "radialaxis": {
            "gridcolor": "white",
            "linecolor": "white",
            "ticks": ""
           }
          },
          "scene": {
           "xaxis": {
            "backgroundcolor": "#E5ECF6",
            "gridcolor": "white",
            "gridwidth": 2,
            "linecolor": "white",
            "showbackground": true,
            "ticks": "",
            "zerolinecolor": "white"
           },
           "yaxis": {
            "backgroundcolor": "#E5ECF6",
            "gridcolor": "white",
            "gridwidth": 2,
            "linecolor": "white",
            "showbackground": true,
            "ticks": "",
            "zerolinecolor": "white"
           },
           "zaxis": {
            "backgroundcolor": "#E5ECF6",
            "gridcolor": "white",
            "gridwidth": 2,
            "linecolor": "white",
            "showbackground": true,
            "ticks": "",
            "zerolinecolor": "white"
           }
          },
          "shapedefaults": {
           "line": {
            "color": "#2a3f5f"
           }
          },
          "ternary": {
           "aaxis": {
            "gridcolor": "white",
            "linecolor": "white",
            "ticks": ""
           },
           "baxis": {
            "gridcolor": "white",
            "linecolor": "white",
            "ticks": ""
           },
           "bgcolor": "#E5ECF6",
           "caxis": {
            "gridcolor": "white",
            "linecolor": "white",
            "ticks": ""
           }
          },
          "title": {
           "x": 0.05
          },
          "xaxis": {
           "automargin": true,
           "gridcolor": "white",
           "linecolor": "white",
           "ticks": "",
           "title": {
            "standoff": 15
           },
           "zerolinecolor": "white",
           "zerolinewidth": 2
          },
          "yaxis": {
           "automargin": true,
           "gridcolor": "white",
           "linecolor": "white",
           "ticks": "",
           "title": {
            "standoff": 15
           },
           "zerolinecolor": "white",
           "zerolinewidth": 2
          }
         }
        },
        "width": 800,
        "xaxis": {
         "anchor": "y",
         "domain": [
          0,
          0.31999999999999995
         ],
         "title": {
          "text": "Q_x"
         }
        },
        "xaxis2": {
         "anchor": "y2",
         "domain": [
          0.33999999999999997,
          0.6599999999999999
         ],
         "matches": "x",
         "title": {
          "text": "Q_x"
         }
        },
        "xaxis3": {
         "anchor": "y3",
         "domain": [
          0.6799999999999999,
          0.9999999999999999
         ],
         "matches": "x",
         "title": {
          "text": "Q_x"
         }
        },
        "xaxis4": {
         "anchor": "y4",
         "domain": [
          0,
          0.31999999999999995
         ],
         "matches": "x",
         "showticklabels": false
        },
        "xaxis5": {
         "anchor": "y5",
         "domain": [
          0.33999999999999997,
          0.6599999999999999
         ],
         "matches": "x",
         "showticklabels": false
        },
        "xaxis6": {
         "anchor": "y6",
         "domain": [
          0.6799999999999999,
          0.9999999999999999
         ],
         "matches": "x",
         "showticklabels": false
        },
        "xaxis7": {
         "anchor": "y7",
         "domain": [
          0,
          0.31999999999999995
         ],
         "matches": "x",
         "showticklabels": false
        },
        "xaxis8": {
         "anchor": "y8",
         "domain": [
          0.33999999999999997,
          0.6599999999999999
         ],
         "matches": "x",
         "showticklabels": false
        },
        "xaxis9": {
         "anchor": "y9",
         "domain": [
          0.6799999999999999,
          0.9999999999999999
         ],
         "matches": "x",
         "showticklabels": false
        },
        "yaxis": {
         "anchor": "x",
         "domain": [
          0,
          0.2866666666666666
         ],
         "title": {
          "text": "Q_y"
         }
        },
        "yaxis2": {
         "anchor": "x2",
         "domain": [
          0,
          0.2866666666666666
         ],
         "matches": "y",
         "showticklabels": false
        },
        "yaxis3": {
         "anchor": "x3",
         "domain": [
          0,
          0.2866666666666666
         ],
         "matches": "y",
         "showticklabels": false
        },
        "yaxis4": {
         "anchor": "x4",
         "domain": [
          0.35666666666666663,
          0.6433333333333333
         ],
         "matches": "y",
         "title": {
          "text": "Q_y"
         }
        },
        "yaxis5": {
         "anchor": "x5",
         "domain": [
          0.35666666666666663,
          0.6433333333333333
         ],
         "matches": "y",
         "showticklabels": false
        },
        "yaxis6": {
         "anchor": "x6",
         "domain": [
          0.35666666666666663,
          0.6433333333333333
         ],
         "matches": "y",
         "showticklabels": false
        },
        "yaxis7": {
         "anchor": "x7",
         "domain": [
          0.7133333333333333,
          0.9999999999999999
         ],
         "matches": "y",
         "title": {
          "text": "Q_y"
         }
        },
        "yaxis8": {
         "anchor": "x8",
         "domain": [
          0.7133333333333333,
          0.9999999999999999
         ],
         "matches": "y",
         "showticklabels": false
        },
        "yaxis9": {
         "anchor": "x9",
         "domain": [
          0.7133333333333333,
          0.9999999999999999
         ],
         "matches": "y",
         "showticklabels": false
        }
       }
      }
     },
     "metadata": {},
     "output_type": "display_data"
    }
   ],
   "source": [
    "(Q_x, Q_y) = probplot(dairy_queen['cal_fat'], fit=False)\n",
    "\n",
    "sim_qq_data = [pd.DataFrame({\"Q_x\": Q_x, \"Q_y\": Q_y, \"sample\": \"data\"})]\n",
    "for i in range(8):\n",
    "    sim_norm = np.random.normal(size = len(dairy_queen['cal_fat']), loc = dqmean, scale = dqsd)\n",
    "    (Q_x, Q_y) = probplot(sim_norm, fit=False)\n",
    "    sim_qq_data.append( pd.DataFrame({\"Q_x\": Q_x, \"Q_y\": Q_y, \"sample\": str(i+1)}) )\n",
    "sim_qq_data = pd.concat(sim_qq_data)\n",
    "\n",
    "px.scatter(sim_qq_data, x=\"Q_x\", y=\"Q_y\", facet_col=\"sample\", facet_col_wrap=3, trendline=\"ols\", width=800, height=800)"
   ]
  },
  {
   "cell_type": "code",
   "execution_count": 24,
   "metadata": {},
   "outputs": [
    {
     "ename": "NameError",
     "evalue": "name 'fdims' is not defined",
     "output_type": "error",
     "traceback": [
      "\u001b[1;31m---------------------------------------------------------------------------\u001b[0m",
      "\u001b[1;31mNameError\u001b[0m                                 Traceback (most recent call last)",
      "\u001b[1;32mc:\\Users\\paulh\\Desktop\\4.semester\\Optimierungsverfahren_Tut\\Labs\\04 - Normalverteilung.ipynb Cell 31\u001b[0m in \u001b[0;36m<cell line: 4>\u001b[1;34m()\u001b[0m\n\u001b[0;32m      <a href='vscode-notebook-cell:/c%3A/Users/paulh/Desktop/4.semester/Optimierungsverfahren_Tut/Labs/04%20-%20Normalverteilung.ipynb#X40sZmlsZQ%3D%3D?line=2'>3</a>\u001b[0m sim_norm_8 \u001b[39m=\u001b[39m []\n\u001b[0;32m      <a href='vscode-notebook-cell:/c%3A/Users/paulh/Desktop/4.semester/Optimierungsverfahren_Tut/Labs/04%20-%20Normalverteilung.ipynb#X40sZmlsZQ%3D%3D?line=3'>4</a>\u001b[0m \u001b[39mfor\u001b[39;00m i \u001b[39min\u001b[39;00m \u001b[39mrange\u001b[39m(\u001b[39m8\u001b[39m):\n\u001b[1;32m----> <a href='vscode-notebook-cell:/c%3A/Users/paulh/Desktop/4.semester/Optimierungsverfahren_Tut/Labs/04%20-%20Normalverteilung.ipynb#X40sZmlsZQ%3D%3D?line=4'>5</a>\u001b[0m     sim_norm_8\u001b[39m.\u001b[39mappend(np\u001b[39m.\u001b[39mrandom\u001b[39m.\u001b[39mnormal(size \u001b[39m=\u001b[39m \u001b[39mlen\u001b[39m(fdims[\u001b[39m'\u001b[39m\u001b[39mhgt\u001b[39m\u001b[39m'\u001b[39m]), loc \u001b[39m=\u001b[39m fhgtmean, scale \u001b[39m=\u001b[39m fhgtsd))\n\u001b[0;32m      <a href='vscode-notebook-cell:/c%3A/Users/paulh/Desktop/4.semester/Optimierungsverfahren_Tut/Labs/04%20-%20Normalverteilung.ipynb#X40sZmlsZQ%3D%3D?line=6'>7</a>\u001b[0m \u001b[39m# compare the original plot to nine plots generated from a normal distribution.\u001b[39;00m\n\u001b[0;32m      <a href='vscode-notebook-cell:/c%3A/Users/paulh/Desktop/4.semester/Optimierungsverfahren_Tut/Labs/04%20-%20Normalverteilung.ipynb#X40sZmlsZQ%3D%3D?line=7'>8</a>\u001b[0m plt\u001b[39m.\u001b[39mrcParams[\u001b[39m'\u001b[39m\u001b[39mfigure.figsize\u001b[39m\u001b[39m'\u001b[39m] \u001b[39m=\u001b[39m (\u001b[39m15\u001b[39m, \u001b[39m15\u001b[39m)\n",
      "\u001b[1;31mNameError\u001b[0m: name 'fdims' is not defined"
     ]
    }
   ],
   "source": [
    "# draw random samples from a normal distribution eight times, \n",
    "# so we can construct eight different normal probability plots\n",
    "sim_norm_8 = []\n",
    "for i in range(8):\n",
    "    sim_norm_8.append(np.random.normal(size = len(fdims['hgt']), loc = fhgtmean, scale = fhgtsd))\n",
    "\n",
    "# compare the original plot to nine plots generated from a normal distribution.\n",
    "plt.rcParams['figure.figsize'] = (15, 15)\n",
    "plt.tight_layout(pad = 1) # adjust the subplots to fit in to the figure area.\n",
    "plt.subplots_adjust(hspace = 0.6, wspace = 0.6) # adjust the amount of width and height reserved for space between subplots.\n",
    "\n",
    "plt.subplot(3, 3, 1)\n",
    "probplot(fdims['hgt'], plot = plt)\n",
    "plt.title('Normal Q-Q Plot (Data)')\n",
    "\n",
    "plt.subplot(3, 3, 2)\n",
    "probplot(sim_norm_8[0], plot = plt)\n",
    "plt.title('Normal Q-Q Plot (Sim 1)')\n",
    "\n",
    "plt.subplot(3, 3, 3)\n",
    "probplot(sim_norm_8[1], plot = plt)\n",
    "plt.title('Normal Q-Q Plot (Sim 2)')\n",
    "\n",
    "plt.subplot(3, 3, 4)\n",
    "probplot(sim_norm_8[2], plot = plt)\n",
    "plt.title('Normal Q-Q Plot (Sim 3)')\n",
    "\n",
    "plt.subplot(3, 3, 5)\n",
    "probplot(sim_norm_8[3], plot = plt)\n",
    "plt.title('Normal Q-Q Plot (Sim 4)')\n",
    "\n",
    "plt.subplot(3, 3, 6)\n",
    "probplot(sim_norm_8[4], plot = plt)\n",
    "plt.title('Normal Q-Q Plot (Sim 5)')\n",
    "\n",
    "plt.subplot(3, 3, 7)\n",
    "probplot(sim_norm_8[5], plot = plt)\n",
    "plt.title('Normal Q-Q Plot (Sim 6)')\n",
    "\n",
    "plt.subplot(3, 3, 8)\n",
    "probplot(sim_norm_8[6], plot = plt)\n",
    "plt.title('Normal Q-Q Plot (Sim 7)')\n",
    "\n",
    "plt.subplot(3, 3, 9)\n",
    "probplot(sim_norm_8[7], plot = plt)\n",
    "plt.title('Normal Q-Q Plot (Sim 8)')\n",
    "\n",
    "plt.show();"
   ]
  },
  {
   "cell_type": "markdown",
   "metadata": {},
   "source": [
    "### ✏️ Aufgabe 4\n",
    "Sieht der Q-Q-Plot für `dairy_queen['cal_fat']` ähnlich aus wie die Darstellungen für die simulierten Daten? Das heißt, liefern die Diagramme Hinweise darauf, dass `dairy_queen['cal_fat']` nahezu normalverteilt ist?"
   ]
  },
  {
   "attachments": {},
   "cell_type": "markdown",
   "metadata": {},
   "source": [
    "Idk sieht änhlich aus aber weiß nicht ob eine reine Beobachtung ausreichend ist"
   ]
  },
  {
   "cell_type": "markdown",
   "metadata": {},
   "source": [
    "### ✏️ Aufgabe 5\n",
    "Bestimmen Sie mit der gleichen Technik, ob die Kalorien aus dem McDonald's-Menü (Spalte `calories`) einer Normalverteilung zu entstammen scheinen oder nicht."
   ]
  },
  {
   "cell_type": "markdown",
   "metadata": {},
   "source": [
    "## Wahrscheinlichkeiten von Normalverteilungen"
   ]
  },
  {
   "cell_type": "markdown",
   "metadata": {},
   "source": [
    "Sie haben nun einige Werkzeuge, um zu beurteilen, ob eine Variable normalverteilt ist oder nicht. Warum sollte uns das interessieren?\n",
    "\n",
    "Es stellt sich heraus, dass Statistiker viel über die Normalverteilung wissen. Sobald man feststellt, dass eine Zufallsvariable annähernd normalverteilt ist, kann man alle möglichen Fragen zu dieser Variablen im Zusammenhang mit der Wahrscheinlichkeit beantworten. Nehmen wir zum Beispiel die Frage: \"Wie groß ist die Wahrscheinlichkeit, dass ein zufällig ausgewähltes Produkt von Dairy Queen mehr als 600 Kalorien aus Fett hat?\"\n",
    "\n",
    "Wenn wir davon ausgehen, dass die Kalorien aus Fett auf der Speisekarte von Dairy Queen normalverteilt sind (eine sehr genaue Annäherung ist auch in Ordnung), können wir diese Wahrscheinlichkeit durch Berechnung eines Z-Scores und Konsultation einer Z-Tabelle (auch *Normalwahrscheinlichkeitstabelle* genannt) ermitteln. In Python wird dies in einem Schritt mit der Funktion `norm.cdf()` aus `scipy.stats` durchgeführt."
   ]
  },
  {
   "cell_type": "code",
   "execution_count": null,
   "metadata": {},
   "outputs": [],
   "source": [
    "from scipy.stats import norm\n",
    "\n",
    "prob_using_Z = 1 - norm.cdf(182, loc = fhgtmean, scale = fhgtsd)\n",
    "round(prob_using_Z, 4)"
   ]
  },
  {
   "cell_type": "markdown",
   "metadata": {},
   "source": [
    "Die Funktion `norm.cdf()` gibt die Fläche unter der Normalkurve *unterhalb* eines bestimmten Wertes q mit einem bestimmten Mittelwert und einer bestimmten Standardabweichung an. Da wir uns für die Wahrscheinlichkeit interessieren, dass ein Dairy-Queen-Artikel *mehr* als 500 Kalorien aus Fett hat, müssen wir 1 minus diese Wahrscheinlichkeit nehmen."
   ]
  },
  {
   "cell_type": "code",
   "execution_count": 122,
   "metadata": {},
   "outputs": [
    {
     "data": {
      "text/plain": [
       "0.0629"
      ]
     },
     "execution_count": 122,
     "metadata": {},
     "output_type": "execute_result"
    }
   ],
   "source": [
    "from scipy.stats import norm\n",
    "\n",
    "prob_theoretical = 1 - norm.cdf(500, loc = dqmean, scale = dqsd)\n",
    "round(prob_theoretical, 4)"
   ]
  },
  {
   "cell_type": "markdown",
   "metadata": {},
   "source": [
    "Unter der Annahme einer Normalverteilung konnten wir eine theoretische Wahrscheinlichkeit berechnen. Wenn wir die Wahrscheinlichkeit empirisch berechnen wollen, müssen wir lediglich feststellen, wie viele Beobachtungen über 600 liegen, und diese Zahl durch den Gesamtumfang der Stichprobe teilen."
   ]
  },
  {
   "cell_type": "code",
   "execution_count": 123,
   "metadata": {},
   "outputs": [
    {
     "data": {
      "text/plain": [
       "0.0714"
      ]
     },
     "execution_count": 123,
     "metadata": {},
     "output_type": "execute_result"
    }
   ],
   "source": [
    "prob_empirical = (sum(dairy_queen['cal_fat'] > 500) / len(dairy_queen['cal_fat']))\n",
    "round(prob_empirical, 4)"
   ]
  },
  {
   "cell_type": "markdown",
   "metadata": {},
   "source": [
    "Obwohl die Wahrscheinlichkeiten nicht genau gleich sind, liegen sie recht nahe beieinander. Je näher Ihre Verteilung an der Normalverteilung liegt, desto genauer sind die theoretischen Wahrscheinlichkeiten."
   ]
  },
  {
   "cell_type": "markdown",
   "metadata": {},
   "source": [
    "### ✏️ Aufgabe 6\n",
    "Formulieren Sie zwei Wahrscheinlichkeitsfragen, die Sie für eines der Restaurants in diesem Datensatz beantworten möchten. Berechnen Sie diese Wahrscheinlichkeiten sowohl mit der theoretischen Normalverteilung als auch mit der empirischen Verteilung (insgesamt vier Wahrscheinlichkeiten). Bei welcher der beiden Fragen war die Übereinstimmung größer?"
   ]
  },
  {
   "cell_type": "markdown",
   "metadata": {},
   "source": [
    "---\n",
    "\n",
    "Diese Übung ist eine deutsche Übersetzung der Übungen aus OpenIntro Statistics von Andrew Bray und Mine Çetinkaya-Rundel (https://www.openintro.org/book/os/). Die Python Adaption wurde teilweise von David Akman und Imran Ture (www.featureranking.com) übernommen."
   ]
  }
 ],
 "metadata": {
  "kernelspec": {
   "display_name": "Python 3 (ipykernel)",
   "language": "python",
   "name": "python3"
  },
  "language_info": {
   "codemirror_mode": {
    "name": "ipython",
    "version": 3
   },
   "file_extension": ".py",
   "mimetype": "text/x-python",
   "name": "python",
   "nbconvert_exporter": "python",
   "pygments_lexer": "ipython3",
   "version": "3.10.10"
  }
 },
 "nbformat": 4,
 "nbformat_minor": 4
}
