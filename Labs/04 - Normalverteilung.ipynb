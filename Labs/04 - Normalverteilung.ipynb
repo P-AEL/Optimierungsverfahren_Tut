{
 "cells": [
  {
   "attachments": {},
   "cell_type": "markdown",
   "metadata": {},
   "source": [
    "# Die Normalverteilung"
   ]
  },
  {
   "attachments": {},
   "cell_type": "markdown",
   "metadata": {},
   "source": [
    "In dieser Übung werden wir die wichtigste Wahrscheinlichkeitsverteilung untersuchen: die Normalverteilung. Wenn wir sicher sind, dass unsere Daten annähernd normal sind, können wir viele leistungsstarke statistischen Methoden einsetzen, die es uns erlauben Schlüsse über die Daten hinaus zu ziehen. Hier werden wir grafische Werkzeuge verwenden, um die Normalität eines Datensatzes zu beurteilen und lernen, wie man Zufallszahlen aus einer Normalverteilung erzeugt."
   ]
  },
  {
   "attachments": {},
   "cell_type": "markdown",
   "metadata": {},
   "source": [
    "## Die Daten"
   ]
  },
  {
   "attachments": {},
   "cell_type": "markdown",
   "metadata": {},
   "source": [
    "In dieser Übung werden Sie mit Fast-Food-Daten arbeiten. Der Datensatz enthält Daten zu 515 Produkten von einigen der beliebtesten Fast-Food-Restaurants weltweit. Werfen wir einen kurzen Blick auf die ersten paar Zeilen der Daten."
   ]
  },
  {
   "cell_type": "code",
   "execution_count": 1,
   "metadata": {},
   "outputs": [
    {
     "data": {
      "text/html": [
       "<div>\n",
       "<style scoped>\n",
       "    .dataframe tbody tr th:only-of-type {\n",
       "        vertical-align: middle;\n",
       "    }\n",
       "\n",
       "    .dataframe tbody tr th {\n",
       "        vertical-align: top;\n",
       "    }\n",
       "\n",
       "    .dataframe thead th {\n",
       "        text-align: right;\n",
       "    }\n",
       "</style>\n",
       "<table border=\"1\" class=\"dataframe\">\n",
       "  <thead>\n",
       "    <tr style=\"text-align: right;\">\n",
       "      <th></th>\n",
       "      <th>restaurant</th>\n",
       "      <th>item</th>\n",
       "      <th>calories</th>\n",
       "      <th>cal_fat</th>\n",
       "      <th>total_fat</th>\n",
       "      <th>sat_fat</th>\n",
       "      <th>trans_fat</th>\n",
       "      <th>cholesterol</th>\n",
       "      <th>sodium</th>\n",
       "      <th>total_carb</th>\n",
       "      <th>fiber</th>\n",
       "      <th>sugar</th>\n",
       "      <th>protein</th>\n",
       "      <th>vit_a</th>\n",
       "      <th>vit_c</th>\n",
       "      <th>calcium</th>\n",
       "      <th>salad</th>\n",
       "    </tr>\n",
       "  </thead>\n",
       "  <tbody>\n",
       "    <tr>\n",
       "      <th>0</th>\n",
       "      <td>Mcdonalds</td>\n",
       "      <td>Artisan Grilled Chicken Sandwich</td>\n",
       "      <td>380</td>\n",
       "      <td>60</td>\n",
       "      <td>7</td>\n",
       "      <td>2.0</td>\n",
       "      <td>0.0</td>\n",
       "      <td>95</td>\n",
       "      <td>1110</td>\n",
       "      <td>44</td>\n",
       "      <td>3.0</td>\n",
       "      <td>11</td>\n",
       "      <td>37.0</td>\n",
       "      <td>4.0</td>\n",
       "      <td>20.0</td>\n",
       "      <td>20.0</td>\n",
       "      <td>Other</td>\n",
       "    </tr>\n",
       "    <tr>\n",
       "      <th>1</th>\n",
       "      <td>Mcdonalds</td>\n",
       "      <td>Single Bacon Smokehouse Burger</td>\n",
       "      <td>840</td>\n",
       "      <td>410</td>\n",
       "      <td>45</td>\n",
       "      <td>17.0</td>\n",
       "      <td>1.5</td>\n",
       "      <td>130</td>\n",
       "      <td>1580</td>\n",
       "      <td>62</td>\n",
       "      <td>2.0</td>\n",
       "      <td>18</td>\n",
       "      <td>46.0</td>\n",
       "      <td>6.0</td>\n",
       "      <td>20.0</td>\n",
       "      <td>20.0</td>\n",
       "      <td>Other</td>\n",
       "    </tr>\n",
       "    <tr>\n",
       "      <th>2</th>\n",
       "      <td>Mcdonalds</td>\n",
       "      <td>Double Bacon Smokehouse Burger</td>\n",
       "      <td>1130</td>\n",
       "      <td>600</td>\n",
       "      <td>67</td>\n",
       "      <td>27.0</td>\n",
       "      <td>3.0</td>\n",
       "      <td>220</td>\n",
       "      <td>1920</td>\n",
       "      <td>63</td>\n",
       "      <td>3.0</td>\n",
       "      <td>18</td>\n",
       "      <td>70.0</td>\n",
       "      <td>10.0</td>\n",
       "      <td>20.0</td>\n",
       "      <td>50.0</td>\n",
       "      <td>Other</td>\n",
       "    </tr>\n",
       "    <tr>\n",
       "      <th>3</th>\n",
       "      <td>Mcdonalds</td>\n",
       "      <td>Grilled Bacon Smokehouse Chicken Sandwich</td>\n",
       "      <td>750</td>\n",
       "      <td>280</td>\n",
       "      <td>31</td>\n",
       "      <td>10.0</td>\n",
       "      <td>0.5</td>\n",
       "      <td>155</td>\n",
       "      <td>1940</td>\n",
       "      <td>62</td>\n",
       "      <td>2.0</td>\n",
       "      <td>18</td>\n",
       "      <td>55.0</td>\n",
       "      <td>6.0</td>\n",
       "      <td>25.0</td>\n",
       "      <td>20.0</td>\n",
       "      <td>Other</td>\n",
       "    </tr>\n",
       "    <tr>\n",
       "      <th>4</th>\n",
       "      <td>Mcdonalds</td>\n",
       "      <td>Crispy Bacon Smokehouse Chicken Sandwich</td>\n",
       "      <td>920</td>\n",
       "      <td>410</td>\n",
       "      <td>45</td>\n",
       "      <td>12.0</td>\n",
       "      <td>0.5</td>\n",
       "      <td>120</td>\n",
       "      <td>1980</td>\n",
       "      <td>81</td>\n",
       "      <td>4.0</td>\n",
       "      <td>18</td>\n",
       "      <td>46.0</td>\n",
       "      <td>6.0</td>\n",
       "      <td>20.0</td>\n",
       "      <td>20.0</td>\n",
       "      <td>Other</td>\n",
       "    </tr>\n",
       "    <tr>\n",
       "      <th>...</th>\n",
       "      <td>...</td>\n",
       "      <td>...</td>\n",
       "      <td>...</td>\n",
       "      <td>...</td>\n",
       "      <td>...</td>\n",
       "      <td>...</td>\n",
       "      <td>...</td>\n",
       "      <td>...</td>\n",
       "      <td>...</td>\n",
       "      <td>...</td>\n",
       "      <td>...</td>\n",
       "      <td>...</td>\n",
       "      <td>...</td>\n",
       "      <td>...</td>\n",
       "      <td>...</td>\n",
       "      <td>...</td>\n",
       "      <td>...</td>\n",
       "    </tr>\n",
       "    <tr>\n",
       "      <th>510</th>\n",
       "      <td>Taco Bell</td>\n",
       "      <td>Spicy Triple Double Crunchwrap</td>\n",
       "      <td>780</td>\n",
       "      <td>340</td>\n",
       "      <td>38</td>\n",
       "      <td>10.0</td>\n",
       "      <td>0.5</td>\n",
       "      <td>50</td>\n",
       "      <td>1850</td>\n",
       "      <td>87</td>\n",
       "      <td>9.0</td>\n",
       "      <td>8</td>\n",
       "      <td>23.0</td>\n",
       "      <td>20.0</td>\n",
       "      <td>10.0</td>\n",
       "      <td>25.0</td>\n",
       "      <td>Other</td>\n",
       "    </tr>\n",
       "    <tr>\n",
       "      <th>511</th>\n",
       "      <td>Taco Bell</td>\n",
       "      <td>Express Taco Salad w/ Chips</td>\n",
       "      <td>580</td>\n",
       "      <td>260</td>\n",
       "      <td>29</td>\n",
       "      <td>9.0</td>\n",
       "      <td>1.0</td>\n",
       "      <td>60</td>\n",
       "      <td>1270</td>\n",
       "      <td>59</td>\n",
       "      <td>8.0</td>\n",
       "      <td>7</td>\n",
       "      <td>23.0</td>\n",
       "      <td>NaN</td>\n",
       "      <td>NaN</td>\n",
       "      <td>NaN</td>\n",
       "      <td>Other</td>\n",
       "    </tr>\n",
       "    <tr>\n",
       "      <th>512</th>\n",
       "      <td>Taco Bell</td>\n",
       "      <td>Fiesta Taco Salad-Beef</td>\n",
       "      <td>780</td>\n",
       "      <td>380</td>\n",
       "      <td>42</td>\n",
       "      <td>10.0</td>\n",
       "      <td>1.0</td>\n",
       "      <td>60</td>\n",
       "      <td>1340</td>\n",
       "      <td>74</td>\n",
       "      <td>11.0</td>\n",
       "      <td>7</td>\n",
       "      <td>26.0</td>\n",
       "      <td>NaN</td>\n",
       "      <td>NaN</td>\n",
       "      <td>NaN</td>\n",
       "      <td>Other</td>\n",
       "    </tr>\n",
       "    <tr>\n",
       "      <th>513</th>\n",
       "      <td>Taco Bell</td>\n",
       "      <td>Fiesta Taco Salad-Chicken</td>\n",
       "      <td>720</td>\n",
       "      <td>320</td>\n",
       "      <td>35</td>\n",
       "      <td>7.0</td>\n",
       "      <td>0.0</td>\n",
       "      <td>70</td>\n",
       "      <td>1260</td>\n",
       "      <td>70</td>\n",
       "      <td>8.0</td>\n",
       "      <td>8</td>\n",
       "      <td>32.0</td>\n",
       "      <td>NaN</td>\n",
       "      <td>NaN</td>\n",
       "      <td>NaN</td>\n",
       "      <td>Other</td>\n",
       "    </tr>\n",
       "    <tr>\n",
       "      <th>514</th>\n",
       "      <td>Taco Bell</td>\n",
       "      <td>Fiesta Taco Salad-Steak</td>\n",
       "      <td>720</td>\n",
       "      <td>320</td>\n",
       "      <td>36</td>\n",
       "      <td>8.0</td>\n",
       "      <td>1.0</td>\n",
       "      <td>55</td>\n",
       "      <td>1340</td>\n",
       "      <td>70</td>\n",
       "      <td>8.0</td>\n",
       "      <td>8</td>\n",
       "      <td>28.0</td>\n",
       "      <td>NaN</td>\n",
       "      <td>NaN</td>\n",
       "      <td>NaN</td>\n",
       "      <td>Other</td>\n",
       "    </tr>\n",
       "  </tbody>\n",
       "</table>\n",
       "<p>515 rows × 17 columns</p>\n",
       "</div>"
      ],
      "text/plain": [
       "    restaurant                                       item  calories  cal_fat  \\\n",
       "0    Mcdonalds           Artisan Grilled Chicken Sandwich       380       60   \n",
       "1    Mcdonalds             Single Bacon Smokehouse Burger       840      410   \n",
       "2    Mcdonalds             Double Bacon Smokehouse Burger      1130      600   \n",
       "3    Mcdonalds  Grilled Bacon Smokehouse Chicken Sandwich       750      280   \n",
       "4    Mcdonalds   Crispy Bacon Smokehouse Chicken Sandwich       920      410   \n",
       "..         ...                                        ...       ...      ...   \n",
       "510  Taco Bell             Spicy Triple Double Crunchwrap       780      340   \n",
       "511  Taco Bell                Express Taco Salad w/ Chips       580      260   \n",
       "512  Taco Bell                     Fiesta Taco Salad-Beef       780      380   \n",
       "513  Taco Bell                  Fiesta Taco Salad-Chicken       720      320   \n",
       "514  Taco Bell                    Fiesta Taco Salad-Steak       720      320   \n",
       "\n",
       "     total_fat  sat_fat  trans_fat  cholesterol  sodium  total_carb  fiber  \\\n",
       "0            7      2.0        0.0           95    1110          44    3.0   \n",
       "1           45     17.0        1.5          130    1580          62    2.0   \n",
       "2           67     27.0        3.0          220    1920          63    3.0   \n",
       "3           31     10.0        0.5          155    1940          62    2.0   \n",
       "4           45     12.0        0.5          120    1980          81    4.0   \n",
       "..         ...      ...        ...          ...     ...         ...    ...   \n",
       "510         38     10.0        0.5           50    1850          87    9.0   \n",
       "511         29      9.0        1.0           60    1270          59    8.0   \n",
       "512         42     10.0        1.0           60    1340          74   11.0   \n",
       "513         35      7.0        0.0           70    1260          70    8.0   \n",
       "514         36      8.0        1.0           55    1340          70    8.0   \n",
       "\n",
       "     sugar  protein  vit_a  vit_c  calcium  salad  \n",
       "0       11     37.0    4.0   20.0     20.0  Other  \n",
       "1       18     46.0    6.0   20.0     20.0  Other  \n",
       "2       18     70.0   10.0   20.0     50.0  Other  \n",
       "3       18     55.0    6.0   25.0     20.0  Other  \n",
       "4       18     46.0    6.0   20.0     20.0  Other  \n",
       "..     ...      ...    ...    ...      ...    ...  \n",
       "510      8     23.0   20.0   10.0     25.0  Other  \n",
       "511      7     23.0    NaN    NaN      NaN  Other  \n",
       "512      7     26.0    NaN    NaN      NaN  Other  \n",
       "513      8     32.0    NaN    NaN      NaN  Other  \n",
       "514      8     28.0    NaN    NaN      NaN  Other  \n",
       "\n",
       "[515 rows x 17 columns]"
      ]
     },
     "execution_count": 1,
     "metadata": {},
     "output_type": "execute_result"
    }
   ],
   "source": [
    "import numpy as np\n",
    "import pandas as pd\n",
    "import plotly.express as px\n",
    "\n",
    "fastfood = pd.read_csv(\"Daten/fastfood.csv\")\n",
    "fastfood"
   ]
  },
  {
   "attachments": {},
   "cell_type": "markdown",
   "metadata": {},
   "source": [
    "Sie werden sehen, dass es für jede Beobachtung 17 Messungen gibt, von denen viele Nährwertangaben sind.\n",
    "\n",
    "Für den Anfang werden Sie sich nur auf drei Spalten konzentrieren: `restaurant`, `calories` (Kalorien), `cal_fat` (Kalorien aus Fett).\n",
    "\n",
    "Konzentrieren wir uns zunächst nur auf die Produkte von McDonalds und Dairy Queen."
   ]
  },
  {
   "cell_type": "code",
   "execution_count": 2,
   "metadata": {},
   "outputs": [],
   "source": [
    "mcdonals = fastfood[fastfood[\"restaurant\"] == \"Mcdonalds\"]\n",
    "dairy_queen = fastfood[fastfood[\"restaurant\"] == \"Dairy Queen\"]"
   ]
  },
  {
   "attachments": {},
   "cell_type": "markdown",
   "metadata": {},
   "source": [
    "### ✏️ Aufgabe 1\n",
    "Erstellen Sie ein Diagramm (oder mehrere Diagramme), um die Verteilungen der Kalorienmenge aus Fett (`cal_fat`) der Optionen dieser beiden Restaurants zu visualisieren. Vergleichen sie die Mittelpunkte, Form und Streuung für beide Restaurants."
   ]
  },
  {
   "cell_type": "code",
   "execution_count": 3,
   "metadata": {},
   "outputs": [],
   "source": [
    "fastfood_2 = fastfood[(fastfood[\"restaurant\"] == \"Dairy Queen\")|(fastfood[\"restaurant\"] == \"Mcdonalds\")]"
   ]
  },
  {
   "cell_type": "code",
   "execution_count": 4,
   "metadata": {},
   "outputs": [
    {
     "data": {
      "application/vnd.plotly.v1+json": {
       "config": {
        "plotlyServerURL": "https://plot.ly"
       },
       "data": [
        {
         "alignmentgroup": "True",
         "bingroup": "x",
         "histnorm": "probability density",
         "hovertemplate": "restaurant=Mcdonalds<br>cal_fat=%{x}<br>probability density=%{y}<extra></extra>",
         "legendgroup": "Mcdonalds",
         "marker": {
          "color": "#636efa",
          "opacity": 0.5,
          "pattern": {
           "shape": ""
          }
         },
         "name": "Mcdonalds",
         "offsetgroup": "Mcdonalds",
         "orientation": "v",
         "showlegend": true,
         "type": "histogram",
         "x": [
          60,
          410,
          600,
          280,
          410,
          250,
          100,
          210,
          190,
          400,
          170,
          300,
          180,
          300,
          70,
          50,
          330,
          190,
          310,
          130,
          160,
          200,
          300,
          160,
          280,
          200,
          200,
          240,
          320,
          180,
          300,
          340,
          200,
          320,
          190,
          250,
          390,
          630,
          790,
          1270,
          100,
          140,
          240,
          480,
          960,
          240,
          360,
          600,
          70,
          80,
          250,
          110,
          120,
          250,
          90,
          100,
          230
         ],
         "xaxis": "x",
         "yaxis": "y"
        },
        {
         "alignmentgroup": "True",
         "bingroup": "x",
         "histnorm": "probability density",
         "hovertemplate": "restaurant=Dairy Queen<br>cal_fat=%{x}<br>probability density=%{y}<extra></extra>",
         "legendgroup": "Dairy Queen",
         "marker": {
          "color": "#EF553B",
          "opacity": 0.5,
          "pattern": {
           "shape": ""
          }
         },
         "name": "Dairy Queen",
         "offsetgroup": "Dairy Queen",
         "orientation": "v",
         "showlegend": true,
         "type": "histogram",
         "x": [
          660,
          460,
          330,
          270,
          310,
          160,
          310,
          480,
          590,
          240,
          220,
          220,
          180,
          160,
          180,
          80,
          80,
          410,
          670,
          440,
          140,
          200,
          160,
          310,
          240,
          130,
          430,
          310,
          430,
          180,
          180,
          220,
          280,
          120,
          270,
          190,
          170,
          20,
          140,
          130,
          0,
          240
         ],
         "xaxis": "x",
         "yaxis": "y"
        }
       ],
       "layout": {
        "barmode": "overlay",
        "legend": {
         "title": {
          "text": "restaurant"
         },
         "tracegroupgap": 0
        },
        "margin": {
         "t": 60
        },
        "template": {
         "data": {
          "bar": [
           {
            "error_x": {
             "color": "#2a3f5f"
            },
            "error_y": {
             "color": "#2a3f5f"
            },
            "marker": {
             "line": {
              "color": "#E5ECF6",
              "width": 0.5
             },
             "pattern": {
              "fillmode": "overlay",
              "size": 10,
              "solidity": 0.2
             }
            },
            "type": "bar"
           }
          ],
          "barpolar": [
           {
            "marker": {
             "line": {
              "color": "#E5ECF6",
              "width": 0.5
             },
             "pattern": {
              "fillmode": "overlay",
              "size": 10,
              "solidity": 0.2
             }
            },
            "type": "barpolar"
           }
          ],
          "carpet": [
           {
            "aaxis": {
             "endlinecolor": "#2a3f5f",
             "gridcolor": "white",
             "linecolor": "white",
             "minorgridcolor": "white",
             "startlinecolor": "#2a3f5f"
            },
            "baxis": {
             "endlinecolor": "#2a3f5f",
             "gridcolor": "white",
             "linecolor": "white",
             "minorgridcolor": "white",
             "startlinecolor": "#2a3f5f"
            },
            "type": "carpet"
           }
          ],
          "choropleth": [
           {
            "colorbar": {
             "outlinewidth": 0,
             "ticks": ""
            },
            "type": "choropleth"
           }
          ],
          "contour": [
           {
            "colorbar": {
             "outlinewidth": 0,
             "ticks": ""
            },
            "colorscale": [
             [
              0,
              "#0d0887"
             ],
             [
              0.1111111111111111,
              "#46039f"
             ],
             [
              0.2222222222222222,
              "#7201a8"
             ],
             [
              0.3333333333333333,
              "#9c179e"
             ],
             [
              0.4444444444444444,
              "#bd3786"
             ],
             [
              0.5555555555555556,
              "#d8576b"
             ],
             [
              0.6666666666666666,
              "#ed7953"
             ],
             [
              0.7777777777777778,
              "#fb9f3a"
             ],
             [
              0.8888888888888888,
              "#fdca26"
             ],
             [
              1,
              "#f0f921"
             ]
            ],
            "type": "contour"
           }
          ],
          "contourcarpet": [
           {
            "colorbar": {
             "outlinewidth": 0,
             "ticks": ""
            },
            "type": "contourcarpet"
           }
          ],
          "heatmap": [
           {
            "colorbar": {
             "outlinewidth": 0,
             "ticks": ""
            },
            "colorscale": [
             [
              0,
              "#0d0887"
             ],
             [
              0.1111111111111111,
              "#46039f"
             ],
             [
              0.2222222222222222,
              "#7201a8"
             ],
             [
              0.3333333333333333,
              "#9c179e"
             ],
             [
              0.4444444444444444,
              "#bd3786"
             ],
             [
              0.5555555555555556,
              "#d8576b"
             ],
             [
              0.6666666666666666,
              "#ed7953"
             ],
             [
              0.7777777777777778,
              "#fb9f3a"
             ],
             [
              0.8888888888888888,
              "#fdca26"
             ],
             [
              1,
              "#f0f921"
             ]
            ],
            "type": "heatmap"
           }
          ],
          "heatmapgl": [
           {
            "colorbar": {
             "outlinewidth": 0,
             "ticks": ""
            },
            "colorscale": [
             [
              0,
              "#0d0887"
             ],
             [
              0.1111111111111111,
              "#46039f"
             ],
             [
              0.2222222222222222,
              "#7201a8"
             ],
             [
              0.3333333333333333,
              "#9c179e"
             ],
             [
              0.4444444444444444,
              "#bd3786"
             ],
             [
              0.5555555555555556,
              "#d8576b"
             ],
             [
              0.6666666666666666,
              "#ed7953"
             ],
             [
              0.7777777777777778,
              "#fb9f3a"
             ],
             [
              0.8888888888888888,
              "#fdca26"
             ],
             [
              1,
              "#f0f921"
             ]
            ],
            "type": "heatmapgl"
           }
          ],
          "histogram": [
           {
            "marker": {
             "pattern": {
              "fillmode": "overlay",
              "size": 10,
              "solidity": 0.2
             }
            },
            "type": "histogram"
           }
          ],
          "histogram2d": [
           {
            "colorbar": {
             "outlinewidth": 0,
             "ticks": ""
            },
            "colorscale": [
             [
              0,
              "#0d0887"
             ],
             [
              0.1111111111111111,
              "#46039f"
             ],
             [
              0.2222222222222222,
              "#7201a8"
             ],
             [
              0.3333333333333333,
              "#9c179e"
             ],
             [
              0.4444444444444444,
              "#bd3786"
             ],
             [
              0.5555555555555556,
              "#d8576b"
             ],
             [
              0.6666666666666666,
              "#ed7953"
             ],
             [
              0.7777777777777778,
              "#fb9f3a"
             ],
             [
              0.8888888888888888,
              "#fdca26"
             ],
             [
              1,
              "#f0f921"
             ]
            ],
            "type": "histogram2d"
           }
          ],
          "histogram2dcontour": [
           {
            "colorbar": {
             "outlinewidth": 0,
             "ticks": ""
            },
            "colorscale": [
             [
              0,
              "#0d0887"
             ],
             [
              0.1111111111111111,
              "#46039f"
             ],
             [
              0.2222222222222222,
              "#7201a8"
             ],
             [
              0.3333333333333333,
              "#9c179e"
             ],
             [
              0.4444444444444444,
              "#bd3786"
             ],
             [
              0.5555555555555556,
              "#d8576b"
             ],
             [
              0.6666666666666666,
              "#ed7953"
             ],
             [
              0.7777777777777778,
              "#fb9f3a"
             ],
             [
              0.8888888888888888,
              "#fdca26"
             ],
             [
              1,
              "#f0f921"
             ]
            ],
            "type": "histogram2dcontour"
           }
          ],
          "mesh3d": [
           {
            "colorbar": {
             "outlinewidth": 0,
             "ticks": ""
            },
            "type": "mesh3d"
           }
          ],
          "parcoords": [
           {
            "line": {
             "colorbar": {
              "outlinewidth": 0,
              "ticks": ""
             }
            },
            "type": "parcoords"
           }
          ],
          "pie": [
           {
            "automargin": true,
            "type": "pie"
           }
          ],
          "scatter": [
           {
            "fillpattern": {
             "fillmode": "overlay",
             "size": 10,
             "solidity": 0.2
            },
            "type": "scatter"
           }
          ],
          "scatter3d": [
           {
            "line": {
             "colorbar": {
              "outlinewidth": 0,
              "ticks": ""
             }
            },
            "marker": {
             "colorbar": {
              "outlinewidth": 0,
              "ticks": ""
             }
            },
            "type": "scatter3d"
           }
          ],
          "scattercarpet": [
           {
            "marker": {
             "colorbar": {
              "outlinewidth": 0,
              "ticks": ""
             }
            },
            "type": "scattercarpet"
           }
          ],
          "scattergeo": [
           {
            "marker": {
             "colorbar": {
              "outlinewidth": 0,
              "ticks": ""
             }
            },
            "type": "scattergeo"
           }
          ],
          "scattergl": [
           {
            "marker": {
             "colorbar": {
              "outlinewidth": 0,
              "ticks": ""
             }
            },
            "type": "scattergl"
           }
          ],
          "scattermapbox": [
           {
            "marker": {
             "colorbar": {
              "outlinewidth": 0,
              "ticks": ""
             }
            },
            "type": "scattermapbox"
           }
          ],
          "scatterpolar": [
           {
            "marker": {
             "colorbar": {
              "outlinewidth": 0,
              "ticks": ""
             }
            },
            "type": "scatterpolar"
           }
          ],
          "scatterpolargl": [
           {
            "marker": {
             "colorbar": {
              "outlinewidth": 0,
              "ticks": ""
             }
            },
            "type": "scatterpolargl"
           }
          ],
          "scatterternary": [
           {
            "marker": {
             "colorbar": {
              "outlinewidth": 0,
              "ticks": ""
             }
            },
            "type": "scatterternary"
           }
          ],
          "surface": [
           {
            "colorbar": {
             "outlinewidth": 0,
             "ticks": ""
            },
            "colorscale": [
             [
              0,
              "#0d0887"
             ],
             [
              0.1111111111111111,
              "#46039f"
             ],
             [
              0.2222222222222222,
              "#7201a8"
             ],
             [
              0.3333333333333333,
              "#9c179e"
             ],
             [
              0.4444444444444444,
              "#bd3786"
             ],
             [
              0.5555555555555556,
              "#d8576b"
             ],
             [
              0.6666666666666666,
              "#ed7953"
             ],
             [
              0.7777777777777778,
              "#fb9f3a"
             ],
             [
              0.8888888888888888,
              "#fdca26"
             ],
             [
              1,
              "#f0f921"
             ]
            ],
            "type": "surface"
           }
          ],
          "table": [
           {
            "cells": {
             "fill": {
              "color": "#EBF0F8"
             },
             "line": {
              "color": "white"
             }
            },
            "header": {
             "fill": {
              "color": "#C8D4E3"
             },
             "line": {
              "color": "white"
             }
            },
            "type": "table"
           }
          ]
         },
         "layout": {
          "annotationdefaults": {
           "arrowcolor": "#2a3f5f",
           "arrowhead": 0,
           "arrowwidth": 1
          },
          "autotypenumbers": "strict",
          "coloraxis": {
           "colorbar": {
            "outlinewidth": 0,
            "ticks": ""
           }
          },
          "colorscale": {
           "diverging": [
            [
             0,
             "#8e0152"
            ],
            [
             0.1,
             "#c51b7d"
            ],
            [
             0.2,
             "#de77ae"
            ],
            [
             0.3,
             "#f1b6da"
            ],
            [
             0.4,
             "#fde0ef"
            ],
            [
             0.5,
             "#f7f7f7"
            ],
            [
             0.6,
             "#e6f5d0"
            ],
            [
             0.7,
             "#b8e186"
            ],
            [
             0.8,
             "#7fbc41"
            ],
            [
             0.9,
             "#4d9221"
            ],
            [
             1,
             "#276419"
            ]
           ],
           "sequential": [
            [
             0,
             "#0d0887"
            ],
            [
             0.1111111111111111,
             "#46039f"
            ],
            [
             0.2222222222222222,
             "#7201a8"
            ],
            [
             0.3333333333333333,
             "#9c179e"
            ],
            [
             0.4444444444444444,
             "#bd3786"
            ],
            [
             0.5555555555555556,
             "#d8576b"
            ],
            [
             0.6666666666666666,
             "#ed7953"
            ],
            [
             0.7777777777777778,
             "#fb9f3a"
            ],
            [
             0.8888888888888888,
             "#fdca26"
            ],
            [
             1,
             "#f0f921"
            ]
           ],
           "sequentialminus": [
            [
             0,
             "#0d0887"
            ],
            [
             0.1111111111111111,
             "#46039f"
            ],
            [
             0.2222222222222222,
             "#7201a8"
            ],
            [
             0.3333333333333333,
             "#9c179e"
            ],
            [
             0.4444444444444444,
             "#bd3786"
            ],
            [
             0.5555555555555556,
             "#d8576b"
            ],
            [
             0.6666666666666666,
             "#ed7953"
            ],
            [
             0.7777777777777778,
             "#fb9f3a"
            ],
            [
             0.8888888888888888,
             "#fdca26"
            ],
            [
             1,
             "#f0f921"
            ]
           ]
          },
          "colorway": [
           "#636efa",
           "#EF553B",
           "#00cc96",
           "#ab63fa",
           "#FFA15A",
           "#19d3f3",
           "#FF6692",
           "#B6E880",
           "#FF97FF",
           "#FECB52"
          ],
          "font": {
           "color": "#2a3f5f"
          },
          "geo": {
           "bgcolor": "white",
           "lakecolor": "white",
           "landcolor": "#E5ECF6",
           "showlakes": true,
           "showland": true,
           "subunitcolor": "white"
          },
          "hoverlabel": {
           "align": "left"
          },
          "hovermode": "closest",
          "mapbox": {
           "style": "light"
          },
          "paper_bgcolor": "white",
          "plot_bgcolor": "#E5ECF6",
          "polar": {
           "angularaxis": {
            "gridcolor": "white",
            "linecolor": "white",
            "ticks": ""
           },
           "bgcolor": "#E5ECF6",
           "radialaxis": {
            "gridcolor": "white",
            "linecolor": "white",
            "ticks": ""
           }
          },
          "scene": {
           "xaxis": {
            "backgroundcolor": "#E5ECF6",
            "gridcolor": "white",
            "gridwidth": 2,
            "linecolor": "white",
            "showbackground": true,
            "ticks": "",
            "zerolinecolor": "white"
           },
           "yaxis": {
            "backgroundcolor": "#E5ECF6",
            "gridcolor": "white",
            "gridwidth": 2,
            "linecolor": "white",
            "showbackground": true,
            "ticks": "",
            "zerolinecolor": "white"
           },
           "zaxis": {
            "backgroundcolor": "#E5ECF6",
            "gridcolor": "white",
            "gridwidth": 2,
            "linecolor": "white",
            "showbackground": true,
            "ticks": "",
            "zerolinecolor": "white"
           }
          },
          "shapedefaults": {
           "line": {
            "color": "#2a3f5f"
           }
          },
          "ternary": {
           "aaxis": {
            "gridcolor": "white",
            "linecolor": "white",
            "ticks": ""
           },
           "baxis": {
            "gridcolor": "white",
            "linecolor": "white",
            "ticks": ""
           },
           "bgcolor": "#E5ECF6",
           "caxis": {
            "gridcolor": "white",
            "linecolor": "white",
            "ticks": ""
           }
          },
          "title": {
           "x": 0.05
          },
          "xaxis": {
           "automargin": true,
           "gridcolor": "white",
           "linecolor": "white",
           "ticks": "",
           "title": {
            "standoff": 15
           },
           "zerolinecolor": "white",
           "zerolinewidth": 2
          },
          "yaxis": {
           "automargin": true,
           "gridcolor": "white",
           "linecolor": "white",
           "ticks": "",
           "title": {
            "standoff": 15
           },
           "zerolinecolor": "white",
           "zerolinewidth": 2
          }
         }
        },
        "xaxis": {
         "anchor": "y",
         "domain": [
          0,
          1
         ],
         "title": {
          "text": "cal_fat"
         }
        },
        "yaxis": {
         "anchor": "x",
         "domain": [
          0,
          1
         ],
         "title": {
          "text": "probability density"
         }
        }
       }
      }
     },
     "metadata": {},
     "output_type": "display_data"
    }
   ],
   "source": [
    "px.histogram(fastfood_2,x=\"cal_fat\", histnorm=\"probability density\",color=\"restaurant\",barmode=\"overlay\")"
   ]
  },
  {
   "attachments": {},
   "cell_type": "markdown",
   "metadata": {},
   "source": [
    "## Die Normalverteilung"
   ]
  },
  {
   "attachments": {},
   "cell_type": "markdown",
   "metadata": {},
   "source": [
    "Haben Sie in Ihrer Beschreibung der Verteilungen Begriffe wie glockenförmig oder normal verwendet? Diese Begriffe liegen nahe, wenn es sich um eine unimodale (eingipflige) symmetrische Verteilung handelt.\n",
    "\n",
    "Um zu sehen, wie genau diese Beschreibung ist, können wir eine Normalverteilungskurve über ein Histogramm legen, um zu sehen, wie genau die Daten einer Normalverteilung folgen. Diese Normalkurve sollte den gleichen Mittelwert und die gleiche Standardabweichung wie die Daten haben. Wir werden uns auf die Kalorien aus Fett von Dairy Queen-Produkten konzentrieren, also speichern wir sie als separates Objekt und berechnen dann einige Statistiken, auf die wir später zurückgreifen werden."
   ]
  },
  {
   "cell_type": "code",
   "execution_count": 5,
   "metadata": {},
   "outputs": [],
   "source": [
    "dqmean = dairy_queen['cal_fat'].mean()\n",
    "dqsd = dairy_queen['cal_fat'].std()"
   ]
  },
  {
   "attachments": {},
   "cell_type": "markdown",
   "metadata": {},
   "source": [
    "Als Nächstes erstellen wir ein Dichtehistogramm, das als Hintergrund dient, und legen darüber die Kurve der Wahrscheinlichkeitsdichte einer Normalverteilung. Der Unterschied zwischen einem Häufigkeitshistogramm und einem Dichtehistogramm besteht darin, dass sich bei einem Häufigkeitshistogramm die *Höhe* der Balken zur Gesamtzahl der Beobachtungen addiert, während sich bei einem Dichtehistogramm die *Fläche* der Balken zu 1 addiert. Die Fläche jedes Balkens kann einfach als die Höhe mal die Breite des Balkens berechnet werden. Die Verwendung eines Dichtehistogramms ermöglicht es, eine Normalverteilungskurve über das Histogramm zu legen, da die Kurve eine Wahrscheinlichkeitsdichtefunktion ist, die ebenfalls eine Fläche unter der Kurve von 1 hat. Häufigkeits- und Dichtehistogramme haben genau dieselbe Form; sie unterscheiden sich nur in ihrer y-Achse. Sie können dies überprüfen, indem Sie das Häufigkeitshistogramm, das Sie zuvor erstellt haben, mit dem Dichtehistogramm vergleichen, das mit den folgenden Befehlen erstellt wurde."
   ]
  },
  {
   "cell_type": "code",
   "execution_count": 6,
   "metadata": {},
   "outputs": [
    {
     "data": {
      "application/vnd.plotly.v1+json": {
       "config": {
        "plotlyServerURL": "https://plot.ly"
       },
       "data": [
        {
         "alignmentgroup": "True",
         "bingroup": "x",
         "histnorm": "probability density",
         "hovertemplate": "variable=cal_fat<br>value=%{x}<br>probability density=%{y}<extra></extra>",
         "legendgroup": "cal_fat",
         "marker": {
          "color": "#636efa",
          "pattern": {
           "shape": ""
          }
         },
         "name": "cal_fat",
         "offsetgroup": "cal_fat",
         "orientation": "v",
         "showlegend": true,
         "type": "histogram",
         "x": [
          660,
          460,
          330,
          270,
          310,
          160,
          310,
          480,
          590,
          240,
          220,
          220,
          180,
          160,
          180,
          80,
          80,
          410,
          670,
          440,
          140,
          200,
          160,
          310,
          240,
          130,
          430,
          310,
          430,
          180,
          180,
          220,
          280,
          120,
          270,
          190,
          170,
          20,
          140,
          130,
          0,
          240
         ],
         "xaxis": "x",
         "yaxis": "y"
        }
       ],
       "layout": {
        "barmode": "relative",
        "legend": {
         "title": {
          "text": "variable"
         },
         "tracegroupgap": 0
        },
        "margin": {
         "t": 60
        },
        "template": {
         "data": {
          "bar": [
           {
            "error_x": {
             "color": "#2a3f5f"
            },
            "error_y": {
             "color": "#2a3f5f"
            },
            "marker": {
             "line": {
              "color": "#E5ECF6",
              "width": 0.5
             },
             "pattern": {
              "fillmode": "overlay",
              "size": 10,
              "solidity": 0.2
             }
            },
            "type": "bar"
           }
          ],
          "barpolar": [
           {
            "marker": {
             "line": {
              "color": "#E5ECF6",
              "width": 0.5
             },
             "pattern": {
              "fillmode": "overlay",
              "size": 10,
              "solidity": 0.2
             }
            },
            "type": "barpolar"
           }
          ],
          "carpet": [
           {
            "aaxis": {
             "endlinecolor": "#2a3f5f",
             "gridcolor": "white",
             "linecolor": "white",
             "minorgridcolor": "white",
             "startlinecolor": "#2a3f5f"
            },
            "baxis": {
             "endlinecolor": "#2a3f5f",
             "gridcolor": "white",
             "linecolor": "white",
             "minorgridcolor": "white",
             "startlinecolor": "#2a3f5f"
            },
            "type": "carpet"
           }
          ],
          "choropleth": [
           {
            "colorbar": {
             "outlinewidth": 0,
             "ticks": ""
            },
            "type": "choropleth"
           }
          ],
          "contour": [
           {
            "colorbar": {
             "outlinewidth": 0,
             "ticks": ""
            },
            "colorscale": [
             [
              0,
              "#0d0887"
             ],
             [
              0.1111111111111111,
              "#46039f"
             ],
             [
              0.2222222222222222,
              "#7201a8"
             ],
             [
              0.3333333333333333,
              "#9c179e"
             ],
             [
              0.4444444444444444,
              "#bd3786"
             ],
             [
              0.5555555555555556,
              "#d8576b"
             ],
             [
              0.6666666666666666,
              "#ed7953"
             ],
             [
              0.7777777777777778,
              "#fb9f3a"
             ],
             [
              0.8888888888888888,
              "#fdca26"
             ],
             [
              1,
              "#f0f921"
             ]
            ],
            "type": "contour"
           }
          ],
          "contourcarpet": [
           {
            "colorbar": {
             "outlinewidth": 0,
             "ticks": ""
            },
            "type": "contourcarpet"
           }
          ],
          "heatmap": [
           {
            "colorbar": {
             "outlinewidth": 0,
             "ticks": ""
            },
            "colorscale": [
             [
              0,
              "#0d0887"
             ],
             [
              0.1111111111111111,
              "#46039f"
             ],
             [
              0.2222222222222222,
              "#7201a8"
             ],
             [
              0.3333333333333333,
              "#9c179e"
             ],
             [
              0.4444444444444444,
              "#bd3786"
             ],
             [
              0.5555555555555556,
              "#d8576b"
             ],
             [
              0.6666666666666666,
              "#ed7953"
             ],
             [
              0.7777777777777778,
              "#fb9f3a"
             ],
             [
              0.8888888888888888,
              "#fdca26"
             ],
             [
              1,
              "#f0f921"
             ]
            ],
            "type": "heatmap"
           }
          ],
          "heatmapgl": [
           {
            "colorbar": {
             "outlinewidth": 0,
             "ticks": ""
            },
            "colorscale": [
             [
              0,
              "#0d0887"
             ],
             [
              0.1111111111111111,
              "#46039f"
             ],
             [
              0.2222222222222222,
              "#7201a8"
             ],
             [
              0.3333333333333333,
              "#9c179e"
             ],
             [
              0.4444444444444444,
              "#bd3786"
             ],
             [
              0.5555555555555556,
              "#d8576b"
             ],
             [
              0.6666666666666666,
              "#ed7953"
             ],
             [
              0.7777777777777778,
              "#fb9f3a"
             ],
             [
              0.8888888888888888,
              "#fdca26"
             ],
             [
              1,
              "#f0f921"
             ]
            ],
            "type": "heatmapgl"
           }
          ],
          "histogram": [
           {
            "marker": {
             "pattern": {
              "fillmode": "overlay",
              "size": 10,
              "solidity": 0.2
             }
            },
            "type": "histogram"
           }
          ],
          "histogram2d": [
           {
            "colorbar": {
             "outlinewidth": 0,
             "ticks": ""
            },
            "colorscale": [
             [
              0,
              "#0d0887"
             ],
             [
              0.1111111111111111,
              "#46039f"
             ],
             [
              0.2222222222222222,
              "#7201a8"
             ],
             [
              0.3333333333333333,
              "#9c179e"
             ],
             [
              0.4444444444444444,
              "#bd3786"
             ],
             [
              0.5555555555555556,
              "#d8576b"
             ],
             [
              0.6666666666666666,
              "#ed7953"
             ],
             [
              0.7777777777777778,
              "#fb9f3a"
             ],
             [
              0.8888888888888888,
              "#fdca26"
             ],
             [
              1,
              "#f0f921"
             ]
            ],
            "type": "histogram2d"
           }
          ],
          "histogram2dcontour": [
           {
            "colorbar": {
             "outlinewidth": 0,
             "ticks": ""
            },
            "colorscale": [
             [
              0,
              "#0d0887"
             ],
             [
              0.1111111111111111,
              "#46039f"
             ],
             [
              0.2222222222222222,
              "#7201a8"
             ],
             [
              0.3333333333333333,
              "#9c179e"
             ],
             [
              0.4444444444444444,
              "#bd3786"
             ],
             [
              0.5555555555555556,
              "#d8576b"
             ],
             [
              0.6666666666666666,
              "#ed7953"
             ],
             [
              0.7777777777777778,
              "#fb9f3a"
             ],
             [
              0.8888888888888888,
              "#fdca26"
             ],
             [
              1,
              "#f0f921"
             ]
            ],
            "type": "histogram2dcontour"
           }
          ],
          "mesh3d": [
           {
            "colorbar": {
             "outlinewidth": 0,
             "ticks": ""
            },
            "type": "mesh3d"
           }
          ],
          "parcoords": [
           {
            "line": {
             "colorbar": {
              "outlinewidth": 0,
              "ticks": ""
             }
            },
            "type": "parcoords"
           }
          ],
          "pie": [
           {
            "automargin": true,
            "type": "pie"
           }
          ],
          "scatter": [
           {
            "fillpattern": {
             "fillmode": "overlay",
             "size": 10,
             "solidity": 0.2
            },
            "type": "scatter"
           }
          ],
          "scatter3d": [
           {
            "line": {
             "colorbar": {
              "outlinewidth": 0,
              "ticks": ""
             }
            },
            "marker": {
             "colorbar": {
              "outlinewidth": 0,
              "ticks": ""
             }
            },
            "type": "scatter3d"
           }
          ],
          "scattercarpet": [
           {
            "marker": {
             "colorbar": {
              "outlinewidth": 0,
              "ticks": ""
             }
            },
            "type": "scattercarpet"
           }
          ],
          "scattergeo": [
           {
            "marker": {
             "colorbar": {
              "outlinewidth": 0,
              "ticks": ""
             }
            },
            "type": "scattergeo"
           }
          ],
          "scattergl": [
           {
            "marker": {
             "colorbar": {
              "outlinewidth": 0,
              "ticks": ""
             }
            },
            "type": "scattergl"
           }
          ],
          "scattermapbox": [
           {
            "marker": {
             "colorbar": {
              "outlinewidth": 0,
              "ticks": ""
             }
            },
            "type": "scattermapbox"
           }
          ],
          "scatterpolar": [
           {
            "marker": {
             "colorbar": {
              "outlinewidth": 0,
              "ticks": ""
             }
            },
            "type": "scatterpolar"
           }
          ],
          "scatterpolargl": [
           {
            "marker": {
             "colorbar": {
              "outlinewidth": 0,
              "ticks": ""
             }
            },
            "type": "scatterpolargl"
           }
          ],
          "scatterternary": [
           {
            "marker": {
             "colorbar": {
              "outlinewidth": 0,
              "ticks": ""
             }
            },
            "type": "scatterternary"
           }
          ],
          "surface": [
           {
            "colorbar": {
             "outlinewidth": 0,
             "ticks": ""
            },
            "colorscale": [
             [
              0,
              "#0d0887"
             ],
             [
              0.1111111111111111,
              "#46039f"
             ],
             [
              0.2222222222222222,
              "#7201a8"
             ],
             [
              0.3333333333333333,
              "#9c179e"
             ],
             [
              0.4444444444444444,
              "#bd3786"
             ],
             [
              0.5555555555555556,
              "#d8576b"
             ],
             [
              0.6666666666666666,
              "#ed7953"
             ],
             [
              0.7777777777777778,
              "#fb9f3a"
             ],
             [
              0.8888888888888888,
              "#fdca26"
             ],
             [
              1,
              "#f0f921"
             ]
            ],
            "type": "surface"
           }
          ],
          "table": [
           {
            "cells": {
             "fill": {
              "color": "#EBF0F8"
             },
             "line": {
              "color": "white"
             }
            },
            "header": {
             "fill": {
              "color": "#C8D4E3"
             },
             "line": {
              "color": "white"
             }
            },
            "type": "table"
           }
          ]
         },
         "layout": {
          "annotationdefaults": {
           "arrowcolor": "#2a3f5f",
           "arrowhead": 0,
           "arrowwidth": 1
          },
          "autotypenumbers": "strict",
          "coloraxis": {
           "colorbar": {
            "outlinewidth": 0,
            "ticks": ""
           }
          },
          "colorscale": {
           "diverging": [
            [
             0,
             "#8e0152"
            ],
            [
             0.1,
             "#c51b7d"
            ],
            [
             0.2,
             "#de77ae"
            ],
            [
             0.3,
             "#f1b6da"
            ],
            [
             0.4,
             "#fde0ef"
            ],
            [
             0.5,
             "#f7f7f7"
            ],
            [
             0.6,
             "#e6f5d0"
            ],
            [
             0.7,
             "#b8e186"
            ],
            [
             0.8,
             "#7fbc41"
            ],
            [
             0.9,
             "#4d9221"
            ],
            [
             1,
             "#276419"
            ]
           ],
           "sequential": [
            [
             0,
             "#0d0887"
            ],
            [
             0.1111111111111111,
             "#46039f"
            ],
            [
             0.2222222222222222,
             "#7201a8"
            ],
            [
             0.3333333333333333,
             "#9c179e"
            ],
            [
             0.4444444444444444,
             "#bd3786"
            ],
            [
             0.5555555555555556,
             "#d8576b"
            ],
            [
             0.6666666666666666,
             "#ed7953"
            ],
            [
             0.7777777777777778,
             "#fb9f3a"
            ],
            [
             0.8888888888888888,
             "#fdca26"
            ],
            [
             1,
             "#f0f921"
            ]
           ],
           "sequentialminus": [
            [
             0,
             "#0d0887"
            ],
            [
             0.1111111111111111,
             "#46039f"
            ],
            [
             0.2222222222222222,
             "#7201a8"
            ],
            [
             0.3333333333333333,
             "#9c179e"
            ],
            [
             0.4444444444444444,
             "#bd3786"
            ],
            [
             0.5555555555555556,
             "#d8576b"
            ],
            [
             0.6666666666666666,
             "#ed7953"
            ],
            [
             0.7777777777777778,
             "#fb9f3a"
            ],
            [
             0.8888888888888888,
             "#fdca26"
            ],
            [
             1,
             "#f0f921"
            ]
           ]
          },
          "colorway": [
           "#636efa",
           "#EF553B",
           "#00cc96",
           "#ab63fa",
           "#FFA15A",
           "#19d3f3",
           "#FF6692",
           "#B6E880",
           "#FF97FF",
           "#FECB52"
          ],
          "font": {
           "color": "#2a3f5f"
          },
          "geo": {
           "bgcolor": "white",
           "lakecolor": "white",
           "landcolor": "#E5ECF6",
           "showlakes": true,
           "showland": true,
           "subunitcolor": "white"
          },
          "hoverlabel": {
           "align": "left"
          },
          "hovermode": "closest",
          "mapbox": {
           "style": "light"
          },
          "paper_bgcolor": "white",
          "plot_bgcolor": "#E5ECF6",
          "polar": {
           "angularaxis": {
            "gridcolor": "white",
            "linecolor": "white",
            "ticks": ""
           },
           "bgcolor": "#E5ECF6",
           "radialaxis": {
            "gridcolor": "white",
            "linecolor": "white",
            "ticks": ""
           }
          },
          "scene": {
           "xaxis": {
            "backgroundcolor": "#E5ECF6",
            "gridcolor": "white",
            "gridwidth": 2,
            "linecolor": "white",
            "showbackground": true,
            "ticks": "",
            "zerolinecolor": "white"
           },
           "yaxis": {
            "backgroundcolor": "#E5ECF6",
            "gridcolor": "white",
            "gridwidth": 2,
            "linecolor": "white",
            "showbackground": true,
            "ticks": "",
            "zerolinecolor": "white"
           },
           "zaxis": {
            "backgroundcolor": "#E5ECF6",
            "gridcolor": "white",
            "gridwidth": 2,
            "linecolor": "white",
            "showbackground": true,
            "ticks": "",
            "zerolinecolor": "white"
           }
          },
          "shapedefaults": {
           "line": {
            "color": "#2a3f5f"
           }
          },
          "ternary": {
           "aaxis": {
            "gridcolor": "white",
            "linecolor": "white",
            "ticks": ""
           },
           "baxis": {
            "gridcolor": "white",
            "linecolor": "white",
            "ticks": ""
           },
           "bgcolor": "#E5ECF6",
           "caxis": {
            "gridcolor": "white",
            "linecolor": "white",
            "ticks": ""
           }
          },
          "title": {
           "x": 0.05
          },
          "xaxis": {
           "automargin": true,
           "gridcolor": "white",
           "linecolor": "white",
           "ticks": "",
           "title": {
            "standoff": 15
           },
           "zerolinecolor": "white",
           "zerolinewidth": 2
          },
          "yaxis": {
           "automargin": true,
           "gridcolor": "white",
           "linecolor": "white",
           "ticks": "",
           "title": {
            "standoff": 15
           },
           "zerolinecolor": "white",
           "zerolinewidth": 2
          }
         }
        },
        "xaxis": {
         "anchor": "y",
         "domain": [
          0,
          1
         ],
         "title": {
          "text": "value"
         }
        },
        "yaxis": {
         "anchor": "x",
         "domain": [
          0,
          1
         ],
         "title": {
          "text": "probability density"
         }
        }
       }
      }
     },
     "metadata": {},
     "output_type": "display_data"
    }
   ],
   "source": [
    "px.histogram(dairy_queen['cal_fat'], histnorm=\"probability density\")"
   ]
  },
  {
   "attachments": {},
   "cell_type": "markdown",
   "metadata": {},
   "source": [
    "Als nächstes möchten wir die Dichtekurve der Normalverteilung mit den Parametern $\\mu=$`dqmean` und $\\sigma=$`dqstd` erzeugen und zum Plot hinzufügen. Zunächst erstellen wir die x- und y-Koordinaten für die Normalkurve. Wir haben den x-Bereich mit 0 bis 700 gewählt, um den gesamten Wertebereich der Variable `cal_fat` abzudecken. Die Funktionswerte erzeugen wir uns mit der Funktion `norm.pdf` aus dem Modul `scipy.stats` (pdf steht hier für probability density function)."
   ]
  },
  {
   "cell_type": "code",
   "execution_count": 7,
   "metadata": {},
   "outputs": [],
   "source": [
    "from scipy.stats import norm\n",
    "\n",
    "# Erzeuge einen Vektor mit 101 äquidistanten Samples zwischen 0 und 700 \n",
    "x = np.linspace(0, 700, 101)       \n",
    "y = norm.pdf(x, loc = dqmean, scale = dqsd)"
   ]
  },
  {
   "attachments": {},
   "cell_type": "markdown",
   "metadata": {},
   "source": [
    "Nun möchten wir die Dichtefunktion als Linie zum Histogrammplot hinzufügen. Dazu speichern wir zunächst den Histogrammplot in einer Variable und fügen dann die Dichtekurve hinzu. Dies geschieht in plotly mittels `add_scatter` (eigentlich ein Streuplot, der aber hier als Linie dargestellt wird)"
   ]
  },
  {
   "cell_type": "code",
   "execution_count": 8,
   "metadata": {},
   "outputs": [
    {
     "data": {
      "application/vnd.plotly.v1+json": {
       "config": {
        "plotlyServerURL": "https://plot.ly"
       },
       "data": [
        {
         "alignmentgroup": "True",
         "bingroup": "x",
         "histnorm": "probability density",
         "hovertemplate": "variable=cal_fat<br>value=%{x}<br>probability density=%{y}<extra></extra>",
         "legendgroup": "cal_fat",
         "marker": {
          "color": "#636efa",
          "pattern": {
           "shape": ""
          }
         },
         "name": "cal_fat",
         "offsetgroup": "cal_fat",
         "orientation": "v",
         "showlegend": true,
         "type": "histogram",
         "x": [
          660,
          460,
          330,
          270,
          310,
          160,
          310,
          480,
          590,
          240,
          220,
          220,
          180,
          160,
          180,
          80,
          80,
          410,
          670,
          440,
          140,
          200,
          160,
          310,
          240,
          130,
          430,
          310,
          430,
          180,
          180,
          220,
          280,
          120,
          270,
          190,
          170,
          20,
          140,
          130,
          0,
          240
         ],
         "xaxis": "x",
         "yaxis": "y"
        },
        {
         "name": "Dichtekurve der Normalverteilung",
         "type": "scatter",
         "x": [
          0,
          7,
          14,
          21,
          28,
          35,
          42,
          49,
          56,
          63,
          70,
          77,
          84,
          91,
          98,
          105,
          112,
          119,
          126,
          133,
          140,
          147,
          154,
          161,
          168,
          175,
          182,
          189,
          196,
          203,
          210,
          217,
          224,
          231,
          238,
          245,
          252,
          259,
          266,
          273,
          280,
          287,
          294,
          301,
          308,
          315,
          322,
          329,
          336,
          343,
          350,
          357,
          364,
          371,
          378,
          385,
          392,
          399,
          406,
          413,
          420,
          427,
          434,
          441,
          448,
          455,
          462,
          469,
          476,
          483,
          490,
          497,
          504,
          511,
          518,
          525,
          532,
          539,
          546,
          553,
          560,
          567,
          574,
          581,
          588,
          595,
          602,
          609,
          616,
          623,
          630,
          637,
          644,
          651,
          658,
          665,
          672,
          679,
          686,
          693,
          700
         ],
         "y": [
          0.0006379493484844829,
          0.0006865766822482884,
          0.0007374335145720356,
          0.0007904741336261917,
          0.0008456359262369571,
          0.0009028386812638789,
          0.0009619840255579099,
          0.001022955008732386,
          0.001085615851943662,
          0.001149811874521729,
          0.0012153696106179225,
          0.0012820971260573903,
          0.0013497845433159351,
          0.001418204780008723,
          0.0014871145035136436,
          0.001556255301392803,
          0.0016253550641658209,
          0.0016941295737777707,
          0.0017622842878467896,
          0.0018295163065292334,
          0.0018955165056638466,
          0.0019599718168120815,
          0.002022567631960612,
          0.002082990308054051,
          0.0021409297442376916,
          0.0021960820027644686,
          0.002248151943004259,
          0.002296855836927472,
          0.0023419239338509246,
          0.0023831029421558033,
          0.0024201583961289954,
          0.0024528768770439835,
          0.002481068059079106,
          0.0025045665526520957,
          0.002523233520202751,
          0.002536958042342935,
          0.0025456582155680444,
          0.00254928196633164,
          0.002547807570162843,
          0.0025412438685862553,
          0.00252963018081409,
          0.002513035911444498,
          0.0024915598596422233,
          0.002465329239421663,
          0.0024344984246242114,
          0.0023992474359112955,
          0.00235978019051691,
          0.0023163225385604723,
          0.002269120112362096,
          0.002218436017386469,
          0.002164548395136474,
          0.002107747889502002,
          0.0020483350487317596,
          0.001986617695335765,
          0.0019229082958532458,
          0.0018575213615544225,
          0.0017907709098138466,
          0.0017229680141347126,
          0.001654418468662166,
          0.001585420590549548,
          0.0015162631807900111,
          0.0014472236611557028,
          0.0013785664017585053,
          0.0013105412505215802,
          0.0012433822725904568,
          0.0011773067044749295,
          0.0011125141245542979,
          0.0010491858385499936,
          0.0009874844757178519,
          0.0009275537888778593,
          0.0008695186490163577,
          0.0008134852230919841,
          0.0007595413218725535,
          0.0007077569031392109,
          0.0006581847144231406,
          0.0006108610585889913,
          0.0005658066650418487,
          0.0005230276490993047,
          0.0004825165421201706,
          0.00044425337529557844,
          0.0004082068005619631,
          0.0003743352328612805,
          0.00034258799892238236,
          0.0003129064788380705,
          0.00028522522793386054,
          0.00025947306773598384,
          0.00023557413621753612,
          0.00021344888890431342,
          0.0001930150438289018,
          0.0001741884647085698,
          0.00015688397806746734,
          0.00014101612130750166,
          0.00012649981993887143,
          0.00011325099329744046,
          0.0001011870890917973,
          0.00009022754803070774,
          0.00008029420057728413,
          0.0000713115985576528,
          0.000063207284919679,
          0.00005591200539396556,
          0.00004935986615923855
         ]
        }
       ],
       "layout": {
        "barmode": "relative",
        "legend": {
         "title": {
          "text": "variable"
         },
         "tracegroupgap": 0
        },
        "margin": {
         "t": 60
        },
        "template": {
         "data": {
          "bar": [
           {
            "error_x": {
             "color": "#2a3f5f"
            },
            "error_y": {
             "color": "#2a3f5f"
            },
            "marker": {
             "line": {
              "color": "#E5ECF6",
              "width": 0.5
             },
             "pattern": {
              "fillmode": "overlay",
              "size": 10,
              "solidity": 0.2
             }
            },
            "type": "bar"
           }
          ],
          "barpolar": [
           {
            "marker": {
             "line": {
              "color": "#E5ECF6",
              "width": 0.5
             },
             "pattern": {
              "fillmode": "overlay",
              "size": 10,
              "solidity": 0.2
             }
            },
            "type": "barpolar"
           }
          ],
          "carpet": [
           {
            "aaxis": {
             "endlinecolor": "#2a3f5f",
             "gridcolor": "white",
             "linecolor": "white",
             "minorgridcolor": "white",
             "startlinecolor": "#2a3f5f"
            },
            "baxis": {
             "endlinecolor": "#2a3f5f",
             "gridcolor": "white",
             "linecolor": "white",
             "minorgridcolor": "white",
             "startlinecolor": "#2a3f5f"
            },
            "type": "carpet"
           }
          ],
          "choropleth": [
           {
            "colorbar": {
             "outlinewidth": 0,
             "ticks": ""
            },
            "type": "choropleth"
           }
          ],
          "contour": [
           {
            "colorbar": {
             "outlinewidth": 0,
             "ticks": ""
            },
            "colorscale": [
             [
              0,
              "#0d0887"
             ],
             [
              0.1111111111111111,
              "#46039f"
             ],
             [
              0.2222222222222222,
              "#7201a8"
             ],
             [
              0.3333333333333333,
              "#9c179e"
             ],
             [
              0.4444444444444444,
              "#bd3786"
             ],
             [
              0.5555555555555556,
              "#d8576b"
             ],
             [
              0.6666666666666666,
              "#ed7953"
             ],
             [
              0.7777777777777778,
              "#fb9f3a"
             ],
             [
              0.8888888888888888,
              "#fdca26"
             ],
             [
              1,
              "#f0f921"
             ]
            ],
            "type": "contour"
           }
          ],
          "contourcarpet": [
           {
            "colorbar": {
             "outlinewidth": 0,
             "ticks": ""
            },
            "type": "contourcarpet"
           }
          ],
          "heatmap": [
           {
            "colorbar": {
             "outlinewidth": 0,
             "ticks": ""
            },
            "colorscale": [
             [
              0,
              "#0d0887"
             ],
             [
              0.1111111111111111,
              "#46039f"
             ],
             [
              0.2222222222222222,
              "#7201a8"
             ],
             [
              0.3333333333333333,
              "#9c179e"
             ],
             [
              0.4444444444444444,
              "#bd3786"
             ],
             [
              0.5555555555555556,
              "#d8576b"
             ],
             [
              0.6666666666666666,
              "#ed7953"
             ],
             [
              0.7777777777777778,
              "#fb9f3a"
             ],
             [
              0.8888888888888888,
              "#fdca26"
             ],
             [
              1,
              "#f0f921"
             ]
            ],
            "type": "heatmap"
           }
          ],
          "heatmapgl": [
           {
            "colorbar": {
             "outlinewidth": 0,
             "ticks": ""
            },
            "colorscale": [
             [
              0,
              "#0d0887"
             ],
             [
              0.1111111111111111,
              "#46039f"
             ],
             [
              0.2222222222222222,
              "#7201a8"
             ],
             [
              0.3333333333333333,
              "#9c179e"
             ],
             [
              0.4444444444444444,
              "#bd3786"
             ],
             [
              0.5555555555555556,
              "#d8576b"
             ],
             [
              0.6666666666666666,
              "#ed7953"
             ],
             [
              0.7777777777777778,
              "#fb9f3a"
             ],
             [
              0.8888888888888888,
              "#fdca26"
             ],
             [
              1,
              "#f0f921"
             ]
            ],
            "type": "heatmapgl"
           }
          ],
          "histogram": [
           {
            "marker": {
             "pattern": {
              "fillmode": "overlay",
              "size": 10,
              "solidity": 0.2
             }
            },
            "type": "histogram"
           }
          ],
          "histogram2d": [
           {
            "colorbar": {
             "outlinewidth": 0,
             "ticks": ""
            },
            "colorscale": [
             [
              0,
              "#0d0887"
             ],
             [
              0.1111111111111111,
              "#46039f"
             ],
             [
              0.2222222222222222,
              "#7201a8"
             ],
             [
              0.3333333333333333,
              "#9c179e"
             ],
             [
              0.4444444444444444,
              "#bd3786"
             ],
             [
              0.5555555555555556,
              "#d8576b"
             ],
             [
              0.6666666666666666,
              "#ed7953"
             ],
             [
              0.7777777777777778,
              "#fb9f3a"
             ],
             [
              0.8888888888888888,
              "#fdca26"
             ],
             [
              1,
              "#f0f921"
             ]
            ],
            "type": "histogram2d"
           }
          ],
          "histogram2dcontour": [
           {
            "colorbar": {
             "outlinewidth": 0,
             "ticks": ""
            },
            "colorscale": [
             [
              0,
              "#0d0887"
             ],
             [
              0.1111111111111111,
              "#46039f"
             ],
             [
              0.2222222222222222,
              "#7201a8"
             ],
             [
              0.3333333333333333,
              "#9c179e"
             ],
             [
              0.4444444444444444,
              "#bd3786"
             ],
             [
              0.5555555555555556,
              "#d8576b"
             ],
             [
              0.6666666666666666,
              "#ed7953"
             ],
             [
              0.7777777777777778,
              "#fb9f3a"
             ],
             [
              0.8888888888888888,
              "#fdca26"
             ],
             [
              1,
              "#f0f921"
             ]
            ],
            "type": "histogram2dcontour"
           }
          ],
          "mesh3d": [
           {
            "colorbar": {
             "outlinewidth": 0,
             "ticks": ""
            },
            "type": "mesh3d"
           }
          ],
          "parcoords": [
           {
            "line": {
             "colorbar": {
              "outlinewidth": 0,
              "ticks": ""
             }
            },
            "type": "parcoords"
           }
          ],
          "pie": [
           {
            "automargin": true,
            "type": "pie"
           }
          ],
          "scatter": [
           {
            "fillpattern": {
             "fillmode": "overlay",
             "size": 10,
             "solidity": 0.2
            },
            "type": "scatter"
           }
          ],
          "scatter3d": [
           {
            "line": {
             "colorbar": {
              "outlinewidth": 0,
              "ticks": ""
             }
            },
            "marker": {
             "colorbar": {
              "outlinewidth": 0,
              "ticks": ""
             }
            },
            "type": "scatter3d"
           }
          ],
          "scattercarpet": [
           {
            "marker": {
             "colorbar": {
              "outlinewidth": 0,
              "ticks": ""
             }
            },
            "type": "scattercarpet"
           }
          ],
          "scattergeo": [
           {
            "marker": {
             "colorbar": {
              "outlinewidth": 0,
              "ticks": ""
             }
            },
            "type": "scattergeo"
           }
          ],
          "scattergl": [
           {
            "marker": {
             "colorbar": {
              "outlinewidth": 0,
              "ticks": ""
             }
            },
            "type": "scattergl"
           }
          ],
          "scattermapbox": [
           {
            "marker": {
             "colorbar": {
              "outlinewidth": 0,
              "ticks": ""
             }
            },
            "type": "scattermapbox"
           }
          ],
          "scatterpolar": [
           {
            "marker": {
             "colorbar": {
              "outlinewidth": 0,
              "ticks": ""
             }
            },
            "type": "scatterpolar"
           }
          ],
          "scatterpolargl": [
           {
            "marker": {
             "colorbar": {
              "outlinewidth": 0,
              "ticks": ""
             }
            },
            "type": "scatterpolargl"
           }
          ],
          "scatterternary": [
           {
            "marker": {
             "colorbar": {
              "outlinewidth": 0,
              "ticks": ""
             }
            },
            "type": "scatterternary"
           }
          ],
          "surface": [
           {
            "colorbar": {
             "outlinewidth": 0,
             "ticks": ""
            },
            "colorscale": [
             [
              0,
              "#0d0887"
             ],
             [
              0.1111111111111111,
              "#46039f"
             ],
             [
              0.2222222222222222,
              "#7201a8"
             ],
             [
              0.3333333333333333,
              "#9c179e"
             ],
             [
              0.4444444444444444,
              "#bd3786"
             ],
             [
              0.5555555555555556,
              "#d8576b"
             ],
             [
              0.6666666666666666,
              "#ed7953"
             ],
             [
              0.7777777777777778,
              "#fb9f3a"
             ],
             [
              0.8888888888888888,
              "#fdca26"
             ],
             [
              1,
              "#f0f921"
             ]
            ],
            "type": "surface"
           }
          ],
          "table": [
           {
            "cells": {
             "fill": {
              "color": "#EBF0F8"
             },
             "line": {
              "color": "white"
             }
            },
            "header": {
             "fill": {
              "color": "#C8D4E3"
             },
             "line": {
              "color": "white"
             }
            },
            "type": "table"
           }
          ]
         },
         "layout": {
          "annotationdefaults": {
           "arrowcolor": "#2a3f5f",
           "arrowhead": 0,
           "arrowwidth": 1
          },
          "autotypenumbers": "strict",
          "coloraxis": {
           "colorbar": {
            "outlinewidth": 0,
            "ticks": ""
           }
          },
          "colorscale": {
           "diverging": [
            [
             0,
             "#8e0152"
            ],
            [
             0.1,
             "#c51b7d"
            ],
            [
             0.2,
             "#de77ae"
            ],
            [
             0.3,
             "#f1b6da"
            ],
            [
             0.4,
             "#fde0ef"
            ],
            [
             0.5,
             "#f7f7f7"
            ],
            [
             0.6,
             "#e6f5d0"
            ],
            [
             0.7,
             "#b8e186"
            ],
            [
             0.8,
             "#7fbc41"
            ],
            [
             0.9,
             "#4d9221"
            ],
            [
             1,
             "#276419"
            ]
           ],
           "sequential": [
            [
             0,
             "#0d0887"
            ],
            [
             0.1111111111111111,
             "#46039f"
            ],
            [
             0.2222222222222222,
             "#7201a8"
            ],
            [
             0.3333333333333333,
             "#9c179e"
            ],
            [
             0.4444444444444444,
             "#bd3786"
            ],
            [
             0.5555555555555556,
             "#d8576b"
            ],
            [
             0.6666666666666666,
             "#ed7953"
            ],
            [
             0.7777777777777778,
             "#fb9f3a"
            ],
            [
             0.8888888888888888,
             "#fdca26"
            ],
            [
             1,
             "#f0f921"
            ]
           ],
           "sequentialminus": [
            [
             0,
             "#0d0887"
            ],
            [
             0.1111111111111111,
             "#46039f"
            ],
            [
             0.2222222222222222,
             "#7201a8"
            ],
            [
             0.3333333333333333,
             "#9c179e"
            ],
            [
             0.4444444444444444,
             "#bd3786"
            ],
            [
             0.5555555555555556,
             "#d8576b"
            ],
            [
             0.6666666666666666,
             "#ed7953"
            ],
            [
             0.7777777777777778,
             "#fb9f3a"
            ],
            [
             0.8888888888888888,
             "#fdca26"
            ],
            [
             1,
             "#f0f921"
            ]
           ]
          },
          "colorway": [
           "#636efa",
           "#EF553B",
           "#00cc96",
           "#ab63fa",
           "#FFA15A",
           "#19d3f3",
           "#FF6692",
           "#B6E880",
           "#FF97FF",
           "#FECB52"
          ],
          "font": {
           "color": "#2a3f5f"
          },
          "geo": {
           "bgcolor": "white",
           "lakecolor": "white",
           "landcolor": "#E5ECF6",
           "showlakes": true,
           "showland": true,
           "subunitcolor": "white"
          },
          "hoverlabel": {
           "align": "left"
          },
          "hovermode": "closest",
          "mapbox": {
           "style": "light"
          },
          "paper_bgcolor": "white",
          "plot_bgcolor": "#E5ECF6",
          "polar": {
           "angularaxis": {
            "gridcolor": "white",
            "linecolor": "white",
            "ticks": ""
           },
           "bgcolor": "#E5ECF6",
           "radialaxis": {
            "gridcolor": "white",
            "linecolor": "white",
            "ticks": ""
           }
          },
          "scene": {
           "xaxis": {
            "backgroundcolor": "#E5ECF6",
            "gridcolor": "white",
            "gridwidth": 2,
            "linecolor": "white",
            "showbackground": true,
            "ticks": "",
            "zerolinecolor": "white"
           },
           "yaxis": {
            "backgroundcolor": "#E5ECF6",
            "gridcolor": "white",
            "gridwidth": 2,
            "linecolor": "white",
            "showbackground": true,
            "ticks": "",
            "zerolinecolor": "white"
           },
           "zaxis": {
            "backgroundcolor": "#E5ECF6",
            "gridcolor": "white",
            "gridwidth": 2,
            "linecolor": "white",
            "showbackground": true,
            "ticks": "",
            "zerolinecolor": "white"
           }
          },
          "shapedefaults": {
           "line": {
            "color": "#2a3f5f"
           }
          },
          "ternary": {
           "aaxis": {
            "gridcolor": "white",
            "linecolor": "white",
            "ticks": ""
           },
           "baxis": {
            "gridcolor": "white",
            "linecolor": "white",
            "ticks": ""
           },
           "bgcolor": "#E5ECF6",
           "caxis": {
            "gridcolor": "white",
            "linecolor": "white",
            "ticks": ""
           }
          },
          "title": {
           "x": 0.05
          },
          "xaxis": {
           "automargin": true,
           "gridcolor": "white",
           "linecolor": "white",
           "ticks": "",
           "title": {
            "standoff": 15
           },
           "zerolinecolor": "white",
           "zerolinewidth": 2
          },
          "yaxis": {
           "automargin": true,
           "gridcolor": "white",
           "linecolor": "white",
           "ticks": "",
           "title": {
            "standoff": 15
           },
           "zerolinecolor": "white",
           "zerolinewidth": 2
          }
         }
        },
        "xaxis": {
         "anchor": "y",
         "domain": [
          0,
          1
         ],
         "title": {
          "text": "value"
         }
        },
        "yaxis": {
         "anchor": "x",
         "domain": [
          0,
          1
         ],
         "title": {
          "text": "probability density"
         }
        }
       }
      }
     },
     "metadata": {},
     "output_type": "display_data"
    }
   ],
   "source": [
    "hist = px.histogram(dairy_queen['cal_fat'], histnorm=\"probability density\")\n",
    "hist.add_scatter(x=x, y=y, name=f\"Dichtekurve der Normalverteilung\")\n",
    "hist.show()"
   ]
  },
  {
   "attachments": {},
   "cell_type": "markdown",
   "metadata": {},
   "source": [
    "### ✏️ Aufgabe 2\n",
    "Sieht es so aus, als ob die Daten einer annähernden Normalverteilung folgen?"
   ]
  },
  {
   "attachments": {},
   "cell_type": "markdown",
   "metadata": {},
   "source": [
    "## Evaluating the normal distribution"
   ]
  },
  {
   "attachments": {},
   "cell_type": "markdown",
   "metadata": {},
   "source": [
    "Ein Blick auf die Form des Histogramms ist eine Möglichkeit, um festzustellen, ob die Daten annähernd normalverteilt sind, aber es kann sehr schwierig bzw. unklar sein, zu entscheiden, wie nahe das Histogramm an der Kurve liegt. Ein alternativer Ansatz besteht darin, ein normales Wahrscheinlichkeitsdiagramm zu erstellen, das auch als normales Q-Q-Diagramm für \"Quantil-Quantil\" bezeichnet wird."
   ]
  },
  {
   "cell_type": "code",
   "execution_count": 9,
   "metadata": {},
   "outputs": [
    {
     "data": {
      "application/vnd.plotly.v1+json": {
       "config": {
        "plotlyServerURL": "https://plot.ly"
       },
       "data": [
        {
         "hovertemplate": "x=%{x}<br>y=%{y}<extra></extra>",
         "legendgroup": "",
         "marker": {
          "color": "#636efa",
          "symbol": "circle"
         },
         "mode": "markers",
         "name": "",
         "orientation": "v",
         "showlegend": false,
         "type": "scatter",
         "x": [
          -2.1353046284158346,
          -1.7540101162150163,
          -1.527496670219539,
          -1.359948140410081,
          -1.2237273032174234,
          -1.1070694628903044,
          -1.0038048672080377,
          -0.9102674907071854,
          -0.8240868004562736,
          -0.7436321948616521,
          -0.667727110604202,
          -0.595489101363644,
          -0.5262343894479194,
          -0.45941783418576615,
          -0.3945934820453098,
          -0.33138763259250686,
          -0.26947979801752303,
          -0.20858878396464725,
          -0.148462158735626,
          -0.08886798295158897,
          -0.029588032793860894,
          0.029588032793860894,
          0.08886798295158911,
          0.148462158735626,
          0.2085887839646474,
          0.26947979801752303,
          0.33138763259250686,
          0.3945934820453096,
          0.45941783418576615,
          0.5262343894479193,
          0.5954891013636436,
          0.6677271106042019,
          0.7436321948616517,
          0.8240868004562732,
          0.9102674907071853,
          1.003804867208037,
          1.107069462890304,
          1.223727303217423,
          1.35994814041008,
          1.5274966702195378,
          1.754010116215015,
          2.1353046284158346
         ],
         "xaxis": "x",
         "y": [
          0,
          20,
          80,
          80,
          120,
          130,
          130,
          140,
          140,
          160,
          160,
          160,
          170,
          180,
          180,
          180,
          180,
          190,
          200,
          220,
          220,
          220,
          240,
          240,
          240,
          270,
          270,
          280,
          310,
          310,
          310,
          310,
          330,
          410,
          430,
          430,
          440,
          460,
          480,
          590,
          660,
          670
         ],
         "yaxis": "y"
        },
        {
         "hovertemplate": "<b>OLS trendline</b><br>y = 154.939 * x + 260.476<br>R<sup>2</sup>=0.923481<br><br>x=%{x}<br>y=%{y} <b>(trend)</b><extra></extra>",
         "legendgroup": "",
         "marker": {
          "color": "#636efa",
          "symbol": "circle"
         },
         "mode": "lines",
         "name": "",
         "showlegend": false,
         "type": "scatter",
         "x": [
          -2.1353046284158346,
          -1.7540101162150163,
          -1.527496670219539,
          -1.359948140410081,
          -1.2237273032174234,
          -1.1070694628903044,
          -1.0038048672080377,
          -0.9102674907071854,
          -0.8240868004562736,
          -0.7436321948616521,
          -0.667727110604202,
          -0.595489101363644,
          -0.5262343894479194,
          -0.45941783418576615,
          -0.3945934820453098,
          -0.33138763259250686,
          -0.26947979801752303,
          -0.20858878396464725,
          -0.148462158735626,
          -0.08886798295158897,
          -0.029588032793860894,
          0.029588032793860894,
          0.08886798295158911,
          0.148462158735626,
          0.2085887839646474,
          0.26947979801752303,
          0.33138763259250686,
          0.3945934820453096,
          0.45941783418576615,
          0.5262343894479193,
          0.5954891013636436,
          0.6677271106042019,
          0.7436321948616517,
          0.8240868004562732,
          0.9102674907071853,
          1.003804867208037,
          1.107069462890304,
          1.223727303217423,
          1.35994814041008,
          1.5274966702195378,
          1.754010116215015,
          2.1353046284158346
         ],
         "xaxis": "x",
         "y": [
          -70.36518919813165,
          -11.28790308165162,
          23.80780176095257,
          49.767557585436435,
          70.87344061377289,
          88.94825782254011,
          104.9479427632215,
          119.44050475219501,
          132.79323114283181,
          145.2587652693726,
          157.01940235404993,
          168.2118675058739,
          178.94210436961566,
          189.29457634660773,
          199.33837890912721,
          209.13141272649247,
          218.7233337717967,
          228.15770994039403,
          237.47365267812333,
          246.70709837695657,
          255.89185835743672,
          265.060522594944,
          274.2452825754242,
          283.4787282742574,
          292.79467101198674,
          302.2290471805841,
          311.8209682258883,
          321.6140020432535,
          331.657804605773,
          342.0102765827651,
          352.7405134465068,
          363.9329785983308,
          375.6936156830081,
          388.15914980954886,
          401.5118762001857,
          416.00443818915915,
          432.00412312984054,
          450.07894033860777,
          471.1848233669441,
          497.14457919142797,
          532.2402840340321,
          591.3175701505124
         ],
         "yaxis": "y"
        }
       ],
       "layout": {
        "legend": {
         "tracegroupgap": 0
        },
        "margin": {
         "t": 60
        },
        "template": {
         "data": {
          "bar": [
           {
            "error_x": {
             "color": "#2a3f5f"
            },
            "error_y": {
             "color": "#2a3f5f"
            },
            "marker": {
             "line": {
              "color": "#E5ECF6",
              "width": 0.5
             },
             "pattern": {
              "fillmode": "overlay",
              "size": 10,
              "solidity": 0.2
             }
            },
            "type": "bar"
           }
          ],
          "barpolar": [
           {
            "marker": {
             "line": {
              "color": "#E5ECF6",
              "width": 0.5
             },
             "pattern": {
              "fillmode": "overlay",
              "size": 10,
              "solidity": 0.2
             }
            },
            "type": "barpolar"
           }
          ],
          "carpet": [
           {
            "aaxis": {
             "endlinecolor": "#2a3f5f",
             "gridcolor": "white",
             "linecolor": "white",
             "minorgridcolor": "white",
             "startlinecolor": "#2a3f5f"
            },
            "baxis": {
             "endlinecolor": "#2a3f5f",
             "gridcolor": "white",
             "linecolor": "white",
             "minorgridcolor": "white",
             "startlinecolor": "#2a3f5f"
            },
            "type": "carpet"
           }
          ],
          "choropleth": [
           {
            "colorbar": {
             "outlinewidth": 0,
             "ticks": ""
            },
            "type": "choropleth"
           }
          ],
          "contour": [
           {
            "colorbar": {
             "outlinewidth": 0,
             "ticks": ""
            },
            "colorscale": [
             [
              0,
              "#0d0887"
             ],
             [
              0.1111111111111111,
              "#46039f"
             ],
             [
              0.2222222222222222,
              "#7201a8"
             ],
             [
              0.3333333333333333,
              "#9c179e"
             ],
             [
              0.4444444444444444,
              "#bd3786"
             ],
             [
              0.5555555555555556,
              "#d8576b"
             ],
             [
              0.6666666666666666,
              "#ed7953"
             ],
             [
              0.7777777777777778,
              "#fb9f3a"
             ],
             [
              0.8888888888888888,
              "#fdca26"
             ],
             [
              1,
              "#f0f921"
             ]
            ],
            "type": "contour"
           }
          ],
          "contourcarpet": [
           {
            "colorbar": {
             "outlinewidth": 0,
             "ticks": ""
            },
            "type": "contourcarpet"
           }
          ],
          "heatmap": [
           {
            "colorbar": {
             "outlinewidth": 0,
             "ticks": ""
            },
            "colorscale": [
             [
              0,
              "#0d0887"
             ],
             [
              0.1111111111111111,
              "#46039f"
             ],
             [
              0.2222222222222222,
              "#7201a8"
             ],
             [
              0.3333333333333333,
              "#9c179e"
             ],
             [
              0.4444444444444444,
              "#bd3786"
             ],
             [
              0.5555555555555556,
              "#d8576b"
             ],
             [
              0.6666666666666666,
              "#ed7953"
             ],
             [
              0.7777777777777778,
              "#fb9f3a"
             ],
             [
              0.8888888888888888,
              "#fdca26"
             ],
             [
              1,
              "#f0f921"
             ]
            ],
            "type": "heatmap"
           }
          ],
          "heatmapgl": [
           {
            "colorbar": {
             "outlinewidth": 0,
             "ticks": ""
            },
            "colorscale": [
             [
              0,
              "#0d0887"
             ],
             [
              0.1111111111111111,
              "#46039f"
             ],
             [
              0.2222222222222222,
              "#7201a8"
             ],
             [
              0.3333333333333333,
              "#9c179e"
             ],
             [
              0.4444444444444444,
              "#bd3786"
             ],
             [
              0.5555555555555556,
              "#d8576b"
             ],
             [
              0.6666666666666666,
              "#ed7953"
             ],
             [
              0.7777777777777778,
              "#fb9f3a"
             ],
             [
              0.8888888888888888,
              "#fdca26"
             ],
             [
              1,
              "#f0f921"
             ]
            ],
            "type": "heatmapgl"
           }
          ],
          "histogram": [
           {
            "marker": {
             "pattern": {
              "fillmode": "overlay",
              "size": 10,
              "solidity": 0.2
             }
            },
            "type": "histogram"
           }
          ],
          "histogram2d": [
           {
            "colorbar": {
             "outlinewidth": 0,
             "ticks": ""
            },
            "colorscale": [
             [
              0,
              "#0d0887"
             ],
             [
              0.1111111111111111,
              "#46039f"
             ],
             [
              0.2222222222222222,
              "#7201a8"
             ],
             [
              0.3333333333333333,
              "#9c179e"
             ],
             [
              0.4444444444444444,
              "#bd3786"
             ],
             [
              0.5555555555555556,
              "#d8576b"
             ],
             [
              0.6666666666666666,
              "#ed7953"
             ],
             [
              0.7777777777777778,
              "#fb9f3a"
             ],
             [
              0.8888888888888888,
              "#fdca26"
             ],
             [
              1,
              "#f0f921"
             ]
            ],
            "type": "histogram2d"
           }
          ],
          "histogram2dcontour": [
           {
            "colorbar": {
             "outlinewidth": 0,
             "ticks": ""
            },
            "colorscale": [
             [
              0,
              "#0d0887"
             ],
             [
              0.1111111111111111,
              "#46039f"
             ],
             [
              0.2222222222222222,
              "#7201a8"
             ],
             [
              0.3333333333333333,
              "#9c179e"
             ],
             [
              0.4444444444444444,
              "#bd3786"
             ],
             [
              0.5555555555555556,
              "#d8576b"
             ],
             [
              0.6666666666666666,
              "#ed7953"
             ],
             [
              0.7777777777777778,
              "#fb9f3a"
             ],
             [
              0.8888888888888888,
              "#fdca26"
             ],
             [
              1,
              "#f0f921"
             ]
            ],
            "type": "histogram2dcontour"
           }
          ],
          "mesh3d": [
           {
            "colorbar": {
             "outlinewidth": 0,
             "ticks": ""
            },
            "type": "mesh3d"
           }
          ],
          "parcoords": [
           {
            "line": {
             "colorbar": {
              "outlinewidth": 0,
              "ticks": ""
             }
            },
            "type": "parcoords"
           }
          ],
          "pie": [
           {
            "automargin": true,
            "type": "pie"
           }
          ],
          "scatter": [
           {
            "fillpattern": {
             "fillmode": "overlay",
             "size": 10,
             "solidity": 0.2
            },
            "type": "scatter"
           }
          ],
          "scatter3d": [
           {
            "line": {
             "colorbar": {
              "outlinewidth": 0,
              "ticks": ""
             }
            },
            "marker": {
             "colorbar": {
              "outlinewidth": 0,
              "ticks": ""
             }
            },
            "type": "scatter3d"
           }
          ],
          "scattercarpet": [
           {
            "marker": {
             "colorbar": {
              "outlinewidth": 0,
              "ticks": ""
             }
            },
            "type": "scattercarpet"
           }
          ],
          "scattergeo": [
           {
            "marker": {
             "colorbar": {
              "outlinewidth": 0,
              "ticks": ""
             }
            },
            "type": "scattergeo"
           }
          ],
          "scattergl": [
           {
            "marker": {
             "colorbar": {
              "outlinewidth": 0,
              "ticks": ""
             }
            },
            "type": "scattergl"
           }
          ],
          "scattermapbox": [
           {
            "marker": {
             "colorbar": {
              "outlinewidth": 0,
              "ticks": ""
             }
            },
            "type": "scattermapbox"
           }
          ],
          "scatterpolar": [
           {
            "marker": {
             "colorbar": {
              "outlinewidth": 0,
              "ticks": ""
             }
            },
            "type": "scatterpolar"
           }
          ],
          "scatterpolargl": [
           {
            "marker": {
             "colorbar": {
              "outlinewidth": 0,
              "ticks": ""
             }
            },
            "type": "scatterpolargl"
           }
          ],
          "scatterternary": [
           {
            "marker": {
             "colorbar": {
              "outlinewidth": 0,
              "ticks": ""
             }
            },
            "type": "scatterternary"
           }
          ],
          "surface": [
           {
            "colorbar": {
             "outlinewidth": 0,
             "ticks": ""
            },
            "colorscale": [
             [
              0,
              "#0d0887"
             ],
             [
              0.1111111111111111,
              "#46039f"
             ],
             [
              0.2222222222222222,
              "#7201a8"
             ],
             [
              0.3333333333333333,
              "#9c179e"
             ],
             [
              0.4444444444444444,
              "#bd3786"
             ],
             [
              0.5555555555555556,
              "#d8576b"
             ],
             [
              0.6666666666666666,
              "#ed7953"
             ],
             [
              0.7777777777777778,
              "#fb9f3a"
             ],
             [
              0.8888888888888888,
              "#fdca26"
             ],
             [
              1,
              "#f0f921"
             ]
            ],
            "type": "surface"
           }
          ],
          "table": [
           {
            "cells": {
             "fill": {
              "color": "#EBF0F8"
             },
             "line": {
              "color": "white"
             }
            },
            "header": {
             "fill": {
              "color": "#C8D4E3"
             },
             "line": {
              "color": "white"
             }
            },
            "type": "table"
           }
          ]
         },
         "layout": {
          "annotationdefaults": {
           "arrowcolor": "#2a3f5f",
           "arrowhead": 0,
           "arrowwidth": 1
          },
          "autotypenumbers": "strict",
          "coloraxis": {
           "colorbar": {
            "outlinewidth": 0,
            "ticks": ""
           }
          },
          "colorscale": {
           "diverging": [
            [
             0,
             "#8e0152"
            ],
            [
             0.1,
             "#c51b7d"
            ],
            [
             0.2,
             "#de77ae"
            ],
            [
             0.3,
             "#f1b6da"
            ],
            [
             0.4,
             "#fde0ef"
            ],
            [
             0.5,
             "#f7f7f7"
            ],
            [
             0.6,
             "#e6f5d0"
            ],
            [
             0.7,
             "#b8e186"
            ],
            [
             0.8,
             "#7fbc41"
            ],
            [
             0.9,
             "#4d9221"
            ],
            [
             1,
             "#276419"
            ]
           ],
           "sequential": [
            [
             0,
             "#0d0887"
            ],
            [
             0.1111111111111111,
             "#46039f"
            ],
            [
             0.2222222222222222,
             "#7201a8"
            ],
            [
             0.3333333333333333,
             "#9c179e"
            ],
            [
             0.4444444444444444,
             "#bd3786"
            ],
            [
             0.5555555555555556,
             "#d8576b"
            ],
            [
             0.6666666666666666,
             "#ed7953"
            ],
            [
             0.7777777777777778,
             "#fb9f3a"
            ],
            [
             0.8888888888888888,
             "#fdca26"
            ],
            [
             1,
             "#f0f921"
            ]
           ],
           "sequentialminus": [
            [
             0,
             "#0d0887"
            ],
            [
             0.1111111111111111,
             "#46039f"
            ],
            [
             0.2222222222222222,
             "#7201a8"
            ],
            [
             0.3333333333333333,
             "#9c179e"
            ],
            [
             0.4444444444444444,
             "#bd3786"
            ],
            [
             0.5555555555555556,
             "#d8576b"
            ],
            [
             0.6666666666666666,
             "#ed7953"
            ],
            [
             0.7777777777777778,
             "#fb9f3a"
            ],
            [
             0.8888888888888888,
             "#fdca26"
            ],
            [
             1,
             "#f0f921"
            ]
           ]
          },
          "colorway": [
           "#636efa",
           "#EF553B",
           "#00cc96",
           "#ab63fa",
           "#FFA15A",
           "#19d3f3",
           "#FF6692",
           "#B6E880",
           "#FF97FF",
           "#FECB52"
          ],
          "font": {
           "color": "#2a3f5f"
          },
          "geo": {
           "bgcolor": "white",
           "lakecolor": "white",
           "landcolor": "#E5ECF6",
           "showlakes": true,
           "showland": true,
           "subunitcolor": "white"
          },
          "hoverlabel": {
           "align": "left"
          },
          "hovermode": "closest",
          "mapbox": {
           "style": "light"
          },
          "paper_bgcolor": "white",
          "plot_bgcolor": "#E5ECF6",
          "polar": {
           "angularaxis": {
            "gridcolor": "white",
            "linecolor": "white",
            "ticks": ""
           },
           "bgcolor": "#E5ECF6",
           "radialaxis": {
            "gridcolor": "white",
            "linecolor": "white",
            "ticks": ""
           }
          },
          "scene": {
           "xaxis": {
            "backgroundcolor": "#E5ECF6",
            "gridcolor": "white",
            "gridwidth": 2,
            "linecolor": "white",
            "showbackground": true,
            "ticks": "",
            "zerolinecolor": "white"
           },
           "yaxis": {
            "backgroundcolor": "#E5ECF6",
            "gridcolor": "white",
            "gridwidth": 2,
            "linecolor": "white",
            "showbackground": true,
            "ticks": "",
            "zerolinecolor": "white"
           },
           "zaxis": {
            "backgroundcolor": "#E5ECF6",
            "gridcolor": "white",
            "gridwidth": 2,
            "linecolor": "white",
            "showbackground": true,
            "ticks": "",
            "zerolinecolor": "white"
           }
          },
          "shapedefaults": {
           "line": {
            "color": "#2a3f5f"
           }
          },
          "ternary": {
           "aaxis": {
            "gridcolor": "white",
            "linecolor": "white",
            "ticks": ""
           },
           "baxis": {
            "gridcolor": "white",
            "linecolor": "white",
            "ticks": ""
           },
           "bgcolor": "#E5ECF6",
           "caxis": {
            "gridcolor": "white",
            "linecolor": "white",
            "ticks": ""
           }
          },
          "title": {
           "x": 0.05
          },
          "xaxis": {
           "automargin": true,
           "gridcolor": "white",
           "linecolor": "white",
           "ticks": "",
           "title": {
            "standoff": 15
           },
           "zerolinecolor": "white",
           "zerolinewidth": 2
          },
          "yaxis": {
           "automargin": true,
           "gridcolor": "white",
           "linecolor": "white",
           "ticks": "",
           "title": {
            "standoff": 15
           },
           "zerolinecolor": "white",
           "zerolinewidth": 2
          }
         }
        },
        "xaxis": {
         "anchor": "y",
         "domain": [
          0,
          1
         ],
         "title": {
          "text": "x"
         }
        },
        "yaxis": {
         "anchor": "x",
         "domain": [
          0,
          1
         ],
         "title": {
          "text": "y"
         }
        }
       }
      }
     },
     "metadata": {},
     "output_type": "display_data"
    }
   ],
   "source": [
    "from scipy.stats import probplot\n",
    "\n",
    "(Q_x, Q_y) = probplot(dairy_queen['cal_fat'], fit=False)\n",
    "px.scatter(x=Q_x, y=Q_y, trendline=\"ols\")"
   ]
  },
  {
   "attachments": {},
   "cell_type": "markdown",
   "metadata": {},
   "source": [
    "Die Werte auf der x-Achse entsprechen den Quantilen einer theoretischen Normalkurve mit Mittelwert 0 und Standardabweichung 1 (d. h. der Standardnormalverteilung). Die Werte auf der y-Achse entsprechen den Quantilen der ursprünglichen, nicht standardisierten Stichprobendaten. Aber auch wenn wir die Stichprobendatenwerte standardisieren würden, sähe die Q-Q-Kurve identisch aus. Ein nahezu normaler Datensatz führt zu einem Wahrscheinlichkeitsdiagramm, bei dem die Punkte eng an einer diagonalen Linie liegen. Jede Abweichung von der Normalität führt zu einer Abweichung der Punkte von dieser Linie.\n",
    "\n",
    "Das Diagramm für die Kalorien aus Fett von Dairy Queen zeigt Punkte, die tendenziell der Linie folgen, aber mit einigen abweichenden Punkten am oberen Ende. Hier stellt sich das gleiche Problem wie beim obigen Histogramm: Wie nah ist nah genug?\n",
    "\n",
    "Diese Frage lässt sich sinnvollerweise folgendermaßen umformulieren: Wie sehen Wahrscheinlichkeitsdiagramme für Daten aus, von denen ich *weiß*, dass sie aus einer Normalverteilung stammen? Wir können diese Frage beantworten, indem wir Daten aus einer Normalverteilung mit `np.random.norm` simulieren."
   ]
  },
  {
   "cell_type": "code",
   "execution_count": 10,
   "metadata": {},
   "outputs": [],
   "source": [
    "sim_norm = np.random.normal(size = len(dairy_queen['cal_fat']), loc = dqmean, scale = dqsd)"
   ]
  },
  {
   "attachments": {},
   "cell_type": "markdown",
   "metadata": {},
   "source": [
    "Das erste Argument gibt an, wie viele Zahlen Sie generieren möchten. Wir geben an, dass dies die gleiche Anzahl von Produkten im dairy_queen-Datensatz ist, indem wir die Funktion `len()` verwenden. Die letzten beiden Argumente (`loc` and `scale`) bestimmen den Mittelwert und die Standardabweichung der Normalverteilung, aus der die simulierte Stichprobe erzeugt wird. Wir können uns die Form unseres simulierten Datensatzes, `sim_norm`, sowie die Darstellung der Normalwahrscheinlichkeit ansehen."
   ]
  },
  {
   "attachments": {},
   "cell_type": "markdown",
   "metadata": {},
   "source": [
    "<div class = 'exercise'>\n",
    "<h4>Exercise 3</h4>\n",
    "Make a normal probability plot of <code>sim_norm</code>. Do all of the points fall on the line? How does this plot compare to the probability plot for the real data?\n",
    "</div>"
   ]
  },
  {
   "attachments": {},
   "cell_type": "markdown",
   "metadata": {},
   "source": [
    "### ✏️ Aufgabe 3\n",
    "Erstellen Sie ein Normalwahrscheinlichkeitsdiagramm von `sim_norm`. Fallen alle Punkte auf die Linie? Wie verhält sich diese Darstellung im Vergleich zur Wahrscheinlichkeitsdarstellung für die realen Daten?"
   ]
  },
  {
   "attachments": {},
   "cell_type": "markdown",
   "metadata": {},
   "source": [
    "Noch besser als der Vergleich des ursprünglichen Diagramms mit einem einzelnen Diagramm, das aus einer Normalverteilung generiert wurde, ist der Vergleich mit vielen weiteren Diagrammen, bei denen zufällig Daten aus einer Normalverteilung generiert wurden. Der folgende Code generiert 9 Plots: in der linken oberen Ecke sieht man den Q-Q-Plot, die den Originaldaten entspricht. Die restlichen Plots zeigen Q-Q-Plots von 8 verschiedenen simulierten *normalverteilten* Daten. Je nachdem, welches Gerät sie benutzen, kann es sinnvoll sein, die Parameter `width` und `height` zu modifizieren oder die Zoom Funktionalität von plotly zu benutzen."
   ]
  },
  {
   "cell_type": "code",
   "execution_count": 11,
   "metadata": {},
   "outputs": [
    {
     "data": {
      "application/vnd.plotly.v1+json": {
       "config": {
        "plotlyServerURL": "https://plot.ly"
       },
       "data": [
        {
         "hovertemplate": "sample=data<br>Q_x=%{x}<br>Q_y=%{y}<extra></extra>",
         "legendgroup": "",
         "marker": {
          "color": "#636efa",
          "symbol": "circle"
         },
         "mode": "markers",
         "name": "",
         "orientation": "v",
         "showlegend": false,
         "type": "scatter",
         "x": [
          -2.1353046284158346,
          -1.7540101162150163,
          -1.527496670219539,
          -1.359948140410081,
          -1.2237273032174234,
          -1.1070694628903044,
          -1.0038048672080377,
          -0.9102674907071854,
          -0.8240868004562736,
          -0.7436321948616521,
          -0.667727110604202,
          -0.595489101363644,
          -0.5262343894479194,
          -0.45941783418576615,
          -0.3945934820453098,
          -0.33138763259250686,
          -0.26947979801752303,
          -0.20858878396464725,
          -0.148462158735626,
          -0.08886798295158897,
          -0.029588032793860894,
          0.029588032793860894,
          0.08886798295158911,
          0.148462158735626,
          0.2085887839646474,
          0.26947979801752303,
          0.33138763259250686,
          0.3945934820453096,
          0.45941783418576615,
          0.5262343894479193,
          0.5954891013636436,
          0.6677271106042019,
          0.7436321948616517,
          0.8240868004562732,
          0.9102674907071853,
          1.003804867208037,
          1.107069462890304,
          1.223727303217423,
          1.35994814041008,
          1.5274966702195378,
          1.754010116215015,
          2.1353046284158346
         ],
         "xaxis": "x7",
         "y": [
          0,
          20,
          80,
          80,
          120,
          130,
          130,
          140,
          140,
          160,
          160,
          160,
          170,
          180,
          180,
          180,
          180,
          190,
          200,
          220,
          220,
          220,
          240,
          240,
          240,
          270,
          270,
          280,
          310,
          310,
          310,
          310,
          330,
          410,
          430,
          430,
          440,
          460,
          480,
          590,
          660,
          670
         ],
         "yaxis": "y7"
        },
        {
         "hovertemplate": "<b>OLS trendline</b><br>Q_y = 154.939 * Q_x + 260.476<br>R<sup>2</sup>=0.923481<br><br>sample=data<br>Q_x=%{x}<br>Q_y=%{y} <b>(trend)</b><extra></extra>",
         "legendgroup": "",
         "marker": {
          "color": "#636efa",
          "symbol": "circle"
         },
         "mode": "lines",
         "name": "",
         "showlegend": false,
         "type": "scatter",
         "x": [
          -2.1353046284158346,
          -1.7540101162150163,
          -1.527496670219539,
          -1.359948140410081,
          -1.2237273032174234,
          -1.1070694628903044,
          -1.0038048672080377,
          -0.9102674907071854,
          -0.8240868004562736,
          -0.7436321948616521,
          -0.667727110604202,
          -0.595489101363644,
          -0.5262343894479194,
          -0.45941783418576615,
          -0.3945934820453098,
          -0.33138763259250686,
          -0.26947979801752303,
          -0.20858878396464725,
          -0.148462158735626,
          -0.08886798295158897,
          -0.029588032793860894,
          0.029588032793860894,
          0.08886798295158911,
          0.148462158735626,
          0.2085887839646474,
          0.26947979801752303,
          0.33138763259250686,
          0.3945934820453096,
          0.45941783418576615,
          0.5262343894479193,
          0.5954891013636436,
          0.6677271106042019,
          0.7436321948616517,
          0.8240868004562732,
          0.9102674907071853,
          1.003804867208037,
          1.107069462890304,
          1.223727303217423,
          1.35994814041008,
          1.5274966702195378,
          1.754010116215015,
          2.1353046284158346
         ],
         "xaxis": "x7",
         "y": [
          -70.36518919813165,
          -11.28790308165162,
          23.80780176095257,
          49.767557585436435,
          70.87344061377289,
          88.94825782254011,
          104.9479427632215,
          119.44050475219501,
          132.79323114283181,
          145.2587652693726,
          157.01940235404993,
          168.2118675058739,
          178.94210436961566,
          189.29457634660773,
          199.33837890912721,
          209.13141272649247,
          218.7233337717967,
          228.15770994039403,
          237.47365267812333,
          246.70709837695657,
          255.89185835743672,
          265.060522594944,
          274.2452825754242,
          283.4787282742574,
          292.79467101198674,
          302.2290471805841,
          311.8209682258883,
          321.6140020432535,
          331.657804605773,
          342.0102765827651,
          352.7405134465068,
          363.9329785983308,
          375.6936156830081,
          388.15914980954886,
          401.5118762001857,
          416.00443818915915,
          432.00412312984054,
          450.07894033860777,
          471.1848233669441,
          497.14457919142797,
          532.2402840340321,
          591.3175701505124
         ],
         "yaxis": "y7"
        },
        {
         "hovertemplate": "sample=1<br>Q_x=%{x}<br>Q_y=%{y}<extra></extra>",
         "legendgroup": "",
         "marker": {
          "color": "#636efa",
          "symbol": "circle"
         },
         "mode": "markers",
         "name": "",
         "orientation": "v",
         "showlegend": false,
         "type": "scatter",
         "x": [
          -2.1353046284158346,
          -1.7540101162150163,
          -1.527496670219539,
          -1.359948140410081,
          -1.2237273032174234,
          -1.1070694628903044,
          -1.0038048672080377,
          -0.9102674907071854,
          -0.8240868004562736,
          -0.7436321948616521,
          -0.667727110604202,
          -0.595489101363644,
          -0.5262343894479194,
          -0.45941783418576615,
          -0.3945934820453098,
          -0.33138763259250686,
          -0.26947979801752303,
          -0.20858878396464725,
          -0.148462158735626,
          -0.08886798295158897,
          -0.029588032793860894,
          0.029588032793860894,
          0.08886798295158911,
          0.148462158735626,
          0.2085887839646474,
          0.26947979801752303,
          0.33138763259250686,
          0.3945934820453096,
          0.45941783418576615,
          0.5262343894479193,
          0.5954891013636436,
          0.6677271106042019,
          0.7436321948616517,
          0.8240868004562732,
          0.9102674907071853,
          1.003804867208037,
          1.107069462890304,
          1.223727303217423,
          1.35994814041008,
          1.5274966702195378,
          1.754010116215015,
          2.1353046284158346
         ],
         "xaxis": "x8",
         "y": [
          -6.656380085789408,
          -4.829577353512548,
          38.24135234940286,
          39.55906097246185,
          44.346855850875585,
          74.0166565698249,
          74.90821738481674,
          91.26951743898755,
          120.09660975028936,
          129.81639732380353,
          132.65045944593797,
          136.65175935848765,
          138.3126011905348,
          158.01411922713442,
          161.59792085329178,
          167.16798200951354,
          182.12556994268417,
          195.66504483086925,
          197.26588976351468,
          203.62835584999635,
          209.56197452075008,
          210.5106415429093,
          227.85493897107656,
          238.78377627657053,
          261.64507838831065,
          291.44003107386396,
          312.89183912655585,
          313.7811069583925,
          334.4696854857977,
          337.37558217729804,
          376.90275266144624,
          381.1298897739985,
          387.02483492379946,
          463.32045352060675,
          473.5410204552778,
          487.0424905400313,
          491.0058705075395,
          496.73329355392457,
          501.50463119143075,
          509.815910349589,
          519.1968561906656,
          565.0512835691575
         ],
         "yaxis": "y8"
        },
        {
         "hovertemplate": "<b>OLS trendline</b><br>Q_y = 165.557 * Q_x + 253.915<br>R<sup>2</sup>=0.955343<br><br>sample=1<br>Q_x=%{x}<br>Q_y=%{y} <b>(trend)</b><extra></extra>",
         "legendgroup": "",
         "marker": {
          "color": "#636efa",
          "symbol": "circle"
         },
         "mode": "lines",
         "name": "",
         "showlegend": false,
         "type": "scatter",
         "x": [
          -2.1353046284158346,
          -1.7540101162150163,
          -1.527496670219539,
          -1.359948140410081,
          -1.2237273032174234,
          -1.1070694628903044,
          -1.0038048672080377,
          -0.9102674907071854,
          -0.8240868004562736,
          -0.7436321948616521,
          -0.667727110604202,
          -0.595489101363644,
          -0.5262343894479194,
          -0.45941783418576615,
          -0.3945934820453098,
          -0.33138763259250686,
          -0.26947979801752303,
          -0.20858878396464725,
          -0.148462158735626,
          -0.08886798295158897,
          -0.029588032793860894,
          0.029588032793860894,
          0.08886798295158911,
          0.148462158735626,
          0.2085887839646474,
          0.26947979801752303,
          0.33138763259250686,
          0.3945934820453096,
          0.45941783418576615,
          0.5262343894479193,
          0.5954891013636436,
          0.6677271106042019,
          0.7436321948616517,
          0.8240868004562732,
          0.9102674907071853,
          1.003804867208037,
          1.107069462890304,
          1.223727303217423,
          1.35994814041008,
          1.5274966702195378,
          1.754010116215015,
          2.1353046284158346
         ],
         "xaxis": "x8",
         "y": [
          -99.6003216893676,
          -36.474212318435605,
          1.026753754651537,
          28.76564450511745,
          51.31800545463645,
          70.63156846649517,
          87.72778137435523,
          103.21358164245092,
          117.48142842325177,
          130.80127979705387,
          143.36792447019303,
          155.32745791780835,
          166.79308456323434,
          177.85505645189915,
          188.5872044691857,
          199.05139746900232,
          209.3006945641563,
          219.38164954728063,
          229.3360543416334,
          239.20230821636093,
          249.01653972879683,
          258.8135723870181,
          268.627803899454,
          278.4940577741815,
          288.44846256853435,
          298.52941755165864,
          308.7787146468126,
          319.2429076466292,
          329.9750556639158,
          341.0370275525805,
          352.50265419800655,
          364.4621876456219,
          377.028832318761,
          390.3486836925631,
          404.616530473364,
          420.1023307414596,
          437.1985436493197,
          456.5121066611784,
          479.0644676106973,
          506.8033583611632,
          544.3043244342502,
          607.4304338051825
         ],
         "yaxis": "y8"
        },
        {
         "hovertemplate": "sample=2<br>Q_x=%{x}<br>Q_y=%{y}<extra></extra>",
         "legendgroup": "",
         "marker": {
          "color": "#636efa",
          "symbol": "circle"
         },
         "mode": "markers",
         "name": "",
         "orientation": "v",
         "showlegend": false,
         "type": "scatter",
         "x": [
          -2.1353046284158346,
          -1.7540101162150163,
          -1.527496670219539,
          -1.359948140410081,
          -1.2237273032174234,
          -1.1070694628903044,
          -1.0038048672080377,
          -0.9102674907071854,
          -0.8240868004562736,
          -0.7436321948616521,
          -0.667727110604202,
          -0.595489101363644,
          -0.5262343894479194,
          -0.45941783418576615,
          -0.3945934820453098,
          -0.33138763259250686,
          -0.26947979801752303,
          -0.20858878396464725,
          -0.148462158735626,
          -0.08886798295158897,
          -0.029588032793860894,
          0.029588032793860894,
          0.08886798295158911,
          0.148462158735626,
          0.2085887839646474,
          0.26947979801752303,
          0.33138763259250686,
          0.3945934820453096,
          0.45941783418576615,
          0.5262343894479193,
          0.5954891013636436,
          0.6677271106042019,
          0.7436321948616517,
          0.8240868004562732,
          0.9102674907071853,
          1.003804867208037,
          1.107069462890304,
          1.223727303217423,
          1.35994814041008,
          1.5274966702195378,
          1.754010116215015,
          2.1353046284158346
         ],
         "xaxis": "x9",
         "y": [
          -129.6017746216159,
          -64.37855712497515,
          -56.99879363938669,
          -13.124312355324093,
          22.12233207979105,
          22.89802278274007,
          30.664803265320927,
          31.9645615713151,
          74.78324304433855,
          75.02764148237671,
          104.07556162740852,
          162.60377908068085,
          174.58528057141103,
          178.00060269880305,
          185.503716331677,
          193.67029769411852,
          198.95245722930602,
          200.2429121643185,
          232.56645953902103,
          249.40317033459246,
          250.73906424093923,
          253.6917026527525,
          258.79904987190645,
          261.30832668872307,
          304.73044437891514,
          307.313520775657,
          321.52742415450007,
          321.79930692195,
          324.8414561566526,
          352.9881799286403,
          361.65966191498785,
          391.0447863042707,
          391.2070061599505,
          396.8988054991986,
          402.4310281806477,
          406.5879661335372,
          418.5584095679316,
          422.4056656893634,
          494.2411592987675,
          538.9124297639498,
          574.9806511695733,
          714.5111645395042
         ],
         "yaxis": "y9"
        },
        {
         "hovertemplate": "<b>OLS trendline</b><br>Q_y = 188.776 * Q_x + 246.289<br>R<sup>2</sup>=0.985875<br><br>sample=2<br>Q_x=%{x}<br>Q_y=%{y} <b>(trend)</b><extra></extra>",
         "legendgroup": "",
         "marker": {
          "color": "#636efa",
          "symbol": "circle"
         },
         "mode": "lines",
         "name": "",
         "showlegend": false,
         "type": "scatter",
         "x": [
          -2.1353046284158346,
          -1.7540101162150163,
          -1.527496670219539,
          -1.359948140410081,
          -1.2237273032174234,
          -1.1070694628903044,
          -1.0038048672080377,
          -0.9102674907071854,
          -0.8240868004562736,
          -0.7436321948616521,
          -0.667727110604202,
          -0.595489101363644,
          -0.5262343894479194,
          -0.45941783418576615,
          -0.3945934820453098,
          -0.33138763259250686,
          -0.26947979801752303,
          -0.20858878396464725,
          -0.148462158735626,
          -0.08886798295158897,
          -0.029588032793860894,
          0.029588032793860894,
          0.08886798295158911,
          0.148462158735626,
          0.2085887839646474,
          0.26947979801752303,
          0.33138763259250686,
          0.3945934820453096,
          0.45941783418576615,
          0.5262343894479193,
          0.5954891013636436,
          0.6677271106042019,
          0.7436321948616517,
          0.8240868004562732,
          0.9102674907071853,
          1.003804867208037,
          1.107069462890304,
          1.223727303217423,
          1.35994814041008,
          1.5274966702195378,
          1.754010116215015,
          2.1353046284158346
         ],
         "xaxis": "x9",
         "y": [
          -156.80587061864048,
          -84.82650730452139,
          -42.06613939171359,
          -10.436949581738702,
          15.278314649705806,
          37.30054891654396,
          56.794456151654515,
          74.45209504014295,
          90.72096599353569,
          105.90888793073736,
          120.23796810978354,
          133.8747914729173,
          146.94843903585723,
          159.56182043191427,
          171.79912111423522,
          183.73088686423557,
          195.417618181565,
          206.91239789339238,
          218.26287911912848,
          229.5128465141627,
          240.7034955613189,
          251.8745336647874,
          263.06518271194363,
          274.3151501069778,
          285.665631332714,
          297.1604110445413,
          308.84714236187074,
          320.77890811187103,
          333.01620879419204,
          345.6295901902491,
          358.70323775318894,
          372.3400611163228,
          386.66914129536883,
          401.85706323257057,
          418.12593418596333,
          435.7835730744516,
          455.2774803095623,
          477.29971457640045,
          503.0149788078448,
          534.6441686178198,
          577.4045365306274,
          649.3838998447468
         ],
         "yaxis": "y9"
        },
        {
         "hovertemplate": "sample=3<br>Q_x=%{x}<br>Q_y=%{y}<extra></extra>",
         "legendgroup": "",
         "marker": {
          "color": "#636efa",
          "symbol": "circle"
         },
         "mode": "markers",
         "name": "",
         "orientation": "v",
         "showlegend": false,
         "type": "scatter",
         "x": [
          -2.1353046284158346,
          -1.7540101162150163,
          -1.527496670219539,
          -1.359948140410081,
          -1.2237273032174234,
          -1.1070694628903044,
          -1.0038048672080377,
          -0.9102674907071854,
          -0.8240868004562736,
          -0.7436321948616521,
          -0.667727110604202,
          -0.595489101363644,
          -0.5262343894479194,
          -0.45941783418576615,
          -0.3945934820453098,
          -0.33138763259250686,
          -0.26947979801752303,
          -0.20858878396464725,
          -0.148462158735626,
          -0.08886798295158897,
          -0.029588032793860894,
          0.029588032793860894,
          0.08886798295158911,
          0.148462158735626,
          0.2085887839646474,
          0.26947979801752303,
          0.33138763259250686,
          0.3945934820453096,
          0.45941783418576615,
          0.5262343894479193,
          0.5954891013636436,
          0.6677271106042019,
          0.7436321948616517,
          0.8240868004562732,
          0.9102674907071853,
          1.003804867208037,
          1.107069462890304,
          1.223727303217423,
          1.35994814041008,
          1.5274966702195378,
          1.754010116215015,
          2.1353046284158346
         ],
         "xaxis": "x4",
         "y": [
          -61.75555868004244,
          -34.52444666956728,
          5.819746079045842,
          11.63725608348389,
          19.712235492416937,
          27.16374697083171,
          40.30792246544087,
          68.72977093098208,
          68.84270905349004,
          105.47876227506384,
          110.36136793813742,
          121.2773843622478,
          148.60870961442322,
          156.56735943884638,
          175.15470097068373,
          184.36604712877414,
          200.6143885084154,
          204.93579115619542,
          215.817445181692,
          233.64332663081348,
          238.5713665135822,
          243.6331516824631,
          251.00503066212457,
          259.2974240726819,
          267.24001918176435,
          270.3756422252574,
          279.40954079724844,
          282.86567437907456,
          313.0378332188639,
          319.8753902271863,
          342.2022296201568,
          353.1329665334919,
          355.49141715392324,
          380.2944941702586,
          383.00206569586953,
          391.35458807035764,
          413.55434502027754,
          438.30454630274346,
          455.355113257158,
          508.20524584383753,
          528.2479041715079,
          561.2369179572476
         ],
         "yaxis": "y4"
        },
        {
         "hovertemplate": "<b>OLS trendline</b><br>Q_y = 162.571 * Q_x + 234.249<br>R<sup>2</sup>=0.990736<br><br>sample=3<br>Q_x=%{x}<br>Q_y=%{y} <b>(trend)</b><extra></extra>",
         "legendgroup": "",
         "marker": {
          "color": "#636efa",
          "symbol": "circle"
         },
         "mode": "lines",
         "name": "",
         "showlegend": false,
         "type": "scatter",
         "x": [
          -2.1353046284158346,
          -1.7540101162150163,
          -1.527496670219539,
          -1.359948140410081,
          -1.2237273032174234,
          -1.1070694628903044,
          -1.0038048672080377,
          -0.9102674907071854,
          -0.8240868004562736,
          -0.7436321948616521,
          -0.667727110604202,
          -0.595489101363644,
          -0.5262343894479194,
          -0.45941783418576615,
          -0.3945934820453098,
          -0.33138763259250686,
          -0.26947979801752303,
          -0.20858878396464725,
          -0.148462158735626,
          -0.08886798295158897,
          -0.029588032793860894,
          0.029588032793860894,
          0.08886798295158911,
          0.148462158735626,
          0.2085887839646474,
          0.26947979801752303,
          0.33138763259250686,
          0.3945934820453096,
          0.45941783418576615,
          0.5262343894479193,
          0.5954891013636436,
          0.6677271106042019,
          0.7436321948616517,
          0.8240868004562732,
          0.9102674907071853,
          1.003804867208037,
          1.107069462890304,
          1.223727303217423,
          1.35994814041008,
          1.5274966702195378,
          1.754010116215015,
          2.1353046284158346
         ],
         "xaxis": "x4",
         "y": [
          -112.89022254260698,
          -50.902710126494526,
          -14.078143822046798,
          13.160424370078545,
          35.30601148612354,
          54.271218417571845,
          71.05906928395942,
          86.2655543019327,
          100.27605389219161,
          113.3556569382575,
          125.69563876935361,
          137.43945975662228,
          148.69828247078,
          159.5607310935213,
          170.09930483270128,
          180.37475662221735,
          190.43918855495474,
          200.33831473918997,
          210.11317330300776,
          219.80147091321675,
          229.4386844813296,
          239.05900940859644,
          248.69622297670932,
          258.38452058691826,
          268.1593791507361,
          278.0585053349713,
          288.12293726770866,
          298.39838905722473,
          308.9369627964047,
          319.79941141914605,
          331.0582341333037,
          342.8020551205724,
          355.1420369516685,
          368.22163999773437,
          382.23213958799334,
          397.43862460596654,
          414.22647547235414,
          433.1916824038024,
          455.33726951984727,
          482.57583771197267,
          519.4004040164203,
          581.3879164325331
         ],
         "yaxis": "y4"
        },
        {
         "hovertemplate": "sample=4<br>Q_x=%{x}<br>Q_y=%{y}<extra></extra>",
         "legendgroup": "",
         "marker": {
          "color": "#636efa",
          "symbol": "circle"
         },
         "mode": "markers",
         "name": "",
         "orientation": "v",
         "showlegend": false,
         "type": "scatter",
         "x": [
          -2.1353046284158346,
          -1.7540101162150163,
          -1.527496670219539,
          -1.359948140410081,
          -1.2237273032174234,
          -1.1070694628903044,
          -1.0038048672080377,
          -0.9102674907071854,
          -0.8240868004562736,
          -0.7436321948616521,
          -0.667727110604202,
          -0.595489101363644,
          -0.5262343894479194,
          -0.45941783418576615,
          -0.3945934820453098,
          -0.33138763259250686,
          -0.26947979801752303,
          -0.20858878396464725,
          -0.148462158735626,
          -0.08886798295158897,
          -0.029588032793860894,
          0.029588032793860894,
          0.08886798295158911,
          0.148462158735626,
          0.2085887839646474,
          0.26947979801752303,
          0.33138763259250686,
          0.3945934820453096,
          0.45941783418576615,
          0.5262343894479193,
          0.5954891013636436,
          0.6677271106042019,
          0.7436321948616517,
          0.8240868004562732,
          0.9102674907071853,
          1.003804867208037,
          1.107069462890304,
          1.223727303217423,
          1.35994814041008,
          1.5274966702195378,
          1.754010116215015,
          2.1353046284158346
         ],
         "xaxis": "x5",
         "y": [
          -4.838788985313158,
          83.65808629216502,
          83.92947903727423,
          103.50412295400105,
          127.23224553936416,
          134.9611172520478,
          135.7672496600351,
          136.6247974861462,
          157.308971069356,
          163.11624639616784,
          165.27561868348505,
          175.35529434118678,
          185.92151508769797,
          188.6721246822746,
          201.2998180684624,
          216.22305422828197,
          247.09057638289104,
          257.7842964505285,
          264.9893747540579,
          283.12865177255657,
          289.029140546021,
          298.85428421201595,
          301.732236278286,
          309.8318782915321,
          329.2047629620127,
          335.0794316190669,
          336.505734892171,
          342.56353039844635,
          351.41903995496125,
          357.2952279380214,
          388.2831879755297,
          404.7684962393623,
          404.79987149802696,
          408.2460072892926,
          411.08760654234436,
          414.93433808205725,
          426.8995355899318,
          446.4317095284407,
          463.15814725683515,
          473.0510542618048,
          475.47660601915175,
          629.1240781859987
         ],
         "yaxis": "y5"
        },
        {
         "hovertemplate": "<b>OLS trendline</b><br>Q_y = 138.503 * Q_x + 283.447<br>R<sup>2</sup>=0.978809<br><br>sample=4<br>Q_x=%{x}<br>Q_y=%{y} <b>(trend)</b><extra></extra>",
         "legendgroup": "",
         "marker": {
          "color": "#636efa",
          "symbol": "circle"
         },
         "mode": "lines",
         "name": "",
         "showlegend": false,
         "type": "scatter",
         "x": [
          -2.1353046284158346,
          -1.7540101162150163,
          -1.527496670219539,
          -1.359948140410081,
          -1.2237273032174234,
          -1.1070694628903044,
          -1.0038048672080377,
          -0.9102674907071854,
          -0.8240868004562736,
          -0.7436321948616521,
          -0.667727110604202,
          -0.595489101363644,
          -0.5262343894479194,
          -0.45941783418576615,
          -0.3945934820453098,
          -0.33138763259250686,
          -0.26947979801752303,
          -0.20858878396464725,
          -0.148462158735626,
          -0.08886798295158897,
          -0.029588032793860894,
          0.029588032793860894,
          0.08886798295158911,
          0.148462158735626,
          0.2085887839646474,
          0.26947979801752303,
          0.33138763259250686,
          0.3945934820453096,
          0.45941783418576615,
          0.5262343894479193,
          0.5954891013636436,
          0.6677271106042019,
          0.7436321948616517,
          0.8240868004562732,
          0.9102674907071853,
          1.003804867208037,
          1.107069462890304,
          1.223727303217423,
          1.35994814041008,
          1.5274966702195378,
          1.754010116215015,
          2.1353046284158346
         ],
         "xaxis": "x5",
         "y": [
          -12.299924059233376,
          40.510681933648016,
          71.88357602412663,
          95.0896257031045,
          113.95668182588719,
          130.11419536033648,
          144.41669828416082,
          157.3719477774781,
          169.30827083328552,
          180.45151140038934,
          190.96462755944236,
          200.96984117160162,
          210.56185780730283,
          219.81618133109046,
          228.7945778463553,
          237.54880615305422,
          246.12325491902556,
          254.55687053308876,
          262.88461565672986,
          271.1386146944704,
          279.34909239840493,
          287.545181730832,
          295.7556594347665,
          304.00965847250706,
          312.3374035961482,
          320.77101921021136,
          329.3454679761827,
          338.09969628288155,
          347.07809279814643,
          356.3324163219341,
          365.9244329576353,
          375.9296465697945,
          386.44276272884747,
          397.58600329595134,
          409.5223263517588,
          422.477575845076,
          436.78007876890035,
          452.9375923033497,
          471.80464842613225,
          495.0106981051101,
          526.3835921955887,
          579.1941981884703
         ],
         "yaxis": "y5"
        },
        {
         "hovertemplate": "sample=5<br>Q_x=%{x}<br>Q_y=%{y}<extra></extra>",
         "legendgroup": "",
         "marker": {
          "color": "#636efa",
          "symbol": "circle"
         },
         "mode": "markers",
         "name": "",
         "orientation": "v",
         "showlegend": false,
         "type": "scatter",
         "x": [
          -2.1353046284158346,
          -1.7540101162150163,
          -1.527496670219539,
          -1.359948140410081,
          -1.2237273032174234,
          -1.1070694628903044,
          -1.0038048672080377,
          -0.9102674907071854,
          -0.8240868004562736,
          -0.7436321948616521,
          -0.667727110604202,
          -0.595489101363644,
          -0.5262343894479194,
          -0.45941783418576615,
          -0.3945934820453098,
          -0.33138763259250686,
          -0.26947979801752303,
          -0.20858878396464725,
          -0.148462158735626,
          -0.08886798295158897,
          -0.029588032793860894,
          0.029588032793860894,
          0.08886798295158911,
          0.148462158735626,
          0.2085887839646474,
          0.26947979801752303,
          0.33138763259250686,
          0.3945934820453096,
          0.45941783418576615,
          0.5262343894479193,
          0.5954891013636436,
          0.6677271106042019,
          0.7436321948616517,
          0.8240868004562732,
          0.9102674907071853,
          1.003804867208037,
          1.107069462890304,
          1.223727303217423,
          1.35994814041008,
          1.5274966702195378,
          1.754010116215015,
          2.1353046284158346
         ],
         "xaxis": "x6",
         "y": [
          -188.25665260281028,
          -88.27331835789113,
          -65.43451951377733,
          27.04198666590017,
          34.79005159921212,
          74.42442318999505,
          74.7839442543509,
          88.80430378863818,
          112.77714101048994,
          114.16131113065956,
          151.86209281372945,
          175.41927227568073,
          196.0084435038528,
          197.73491681098838,
          199.30688718926262,
          200.92168329880215,
          229.60452325566507,
          232.61494055352762,
          232.9914415187229,
          233.31394862233165,
          280.9556188893963,
          283.9968736960937,
          291.16289766980515,
          306.34311811916916,
          307.9613933438643,
          317.74655177491013,
          320.5842462508953,
          320.947609545602,
          342.21603711621026,
          369.5393203793277,
          375.95570332231046,
          379.96866136128284,
          381.4656983942086,
          385.27103349099707,
          408.0010752793157,
          432.2093867548889,
          438.31191402005584,
          457.7729632515086,
          478.35352893535526,
          552.6418325478386,
          613.7710515098586,
          658.3680538694935
         ],
         "yaxis": "y6"
        },
        {
         "hovertemplate": "<b>OLS trendline</b><br>Q_y = 185.46 * Q_x + 260.432<br>R<sup>2</sup>=0.987635<br><br>sample=5<br>Q_x=%{x}<br>Q_y=%{y} <b>(trend)</b><extra></extra>",
         "legendgroup": "",
         "marker": {
          "color": "#636efa",
          "symbol": "circle"
         },
         "mode": "lines",
         "name": "",
         "showlegend": false,
         "type": "scatter",
         "x": [
          -2.1353046284158346,
          -1.7540101162150163,
          -1.527496670219539,
          -1.359948140410081,
          -1.2237273032174234,
          -1.1070694628903044,
          -1.0038048672080377,
          -0.9102674907071854,
          -0.8240868004562736,
          -0.7436321948616521,
          -0.667727110604202,
          -0.595489101363644,
          -0.5262343894479194,
          -0.45941783418576615,
          -0.3945934820453098,
          -0.33138763259250686,
          -0.26947979801752303,
          -0.20858878396464725,
          -0.148462158735626,
          -0.08886798295158897,
          -0.029588032793860894,
          0.029588032793860894,
          0.08886798295158911,
          0.148462158735626,
          0.2085887839646474,
          0.26947979801752303,
          0.33138763259250686,
          0.3945934820453096,
          0.45941783418576615,
          0.5262343894479193,
          0.5954891013636436,
          0.6677271106042019,
          0.7436321948616517,
          0.8240868004562732,
          0.9102674907071853,
          1.003804867208037,
          1.107069462890304,
          1.223727303217423,
          1.35994814041008,
          1.5274966702195378,
          1.754010116215015,
          2.1353046284158346
         ],
         "xaxis": "x6",
         "y": [
          -135.58094779598525,
          -64.8661944742633,
          -22.85708617325747,
          8.21640839792289,
          33.479879523580934,
          55.11520376195412,
          74.26662130633483,
          91.614032018963,
          107.59707414829549,
          122.51815852315704,
          136.59549018510114,
          149.99272733497105,
          162.83668315594568,
          175.22845925547128,
          187.25076202713694,
          198.972897829057,
          210.45430422377132,
          221.74713142289664,
          232.898195325171,
          243.95051133060045,
          254.9445511559623,
          265.91932458354796,
          276.91336440890984,
          287.96568041433926,
          299.1167443166137,
          310.40957151573895,
          321.8909779104533,
          333.61311371237326,
          345.63541648403896,
          358.02719258356456,
          370.87114840453916,
          384.2683855544091,
          398.34571721635314,
          413.26680159121474,
          429.24984372054723,
          446.5972544331753,
          465.74867197755606,
          487.3839962159293,
          512.6474673415871,
          543.7209619127675,
          585.7300702137734,
          656.4448235354955
         ],
         "yaxis": "y6"
        },
        {
         "hovertemplate": "sample=6<br>Q_x=%{x}<br>Q_y=%{y}<extra></extra>",
         "legendgroup": "",
         "marker": {
          "color": "#636efa",
          "symbol": "circle"
         },
         "mode": "markers",
         "name": "",
         "orientation": "v",
         "showlegend": false,
         "type": "scatter",
         "x": [
          -2.1353046284158346,
          -1.7540101162150163,
          -1.527496670219539,
          -1.359948140410081,
          -1.2237273032174234,
          -1.1070694628903044,
          -1.0038048672080377,
          -0.9102674907071854,
          -0.8240868004562736,
          -0.7436321948616521,
          -0.667727110604202,
          -0.595489101363644,
          -0.5262343894479194,
          -0.45941783418576615,
          -0.3945934820453098,
          -0.33138763259250686,
          -0.26947979801752303,
          -0.20858878396464725,
          -0.148462158735626,
          -0.08886798295158897,
          -0.029588032793860894,
          0.029588032793860894,
          0.08886798295158911,
          0.148462158735626,
          0.2085887839646474,
          0.26947979801752303,
          0.33138763259250686,
          0.3945934820453096,
          0.45941783418576615,
          0.5262343894479193,
          0.5954891013636436,
          0.6677271106042019,
          0.7436321948616517,
          0.8240868004562732,
          0.9102674907071853,
          1.003804867208037,
          1.107069462890304,
          1.223727303217423,
          1.35994814041008,
          1.5274966702195378,
          1.754010116215015,
          2.1353046284158346
         ],
         "xaxis": "x",
         "y": [
          -356.85816121524977,
          -118.42586461762244,
          -116.66115820438665,
          -32.75753575950199,
          -0.6389249641636638,
          8.622306591747986,
          30.229412304751236,
          39.333806520371894,
          51.65303771298943,
          63.27818011943873,
          100.95956237633703,
          101.67426782285779,
          116.325234832602,
          116.69654808814838,
          148.6625324689419,
          150.73817693327032,
          192.92478758555725,
          219.2756489823864,
          222.9842873596454,
          235.35925102327877,
          258.971299989726,
          272.8736061589345,
          288.1124049204506,
          288.2536889303082,
          291.86938975422925,
          299.64662168987246,
          300.04575082904927,
          300.5344638263399,
          303.6327397437422,
          308.8226728639725,
          333.69350963638556,
          357.9689357916281,
          365.9829979201282,
          370.8518611080015,
          372.90651765491833,
          376.96404915228555,
          413.63082272361595,
          441.265340196039,
          448.0444100146472,
          502.80041934420683,
          596.0972677948018,
          630.722118891158
         ],
         "yaxis": "y"
        },
        {
         "hovertemplate": "<b>OLS trendline</b><br>Q_y = 200.822 * Q_x + 221.359<br>R<sup>2</sup>=0.970271<br><br>sample=6<br>Q_x=%{x}<br>Q_y=%{y} <b>(trend)</b><extra></extra>",
         "legendgroup": "",
         "marker": {
          "color": "#636efa",
          "symbol": "circle"
         },
         "mode": "lines",
         "name": "",
         "showlegend": false,
         "type": "scatter",
         "x": [
          -2.1353046284158346,
          -1.7540101162150163,
          -1.527496670219539,
          -1.359948140410081,
          -1.2237273032174234,
          -1.1070694628903044,
          -1.0038048672080377,
          -0.9102674907071854,
          -0.8240868004562736,
          -0.7436321948616521,
          -0.667727110604202,
          -0.595489101363644,
          -0.5262343894479194,
          -0.45941783418576615,
          -0.3945934820453098,
          -0.33138763259250686,
          -0.26947979801752303,
          -0.20858878396464725,
          -0.148462158735626,
          -0.08886798295158897,
          -0.029588032793860894,
          0.029588032793860894,
          0.08886798295158911,
          0.148462158735626,
          0.2085887839646474,
          0.26947979801752303,
          0.33138763259250686,
          0.3945934820453096,
          0.45941783418576615,
          0.5262343894479193,
          0.5954891013636436,
          0.6677271106042019,
          0.7436321948616517,
          0.8240868004562732,
          0.9102674907071853,
          1.003804867208037,
          1.107069462890304,
          1.223727303217423,
          1.35994814041008,
          1.5274966702195378,
          1.754010116215015,
          2.1353046284158346
         ],
         "xaxis": "x",
         "y": [
          -207.4572924054313,
          -130.88498955657906,
          -85.39612037251948,
          -51.748699924745665,
          -24.39256741805289,
          -0.965113852929079,
          19.772682367915223,
          38.557039582419634,
          55.86401280772634,
          72.02106261580667,
          87.26446873246215,
          101.77144573781943,
          115.67931119308705,
          129.09754130429317,
          142.11569332391988,
          154.80881449732397,
          167.24126580754802,
          179.46951725003106,
          191.54426264760244,
          203.51208051580105,
          215.41679498478803,
          227.300647153109,
          239.205361622096,
          251.1731794902946,
          263.24792488786596,
          275.476176330349,
          287.90862764057306,
          300.6017488139771,
          313.6199008336039,
          327.03813094480995,
          340.94599640007755,
          355.4529734054348,
          370.6963795220903,
          386.8534293301706,
          404.1604025554774,
          422.9447597699817,
          443.682555990826,
          467.11000955594983,
          494.46614206264246,
          528.1135625104164,
          573.6024316944759,
          650.1747345433283
         ],
         "yaxis": "y"
        },
        {
         "hovertemplate": "sample=7<br>Q_x=%{x}<br>Q_y=%{y}<extra></extra>",
         "legendgroup": "",
         "marker": {
          "color": "#636efa",
          "symbol": "circle"
         },
         "mode": "markers",
         "name": "",
         "orientation": "v",
         "showlegend": false,
         "type": "scatter",
         "x": [
          -2.1353046284158346,
          -1.7540101162150163,
          -1.527496670219539,
          -1.359948140410081,
          -1.2237273032174234,
          -1.1070694628903044,
          -1.0038048672080377,
          -0.9102674907071854,
          -0.8240868004562736,
          -0.7436321948616521,
          -0.667727110604202,
          -0.595489101363644,
          -0.5262343894479194,
          -0.45941783418576615,
          -0.3945934820453098,
          -0.33138763259250686,
          -0.26947979801752303,
          -0.20858878396464725,
          -0.148462158735626,
          -0.08886798295158897,
          -0.029588032793860894,
          0.029588032793860894,
          0.08886798295158911,
          0.148462158735626,
          0.2085887839646474,
          0.26947979801752303,
          0.33138763259250686,
          0.3945934820453096,
          0.45941783418576615,
          0.5262343894479193,
          0.5954891013636436,
          0.6677271106042019,
          0.7436321948616517,
          0.8240868004562732,
          0.9102674907071853,
          1.003804867208037,
          1.107069462890304,
          1.223727303217423,
          1.35994814041008,
          1.5274966702195378,
          1.754010116215015,
          2.1353046284158346
         ],
         "xaxis": "x2",
         "y": [
          -197.67518432902654,
          -9.354458884880046,
          14.227956406234341,
          15.387943420062697,
          40.879855324645206,
          61.53188398987183,
          66.0149053138689,
          81.35881057992313,
          94.60000847240724,
          141.4767357746546,
          143.26751659001542,
          160.98102746317932,
          161.7256565035777,
          164.6482531100479,
          175.09518293800923,
          233.90393425709928,
          245.83631296914584,
          248.94433574864792,
          262.0026483426796,
          262.07610533769514,
          267.36601539703594,
          269.04201702607065,
          292.2619541915513,
          292.7582195836412,
          295.60270791187895,
          304.2561629325024,
          304.5864230455388,
          315.69383153154035,
          322.44830083002194,
          330.3720901557737,
          342.6321402977345,
          347.1425759228258,
          349.0398427430938,
          350.83592110253073,
          358.8445006405345,
          378.13302971419876,
          380.66916133036824,
          411.86269677447467,
          413.0320269570375,
          450.0085109793649,
          476.9972775589157,
          516.7966995271835
         ],
         "yaxis": "y2"
        },
        {
         "hovertemplate": "<b>OLS trendline</b><br>Q_y = 151.235 * Q_x + 241.365<br>R<sup>2</sup>=0.959818<br><br>sample=7<br>Q_x=%{x}<br>Q_y=%{y} <b>(trend)</b><extra></extra>",
         "legendgroup": "",
         "marker": {
          "color": "#636efa",
          "symbol": "circle"
         },
         "mode": "lines",
         "name": "",
         "showlegend": false,
         "type": "scatter",
         "x": [
          -2.1353046284158346,
          -1.7540101162150163,
          -1.527496670219539,
          -1.359948140410081,
          -1.2237273032174234,
          -1.1070694628903044,
          -1.0038048672080377,
          -0.9102674907071854,
          -0.8240868004562736,
          -0.7436321948616521,
          -0.667727110604202,
          -0.595489101363644,
          -0.5262343894479194,
          -0.45941783418576615,
          -0.3945934820453098,
          -0.33138763259250686,
          -0.26947979801752303,
          -0.20858878396464725,
          -0.148462158735626,
          -0.08886798295158897,
          -0.029588032793860894,
          0.029588032793860894,
          0.08886798295158911,
          0.148462158735626,
          0.2085887839646474,
          0.26947979801752303,
          0.33138763259250686,
          0.3945934820453096,
          0.45941783418576615,
          0.5262343894479193,
          0.5954891013636436,
          0.6677271106042019,
          0.7436321948616517,
          0.8240868004562732,
          0.9102674907071853,
          1.003804867208037,
          1.107069462890304,
          1.223727303217423,
          1.35994814041008,
          1.5274966702195378,
          1.754010116215015,
          2.1353046284158346
         ],
         "xaxis": "x2",
         "y": [
          -81.5675691370235,
          -23.90261250496991,
          10.354077853654672,
          35.69322750325196,
          56.29454333063401,
          73.9372554284923,
          89.55444434965949,
          103.70054031171446,
          116.73405012321133,
          128.90157730760302,
          140.3810590515022,
          151.30595184893315,
          161.77966660589328,
          171.8846475017789,
          181.68833817989602,
          191.24725510883516,
          200.60986716256073,
          209.81870068175795,
          218.91193209558213,
          227.92463868365797,
          236.88982345714172,
          245.83929728008079,
          254.80448205356456,
          263.81718864164037,
          272.91042005546456,
          282.1192535746618,
          291.48186562838737,
          301.04078255732645,
          310.8444732354436,
          320.9494541313292,
          331.4231688882893,
          342.34806168572027,
          353.8275434296194,
          365.9950706140111,
          379.02858042550804,
          393.17467638756295,
          408.7918653087301,
          426.43457740658846,
          447.03589323397034,
          472.37504288356763,
          506.6317332421922,
          564.296689874246
         ],
         "yaxis": "y2"
        },
        {
         "hovertemplate": "sample=8<br>Q_x=%{x}<br>Q_y=%{y}<extra></extra>",
         "legendgroup": "",
         "marker": {
          "color": "#636efa",
          "symbol": "circle"
         },
         "mode": "markers",
         "name": "",
         "orientation": "v",
         "showlegend": false,
         "type": "scatter",
         "x": [
          -2.1353046284158346,
          -1.7540101162150163,
          -1.527496670219539,
          -1.359948140410081,
          -1.2237273032174234,
          -1.1070694628903044,
          -1.0038048672080377,
          -0.9102674907071854,
          -0.8240868004562736,
          -0.7436321948616521,
          -0.667727110604202,
          -0.595489101363644,
          -0.5262343894479194,
          -0.45941783418576615,
          -0.3945934820453098,
          -0.33138763259250686,
          -0.26947979801752303,
          -0.20858878396464725,
          -0.148462158735626,
          -0.08886798295158897,
          -0.029588032793860894,
          0.029588032793860894,
          0.08886798295158911,
          0.148462158735626,
          0.2085887839646474,
          0.26947979801752303,
          0.33138763259250686,
          0.3945934820453096,
          0.45941783418576615,
          0.5262343894479193,
          0.5954891013636436,
          0.6677271106042019,
          0.7436321948616517,
          0.8240868004562732,
          0.9102674907071853,
          1.003804867208037,
          1.107069462890304,
          1.223727303217423,
          1.35994814041008,
          1.5274966702195378,
          1.754010116215015,
          2.1353046284158346
         ],
         "xaxis": "x3",
         "y": [
          -73.3930833592965,
          -30.372061553956314,
          8.180597674438673,
          19.419235639639908,
          59.195361074217914,
          96.54250365180937,
          111.28878337368639,
          123.16226203822353,
          139.18024261871534,
          161.15144014007814,
          169.13735961493427,
          186.62824064460813,
          190.31463601006723,
          190.4967524505285,
          195.8591285716313,
          223.18106762548732,
          225.5250361226656,
          228.42057477166816,
          229.2658281035891,
          230.9498856012998,
          233.64378173507245,
          234.7903525043585,
          239.56105200639524,
          239.5747276368984,
          241.1466963149179,
          241.90197308605184,
          249.41782352562706,
          261.1034571816591,
          293.2212921595551,
          306.7394466972007,
          307.8893933087551,
          315.81275123046623,
          319.1693984726071,
          346.08376696575976,
          357.3568155855003,
          362.3390131917537,
          363.1131118889623,
          388.0854358151816,
          394.41029589997345,
          452.5225155897441,
          507.1646302211758,
          586.1949579868028
         ],
         "yaxis": "y3"
        },
        {
         "hovertemplate": "<b>OLS trendline</b><br>Q_y = 137.568 * Q_x + 236.318<br>R<sup>2</sup>=0.974039<br><br>sample=8<br>Q_x=%{x}<br>Q_y=%{y} <b>(trend)</b><extra></extra>",
         "legendgroup": "",
         "marker": {
          "color": "#636efa",
          "symbol": "circle"
         },
         "mode": "lines",
         "name": "",
         "showlegend": false,
         "type": "scatter",
         "x": [
          -2.1353046284158346,
          -1.7540101162150163,
          -1.527496670219539,
          -1.359948140410081,
          -1.2237273032174234,
          -1.1070694628903044,
          -1.0038048672080377,
          -0.9102674907071854,
          -0.8240868004562736,
          -0.7436321948616521,
          -0.667727110604202,
          -0.595489101363644,
          -0.5262343894479194,
          -0.45941783418576615,
          -0.3945934820453098,
          -0.33138763259250686,
          -0.26947979801752303,
          -0.20858878396464725,
          -0.148462158735626,
          -0.08886798295158897,
          -0.029588032793860894,
          0.029588032793860894,
          0.08886798295158911,
          0.148462158735626,
          0.2085887839646474,
          0.26947979801752303,
          0.33138763259250686,
          0.3945934820453096,
          0.45941783418576615,
          0.5262343894479193,
          0.5954891013636436,
          0.6677271106042019,
          0.7436321948616517,
          0.8240868004562732,
          0.9102674907071853,
          1.003804867208037,
          1.107069462890304,
          1.223727303217423,
          1.35994814041008,
          1.5274966702195378,
          1.754010116215015,
          2.1353046284158346
         ],
         "xaxis": "x3",
         "y": [
          -57.431474695914034,
          -4.977484245221433,
          26.183557293562984,
          49.23290288189958,
          67.9725549478222,
          84.02096122358392,
          98.226883266751,
          111.09464951242535,
          122.95036985144397,
          134.01836317035082,
          144.46048713856135,
          154.39813828651603,
          163.9253826639007,
          173.11721427836483,
          182.03498214373863,
          190.7300955469945,
          199.24664341146777,
          207.62330913169285,
          215.89481927588915,
          224.0930813212826,
          232.2481159205042,
          240.3888593089459,
          248.54389390816755,
          256.74215595356094,
          265.0136660977573,
          273.39033181798237,
          281.9068796824556,
          290.60199308571146,
          299.5197609510853,
          308.7115925655494,
          318.23883694293403,
          328.1764880908887,
          338.61861205909923,
          349.6866053780061,
          361.54232571702477,
          374.41009196269897,
          388.61601400586613,
          404.6644202816278,
          423.40407234755037,
          446.45341793588693,
          477.6144594746714,
          530.0684499253641
         ],
         "yaxis": "y3"
        }
       ],
       "layout": {
        "annotations": [
         {
          "font": {},
          "showarrow": false,
          "text": "sample=6",
          "x": 0.15999999999999998,
          "xanchor": "center",
          "xref": "paper",
          "y": 0.2866666666666666,
          "yanchor": "bottom",
          "yref": "paper"
         },
         {
          "font": {},
          "showarrow": false,
          "text": "sample=7",
          "x": 0.49999999999999994,
          "xanchor": "center",
          "xref": "paper",
          "y": 0.2866666666666666,
          "yanchor": "bottom",
          "yref": "paper"
         },
         {
          "font": {},
          "showarrow": false,
          "text": "sample=8",
          "x": 0.8399999999999999,
          "xanchor": "center",
          "xref": "paper",
          "y": 0.2866666666666666,
          "yanchor": "bottom",
          "yref": "paper"
         },
         {
          "font": {},
          "showarrow": false,
          "text": "sample=3",
          "x": 0.15999999999999998,
          "xanchor": "center",
          "xref": "paper",
          "y": 0.6433333333333333,
          "yanchor": "bottom",
          "yref": "paper"
         },
         {
          "font": {},
          "showarrow": false,
          "text": "sample=4",
          "x": 0.49999999999999994,
          "xanchor": "center",
          "xref": "paper",
          "y": 0.6433333333333333,
          "yanchor": "bottom",
          "yref": "paper"
         },
         {
          "font": {},
          "showarrow": false,
          "text": "sample=5",
          "x": 0.8399999999999999,
          "xanchor": "center",
          "xref": "paper",
          "y": 0.6433333333333333,
          "yanchor": "bottom",
          "yref": "paper"
         },
         {
          "font": {},
          "showarrow": false,
          "text": "sample=data",
          "x": 0.15999999999999998,
          "xanchor": "center",
          "xref": "paper",
          "y": 0.9999999999999999,
          "yanchor": "bottom",
          "yref": "paper"
         },
         {
          "font": {},
          "showarrow": false,
          "text": "sample=1",
          "x": 0.49999999999999994,
          "xanchor": "center",
          "xref": "paper",
          "y": 0.9999999999999999,
          "yanchor": "bottom",
          "yref": "paper"
         },
         {
          "font": {},
          "showarrow": false,
          "text": "sample=2",
          "x": 0.8399999999999999,
          "xanchor": "center",
          "xref": "paper",
          "y": 0.9999999999999999,
          "yanchor": "bottom",
          "yref": "paper"
         }
        ],
        "height": 800,
        "legend": {
         "tracegroupgap": 0
        },
        "margin": {
         "t": 60
        },
        "template": {
         "data": {
          "bar": [
           {
            "error_x": {
             "color": "#2a3f5f"
            },
            "error_y": {
             "color": "#2a3f5f"
            },
            "marker": {
             "line": {
              "color": "#E5ECF6",
              "width": 0.5
             },
             "pattern": {
              "fillmode": "overlay",
              "size": 10,
              "solidity": 0.2
             }
            },
            "type": "bar"
           }
          ],
          "barpolar": [
           {
            "marker": {
             "line": {
              "color": "#E5ECF6",
              "width": 0.5
             },
             "pattern": {
              "fillmode": "overlay",
              "size": 10,
              "solidity": 0.2
             }
            },
            "type": "barpolar"
           }
          ],
          "carpet": [
           {
            "aaxis": {
             "endlinecolor": "#2a3f5f",
             "gridcolor": "white",
             "linecolor": "white",
             "minorgridcolor": "white",
             "startlinecolor": "#2a3f5f"
            },
            "baxis": {
             "endlinecolor": "#2a3f5f",
             "gridcolor": "white",
             "linecolor": "white",
             "minorgridcolor": "white",
             "startlinecolor": "#2a3f5f"
            },
            "type": "carpet"
           }
          ],
          "choropleth": [
           {
            "colorbar": {
             "outlinewidth": 0,
             "ticks": ""
            },
            "type": "choropleth"
           }
          ],
          "contour": [
           {
            "colorbar": {
             "outlinewidth": 0,
             "ticks": ""
            },
            "colorscale": [
             [
              0,
              "#0d0887"
             ],
             [
              0.1111111111111111,
              "#46039f"
             ],
             [
              0.2222222222222222,
              "#7201a8"
             ],
             [
              0.3333333333333333,
              "#9c179e"
             ],
             [
              0.4444444444444444,
              "#bd3786"
             ],
             [
              0.5555555555555556,
              "#d8576b"
             ],
             [
              0.6666666666666666,
              "#ed7953"
             ],
             [
              0.7777777777777778,
              "#fb9f3a"
             ],
             [
              0.8888888888888888,
              "#fdca26"
             ],
             [
              1,
              "#f0f921"
             ]
            ],
            "type": "contour"
           }
          ],
          "contourcarpet": [
           {
            "colorbar": {
             "outlinewidth": 0,
             "ticks": ""
            },
            "type": "contourcarpet"
           }
          ],
          "heatmap": [
           {
            "colorbar": {
             "outlinewidth": 0,
             "ticks": ""
            },
            "colorscale": [
             [
              0,
              "#0d0887"
             ],
             [
              0.1111111111111111,
              "#46039f"
             ],
             [
              0.2222222222222222,
              "#7201a8"
             ],
             [
              0.3333333333333333,
              "#9c179e"
             ],
             [
              0.4444444444444444,
              "#bd3786"
             ],
             [
              0.5555555555555556,
              "#d8576b"
             ],
             [
              0.6666666666666666,
              "#ed7953"
             ],
             [
              0.7777777777777778,
              "#fb9f3a"
             ],
             [
              0.8888888888888888,
              "#fdca26"
             ],
             [
              1,
              "#f0f921"
             ]
            ],
            "type": "heatmap"
           }
          ],
          "heatmapgl": [
           {
            "colorbar": {
             "outlinewidth": 0,
             "ticks": ""
            },
            "colorscale": [
             [
              0,
              "#0d0887"
             ],
             [
              0.1111111111111111,
              "#46039f"
             ],
             [
              0.2222222222222222,
              "#7201a8"
             ],
             [
              0.3333333333333333,
              "#9c179e"
             ],
             [
              0.4444444444444444,
              "#bd3786"
             ],
             [
              0.5555555555555556,
              "#d8576b"
             ],
             [
              0.6666666666666666,
              "#ed7953"
             ],
             [
              0.7777777777777778,
              "#fb9f3a"
             ],
             [
              0.8888888888888888,
              "#fdca26"
             ],
             [
              1,
              "#f0f921"
             ]
            ],
            "type": "heatmapgl"
           }
          ],
          "histogram": [
           {
            "marker": {
             "pattern": {
              "fillmode": "overlay",
              "size": 10,
              "solidity": 0.2
             }
            },
            "type": "histogram"
           }
          ],
          "histogram2d": [
           {
            "colorbar": {
             "outlinewidth": 0,
             "ticks": ""
            },
            "colorscale": [
             [
              0,
              "#0d0887"
             ],
             [
              0.1111111111111111,
              "#46039f"
             ],
             [
              0.2222222222222222,
              "#7201a8"
             ],
             [
              0.3333333333333333,
              "#9c179e"
             ],
             [
              0.4444444444444444,
              "#bd3786"
             ],
             [
              0.5555555555555556,
              "#d8576b"
             ],
             [
              0.6666666666666666,
              "#ed7953"
             ],
             [
              0.7777777777777778,
              "#fb9f3a"
             ],
             [
              0.8888888888888888,
              "#fdca26"
             ],
             [
              1,
              "#f0f921"
             ]
            ],
            "type": "histogram2d"
           }
          ],
          "histogram2dcontour": [
           {
            "colorbar": {
             "outlinewidth": 0,
             "ticks": ""
            },
            "colorscale": [
             [
              0,
              "#0d0887"
             ],
             [
              0.1111111111111111,
              "#46039f"
             ],
             [
              0.2222222222222222,
              "#7201a8"
             ],
             [
              0.3333333333333333,
              "#9c179e"
             ],
             [
              0.4444444444444444,
              "#bd3786"
             ],
             [
              0.5555555555555556,
              "#d8576b"
             ],
             [
              0.6666666666666666,
              "#ed7953"
             ],
             [
              0.7777777777777778,
              "#fb9f3a"
             ],
             [
              0.8888888888888888,
              "#fdca26"
             ],
             [
              1,
              "#f0f921"
             ]
            ],
            "type": "histogram2dcontour"
           }
          ],
          "mesh3d": [
           {
            "colorbar": {
             "outlinewidth": 0,
             "ticks": ""
            },
            "type": "mesh3d"
           }
          ],
          "parcoords": [
           {
            "line": {
             "colorbar": {
              "outlinewidth": 0,
              "ticks": ""
             }
            },
            "type": "parcoords"
           }
          ],
          "pie": [
           {
            "automargin": true,
            "type": "pie"
           }
          ],
          "scatter": [
           {
            "fillpattern": {
             "fillmode": "overlay",
             "size": 10,
             "solidity": 0.2
            },
            "type": "scatter"
           }
          ],
          "scatter3d": [
           {
            "line": {
             "colorbar": {
              "outlinewidth": 0,
              "ticks": ""
             }
            },
            "marker": {
             "colorbar": {
              "outlinewidth": 0,
              "ticks": ""
             }
            },
            "type": "scatter3d"
           }
          ],
          "scattercarpet": [
           {
            "marker": {
             "colorbar": {
              "outlinewidth": 0,
              "ticks": ""
             }
            },
            "type": "scattercarpet"
           }
          ],
          "scattergeo": [
           {
            "marker": {
             "colorbar": {
              "outlinewidth": 0,
              "ticks": ""
             }
            },
            "type": "scattergeo"
           }
          ],
          "scattergl": [
           {
            "marker": {
             "colorbar": {
              "outlinewidth": 0,
              "ticks": ""
             }
            },
            "type": "scattergl"
           }
          ],
          "scattermapbox": [
           {
            "marker": {
             "colorbar": {
              "outlinewidth": 0,
              "ticks": ""
             }
            },
            "type": "scattermapbox"
           }
          ],
          "scatterpolar": [
           {
            "marker": {
             "colorbar": {
              "outlinewidth": 0,
              "ticks": ""
             }
            },
            "type": "scatterpolar"
           }
          ],
          "scatterpolargl": [
           {
            "marker": {
             "colorbar": {
              "outlinewidth": 0,
              "ticks": ""
             }
            },
            "type": "scatterpolargl"
           }
          ],
          "scatterternary": [
           {
            "marker": {
             "colorbar": {
              "outlinewidth": 0,
              "ticks": ""
             }
            },
            "type": "scatterternary"
           }
          ],
          "surface": [
           {
            "colorbar": {
             "outlinewidth": 0,
             "ticks": ""
            },
            "colorscale": [
             [
              0,
              "#0d0887"
             ],
             [
              0.1111111111111111,
              "#46039f"
             ],
             [
              0.2222222222222222,
              "#7201a8"
             ],
             [
              0.3333333333333333,
              "#9c179e"
             ],
             [
              0.4444444444444444,
              "#bd3786"
             ],
             [
              0.5555555555555556,
              "#d8576b"
             ],
             [
              0.6666666666666666,
              "#ed7953"
             ],
             [
              0.7777777777777778,
              "#fb9f3a"
             ],
             [
              0.8888888888888888,
              "#fdca26"
             ],
             [
              1,
              "#f0f921"
             ]
            ],
            "type": "surface"
           }
          ],
          "table": [
           {
            "cells": {
             "fill": {
              "color": "#EBF0F8"
             },
             "line": {
              "color": "white"
             }
            },
            "header": {
             "fill": {
              "color": "#C8D4E3"
             },
             "line": {
              "color": "white"
             }
            },
            "type": "table"
           }
          ]
         },
         "layout": {
          "annotationdefaults": {
           "arrowcolor": "#2a3f5f",
           "arrowhead": 0,
           "arrowwidth": 1
          },
          "autotypenumbers": "strict",
          "coloraxis": {
           "colorbar": {
            "outlinewidth": 0,
            "ticks": ""
           }
          },
          "colorscale": {
           "diverging": [
            [
             0,
             "#8e0152"
            ],
            [
             0.1,
             "#c51b7d"
            ],
            [
             0.2,
             "#de77ae"
            ],
            [
             0.3,
             "#f1b6da"
            ],
            [
             0.4,
             "#fde0ef"
            ],
            [
             0.5,
             "#f7f7f7"
            ],
            [
             0.6,
             "#e6f5d0"
            ],
            [
             0.7,
             "#b8e186"
            ],
            [
             0.8,
             "#7fbc41"
            ],
            [
             0.9,
             "#4d9221"
            ],
            [
             1,
             "#276419"
            ]
           ],
           "sequential": [
            [
             0,
             "#0d0887"
            ],
            [
             0.1111111111111111,
             "#46039f"
            ],
            [
             0.2222222222222222,
             "#7201a8"
            ],
            [
             0.3333333333333333,
             "#9c179e"
            ],
            [
             0.4444444444444444,
             "#bd3786"
            ],
            [
             0.5555555555555556,
             "#d8576b"
            ],
            [
             0.6666666666666666,
             "#ed7953"
            ],
            [
             0.7777777777777778,
             "#fb9f3a"
            ],
            [
             0.8888888888888888,
             "#fdca26"
            ],
            [
             1,
             "#f0f921"
            ]
           ],
           "sequentialminus": [
            [
             0,
             "#0d0887"
            ],
            [
             0.1111111111111111,
             "#46039f"
            ],
            [
             0.2222222222222222,
             "#7201a8"
            ],
            [
             0.3333333333333333,
             "#9c179e"
            ],
            [
             0.4444444444444444,
             "#bd3786"
            ],
            [
             0.5555555555555556,
             "#d8576b"
            ],
            [
             0.6666666666666666,
             "#ed7953"
            ],
            [
             0.7777777777777778,
             "#fb9f3a"
            ],
            [
             0.8888888888888888,
             "#fdca26"
            ],
            [
             1,
             "#f0f921"
            ]
           ]
          },
          "colorway": [
           "#636efa",
           "#EF553B",
           "#00cc96",
           "#ab63fa",
           "#FFA15A",
           "#19d3f3",
           "#FF6692",
           "#B6E880",
           "#FF97FF",
           "#FECB52"
          ],
          "font": {
           "color": "#2a3f5f"
          },
          "geo": {
           "bgcolor": "white",
           "lakecolor": "white",
           "landcolor": "#E5ECF6",
           "showlakes": true,
           "showland": true,
           "subunitcolor": "white"
          },
          "hoverlabel": {
           "align": "left"
          },
          "hovermode": "closest",
          "mapbox": {
           "style": "light"
          },
          "paper_bgcolor": "white",
          "plot_bgcolor": "#E5ECF6",
          "polar": {
           "angularaxis": {
            "gridcolor": "white",
            "linecolor": "white",
            "ticks": ""
           },
           "bgcolor": "#E5ECF6",
           "radialaxis": {
            "gridcolor": "white",
            "linecolor": "white",
            "ticks": ""
           }
          },
          "scene": {
           "xaxis": {
            "backgroundcolor": "#E5ECF6",
            "gridcolor": "white",
            "gridwidth": 2,
            "linecolor": "white",
            "showbackground": true,
            "ticks": "",
            "zerolinecolor": "white"
           },
           "yaxis": {
            "backgroundcolor": "#E5ECF6",
            "gridcolor": "white",
            "gridwidth": 2,
            "linecolor": "white",
            "showbackground": true,
            "ticks": "",
            "zerolinecolor": "white"
           },
           "zaxis": {
            "backgroundcolor": "#E5ECF6",
            "gridcolor": "white",
            "gridwidth": 2,
            "linecolor": "white",
            "showbackground": true,
            "ticks": "",
            "zerolinecolor": "white"
           }
          },
          "shapedefaults": {
           "line": {
            "color": "#2a3f5f"
           }
          },
          "ternary": {
           "aaxis": {
            "gridcolor": "white",
            "linecolor": "white",
            "ticks": ""
           },
           "baxis": {
            "gridcolor": "white",
            "linecolor": "white",
            "ticks": ""
           },
           "bgcolor": "#E5ECF6",
           "caxis": {
            "gridcolor": "white",
            "linecolor": "white",
            "ticks": ""
           }
          },
          "title": {
           "x": 0.05
          },
          "xaxis": {
           "automargin": true,
           "gridcolor": "white",
           "linecolor": "white",
           "ticks": "",
           "title": {
            "standoff": 15
           },
           "zerolinecolor": "white",
           "zerolinewidth": 2
          },
          "yaxis": {
           "automargin": true,
           "gridcolor": "white",
           "linecolor": "white",
           "ticks": "",
           "title": {
            "standoff": 15
           },
           "zerolinecolor": "white",
           "zerolinewidth": 2
          }
         }
        },
        "width": 800,
        "xaxis": {
         "anchor": "y",
         "domain": [
          0,
          0.31999999999999995
         ],
         "title": {
          "text": "Q_x"
         }
        },
        "xaxis2": {
         "anchor": "y2",
         "domain": [
          0.33999999999999997,
          0.6599999999999999
         ],
         "matches": "x",
         "title": {
          "text": "Q_x"
         }
        },
        "xaxis3": {
         "anchor": "y3",
         "domain": [
          0.6799999999999999,
          0.9999999999999999
         ],
         "matches": "x",
         "title": {
          "text": "Q_x"
         }
        },
        "xaxis4": {
         "anchor": "y4",
         "domain": [
          0,
          0.31999999999999995
         ],
         "matches": "x",
         "showticklabels": false
        },
        "xaxis5": {
         "anchor": "y5",
         "domain": [
          0.33999999999999997,
          0.6599999999999999
         ],
         "matches": "x",
         "showticklabels": false
        },
        "xaxis6": {
         "anchor": "y6",
         "domain": [
          0.6799999999999999,
          0.9999999999999999
         ],
         "matches": "x",
         "showticklabels": false
        },
        "xaxis7": {
         "anchor": "y7",
         "domain": [
          0,
          0.31999999999999995
         ],
         "matches": "x",
         "showticklabels": false
        },
        "xaxis8": {
         "anchor": "y8",
         "domain": [
          0.33999999999999997,
          0.6599999999999999
         ],
         "matches": "x",
         "showticklabels": false
        },
        "xaxis9": {
         "anchor": "y9",
         "domain": [
          0.6799999999999999,
          0.9999999999999999
         ],
         "matches": "x",
         "showticklabels": false
        },
        "yaxis": {
         "anchor": "x",
         "domain": [
          0,
          0.2866666666666666
         ],
         "title": {
          "text": "Q_y"
         }
        },
        "yaxis2": {
         "anchor": "x2",
         "domain": [
          0,
          0.2866666666666666
         ],
         "matches": "y",
         "showticklabels": false
        },
        "yaxis3": {
         "anchor": "x3",
         "domain": [
          0,
          0.2866666666666666
         ],
         "matches": "y",
         "showticklabels": false
        },
        "yaxis4": {
         "anchor": "x4",
         "domain": [
          0.35666666666666663,
          0.6433333333333333
         ],
         "matches": "y",
         "title": {
          "text": "Q_y"
         }
        },
        "yaxis5": {
         "anchor": "x5",
         "domain": [
          0.35666666666666663,
          0.6433333333333333
         ],
         "matches": "y",
         "showticklabels": false
        },
        "yaxis6": {
         "anchor": "x6",
         "domain": [
          0.35666666666666663,
          0.6433333333333333
         ],
         "matches": "y",
         "showticklabels": false
        },
        "yaxis7": {
         "anchor": "x7",
         "domain": [
          0.7133333333333333,
          0.9999999999999999
         ],
         "matches": "y",
         "title": {
          "text": "Q_y"
         }
        },
        "yaxis8": {
         "anchor": "x8",
         "domain": [
          0.7133333333333333,
          0.9999999999999999
         ],
         "matches": "y",
         "showticklabels": false
        },
        "yaxis9": {
         "anchor": "x9",
         "domain": [
          0.7133333333333333,
          0.9999999999999999
         ],
         "matches": "y",
         "showticklabels": false
        }
       }
      }
     },
     "metadata": {},
     "output_type": "display_data"
    }
   ],
   "source": [
    "(Q_x, Q_y) = probplot(dairy_queen['cal_fat'], fit=False)\n",
    "\n",
    "sim_qq_data = [pd.DataFrame({\"Q_x\": Q_x, \"Q_y\": Q_y, \"sample\": \"data\"})]\n",
    "for i in range(8):\n",
    "    sim_norm = np.random.normal(size = len(dairy_queen['cal_fat']), loc = dqmean, scale = dqsd)\n",
    "    (Q_x, Q_y) = probplot(sim_norm, fit=False)\n",
    "    sim_qq_data.append( pd.DataFrame({\"Q_x\": Q_x, \"Q_y\": Q_y, \"sample\": str(i+1)}) )\n",
    "sim_qq_data = pd.concat(sim_qq_data)\n",
    "\n",
    "px.scatter(sim_qq_data, x=\"Q_x\", y=\"Q_y\", facet_col=\"sample\", facet_col_wrap=3, trendline=\"ols\", width=800, height=800)"
   ]
  },
  {
   "attachments": {},
   "cell_type": "markdown",
   "metadata": {},
   "source": [
    "### ✏️ Aufgabe 4\n",
    "Sieht der Q-Q-Plot für `dairy_queen['cal_fat']` ähnlich aus wie die Darstellungen für die simulierten Daten? Das heißt, liefern die Diagramme Hinweise darauf, dass `dairy_queen['cal_fat']` nahezu normalverteilt ist?"
   ]
  },
  {
   "attachments": {},
   "cell_type": "markdown",
   "metadata": {},
   "source": [
    "Idk sieht änhlich aus aber weiß nicht ob eine reine Beobachtung ausreichend ist"
   ]
  },
  {
   "attachments": {},
   "cell_type": "markdown",
   "metadata": {},
   "source": [
    "### ✏️ Aufgabe 5\n",
    "Bestimmen Sie mit der gleichen Technik, ob die Kalorien aus dem McDonald's-Menü (Spalte `calories`) einer Normalverteilung zu entstammen scheinen oder nicht."
   ]
  },
  {
   "cell_type": "code",
   "execution_count": null,
   "metadata": {},
   "outputs": [
    {
     "data": {
      "text/plain": [
       "0       60\n",
       "1      410\n",
       "2      600\n",
       "3      280\n",
       "4      410\n",
       "5      250\n",
       "6      100\n",
       "7      210\n",
       "8      190\n",
       "9      400\n",
       "10     170\n",
       "11     300\n",
       "12     180\n",
       "13     300\n",
       "14      70\n",
       "15      50\n",
       "16     330\n",
       "17     190\n",
       "18     310\n",
       "19     130\n",
       "20     160\n",
       "21     200\n",
       "22     300\n",
       "23     160\n",
       "24     280\n",
       "25     200\n",
       "26     200\n",
       "27     240\n",
       "28     320\n",
       "29     180\n",
       "30     300\n",
       "31     340\n",
       "32     200\n",
       "33     320\n",
       "34     190\n",
       "35     250\n",
       "36     390\n",
       "37     630\n",
       "38     790\n",
       "39    1270\n",
       "40     100\n",
       "41     140\n",
       "42     240\n",
       "43     480\n",
       "44     960\n",
       "45     240\n",
       "46     360\n",
       "47     600\n",
       "48      70\n",
       "49      80\n",
       "50     250\n",
       "51     110\n",
       "52     120\n",
       "53     250\n",
       "54      90\n",
       "55     100\n",
       "56     230\n",
       "Name: cal_fat, dtype: int64"
      ]
     },
     "execution_count": 17,
     "metadata": {},
     "output_type": "execute_result"
    }
   ],
   "source": [
    "mcdonals[\"cal_fat\"]"
   ]
  },
  {
   "cell_type": "code",
   "execution_count": null,
   "metadata": {},
   "outputs": [
    {
     "data": {
      "application/vnd.plotly.v1+json": {
       "config": {
        "plotlyServerURL": "https://plot.ly"
       },
       "data": [
        {
         "hovertemplate": "sample=data<br>Q_x=%{x}<br>Q_y=%{y}<extra></extra>",
         "legendgroup": "",
         "marker": {
          "color": "#636efa",
          "symbol": "circle"
         },
         "mode": "markers",
         "name": "",
         "orientation": "v",
         "showlegend": false,
         "type": "scatter",
         "x": [
          -2.254357700194338,
          -1.8907369953232744,
          -1.6770949010183833,
          -1.520487929524481,
          -1.3942144538014847,
          -1.286933926677913,
          -1.1927130236042607,
          -1.1080360487755754,
          -1.0306377806762108,
          -0.9589673839307319,
          -0.8919128604657872,
          -0.8286471397267934,
          -0.7685364071641807,
          -0.7110826284818202,
          -0.6558859661793708,
          -0.6026193228440059,
          -0.5510105721581059,
          -0.5008298276167628,
          -0.45188010714370314,
          -0.40399034311351933,
          -0.3570100462801349,
          -0.3108051566958892,
          -0.26525475892765843,
          -0.22024843361398128,
          -0.17568408084606352,
          -0.13146609399527875,
          -0.08750379225703046,
          -0.043710040626117594,
          0,
          0.04371004062611773,
          0.08750379225703046,
          0.1314660939952789,
          0.17568408084606352,
          0.22024843361398114,
          0.26525475892765843,
          0.31080515669588904,
          0.35701004628013466,
          0.403990343113519,
          0.45188010714370297,
          0.5008298276167624,
          0.5510105721581058,
          0.6026193228440055,
          0.6558859661793706,
          0.7110826284818199,
          0.7685364071641805,
          0.8286471397267934,
          0.8919128604657867,
          0.9589673839307314,
          1.0306377806762104,
          1.1080360487755754,
          1.1927130236042602,
          1.286933926677913,
          1.3942144538014838,
          1.5204879295244804,
          1.6770949010183824,
          1.8907369953232736,
          2.254357700194338
         ],
         "xaxis": "x7",
         "y": [
          50,
          60,
          70,
          70,
          80,
          90,
          100,
          100,
          100,
          110,
          120,
          130,
          140,
          160,
          160,
          170,
          180,
          180,
          190,
          190,
          190,
          200,
          200,
          200,
          200,
          210,
          230,
          240,
          240,
          240,
          250,
          250,
          250,
          250,
          280,
          280,
          300,
          300,
          300,
          300,
          310,
          320,
          320,
          330,
          340,
          360,
          390,
          400,
          410,
          410,
          480,
          600,
          600,
          630,
          790,
          960,
          1270
         ],
         "yaxis": "y7"
        },
        {
         "hovertemplate": "<b>OLS trendline</b><br>Q_y = 197.057 * Q_x + 285.614<br>R<sup>2</sup>=0.759062<br><br>sample=data<br>Q_x=%{x}<br>Q_y=%{y} <b>(trend)</b><extra></extra>",
         "legendgroup": "",
         "marker": {
          "color": "#636efa",
          "symbol": "circle"
         },
         "mode": "lines",
         "name": "",
         "showlegend": false,
         "type": "scatter",
         "x": [
          -2.254357700194338,
          -1.8907369953232744,
          -1.6770949010183833,
          -1.520487929524481,
          -1.3942144538014847,
          -1.286933926677913,
          -1.1927130236042607,
          -1.1080360487755754,
          -1.0306377806762108,
          -0.9589673839307319,
          -0.8919128604657872,
          -0.8286471397267934,
          -0.7685364071641807,
          -0.7110826284818202,
          -0.6558859661793708,
          -0.6026193228440059,
          -0.5510105721581059,
          -0.5008298276167628,
          -0.45188010714370314,
          -0.40399034311351933,
          -0.3570100462801349,
          -0.3108051566958892,
          -0.26525475892765843,
          -0.22024843361398128,
          -0.17568408084606352,
          -0.13146609399527875,
          -0.08750379225703046,
          -0.043710040626117594,
          0,
          0.04371004062611773,
          0.08750379225703046,
          0.1314660939952789,
          0.17568408084606352,
          0.22024843361398114,
          0.26525475892765843,
          0.31080515669588904,
          0.35701004628013466,
          0.403990343113519,
          0.45188010714370297,
          0.5008298276167624,
          0.5510105721581058,
          0.6026193228440055,
          0.6558859661793706,
          0.7110826284818199,
          0.7685364071641805,
          0.8286471397267934,
          0.8919128604657867,
          0.9589673839307314,
          1.0306377806762104,
          1.1080360487755754,
          1.1927130236042602,
          1.286933926677913,
          1.3942144538014838,
          1.5204879295244804,
          1.6770949010183824,
          1.8907369953232736,
          2.254357700194338
         ],
         "xaxis": "x7",
         "y": [
          -158.6222422905409,
          -86.96834801473227,
          -44.86874303318098,
          -14.008290842325437,
          10.874742929095305,
          32.01508902432437,
          50.58194876847628,
          67.2681135569236,
          82.51996045461078,
          96.64309195485578,
          109.85663472265716,
          122.32356854789722,
          134.16879083085314,
          145.49044256383502,
          156.36731440313156,
          166.86386308380372,
          177.0337129185795,
          186.92216458230354,
          196.5680347118681,
          206.00503332812946,
          215.26281534452787,
          224.36779817125912,
          233.34380900392932,
          242.21260671695393,
          250.99431078090294,
          259.70776112201787,
          268.37082699993766,
          277.00067895079167,
          285.6140350877193,
          294.22739122464696,
          302.8572431755009,
          311.5203090534207,
          320.23375939453564,
          329.01546345848465,
          337.88426117150925,
          346.8602720041794,
          355.9652548309107,
          365.223036847309,
          374.66003546357047,
          384.305905593135,
          394.194357256859,
          404.3642070916348,
          414.860755772307,
          425.7376276116035,
          437.0592793445854,
          448.9045016275413,
          461.37143545278127,
          474.5849782205827,
          488.7081097208277,
          503.959956618515,
          520.6461214069623,
          539.2129811511143,
          560.353327246343,
          585.2363610177639,
          616.0968132086193,
          658.1964181901707,
          729.8503124659794
         ],
         "yaxis": "y7"
        },
        {
         "hovertemplate": "sample=1<br>Q_x=%{x}<br>Q_y=%{y}<extra></extra>",
         "legendgroup": "",
         "marker": {
          "color": "#636efa",
          "symbol": "circle"
         },
         "mode": "markers",
         "name": "",
         "orientation": "v",
         "showlegend": false,
         "type": "scatter",
         "x": [
          -2.254357700194338,
          -1.8907369953232744,
          -1.6770949010183833,
          -1.520487929524481,
          -1.3942144538014847,
          -1.286933926677913,
          -1.1927130236042607,
          -1.1080360487755754,
          -1.0306377806762108,
          -0.9589673839307319,
          -0.8919128604657872,
          -0.8286471397267934,
          -0.7685364071641807,
          -0.7110826284818202,
          -0.6558859661793708,
          -0.6026193228440059,
          -0.5510105721581059,
          -0.5008298276167628,
          -0.45188010714370314,
          -0.40399034311351933,
          -0.3570100462801349,
          -0.3108051566958892,
          -0.26525475892765843,
          -0.22024843361398128,
          -0.17568408084606352,
          -0.13146609399527875,
          -0.08750379225703046,
          -0.043710040626117594,
          0,
          0.04371004062611773,
          0.08750379225703046,
          0.1314660939952789,
          0.17568408084606352,
          0.22024843361398114,
          0.26525475892765843,
          0.31080515669588904,
          0.35701004628013466,
          0.403990343113519,
          0.45188010714370297,
          0.5008298276167624,
          0.5510105721581058,
          0.6026193228440055,
          0.6558859661793706,
          0.7110826284818199,
          0.7685364071641805,
          0.8286471397267934,
          0.8919128604657867,
          0.9589673839307314,
          1.0306377806762104,
          1.1080360487755754,
          1.1927130236042602,
          1.286933926677913,
          1.3942144538014838,
          1.5204879295244804,
          1.6770949010183824,
          1.8907369953232736,
          2.254357700194338
         ],
         "xaxis": "x8",
         "y": [
          -257.1299513385751,
          -51.50354973295424,
          -46.784447218382866,
          -31.56951250469035,
          3.415392973478845,
          14.852954366486244,
          66.63224668206536,
          102.5244630896816,
          116.87370806748143,
          132.2637904683268,
          144.11167196504118,
          144.41833829129968,
          152.0128925207319,
          158.7547548898875,
          162.82313347903903,
          164.31946827808096,
          170.55867463953834,
          178.7274564470319,
          182.5365245651006,
          182.72086233104335,
          183.13074125945622,
          197.40926742048129,
          205.9397983245242,
          224.5617489891078,
          225.47893137261212,
          226.62857521127336,
          227.06506210571735,
          234.3839344055312,
          239.08254396760117,
          241.19867645736946,
          242.85446665011312,
          252.70419151282974,
          261.3712751903816,
          267.4061376510251,
          277.61291757938784,
          279.6741721541359,
          285.5541890831972,
          297.2140755577234,
          304.9609346173802,
          322.3322440934237,
          323.59820836068894,
          336.98602127987385,
          380.73780643469235,
          384.66976404425486,
          397.70361698178726,
          411.44724707579905,
          412.3144882996423,
          437.9873625117183,
          441.5386767450707,
          452.6971704962791,
          454.6807600468132,
          493.5466426421416,
          504.7544471686182,
          528.9230358914821,
          549.7171704387757,
          611.9481143134859,
          620.8490814521504
         ],
         "yaxis": "y8"
        },
        {
         "hovertemplate": "<b>OLS trendline</b><br>Q_y = 174.043 * Q_x + 253.179<br>R<sup>2</sup>=0.976324<br><br>sample=1<br>Q_x=%{x}<br>Q_y=%{y} <b>(trend)</b><extra></extra>",
         "legendgroup": "",
         "marker": {
          "color": "#636efa",
          "symbol": "circle"
         },
         "mode": "lines",
         "name": "",
         "showlegend": false,
         "type": "scatter",
         "x": [
          -2.254357700194338,
          -1.8907369953232744,
          -1.6770949010183833,
          -1.520487929524481,
          -1.3942144538014847,
          -1.286933926677913,
          -1.1927130236042607,
          -1.1080360487755754,
          -1.0306377806762108,
          -0.9589673839307319,
          -0.8919128604657872,
          -0.8286471397267934,
          -0.7685364071641807,
          -0.7110826284818202,
          -0.6558859661793708,
          -0.6026193228440059,
          -0.5510105721581059,
          -0.5008298276167628,
          -0.45188010714370314,
          -0.40399034311351933,
          -0.3570100462801349,
          -0.3108051566958892,
          -0.26525475892765843,
          -0.22024843361398128,
          -0.17568408084606352,
          -0.13146609399527875,
          -0.08750379225703046,
          -0.043710040626117594,
          0,
          0.04371004062611773,
          0.08750379225703046,
          0.1314660939952789,
          0.17568408084606352,
          0.22024843361398114,
          0.26525475892765843,
          0.31080515669588904,
          0.35701004628013466,
          0.403990343113519,
          0.45188010714370297,
          0.5008298276167624,
          0.5510105721581058,
          0.6026193228440055,
          0.6558859661793706,
          0.7110826284818199,
          0.7685364071641805,
          0.8286471397267934,
          0.8919128604657867,
          0.9589673839307314,
          1.0306377806762104,
          1.1080360487755754,
          1.1927130236042602,
          1.286933926677913,
          1.3942144538014838,
          1.5204879295244804,
          1.6770949010183824,
          1.8907369953232736,
          2.254357700194338
         ],
         "xaxis": "x8",
         "y": [
          -139.17676732801252,
          -75.89097899403086,
          -38.70797984605295,
          -11.451568104858637,
          10.525498519098761,
          29.196967555241173,
          45.595495055676366,
          60.332964715635,
          73.80362341778456,
          86.27738384310246,
          97.94778193097599,
          108.95876386310903,
          119.42064088660527,
          129.42009258990856,
          139.0267080560265,
          148.29741643490976,
          157.27957951950975,
          166.01320754163004,
          174.53258393402794,
          182.86748188999888,
          191.04409307147563,
          199.08574972922958,
          207.01349639786633,
          214.8465508398615,
          222.60268287175825,
          230.29853219746104,
          237.9498812136507,
          245.57189519398133,
          253.17933982537298,
          260.7867844567646,
          268.40879843709524,
          276.06014745328497,
          283.7559967789877,
          291.51212881088446,
          299.3451832528796,
          307.2729299215164,
          315.31458657927027,
          323.491197760747,
          331.826095716718,
          340.34547210911586,
          349.07910013123615,
          358.0612632158361,
          367.3319715947194,
          376.93858706083734,
          386.93803876414063,
          397.3999157876369,
          408.4108977197699,
          420.0812958076434,
          432.5550562329613,
          446.02571493511095,
          460.76318459506956,
          477.16171209550475,
          495.83318113164705,
          517.8102477556045,
          545.0666594967987,
          582.2496586447767,
          645.5354469787585
         ],
         "yaxis": "y8"
        },
        {
         "hovertemplate": "sample=2<br>Q_x=%{x}<br>Q_y=%{y}<extra></extra>",
         "legendgroup": "",
         "marker": {
          "color": "#636efa",
          "symbol": "circle"
         },
         "mode": "markers",
         "name": "",
         "orientation": "v",
         "showlegend": false,
         "type": "scatter",
         "x": [
          -2.254357700194338,
          -1.8907369953232744,
          -1.6770949010183833,
          -1.520487929524481,
          -1.3942144538014847,
          -1.286933926677913,
          -1.1927130236042607,
          -1.1080360487755754,
          -1.0306377806762108,
          -0.9589673839307319,
          -0.8919128604657872,
          -0.8286471397267934,
          -0.7685364071641807,
          -0.7110826284818202,
          -0.6558859661793708,
          -0.6026193228440059,
          -0.5510105721581059,
          -0.5008298276167628,
          -0.45188010714370314,
          -0.40399034311351933,
          -0.3570100462801349,
          -0.3108051566958892,
          -0.26525475892765843,
          -0.22024843361398128,
          -0.17568408084606352,
          -0.13146609399527875,
          -0.08750379225703046,
          -0.043710040626117594,
          0,
          0.04371004062611773,
          0.08750379225703046,
          0.1314660939952789,
          0.17568408084606352,
          0.22024843361398114,
          0.26525475892765843,
          0.31080515669588904,
          0.35701004628013466,
          0.403990343113519,
          0.45188010714370297,
          0.5008298276167624,
          0.5510105721581058,
          0.6026193228440055,
          0.6558859661793706,
          0.7110826284818199,
          0.7685364071641805,
          0.8286471397267934,
          0.8919128604657867,
          0.9589673839307314,
          1.0306377806762104,
          1.1080360487755754,
          1.1927130236042602,
          1.286933926677913,
          1.3942144538014838,
          1.5204879295244804,
          1.6770949010183824,
          1.8907369953232736,
          2.254357700194338
         ],
         "xaxis": "x9",
         "y": [
          -30.55483155282849,
          -16.893966468385543,
          20.137509776746498,
          45.28555062496642,
          45.580855307365,
          77.70704344633566,
          82.0110094151124,
          95.6439643160742,
          99.68425101106655,
          132.45251313450862,
          144.49577852852246,
          154.63780010403684,
          177.9276841230447,
          180.39076327930135,
          183.78607355534854,
          184.84224551335126,
          186.6393428110647,
          201.04011721897848,
          202.1261796431704,
          204.8879542660452,
          209.75184220814538,
          225.266725887615,
          229.0755554442246,
          231.0685492211197,
          231.54943996683164,
          233.59521135086354,
          242.26058493399177,
          245.9788561845879,
          255.83280128675673,
          261.5426156232871,
          267.3624819725344,
          269.7324632694903,
          302.1896632432496,
          305.3580618429048,
          313.07336739298296,
          323.3459909229435,
          336.6686416941255,
          337.9915007740937,
          338.67764711360917,
          350.52928859258947,
          355.46595040697855,
          355.854266882194,
          363.2804051400455,
          366.37261243261065,
          380.71143122015076,
          385.73810417034935,
          389.26224052182573,
          431.07502567348865,
          442.0757278757851,
          453.26396476963237,
          471.79155293766223,
          482.17929818219585,
          519.7343703257761,
          539.7084458179946,
          639.3006732262552,
          676.6534698176079,
          690.262444410473
         ],
         "yaxis": "y9"
        },
        {
         "hovertemplate": "<b>OLS trendline</b><br>Q_y = 163.715 * Q_x + 277.639<br>R<sup>2</sup>=0.976952<br><br>sample=2<br>Q_x=%{x}<br>Q_y=%{y} <b>(trend)</b><extra></extra>",
         "legendgroup": "",
         "marker": {
          "color": "#636efa",
          "symbol": "circle"
         },
         "mode": "lines",
         "name": "",
         "showlegend": false,
         "type": "scatter",
         "x": [
          -2.254357700194338,
          -1.8907369953232744,
          -1.6770949010183833,
          -1.520487929524481,
          -1.3942144538014847,
          -1.286933926677913,
          -1.1927130236042607,
          -1.1080360487755754,
          -1.0306377806762108,
          -0.9589673839307319,
          -0.8919128604657872,
          -0.8286471397267934,
          -0.7685364071641807,
          -0.7110826284818202,
          -0.6558859661793708,
          -0.6026193228440059,
          -0.5510105721581059,
          -0.5008298276167628,
          -0.45188010714370314,
          -0.40399034311351933,
          -0.3570100462801349,
          -0.3108051566958892,
          -0.26525475892765843,
          -0.22024843361398128,
          -0.17568408084606352,
          -0.13146609399527875,
          -0.08750379225703046,
          -0.043710040626117594,
          0,
          0.04371004062611773,
          0.08750379225703046,
          0.1314660939952789,
          0.17568408084606352,
          0.22024843361398114,
          0.26525475892765843,
          0.31080515669588904,
          0.35701004628013466,
          0.403990343113519,
          0.45188010714370297,
          0.5008298276167624,
          0.5510105721581058,
          0.6026193228440055,
          0.6558859661793706,
          0.7110826284818199,
          0.7685364071641805,
          0.8286471397267934,
          0.8919128604657867,
          0.9589673839307314,
          1.0306377806762104,
          1.1080360487755754,
          1.1927130236042602,
          1.286933926677913,
          1.3942144538014838,
          1.5204879295244804,
          1.6770949010183824,
          1.8907369953232736,
          2.254357700194338
         ],
         "xaxis": "x9",
         "y": [
          -91.43322166699988,
          -31.90308908168072,
          3.07330810748698,
          28.7122050457763,
          49.385056319370705,
          66.94847863811276,
          82.37384572294894,
          96.2367294117719,
          108.90798025119548,
          120.6414931220142,
          131.61931869366032,
          141.9768607512105,
          151.81788418941616,
          161.2239246504545,
          170.26044149648243,
          178.98098545245318,
          187.43010765517184,
          195.64544395411951,
          203.65924325305886,
          211.49951187364633,
          219.19088714992694,
          226.75531669476132,
          234.21259616793742,
          241.58080286576902,
          248.8766520660883,
          256.1157959999204,
          263.31308046743095,
          270.4827707685408,
          277.6387563296631,
          284.79474189078553,
          291.9644321918953,
          299.16171665940584,
          306.40086059323795,
          313.6967097935572,
          321.06491649138883,
          328.5221959645649,
          336.08662550939925,
          343.77800078567986,
          351.61826940626736,
          359.6320687052067,
          367.8474050041544,
          376.296527206873,
          385.01707116284376,
          394.05358800887166,
          403.45962846991006,
          413.30065190811575,
          423.6581939656659,
          434.636019537312,
          446.3695324081307,
          459.0407832475544,
          472.90366693637725,
          488.3290340212135,
          505.8924563399554,
          526.5653076135499,
          552.2042045518391,
          587.1806017410067,
          646.7107343263261
         ],
         "yaxis": "y9"
        },
        {
         "hovertemplate": "sample=3<br>Q_x=%{x}<br>Q_y=%{y}<extra></extra>",
         "legendgroup": "",
         "marker": {
          "color": "#636efa",
          "symbol": "circle"
         },
         "mode": "markers",
         "name": "",
         "orientation": "v",
         "showlegend": false,
         "type": "scatter",
         "x": [
          -2.254357700194338,
          -1.8907369953232744,
          -1.6770949010183833,
          -1.520487929524481,
          -1.3942144538014847,
          -1.286933926677913,
          -1.1927130236042607,
          -1.1080360487755754,
          -1.0306377806762108,
          -0.9589673839307319,
          -0.8919128604657872,
          -0.8286471397267934,
          -0.7685364071641807,
          -0.7110826284818202,
          -0.6558859661793708,
          -0.6026193228440059,
          -0.5510105721581059,
          -0.5008298276167628,
          -0.45188010714370314,
          -0.40399034311351933,
          -0.3570100462801349,
          -0.3108051566958892,
          -0.26525475892765843,
          -0.22024843361398128,
          -0.17568408084606352,
          -0.13146609399527875,
          -0.08750379225703046,
          -0.043710040626117594,
          0,
          0.04371004062611773,
          0.08750379225703046,
          0.1314660939952789,
          0.17568408084606352,
          0.22024843361398114,
          0.26525475892765843,
          0.31080515669588904,
          0.35701004628013466,
          0.403990343113519,
          0.45188010714370297,
          0.5008298276167624,
          0.5510105721581058,
          0.6026193228440055,
          0.6558859661793706,
          0.7110826284818199,
          0.7685364071641805,
          0.8286471397267934,
          0.8919128604657867,
          0.9589673839307314,
          1.0306377806762104,
          1.1080360487755754,
          1.1927130236042602,
          1.286933926677913,
          1.3942144538014838,
          1.5204879295244804,
          1.6770949010183824,
          1.8907369953232736,
          2.254357700194338
         ],
         "xaxis": "x4",
         "y": [
          -95.90854626958577,
          -81.8248734699477,
          -75.30297905112718,
          -67.90935839894354,
          -60.73382366093108,
          -52.926449707830045,
          -11.58259055977129,
          3.1219734189994597,
          11.453020972599063,
          50.13339287293354,
          59.93540734704413,
          83.41566426185139,
          89.6817375136473,
          102.50411317395458,
          115.49886833664752,
          116.70579190022934,
          117.98399376169954,
          136.91832742740513,
          155.68528576042343,
          176.70959285323008,
          181.15193085010435,
          181.41978399364524,
          198.82457891227128,
          201.29870114206247,
          202.71192435874306,
          225.47275182445264,
          270.8750890751131,
          272.2504976115979,
          276.0472223810332,
          277.90054492900674,
          279.00286671575753,
          281.09115711790935,
          284.0149481014891,
          306.2464695741982,
          309.1944426558465,
          321.4789191522657,
          335.5583792637987,
          339.928373855938,
          346.2260971518964,
          352.5682314381731,
          358.06196333719777,
          366.4037769519367,
          368.5875291062233,
          371.1414204501035,
          372.72008589339737,
          378.8719497808883,
          382.9473548468815,
          400.8219018078844,
          403.7847972997473,
          409.5254067791387,
          417.9977274184222,
          448.5055593981243,
          455.2473920929305,
          474.44345013255315,
          506.12322203716553,
          636.9612779107492,
          649.0342422839799
         ],
         "yaxis": "y4"
        },
        {
         "hovertemplate": "<b>OLS trendline</b><br>Q_y = 182.156 * Q_x + 238.912<br>R<sup>2</sup>=0.976363<br><br>sample=3<br>Q_x=%{x}<br>Q_y=%{y} <b>(trend)</b><extra></extra>",
         "legendgroup": "",
         "marker": {
          "color": "#636efa",
          "symbol": "circle"
         },
         "mode": "lines",
         "name": "",
         "showlegend": false,
         "type": "scatter",
         "x": [
          -2.254357700194338,
          -1.8907369953232744,
          -1.6770949010183833,
          -1.520487929524481,
          -1.3942144538014847,
          -1.286933926677913,
          -1.1927130236042607,
          -1.1080360487755754,
          -1.0306377806762108,
          -0.9589673839307319,
          -0.8919128604657872,
          -0.8286471397267934,
          -0.7685364071641807,
          -0.7110826284818202,
          -0.6558859661793708,
          -0.6026193228440059,
          -0.5510105721581059,
          -0.5008298276167628,
          -0.45188010714370314,
          -0.40399034311351933,
          -0.3570100462801349,
          -0.3108051566958892,
          -0.26525475892765843,
          -0.22024843361398128,
          -0.17568408084606352,
          -0.13146609399527875,
          -0.08750379225703046,
          -0.043710040626117594,
          0,
          0.04371004062611773,
          0.08750379225703046,
          0.1314660939952789,
          0.17568408084606352,
          0.22024843361398114,
          0.26525475892765843,
          0.31080515669588904,
          0.35701004628013466,
          0.403990343113519,
          0.45188010714370297,
          0.5008298276167624,
          0.5510105721581058,
          0.6026193228440055,
          0.6558859661793706,
          0.7110826284818199,
          0.7685364071641805,
          0.8286471397267934,
          0.8919128604657867,
          0.9589673839307314,
          1.0306377806762104,
          1.1080360487755754,
          1.1927130236042602,
          1.286933926677913,
          1.3942144538014838,
          1.5204879295244804,
          1.6770949010183824,
          1.8907369953232736,
          2.254357700194338
         ],
         "xaxis": "x4",
         "y": [
          -171.73285830918158,
          -105.49710602434268,
          -66.58088193030855,
          -38.05395694778562,
          -15.052465156772968,
          4.489343998631114,
          21.652262150536615,
          37.07669495606433,
          51.17526647421502,
          64.23047092598836,
          76.444865613378,
          87.96910653490553,
          98.9186469167966,
          109.38420677533708,
          119.43861897530056,
          129.1414663262432,
          138.5423183139577,
          147.6830501820392,
          156.59954342962624,
          165.32295907892876,
          173.8807096735426,
          182.2972150591081,
          190.59450072693673,
          198.79268024420222,
          206.9103517385046,
          214.9649305464451,
          222.9729347354213,
          230.95023648361922,
          238.91228975640624,
          246.87434302919328,
          254.8516447773912,
          262.85964896636744,
          270.91422777430785,
          279.03189926861023,
          287.2300787858758,
          295.5273644537043,
          303.94386983926984,
          312.50162043388366,
          321.2250360831862,
          330.1415293307732,
          339.28226119885477,
          348.68311318656924,
          358.3859605375119,
          368.44037273747534,
          378.9059325960158,
          389.85547297790697,
          401.37971389943436,
          413.59410858682406,
          426.64931303859737,
          440.74788455674815,
          456.17231736227575,
          473.33523551418136,
          492.8770446695853,
          515.878536460598,
          544.4054614431209,
          583.3216855371551,
          649.5574378219941
         ],
         "yaxis": "y4"
        },
        {
         "hovertemplate": "sample=4<br>Q_x=%{x}<br>Q_y=%{y}<extra></extra>",
         "legendgroup": "",
         "marker": {
          "color": "#636efa",
          "symbol": "circle"
         },
         "mode": "markers",
         "name": "",
         "orientation": "v",
         "showlegend": false,
         "type": "scatter",
         "x": [
          -2.254357700194338,
          -1.8907369953232744,
          -1.6770949010183833,
          -1.520487929524481,
          -1.3942144538014847,
          -1.286933926677913,
          -1.1927130236042607,
          -1.1080360487755754,
          -1.0306377806762108,
          -0.9589673839307319,
          -0.8919128604657872,
          -0.8286471397267934,
          -0.7685364071641807,
          -0.7110826284818202,
          -0.6558859661793708,
          -0.6026193228440059,
          -0.5510105721581059,
          -0.5008298276167628,
          -0.45188010714370314,
          -0.40399034311351933,
          -0.3570100462801349,
          -0.3108051566958892,
          -0.26525475892765843,
          -0.22024843361398128,
          -0.17568408084606352,
          -0.13146609399527875,
          -0.08750379225703046,
          -0.043710040626117594,
          0,
          0.04371004062611773,
          0.08750379225703046,
          0.1314660939952789,
          0.17568408084606352,
          0.22024843361398114,
          0.26525475892765843,
          0.31080515669588904,
          0.35701004628013466,
          0.403990343113519,
          0.45188010714370297,
          0.5008298276167624,
          0.5510105721581058,
          0.6026193228440055,
          0.6558859661793706,
          0.7110826284818199,
          0.7685364071641805,
          0.8286471397267934,
          0.8919128604657867,
          0.9589673839307314,
          1.0306377806762104,
          1.1080360487755754,
          1.1927130236042602,
          1.286933926677913,
          1.3942144538014838,
          1.5204879295244804,
          1.6770949010183824,
          1.8907369953232736,
          2.254357700194338
         ],
         "xaxis": "x5",
         "y": [
          -173.53733289187642,
          -96.42469589853573,
          -71.99058345188371,
          -32.31358692371049,
          -31.86425990740571,
          -18.40264718860368,
          3.397977404642063,
          7.956311983157121,
          39.83705713485557,
          40.22000543982975,
          70.24925783409603,
          93.07832979757856,
          93.52574822594991,
          94.37502505816943,
          127.54042463264878,
          185.35750332485495,
          189.04652260922063,
          190.41314802911688,
          190.44073964362366,
          192.21274945175122,
          196.04392133506877,
          200.38089646876344,
          208.40884657280174,
          209.28702844877768,
          223.97011572805818,
          231.31049903834625,
          232.31361075724465,
          242.44286082895925,
          251.19758275568313,
          277.5984337864002,
          278.27112637317896,
          289.87950888885246,
          297.2780950271345,
          303.5861253277971,
          303.80478704391504,
          313.3459300678016,
          313.3469895039324,
          316.90672098674787,
          320.3900373209348,
          329.8097018995723,
          331.45601357114896,
          333.54845181037433,
          337.07457155388954,
          340.3942622649008,
          346.14130360257127,
          360.86630369959596,
          365.6778761332211,
          370.56326177559913,
          374.15125417927146,
          385.2374857669407,
          388.08271946216536,
          396.5596460784117,
          398.94459403444716,
          454.0353953536861,
          457.5462179226082,
          508.7044320341611,
          547.9102110536433
         ],
         "yaxis": "y5"
        },
        {
         "hovertemplate": "<b>OLS trendline</b><br>Q_y = 160.229 * Q_x + 230.344<br>R<sup>2</sup>=0.966053<br><br>sample=4<br>Q_x=%{x}<br>Q_y=%{y} <b>(trend)</b><extra></extra>",
         "legendgroup": "",
         "marker": {
          "color": "#636efa",
          "symbol": "circle"
         },
         "mode": "lines",
         "name": "",
         "showlegend": false,
         "type": "scatter",
         "x": [
          -2.254357700194338,
          -1.8907369953232744,
          -1.6770949010183833,
          -1.520487929524481,
          -1.3942144538014847,
          -1.286933926677913,
          -1.1927130236042607,
          -1.1080360487755754,
          -1.0306377806762108,
          -0.9589673839307319,
          -0.8919128604657872,
          -0.8286471397267934,
          -0.7685364071641807,
          -0.7110826284818202,
          -0.6558859661793708,
          -0.6026193228440059,
          -0.5510105721581059,
          -0.5008298276167628,
          -0.45188010714370314,
          -0.40399034311351933,
          -0.3570100462801349,
          -0.3108051566958892,
          -0.26525475892765843,
          -0.22024843361398128,
          -0.17568408084606352,
          -0.13146609399527875,
          -0.08750379225703046,
          -0.043710040626117594,
          0,
          0.04371004062611773,
          0.08750379225703046,
          0.1314660939952789,
          0.17568408084606352,
          0.22024843361398114,
          0.26525475892765843,
          0.31080515669588904,
          0.35701004628013466,
          0.403990343113519,
          0.45188010714370297,
          0.5008298276167624,
          0.5510105721581058,
          0.6026193228440055,
          0.6558859661793706,
          0.7110826284818199,
          0.7685364071641805,
          0.8286471397267934,
          0.8919128604657867,
          0.9589673839307314,
          1.0306377806762104,
          1.1080360487755754,
          1.1927130236042602,
          1.286933926677913,
          1.3942144538014838,
          1.5204879295244804,
          1.6770949010183824,
          1.8907369953232736,
          2.254357700194338
         ],
         "xaxis": "x5",
         "y": [
          -130.8694526866981,
          -72.60694162594152,
          -38.3753241307397,
          -13.282376213787387,
          6.950271920482038,
          24.13970259483608,
          39.23660531226983,
          52.80429581079923,
          65.20572782722311,
          76.68938986069546,
          87.43345603381232,
          97.57044687328994,
          107.20191772707767,
          116.40766803535631,
          125.2517632830503,
          133.78661389777676,
          142.05582235425146,
          150.09622309247044,
          157.93937831514634,
          165.61269798349412,
          173.14029480959692,
          180.5436490586838,
          187.8421348661255,
          195.05344459427184,
          202.19393758951242,
          209.2789327877142,
          216.32295986584563,
          223.33998036167478,
          230.3435879432296,
          237.34719552478447,
          244.36421602061358,
          251.40824309874503,
          258.4932382969468,
          265.63373129218735,
          272.8450410203337,
          280.1435268277754,
          287.54688107686223,
          295.07447790296504,
          302.74779757131284,
          310.5909527939887,
          318.63135353220775,
          326.9005619886824,
          335.4354126034089,
          344.27950785110284,
          353.4852581593815,
          363.1167290131693,
          373.2537198526468,
          383.99778602576373,
          395.481448059236,
          407.88288007565995,
          421.4505705741893,
          436.54747329162313,
          453.73690396597704,
          473.9695521002465,
          499.0625000171988,
          533.2941175124006,
          591.5566285731574
         ],
         "yaxis": "y5"
        },
        {
         "hovertemplate": "sample=5<br>Q_x=%{x}<br>Q_y=%{y}<extra></extra>",
         "legendgroup": "",
         "marker": {
          "color": "#636efa",
          "symbol": "circle"
         },
         "mode": "markers",
         "name": "",
         "orientation": "v",
         "showlegend": false,
         "type": "scatter",
         "x": [
          -2.254357700194338,
          -1.8907369953232744,
          -1.6770949010183833,
          -1.520487929524481,
          -1.3942144538014847,
          -1.286933926677913,
          -1.1927130236042607,
          -1.1080360487755754,
          -1.0306377806762108,
          -0.9589673839307319,
          -0.8919128604657872,
          -0.8286471397267934,
          -0.7685364071641807,
          -0.7110826284818202,
          -0.6558859661793708,
          -0.6026193228440059,
          -0.5510105721581059,
          -0.5008298276167628,
          -0.45188010714370314,
          -0.40399034311351933,
          -0.3570100462801349,
          -0.3108051566958892,
          -0.26525475892765843,
          -0.22024843361398128,
          -0.17568408084606352,
          -0.13146609399527875,
          -0.08750379225703046,
          -0.043710040626117594,
          0,
          0.04371004062611773,
          0.08750379225703046,
          0.1314660939952789,
          0.17568408084606352,
          0.22024843361398114,
          0.26525475892765843,
          0.31080515669588904,
          0.35701004628013466,
          0.403990343113519,
          0.45188010714370297,
          0.5008298276167624,
          0.5510105721581058,
          0.6026193228440055,
          0.6558859661793706,
          0.7110826284818199,
          0.7685364071641805,
          0.8286471397267934,
          0.8919128604657867,
          0.9589673839307314,
          1.0306377806762104,
          1.1080360487755754,
          1.1927130236042602,
          1.286933926677913,
          1.3942144538014838,
          1.5204879295244804,
          1.6770949010183824,
          1.8907369953232736,
          2.254357700194338
         ],
         "xaxis": "x6",
         "y": [
          0.7344261478917247,
          35.302787865815816,
          37.144496425146826,
          51.54681235325202,
          81.9243978109948,
          109.51047636306899,
          123.55089666897558,
          126.58749231011231,
          139.17716331660566,
          155.53300141656518,
          157.6311091516057,
          161.6124022363493,
          179.80406292532993,
          181.13579545805393,
          181.87202276006093,
          189.07985278621834,
          195.87228874130858,
          205.24469138153464,
          221.74285513559732,
          225.45584525333433,
          233.5736604087347,
          235.30597857430217,
          245.37207151340903,
          247.60129573161004,
          260.6649533264805,
          263.4414752128048,
          265.09861986721734,
          267.8663075305925,
          281.5655815447152,
          300.39322662635936,
          307.6539209269213,
          309.0246609732237,
          310.26108106768106,
          324.2825641415072,
          330.70779823258863,
          331.46902432762687,
          352.3738566522517,
          354.0118995618647,
          358.86995453867064,
          370.55961583648593,
          375.0043610873756,
          377.33215167588554,
          383.3133476673838,
          396.3336605935435,
          444.0560428219261,
          448.5486652247238,
          471.11816913092673,
          483.8115596185273,
          505.8691028959312,
          534.9690855940444,
          552.7741524244602,
          555.4980654846532,
          591.150837223289,
          600.3614719092596,
          634.1276610232553,
          643.2743648953988,
          684.0252450285395
         ],
         "yaxis": "y6"
        },
        {
         "hovertemplate": "<b>OLS trendline</b><br>Q_y = 168.728 * Q_x + 305.125<br>R<sup>2</sup>=0.977583<br><br>sample=5<br>Q_x=%{x}<br>Q_y=%{y} <b>(trend)</b><extra></extra>",
         "legendgroup": "",
         "marker": {
          "color": "#636efa",
          "symbol": "circle"
         },
         "mode": "lines",
         "name": "",
         "showlegend": false,
         "type": "scatter",
         "x": [
          -2.254357700194338,
          -1.8907369953232744,
          -1.6770949010183833,
          -1.520487929524481,
          -1.3942144538014847,
          -1.286933926677913,
          -1.1927130236042607,
          -1.1080360487755754,
          -1.0306377806762108,
          -0.9589673839307319,
          -0.8919128604657872,
          -0.8286471397267934,
          -0.7685364071641807,
          -0.7110826284818202,
          -0.6558859661793708,
          -0.6026193228440059,
          -0.5510105721581059,
          -0.5008298276167628,
          -0.45188010714370314,
          -0.40399034311351933,
          -0.3570100462801349,
          -0.3108051566958892,
          -0.26525475892765843,
          -0.22024843361398128,
          -0.17568408084606352,
          -0.13146609399527875,
          -0.08750379225703046,
          -0.043710040626117594,
          0,
          0.04371004062611773,
          0.08750379225703046,
          0.1314660939952789,
          0.17568408084606352,
          0.22024843361398114,
          0.26525475892765843,
          0.31080515669588904,
          0.35701004628013466,
          0.403990343113519,
          0.45188010714370297,
          0.5008298276167624,
          0.5510105721581058,
          0.6026193228440055,
          0.6558859661793706,
          0.7110826284818199,
          0.7685364071641805,
          0.8286471397267934,
          0.8919128604657867,
          0.9589673839307314,
          1.0306377806762104,
          1.1080360487755754,
          1.1927130236042602,
          1.286933926677913,
          1.3942144538014838,
          1.5204879295244804,
          1.6770949010183824,
          1.8907369953232736,
          2.254357700194338
         ],
         "xaxis": "x6",
         "y": [
          -75.2488770368247,
          -13.89577466427329,
          22.151692125666784,
          48.57571976107778,
          69.8816283058566,
          87.98288897396867,
          103.88062151359904,
          118.16802329151608,
          131.2273012769166,
          143.32012528199064,
          154.63412084818424,
          165.30883818186604,
          175.45121973274817,
          185.14529797958147,
          194.45853682296953,
          203.44612685240872,
          212.1539834781041,
          220.6208950585862,
          228.8800980441706,
          236.96045638400457,
          244.8873618723308,
          252.68343421584564,
          260.3690752696895,
          267.9629159047037,
          275.482183264647,
          282.9430088931719,
          290.36069320803006,
          297.74993835027857,
          305.12505907722806,
          312.5001798041776,
          319.88942494642606,
          327.3071092612842,
          334.7679348898091,
          342.2872022497524,
          349.8810428847666,
          357.5666839386105,
          365.36275628212525,
          373.2896617704515,
          381.37002011028545,
          389.62922309586986,
          398.096134676352,
          406.80399130204734,
          415.79158133148655,
          425.1048201748746,
          434.7988984217079,
          444.9412799725901,
          455.61599730627177,
          466.9299928724654,
          479.0228168775394,
          492.08209486294004,
          506.36949664085705,
          522.2672291804874,
          540.3684898485994,
          561.6743983933782,
          588.0984260287892,
          624.1458928187293,
          685.4989951912808
         ],
         "yaxis": "y6"
        },
        {
         "hovertemplate": "sample=6<br>Q_x=%{x}<br>Q_y=%{y}<extra></extra>",
         "legendgroup": "",
         "marker": {
          "color": "#636efa",
          "symbol": "circle"
         },
         "mode": "markers",
         "name": "",
         "orientation": "v",
         "showlegend": false,
         "type": "scatter",
         "x": [
          -2.254357700194338,
          -1.8907369953232744,
          -1.6770949010183833,
          -1.520487929524481,
          -1.3942144538014847,
          -1.286933926677913,
          -1.1927130236042607,
          -1.1080360487755754,
          -1.0306377806762108,
          -0.9589673839307319,
          -0.8919128604657872,
          -0.8286471397267934,
          -0.7685364071641807,
          -0.7110826284818202,
          -0.6558859661793708,
          -0.6026193228440059,
          -0.5510105721581059,
          -0.5008298276167628,
          -0.45188010714370314,
          -0.40399034311351933,
          -0.3570100462801349,
          -0.3108051566958892,
          -0.26525475892765843,
          -0.22024843361398128,
          -0.17568408084606352,
          -0.13146609399527875,
          -0.08750379225703046,
          -0.043710040626117594,
          0,
          0.04371004062611773,
          0.08750379225703046,
          0.1314660939952789,
          0.17568408084606352,
          0.22024843361398114,
          0.26525475892765843,
          0.31080515669588904,
          0.35701004628013466,
          0.403990343113519,
          0.45188010714370297,
          0.5008298276167624,
          0.5510105721581058,
          0.6026193228440055,
          0.6558859661793706,
          0.7110826284818199,
          0.7685364071641805,
          0.8286471397267934,
          0.8919128604657867,
          0.9589673839307314,
          1.0306377806762104,
          1.1080360487755754,
          1.1927130236042602,
          1.286933926677913,
          1.3942144538014838,
          1.5204879295244804,
          1.6770949010183824,
          1.8907369953232736,
          2.254357700194338
         ],
         "xaxis": "x",
         "y": [
          -145.6647726023922,
          -55.28165906416814,
          -30.435886127088963,
          -27.646898235591493,
          -24.367669449637162,
          19.895393260204116,
          46.22905769817112,
          58.65445700327314,
          70.3035666082115,
          73.4496301810307,
          90.32911101445472,
          96.01567538675809,
          122.94031822590065,
          135.00531497114684,
          144.35824550436325,
          153.3135675998127,
          157.61730781521646,
          174.6263459949378,
          177.98571288053873,
          186.69188376285035,
          201.7866466412427,
          204.80844222162705,
          209.56939761829057,
          230.6533635816976,
          264.4096482476742,
          272.7590722222909,
          276.948763130416,
          278.96391399254617,
          281.91665911954243,
          303.52883191476707,
          311.6744483783522,
          316.9404542055123,
          317.6254654983225,
          330.5499637306982,
          345.6616378442883,
          361.2481324470584,
          371.17673404469156,
          372.07173788040734,
          376.7158949485702,
          380.87654011505526,
          388.6419808669414,
          401.1191546573279,
          403.03541582721,
          403.8909690655757,
          406.27044696371695,
          424.2696142616238,
          424.5634697688967,
          440.5516612316637,
          442.69512817700263,
          448.952102250567,
          451.2215815337663,
          470.2572890309485,
          493.18569164916585,
          506.56700988742057,
          512.6641263315021,
          525.3770718063033,
          633.0411412011106
         ],
         "yaxis": "y"
        },
        {
         "hovertemplate": "<b>OLS trendline</b><br>Q_y = 176.142 * Q_x + 266.846<br>R<sup>2</sup>=0.980187<br><br>sample=6<br>Q_x=%{x}<br>Q_y=%{y} <b>(trend)</b><extra></extra>",
         "legendgroup": "",
         "marker": {
          "color": "#636efa",
          "symbol": "circle"
         },
         "mode": "lines",
         "name": "",
         "showlegend": false,
         "type": "scatter",
         "x": [
          -2.254357700194338,
          -1.8907369953232744,
          -1.6770949010183833,
          -1.520487929524481,
          -1.3942144538014847,
          -1.286933926677913,
          -1.1927130236042607,
          -1.1080360487755754,
          -1.0306377806762108,
          -0.9589673839307319,
          -0.8919128604657872,
          -0.8286471397267934,
          -0.7685364071641807,
          -0.7110826284818202,
          -0.6558859661793708,
          -0.6026193228440059,
          -0.5510105721581059,
          -0.5008298276167628,
          -0.45188010714370314,
          -0.40399034311351933,
          -0.3570100462801349,
          -0.3108051566958892,
          -0.26525475892765843,
          -0.22024843361398128,
          -0.17568408084606352,
          -0.13146609399527875,
          -0.08750379225703046,
          -0.043710040626117594,
          0,
          0.04371004062611773,
          0.08750379225703046,
          0.1314660939952789,
          0.17568408084606352,
          0.22024843361398114,
          0.26525475892765843,
          0.31080515669588904,
          0.35701004628013466,
          0.403990343113519,
          0.45188010714370297,
          0.5008298276167624,
          0.5510105721581058,
          0.6026193228440055,
          0.6558859661793706,
          0.7110826284818199,
          0.7685364071641805,
          0.8286471397267934,
          0.8919128604657867,
          0.9589673839307314,
          1.0306377806762104,
          1.1080360487755754,
          1.1927130236042602,
          1.286933926677913,
          1.3942144538014838,
          1.5204879295244804,
          1.6770949010183824,
          1.8907369953232736,
          2.254357700194338
         ],
         "xaxis": "x",
         "y": [
          -130.240242384547,
          -66.19153708299251,
          -28.560292891348013,
          -0.9753021825857218,
          21.266700337191054,
          40.163255935612,
          56.75946944427494,
          71.67460088199854,
          85.30764981991507,
          97.93178276532691,
          109.74286875413301,
          120.88658925469991,
          131.47458532804924,
          141.5945814943624,
          151.31700574050805,
          160.69947350344677,
          169.7899175276249,
          178.62883037248267,
          187.25090876123716,
          195.68628480622294,
          203.96146591266728,
          212.1000656041276,
          220.12338210933183,
          228.05086486294385,
          235.9004978985516,
          243.6891215134752,
          251.43270836288056,
          259.1466065394226,
          266.84575973196115,
          274.5449129244998,
          282.2588111010417,
          290.0023979504471,
          297.7910215653707,
          305.64065460097845,
          313.5681373545905,
          321.5914538597947,
          329.73005355125497,
          338.0052346576993,
          346.44061070268515,
          355.06268909143955,
          363.90160193629737,
          372.9920459604755,
          382.3745137234142,
          392.09693796955986,
          402.216934135873,
          412.8049302092224,
          423.9486507097892,
          435.7597366985953,
          448.3838696440072,
          462.01691858192373,
          476.93205001964725,
          493.5282635283103,
          512.4248191267311,
          534.666821646508,
          562.2518123552702,
          599.8830565469148,
          663.9317618484693
         ],
         "yaxis": "y"
        },
        {
         "hovertemplate": "sample=7<br>Q_x=%{x}<br>Q_y=%{y}<extra></extra>",
         "legendgroup": "",
         "marker": {
          "color": "#636efa",
          "symbol": "circle"
         },
         "mode": "markers",
         "name": "",
         "orientation": "v",
         "showlegend": false,
         "type": "scatter",
         "x": [
          -2.254357700194338,
          -1.8907369953232744,
          -1.6770949010183833,
          -1.520487929524481,
          -1.3942144538014847,
          -1.286933926677913,
          -1.1927130236042607,
          -1.1080360487755754,
          -1.0306377806762108,
          -0.9589673839307319,
          -0.8919128604657872,
          -0.8286471397267934,
          -0.7685364071641807,
          -0.7110826284818202,
          -0.6558859661793708,
          -0.6026193228440059,
          -0.5510105721581059,
          -0.5008298276167628,
          -0.45188010714370314,
          -0.40399034311351933,
          -0.3570100462801349,
          -0.3108051566958892,
          -0.26525475892765843,
          -0.22024843361398128,
          -0.17568408084606352,
          -0.13146609399527875,
          -0.08750379225703046,
          -0.043710040626117594,
          0,
          0.04371004062611773,
          0.08750379225703046,
          0.1314660939952789,
          0.17568408084606352,
          0.22024843361398114,
          0.26525475892765843,
          0.31080515669588904,
          0.35701004628013466,
          0.403990343113519,
          0.45188010714370297,
          0.5008298276167624,
          0.5510105721581058,
          0.6026193228440055,
          0.6558859661793706,
          0.7110826284818199,
          0.7685364071641805,
          0.8286471397267934,
          0.8919128604657867,
          0.9589673839307314,
          1.0306377806762104,
          1.1080360487755754,
          1.1927130236042602,
          1.286933926677913,
          1.3942144538014838,
          1.5204879295244804,
          1.6770949010183824,
          1.8907369953232736,
          2.254357700194338
         ],
         "xaxis": "x2",
         "y": [
          -144.02083209293795,
          -26.82097991469601,
          -24.12897227451657,
          3.494086139166086,
          16.12226318295515,
          24.415651965253602,
          29.227157985348583,
          55.20932586187706,
          72.59921758248632,
          76.4212452688563,
          93.23161222147172,
          102.56809438893904,
          107.28629680099675,
          132.3974092718411,
          138.77831241007436,
          138.93105709770794,
          153.91406014136922,
          168.4749598374594,
          173.1563867395363,
          173.69848032512817,
          181.7415078435548,
          188.92800417137465,
          192.99257330713272,
          194.5161430824682,
          200.64045985090848,
          215.43925433202963,
          217.3901127702876,
          218.03033388359205,
          220.7196169048088,
          222.75484461792217,
          226.31496550702005,
          227.519019608507,
          227.8341426276399,
          227.83437339705625,
          241.91101608604927,
          245.2597240095712,
          270.4425552904623,
          281.9628598237105,
          283.9624742208692,
          291.0498387163807,
          301.51305065318877,
          307.21773521930413,
          314.4046850131913,
          331.11989602179057,
          332.0763699071416,
          343.37311158310433,
          370.28020941481316,
          390.8251255205223,
          422.40252166868567,
          449.26762340903707,
          463.79774263381375,
          466.65250104371637,
          469.4445975851586,
          496.46616070121763,
          547.9472912525034,
          584.5604735655081,
          817.0264409180437
         ],
         "yaxis": "y2"
        },
        {
         "hovertemplate": "<b>OLS trendline</b><br>Q_y = 171.116 * Q_x + 235.975<br>R<sup>2</sup>=0.958753<br><br>sample=7<br>Q_x=%{x}<br>Q_y=%{y} <b>(trend)</b><extra></extra>",
         "legendgroup": "",
         "marker": {
          "color": "#636efa",
          "symbol": "circle"
         },
         "mode": "lines",
         "name": "",
         "showlegend": false,
         "type": "scatter",
         "x": [
          -2.254357700194338,
          -1.8907369953232744,
          -1.6770949010183833,
          -1.520487929524481,
          -1.3942144538014847,
          -1.286933926677913,
          -1.1927130236042607,
          -1.1080360487755754,
          -1.0306377806762108,
          -0.9589673839307319,
          -0.8919128604657872,
          -0.8286471397267934,
          -0.7685364071641807,
          -0.7110826284818202,
          -0.6558859661793708,
          -0.6026193228440059,
          -0.5510105721581059,
          -0.5008298276167628,
          -0.45188010714370314,
          -0.40399034311351933,
          -0.3570100462801349,
          -0.3108051566958892,
          -0.26525475892765843,
          -0.22024843361398128,
          -0.17568408084606352,
          -0.13146609399527875,
          -0.08750379225703046,
          -0.043710040626117594,
          0,
          0.04371004062611773,
          0.08750379225703046,
          0.1314660939952789,
          0.17568408084606352,
          0.22024843361398114,
          0.26525475892765843,
          0.31080515669588904,
          0.35701004628013466,
          0.403990343113519,
          0.45188010714370297,
          0.5008298276167624,
          0.5510105721581058,
          0.6026193228440055,
          0.6558859661793706,
          0.7110826284818199,
          0.7685364071641805,
          0.8286471397267934,
          0.8919128604657867,
          0.9589673839307314,
          1.0306377806762104,
          1.1080360487755754,
          1.1927130236042602,
          1.286933926677913,
          1.3942144538014838,
          1.5204879295244804,
          1.6770949010183824,
          1.8907369953232736,
          2.254357700194338
         ],
         "xaxis": "x2",
         "y": [
          -149.78066249261732,
          -87.5595071194052,
          -51.002023549494965,
          -24.20413614837591,
          -2.596781431701885,
          15.760584519290347,
          31.883245773216714,
          46.37279253656021,
          59.6168394252976,
          71.88075848112106,
          83.35482986126553,
          94.18057819508229,
          104.46645900514824,
          114.29769370186581,
          123.7427006973317,
          132.85745144386698,
          141.688510984834,
          150.27521647498895,
          158.65127460982353,
          166.84595771942568,
          174.8850168532728,
          182.79139175247684,
          190.58577292737084,
          198.28705484725663,
          205.9127083937522,
          213.4790933472958,
          221.00172660325828,
          228.49551831561172,
          235.97498577369132,
          243.4544532317709,
          250.94824494412435,
          258.4708782000869,
          266.0372631536304,
          273.662916700126,
          281.3641986200118,
          289.15857979490573,
          297.0649546941098,
          305.1040138279569,
          313.29869693755904,
          321.6747550723936,
          330.2614605625486,
          339.0925201035156,
          348.2072708500509,
          357.6522778455168,
          367.48351254223434,
          377.7693933523003,
          388.595141686117,
          400.06921306626145,
          412.333132122085,
          425.5771790108224,
          440.0667257741659,
          456.18938702809226,
          474.5467529790844,
          496.1541076957584,
          522.9519950968775,
          559.5094786667877,
          621.7306340399999
         ],
         "yaxis": "y2"
        },
        {
         "hovertemplate": "sample=8<br>Q_x=%{x}<br>Q_y=%{y}<extra></extra>",
         "legendgroup": "",
         "marker": {
          "color": "#636efa",
          "symbol": "circle"
         },
         "mode": "markers",
         "name": "",
         "orientation": "v",
         "showlegend": false,
         "type": "scatter",
         "x": [
          -2.254357700194338,
          -1.8907369953232744,
          -1.6770949010183833,
          -1.520487929524481,
          -1.3942144538014847,
          -1.286933926677913,
          -1.1927130236042607,
          -1.1080360487755754,
          -1.0306377806762108,
          -0.9589673839307319,
          -0.8919128604657872,
          -0.8286471397267934,
          -0.7685364071641807,
          -0.7110826284818202,
          -0.6558859661793708,
          -0.6026193228440059,
          -0.5510105721581059,
          -0.5008298276167628,
          -0.45188010714370314,
          -0.40399034311351933,
          -0.3570100462801349,
          -0.3108051566958892,
          -0.26525475892765843,
          -0.22024843361398128,
          -0.17568408084606352,
          -0.13146609399527875,
          -0.08750379225703046,
          -0.043710040626117594,
          0,
          0.04371004062611773,
          0.08750379225703046,
          0.1314660939952789,
          0.17568408084606352,
          0.22024843361398114,
          0.26525475892765843,
          0.31080515669588904,
          0.35701004628013466,
          0.403990343113519,
          0.45188010714370297,
          0.5008298276167624,
          0.5510105721581058,
          0.6026193228440055,
          0.6558859661793706,
          0.7110826284818199,
          0.7685364071641805,
          0.8286471397267934,
          0.8919128604657867,
          0.9589673839307314,
          1.0306377806762104,
          1.1080360487755754,
          1.1927130236042602,
          1.286933926677913,
          1.3942144538014838,
          1.5204879295244804,
          1.6770949010183824,
          1.8907369953232736,
          2.254357700194338
         ],
         "xaxis": "x3",
         "y": [
          -93.57819314694888,
          -28.43243718507358,
          48.29633993403891,
          48.51401487802124,
          52.35354168516267,
          58.62770729500053,
          106.18460638476395,
          106.6225822836891,
          109.00106596498065,
          120.4090052204987,
          149.1186267434465,
          153.06933891987765,
          154.21450370174324,
          187.8180515835827,
          196.9000751849495,
          206.97151791470705,
          210.8902552482709,
          213.5301185505588,
          214.71189034508785,
          228.3600693864527,
          229.1092385626883,
          236.03236497568972,
          244.67303484748845,
          244.95454690308785,
          254.72740207896416,
          257.5914993260586,
          260.8112594464357,
          276.304902122504,
          287.1502499037018,
          308.1144821808334,
          313.3884466911963,
          314.8326015391536,
          320.1241835615573,
          325.330466746168,
          331.16615200244934,
          335.3524398110137,
          338.82304534505954,
          348.09165575432905,
          352.05362042205667,
          356.8014142984911,
          359.6616470873797,
          372.6055462547176,
          377.8987459290044,
          381.3581368511127,
          382.8871518471754,
          382.93873255206245,
          387.0925278562259,
          415.39143258164165,
          445.3069668656419,
          450.38357738727177,
          454.5779926080209,
          457.21810546321717,
          458.23864331308675,
          486.1371580568851,
          512.2783926665059,
          521.3840007379174,
          539.904977823515
         ],
         "yaxis": "y3"
        },
        {
         "hovertemplate": "<b>OLS trendline</b><br>Q_y = 145.096 * Q_x + 276.566<br>R<sup>2</sup>=0.985346<br><br>sample=8<br>Q_x=%{x}<br>Q_y=%{y} <b>(trend)</b><extra></extra>",
         "legendgroup": "",
         "marker": {
          "color": "#636efa",
          "symbol": "circle"
         },
         "mode": "lines",
         "name": "",
         "showlegend": false,
         "type": "scatter",
         "x": [
          -2.254357700194338,
          -1.8907369953232744,
          -1.6770949010183833,
          -1.520487929524481,
          -1.3942144538014847,
          -1.286933926677913,
          -1.1927130236042607,
          -1.1080360487755754,
          -1.0306377806762108,
          -0.9589673839307319,
          -0.8919128604657872,
          -0.8286471397267934,
          -0.7685364071641807,
          -0.7110826284818202,
          -0.6558859661793708,
          -0.6026193228440059,
          -0.5510105721581059,
          -0.5008298276167628,
          -0.45188010714370314,
          -0.40399034311351933,
          -0.3570100462801349,
          -0.3108051566958892,
          -0.26525475892765843,
          -0.22024843361398128,
          -0.17568408084606352,
          -0.13146609399527875,
          -0.08750379225703046,
          -0.043710040626117594,
          0,
          0.04371004062611773,
          0.08750379225703046,
          0.1314660939952789,
          0.17568408084606352,
          0.22024843361398114,
          0.26525475892765843,
          0.31080515669588904,
          0.35701004628013466,
          0.403990343113519,
          0.45188010714370297,
          0.5008298276167624,
          0.5510105721581058,
          0.6026193228440055,
          0.6558859661793706,
          0.7110826284818199,
          0.7685364071641805,
          0.8286471397267934,
          0.8919128604657867,
          0.9589673839307314,
          1.0306377806762104,
          1.1080360487755754,
          1.1927130236042602,
          1.286933926677913,
          1.3942144538014838,
          1.5204879295244804,
          1.6770949010183824,
          1.8907369953232736,
          2.254357700194338
         ],
         "xaxis": "x3",
         "y": [
          -50.53204176932559,
          2.2278781175903646,
          33.226497362871925,
          55.94954684565826,
          74.27132658410869,
          89.83730492539371,
          103.50838369303833,
          115.79467638314242,
          127.02485763961542,
          137.42394751513768,
          147.15329251302575,
          156.33289728542422,
          165.05472580581016,
          173.39104087223848,
          181.39985731775695,
          189.12863567765618,
          196.61686039967088,
          203.89788710249806,
          211.00029710294433,
          217.94891163393407,
          224.76556608729314,
          231.46971202890833,
          238.07889380782046,
          244.60913283476495,
          251.0752434009422,
          257.4910976483931,
          263.86985300165844,
          270.2241524038714,
          276.56630567180906,
          282.9084589397467,
          289.2627583419597,
          295.64151369522506,
          302.0573679426759,
          308.52347850885315,
          315.05371753579766,
          321.66289931470976,
          328.36704525632496,
          335.183699709684,
          342.1323142406738,
          349.23472424112003,
          356.51575094394724,
          364.0039756659619,
          371.73275402586114,
          379.7415704713796,
          388.07788553780796,
          396.7997140581939,
          405.9793188305923,
          415.7086638284803,
          426.1077537040027,
          437.3379349604757,
          449.6242276505797,
          463.2953064182244,
          478.8612847595093,
          497.1830644979598,
          519.9061139807461,
          550.9047332260277,
          603.6646531129437
         ],
         "yaxis": "y3"
        }
       ],
       "layout": {
        "annotations": [
         {
          "font": {},
          "showarrow": false,
          "text": "sample=6",
          "x": 0.15999999999999998,
          "xanchor": "center",
          "xref": "paper",
          "y": 0.2866666666666666,
          "yanchor": "bottom",
          "yref": "paper"
         },
         {
          "font": {},
          "showarrow": false,
          "text": "sample=7",
          "x": 0.49999999999999994,
          "xanchor": "center",
          "xref": "paper",
          "y": 0.2866666666666666,
          "yanchor": "bottom",
          "yref": "paper"
         },
         {
          "font": {},
          "showarrow": false,
          "text": "sample=8",
          "x": 0.8399999999999999,
          "xanchor": "center",
          "xref": "paper",
          "y": 0.2866666666666666,
          "yanchor": "bottom",
          "yref": "paper"
         },
         {
          "font": {},
          "showarrow": false,
          "text": "sample=3",
          "x": 0.15999999999999998,
          "xanchor": "center",
          "xref": "paper",
          "y": 0.6433333333333333,
          "yanchor": "bottom",
          "yref": "paper"
         },
         {
          "font": {},
          "showarrow": false,
          "text": "sample=4",
          "x": 0.49999999999999994,
          "xanchor": "center",
          "xref": "paper",
          "y": 0.6433333333333333,
          "yanchor": "bottom",
          "yref": "paper"
         },
         {
          "font": {},
          "showarrow": false,
          "text": "sample=5",
          "x": 0.8399999999999999,
          "xanchor": "center",
          "xref": "paper",
          "y": 0.6433333333333333,
          "yanchor": "bottom",
          "yref": "paper"
         },
         {
          "font": {},
          "showarrow": false,
          "text": "sample=data",
          "x": 0.15999999999999998,
          "xanchor": "center",
          "xref": "paper",
          "y": 0.9999999999999999,
          "yanchor": "bottom",
          "yref": "paper"
         },
         {
          "font": {},
          "showarrow": false,
          "text": "sample=1",
          "x": 0.49999999999999994,
          "xanchor": "center",
          "xref": "paper",
          "y": 0.9999999999999999,
          "yanchor": "bottom",
          "yref": "paper"
         },
         {
          "font": {},
          "showarrow": false,
          "text": "sample=2",
          "x": 0.8399999999999999,
          "xanchor": "center",
          "xref": "paper",
          "y": 0.9999999999999999,
          "yanchor": "bottom",
          "yref": "paper"
         }
        ],
        "height": 800,
        "legend": {
         "tracegroupgap": 0
        },
        "margin": {
         "t": 60
        },
        "template": {
         "data": {
          "bar": [
           {
            "error_x": {
             "color": "#2a3f5f"
            },
            "error_y": {
             "color": "#2a3f5f"
            },
            "marker": {
             "line": {
              "color": "#E5ECF6",
              "width": 0.5
             },
             "pattern": {
              "fillmode": "overlay",
              "size": 10,
              "solidity": 0.2
             }
            },
            "type": "bar"
           }
          ],
          "barpolar": [
           {
            "marker": {
             "line": {
              "color": "#E5ECF6",
              "width": 0.5
             },
             "pattern": {
              "fillmode": "overlay",
              "size": 10,
              "solidity": 0.2
             }
            },
            "type": "barpolar"
           }
          ],
          "carpet": [
           {
            "aaxis": {
             "endlinecolor": "#2a3f5f",
             "gridcolor": "white",
             "linecolor": "white",
             "minorgridcolor": "white",
             "startlinecolor": "#2a3f5f"
            },
            "baxis": {
             "endlinecolor": "#2a3f5f",
             "gridcolor": "white",
             "linecolor": "white",
             "minorgridcolor": "white",
             "startlinecolor": "#2a3f5f"
            },
            "type": "carpet"
           }
          ],
          "choropleth": [
           {
            "colorbar": {
             "outlinewidth": 0,
             "ticks": ""
            },
            "type": "choropleth"
           }
          ],
          "contour": [
           {
            "colorbar": {
             "outlinewidth": 0,
             "ticks": ""
            },
            "colorscale": [
             [
              0,
              "#0d0887"
             ],
             [
              0.1111111111111111,
              "#46039f"
             ],
             [
              0.2222222222222222,
              "#7201a8"
             ],
             [
              0.3333333333333333,
              "#9c179e"
             ],
             [
              0.4444444444444444,
              "#bd3786"
             ],
             [
              0.5555555555555556,
              "#d8576b"
             ],
             [
              0.6666666666666666,
              "#ed7953"
             ],
             [
              0.7777777777777778,
              "#fb9f3a"
             ],
             [
              0.8888888888888888,
              "#fdca26"
             ],
             [
              1,
              "#f0f921"
             ]
            ],
            "type": "contour"
           }
          ],
          "contourcarpet": [
           {
            "colorbar": {
             "outlinewidth": 0,
             "ticks": ""
            },
            "type": "contourcarpet"
           }
          ],
          "heatmap": [
           {
            "colorbar": {
             "outlinewidth": 0,
             "ticks": ""
            },
            "colorscale": [
             [
              0,
              "#0d0887"
             ],
             [
              0.1111111111111111,
              "#46039f"
             ],
             [
              0.2222222222222222,
              "#7201a8"
             ],
             [
              0.3333333333333333,
              "#9c179e"
             ],
             [
              0.4444444444444444,
              "#bd3786"
             ],
             [
              0.5555555555555556,
              "#d8576b"
             ],
             [
              0.6666666666666666,
              "#ed7953"
             ],
             [
              0.7777777777777778,
              "#fb9f3a"
             ],
             [
              0.8888888888888888,
              "#fdca26"
             ],
             [
              1,
              "#f0f921"
             ]
            ],
            "type": "heatmap"
           }
          ],
          "heatmapgl": [
           {
            "colorbar": {
             "outlinewidth": 0,
             "ticks": ""
            },
            "colorscale": [
             [
              0,
              "#0d0887"
             ],
             [
              0.1111111111111111,
              "#46039f"
             ],
             [
              0.2222222222222222,
              "#7201a8"
             ],
             [
              0.3333333333333333,
              "#9c179e"
             ],
             [
              0.4444444444444444,
              "#bd3786"
             ],
             [
              0.5555555555555556,
              "#d8576b"
             ],
             [
              0.6666666666666666,
              "#ed7953"
             ],
             [
              0.7777777777777778,
              "#fb9f3a"
             ],
             [
              0.8888888888888888,
              "#fdca26"
             ],
             [
              1,
              "#f0f921"
             ]
            ],
            "type": "heatmapgl"
           }
          ],
          "histogram": [
           {
            "marker": {
             "pattern": {
              "fillmode": "overlay",
              "size": 10,
              "solidity": 0.2
             }
            },
            "type": "histogram"
           }
          ],
          "histogram2d": [
           {
            "colorbar": {
             "outlinewidth": 0,
             "ticks": ""
            },
            "colorscale": [
             [
              0,
              "#0d0887"
             ],
             [
              0.1111111111111111,
              "#46039f"
             ],
             [
              0.2222222222222222,
              "#7201a8"
             ],
             [
              0.3333333333333333,
              "#9c179e"
             ],
             [
              0.4444444444444444,
              "#bd3786"
             ],
             [
              0.5555555555555556,
              "#d8576b"
             ],
             [
              0.6666666666666666,
              "#ed7953"
             ],
             [
              0.7777777777777778,
              "#fb9f3a"
             ],
             [
              0.8888888888888888,
              "#fdca26"
             ],
             [
              1,
              "#f0f921"
             ]
            ],
            "type": "histogram2d"
           }
          ],
          "histogram2dcontour": [
           {
            "colorbar": {
             "outlinewidth": 0,
             "ticks": ""
            },
            "colorscale": [
             [
              0,
              "#0d0887"
             ],
             [
              0.1111111111111111,
              "#46039f"
             ],
             [
              0.2222222222222222,
              "#7201a8"
             ],
             [
              0.3333333333333333,
              "#9c179e"
             ],
             [
              0.4444444444444444,
              "#bd3786"
             ],
             [
              0.5555555555555556,
              "#d8576b"
             ],
             [
              0.6666666666666666,
              "#ed7953"
             ],
             [
              0.7777777777777778,
              "#fb9f3a"
             ],
             [
              0.8888888888888888,
              "#fdca26"
             ],
             [
              1,
              "#f0f921"
             ]
            ],
            "type": "histogram2dcontour"
           }
          ],
          "mesh3d": [
           {
            "colorbar": {
             "outlinewidth": 0,
             "ticks": ""
            },
            "type": "mesh3d"
           }
          ],
          "parcoords": [
           {
            "line": {
             "colorbar": {
              "outlinewidth": 0,
              "ticks": ""
             }
            },
            "type": "parcoords"
           }
          ],
          "pie": [
           {
            "automargin": true,
            "type": "pie"
           }
          ],
          "scatter": [
           {
            "fillpattern": {
             "fillmode": "overlay",
             "size": 10,
             "solidity": 0.2
            },
            "type": "scatter"
           }
          ],
          "scatter3d": [
           {
            "line": {
             "colorbar": {
              "outlinewidth": 0,
              "ticks": ""
             }
            },
            "marker": {
             "colorbar": {
              "outlinewidth": 0,
              "ticks": ""
             }
            },
            "type": "scatter3d"
           }
          ],
          "scattercarpet": [
           {
            "marker": {
             "colorbar": {
              "outlinewidth": 0,
              "ticks": ""
             }
            },
            "type": "scattercarpet"
           }
          ],
          "scattergeo": [
           {
            "marker": {
             "colorbar": {
              "outlinewidth": 0,
              "ticks": ""
             }
            },
            "type": "scattergeo"
           }
          ],
          "scattergl": [
           {
            "marker": {
             "colorbar": {
              "outlinewidth": 0,
              "ticks": ""
             }
            },
            "type": "scattergl"
           }
          ],
          "scattermapbox": [
           {
            "marker": {
             "colorbar": {
              "outlinewidth": 0,
              "ticks": ""
             }
            },
            "type": "scattermapbox"
           }
          ],
          "scatterpolar": [
           {
            "marker": {
             "colorbar": {
              "outlinewidth": 0,
              "ticks": ""
             }
            },
            "type": "scatterpolar"
           }
          ],
          "scatterpolargl": [
           {
            "marker": {
             "colorbar": {
              "outlinewidth": 0,
              "ticks": ""
             }
            },
            "type": "scatterpolargl"
           }
          ],
          "scatterternary": [
           {
            "marker": {
             "colorbar": {
              "outlinewidth": 0,
              "ticks": ""
             }
            },
            "type": "scatterternary"
           }
          ],
          "surface": [
           {
            "colorbar": {
             "outlinewidth": 0,
             "ticks": ""
            },
            "colorscale": [
             [
              0,
              "#0d0887"
             ],
             [
              0.1111111111111111,
              "#46039f"
             ],
             [
              0.2222222222222222,
              "#7201a8"
             ],
             [
              0.3333333333333333,
              "#9c179e"
             ],
             [
              0.4444444444444444,
              "#bd3786"
             ],
             [
              0.5555555555555556,
              "#d8576b"
             ],
             [
              0.6666666666666666,
              "#ed7953"
             ],
             [
              0.7777777777777778,
              "#fb9f3a"
             ],
             [
              0.8888888888888888,
              "#fdca26"
             ],
             [
              1,
              "#f0f921"
             ]
            ],
            "type": "surface"
           }
          ],
          "table": [
           {
            "cells": {
             "fill": {
              "color": "#EBF0F8"
             },
             "line": {
              "color": "white"
             }
            },
            "header": {
             "fill": {
              "color": "#C8D4E3"
             },
             "line": {
              "color": "white"
             }
            },
            "type": "table"
           }
          ]
         },
         "layout": {
          "annotationdefaults": {
           "arrowcolor": "#2a3f5f",
           "arrowhead": 0,
           "arrowwidth": 1
          },
          "autotypenumbers": "strict",
          "coloraxis": {
           "colorbar": {
            "outlinewidth": 0,
            "ticks": ""
           }
          },
          "colorscale": {
           "diverging": [
            [
             0,
             "#8e0152"
            ],
            [
             0.1,
             "#c51b7d"
            ],
            [
             0.2,
             "#de77ae"
            ],
            [
             0.3,
             "#f1b6da"
            ],
            [
             0.4,
             "#fde0ef"
            ],
            [
             0.5,
             "#f7f7f7"
            ],
            [
             0.6,
             "#e6f5d0"
            ],
            [
             0.7,
             "#b8e186"
            ],
            [
             0.8,
             "#7fbc41"
            ],
            [
             0.9,
             "#4d9221"
            ],
            [
             1,
             "#276419"
            ]
           ],
           "sequential": [
            [
             0,
             "#0d0887"
            ],
            [
             0.1111111111111111,
             "#46039f"
            ],
            [
             0.2222222222222222,
             "#7201a8"
            ],
            [
             0.3333333333333333,
             "#9c179e"
            ],
            [
             0.4444444444444444,
             "#bd3786"
            ],
            [
             0.5555555555555556,
             "#d8576b"
            ],
            [
             0.6666666666666666,
             "#ed7953"
            ],
            [
             0.7777777777777778,
             "#fb9f3a"
            ],
            [
             0.8888888888888888,
             "#fdca26"
            ],
            [
             1,
             "#f0f921"
            ]
           ],
           "sequentialminus": [
            [
             0,
             "#0d0887"
            ],
            [
             0.1111111111111111,
             "#46039f"
            ],
            [
             0.2222222222222222,
             "#7201a8"
            ],
            [
             0.3333333333333333,
             "#9c179e"
            ],
            [
             0.4444444444444444,
             "#bd3786"
            ],
            [
             0.5555555555555556,
             "#d8576b"
            ],
            [
             0.6666666666666666,
             "#ed7953"
            ],
            [
             0.7777777777777778,
             "#fb9f3a"
            ],
            [
             0.8888888888888888,
             "#fdca26"
            ],
            [
             1,
             "#f0f921"
            ]
           ]
          },
          "colorway": [
           "#636efa",
           "#EF553B",
           "#00cc96",
           "#ab63fa",
           "#FFA15A",
           "#19d3f3",
           "#FF6692",
           "#B6E880",
           "#FF97FF",
           "#FECB52"
          ],
          "font": {
           "color": "#2a3f5f"
          },
          "geo": {
           "bgcolor": "white",
           "lakecolor": "white",
           "landcolor": "#E5ECF6",
           "showlakes": true,
           "showland": true,
           "subunitcolor": "white"
          },
          "hoverlabel": {
           "align": "left"
          },
          "hovermode": "closest",
          "mapbox": {
           "style": "light"
          },
          "paper_bgcolor": "white",
          "plot_bgcolor": "#E5ECF6",
          "polar": {
           "angularaxis": {
            "gridcolor": "white",
            "linecolor": "white",
            "ticks": ""
           },
           "bgcolor": "#E5ECF6",
           "radialaxis": {
            "gridcolor": "white",
            "linecolor": "white",
            "ticks": ""
           }
          },
          "scene": {
           "xaxis": {
            "backgroundcolor": "#E5ECF6",
            "gridcolor": "white",
            "gridwidth": 2,
            "linecolor": "white",
            "showbackground": true,
            "ticks": "",
            "zerolinecolor": "white"
           },
           "yaxis": {
            "backgroundcolor": "#E5ECF6",
            "gridcolor": "white",
            "gridwidth": 2,
            "linecolor": "white",
            "showbackground": true,
            "ticks": "",
            "zerolinecolor": "white"
           },
           "zaxis": {
            "backgroundcolor": "#E5ECF6",
            "gridcolor": "white",
            "gridwidth": 2,
            "linecolor": "white",
            "showbackground": true,
            "ticks": "",
            "zerolinecolor": "white"
           }
          },
          "shapedefaults": {
           "line": {
            "color": "#2a3f5f"
           }
          },
          "ternary": {
           "aaxis": {
            "gridcolor": "white",
            "linecolor": "white",
            "ticks": ""
           },
           "baxis": {
            "gridcolor": "white",
            "linecolor": "white",
            "ticks": ""
           },
           "bgcolor": "#E5ECF6",
           "caxis": {
            "gridcolor": "white",
            "linecolor": "white",
            "ticks": ""
           }
          },
          "title": {
           "x": 0.05
          },
          "xaxis": {
           "automargin": true,
           "gridcolor": "white",
           "linecolor": "white",
           "ticks": "",
           "title": {
            "standoff": 15
           },
           "zerolinecolor": "white",
           "zerolinewidth": 2
          },
          "yaxis": {
           "automargin": true,
           "gridcolor": "white",
           "linecolor": "white",
           "ticks": "",
           "title": {
            "standoff": 15
           },
           "zerolinecolor": "white",
           "zerolinewidth": 2
          }
         }
        },
        "width": 800,
        "xaxis": {
         "anchor": "y",
         "domain": [
          0,
          0.31999999999999995
         ],
         "title": {
          "text": "Q_x"
         }
        },
        "xaxis2": {
         "anchor": "y2",
         "domain": [
          0.33999999999999997,
          0.6599999999999999
         ],
         "matches": "x",
         "title": {
          "text": "Q_x"
         }
        },
        "xaxis3": {
         "anchor": "y3",
         "domain": [
          0.6799999999999999,
          0.9999999999999999
         ],
         "matches": "x",
         "title": {
          "text": "Q_x"
         }
        },
        "xaxis4": {
         "anchor": "y4",
         "domain": [
          0,
          0.31999999999999995
         ],
         "matches": "x",
         "showticklabels": false
        },
        "xaxis5": {
         "anchor": "y5",
         "domain": [
          0.33999999999999997,
          0.6599999999999999
         ],
         "matches": "x",
         "showticklabels": false
        },
        "xaxis6": {
         "anchor": "y6",
         "domain": [
          0.6799999999999999,
          0.9999999999999999
         ],
         "matches": "x",
         "showticklabels": false
        },
        "xaxis7": {
         "anchor": "y7",
         "domain": [
          0,
          0.31999999999999995
         ],
         "matches": "x",
         "showticklabels": false
        },
        "xaxis8": {
         "anchor": "y8",
         "domain": [
          0.33999999999999997,
          0.6599999999999999
         ],
         "matches": "x",
         "showticklabels": false
        },
        "xaxis9": {
         "anchor": "y9",
         "domain": [
          0.6799999999999999,
          0.9999999999999999
         ],
         "matches": "x",
         "showticklabels": false
        },
        "yaxis": {
         "anchor": "x",
         "domain": [
          0,
          0.2866666666666666
         ],
         "title": {
          "text": "Q_y"
         }
        },
        "yaxis2": {
         "anchor": "x2",
         "domain": [
          0,
          0.2866666666666666
         ],
         "matches": "y",
         "showticklabels": false
        },
        "yaxis3": {
         "anchor": "x3",
         "domain": [
          0,
          0.2866666666666666
         ],
         "matches": "y",
         "showticklabels": false
        },
        "yaxis4": {
         "anchor": "x4",
         "domain": [
          0.35666666666666663,
          0.6433333333333333
         ],
         "matches": "y",
         "title": {
          "text": "Q_y"
         }
        },
        "yaxis5": {
         "anchor": "x5",
         "domain": [
          0.35666666666666663,
          0.6433333333333333
         ],
         "matches": "y",
         "showticklabels": false
        },
        "yaxis6": {
         "anchor": "x6",
         "domain": [
          0.35666666666666663,
          0.6433333333333333
         ],
         "matches": "y",
         "showticklabels": false
        },
        "yaxis7": {
         "anchor": "x7",
         "domain": [
          0.7133333333333333,
          0.9999999999999999
         ],
         "matches": "y",
         "title": {
          "text": "Q_y"
         }
        },
        "yaxis8": {
         "anchor": "x8",
         "domain": [
          0.7133333333333333,
          0.9999999999999999
         ],
         "matches": "y",
         "showticklabels": false
        },
        "yaxis9": {
         "anchor": "x9",
         "domain": [
          0.7133333333333333,
          0.9999999999999999
         ],
         "matches": "y",
         "showticklabels": false
        }
       }
      }
     },
     "metadata": {},
     "output_type": "display_data"
    }
   ],
   "source": [
    "(Q_x, Q_y) = probplot(mcdonals[\"cal_fat\"], fit=False)\n",
    "\n",
    "sim_qq_data = [pd.DataFrame({\"Q_x\": Q_x, \"Q_y\": Q_y, \"sample\": \"data\"})]\n",
    "for i in range(8):\n",
    "    sim_norm = np.random.normal(size = len(mcdonals[\"cal_fat\"]), loc = dqmean, scale = dqsd)\n",
    "    (Q_x, Q_y) = probplot(sim_norm, fit=False)\n",
    "    sim_qq_data.append( pd.DataFrame({\"Q_x\": Q_x, \"Q_y\": Q_y, \"sample\": str(i+1)}) )\n",
    "sim_qq_data = pd.concat(sim_qq_data)\n",
    "\n",
    "px.scatter(sim_qq_data, x=\"Q_x\", y=\"Q_y\", facet_col=\"sample\", facet_col_wrap=3, trendline=\"ols\", width=800, height=800)"
   ]
  },
  {
   "attachments": {},
   "cell_type": "markdown",
   "metadata": {},
   "source": [
    "Der Graph von Mcdonalds weicht etwas stärker von einer Normalverteilung ab"
   ]
  },
  {
   "attachments": {},
   "cell_type": "markdown",
   "metadata": {},
   "source": [
    "## Wahrscheinlichkeiten von Normalverteilungen"
   ]
  },
  {
   "attachments": {},
   "cell_type": "markdown",
   "metadata": {},
   "source": [
    "Sie haben nun einige Werkzeuge, um zu beurteilen, ob eine Variable normalverteilt ist oder nicht. Warum sollte uns das interessieren?\n",
    "\n",
    "Es stellt sich heraus, dass Statistiker viel über die Normalverteilung wissen. Sobald man feststellt, dass eine Zufallsvariable annähernd normalverteilt ist, kann man alle möglichen Fragen zu dieser Variablen im Zusammenhang mit der Wahrscheinlichkeit beantworten. Nehmen wir zum Beispiel die Frage: \"Wie groß ist die Wahrscheinlichkeit, dass ein zufällig ausgewähltes Produkt von Dairy Queen mehr als 600 Kalorien aus Fett hat?\"\n",
    "\n",
    "Wenn wir davon ausgehen, dass die Kalorien aus Fett auf der Speisekarte von Dairy Queen normalverteilt sind (eine sehr genaue Annäherung ist auch in Ordnung), können wir diese Wahrscheinlichkeit durch Berechnung eines Z-Scores und Konsultation einer Z-Tabelle (auch *Normalwahrscheinlichkeitstabelle* genannt) ermitteln. In Python wird dies in einem Schritt mit der Funktion `norm.cdf()` aus `scipy.stats` durchgeführt."
   ]
  },
  {
   "attachments": {},
   "cell_type": "markdown",
   "metadata": {},
   "source": [
    "Die Funktion `norm.cdf()` gibt die Fläche unter der Normalkurve *unterhalb* eines bestimmten Wertes q mit einem bestimmten Mittelwert und einer bestimmten Standardabweichung an. Da wir uns für die Wahrscheinlichkeit interessieren, dass ein Dairy-Queen-Artikel *mehr* als 500 Kalorien aus Fett hat, müssen wir 1 minus diese Wahrscheinlichkeit nehmen."
   ]
  },
  {
   "cell_type": "code",
   "execution_count": null,
   "metadata": {},
   "outputs": [
    {
     "data": {
      "text/plain": [
       "0.0629"
      ]
     },
     "execution_count": 20,
     "metadata": {},
     "output_type": "execute_result"
    }
   ],
   "source": [
    "from scipy.stats import norm\n",
    "\n",
    "prob_theoretical = 1 - norm.cdf(500, loc = dqmean, scale = dqsd)\n",
    "round(prob_theoretical, 4)"
   ]
  },
  {
   "attachments": {},
   "cell_type": "markdown",
   "metadata": {},
   "source": [
    "Unter der Annahme einer Normalverteilung konnten wir eine theoretische Wahrscheinlichkeit berechnen. Wenn wir die Wahrscheinlichkeit empirisch berechnen wollen, müssen wir lediglich feststellen, wie viele Beobachtungen über 600 liegen, und diese Zahl durch den Gesamtumfang der Stichprobe teilen."
   ]
  },
  {
   "cell_type": "code",
   "execution_count": null,
   "metadata": {},
   "outputs": [
    {
     "data": {
      "text/plain": [
       "0.0714"
      ]
     },
     "execution_count": 21,
     "metadata": {},
     "output_type": "execute_result"
    }
   ],
   "source": [
    "prob_empirical = (sum(dairy_queen['cal_fat'] > 500) / len(dairy_queen['cal_fat']))\n",
    "round(prob_empirical, 4)"
   ]
  },
  {
   "attachments": {},
   "cell_type": "markdown",
   "metadata": {},
   "source": [
    "Obwohl die Wahrscheinlichkeiten nicht genau gleich sind, liegen sie recht nahe beieinander. Je näher Ihre Verteilung an der Normalverteilung liegt, desto genauer sind die theoretischen Wahrscheinlichkeiten."
   ]
  },
  {
   "attachments": {},
   "cell_type": "markdown",
   "metadata": {},
   "source": [
    "### ✏️ Aufgabe 6\n",
    "Formulieren Sie zwei Wahrscheinlichkeitsfragen, die Sie für eines der Restaurants in diesem Datensatz beantworten möchten. Berechnen Sie diese Wahrscheinlichkeiten sowohl mit der theoretischen Normalverteilung als auch mit der empirischen Verteilung (insgesamt vier Wahrscheinlichkeiten). Bei welcher der beiden Fragen war die Übereinstimmung größer?"
   ]
  },
  {
   "attachments": {},
   "cell_type": "markdown",
   "metadata": {},
   "source": [
    "Dairy QUeen weniger als 400 Kalorien aus fett hat"
   ]
  },
  {
   "cell_type": "code",
   "execution_count": null,
   "metadata": {},
   "outputs": [
    {
     "data": {
      "text/plain": [
       "0.8137"
      ]
     },
     "execution_count": 22,
     "metadata": {},
     "output_type": "execute_result"
    }
   ],
   "source": [
    "prob_theoretical = norm.cdf(400, loc = dqmean, scale = dqsd)\n",
    "round(prob_theoretical, 4)"
   ]
  },
  {
   "cell_type": "code",
   "execution_count": null,
   "metadata": {},
   "outputs": [
    {
     "data": {
      "text/plain": [
       "0.7857"
      ]
     },
     "execution_count": 23,
     "metadata": {},
     "output_type": "execute_result"
    }
   ],
   "source": [
    "prob_empirical = (sum(dairy_queen['cal_fat'] < 400) / len(dairy_queen['cal_fat']))\n",
    "round(prob_empirical, 4)"
   ]
  },
  {
   "cell_type": "code",
   "execution_count": null,
   "metadata": {},
   "outputs": [],
   "source": [
    "mcmean = dairy_queen['cal_fat'].mean()\n",
    "mcsd = dairy_queen['cal_fat'].std()"
   ]
  },
  {
   "attachments": {},
   "cell_type": "markdown",
   "metadata": {},
   "source": [
    "McDOnalds weniger als 400 Kalorien aus fett hat"
   ]
  },
  {
   "cell_type": "code",
   "execution_count": null,
   "metadata": {},
   "outputs": [
    {
     "data": {
      "text/plain": [
       "0.8137"
      ]
     },
     "execution_count": 25,
     "metadata": {},
     "output_type": "execute_result"
    }
   ],
   "source": [
    "prob_theoretical = norm.cdf(400, loc = mcmean, scale = mcsd)\n",
    "round(prob_theoretical, 4)"
   ]
  },
  {
   "cell_type": "code",
   "execution_count": null,
   "metadata": {},
   "outputs": [
    {
     "data": {
      "text/plain": [
       "0.8246"
      ]
     },
     "execution_count": 26,
     "metadata": {},
     "output_type": "execute_result"
    }
   ],
   "source": [
    "prob_empirical = (sum(mcdonals['cal_fat'] < 400) / len(mcdonals['cal_fat']))\n",
    "round(prob_empirical, 4)"
   ]
  },
  {
   "attachments": {},
   "cell_type": "markdown",
   "metadata": {},
   "source": [
    "Bei McDonalds is übereinstimmung tatsächlich besser"
   ]
  },
  {
   "attachments": {},
   "cell_type": "markdown",
   "metadata": {},
   "source": [
    "---\n",
    "\n",
    "Diese Übung ist eine deutsche Übersetzung der Übungen aus OpenIntro Statistics von Andrew Bray und Mine Çetinkaya-Rundel (https://www.openintro.org/book/os/). Die Python Adaption wurde teilweise von David Akman und Imran Ture (www.featureranking.com) übernommen."
   ]
  }
 ],
 "metadata": {
  "kernelspec": {
   "display_name": "Python 3 (ipykernel)",
   "language": "python",
   "name": "python3"
  },
  "language_info": {
   "codemirror_mode": {
    "name": "ipython",
    "version": 3
   },
   "file_extension": ".py",
   "mimetype": "text/x-python",
   "name": "python",
   "nbconvert_exporter": "python",
   "pygments_lexer": "ipython3",
   "version": "3.9.7"
  }
 },
 "nbformat": 4,
 "nbformat_minor": 4
}
